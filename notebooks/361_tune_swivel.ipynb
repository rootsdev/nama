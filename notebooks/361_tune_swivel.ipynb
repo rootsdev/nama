{
 "cells": [
  {
   "cell_type": "code",
   "execution_count": null,
   "id": "5c17d3a7",
   "metadata": {
    "pycharm": {
     "name": "#%%\n"
    }
   },
   "outputs": [],
   "source": [
    "%load_ext autoreload\n",
    "%autoreload 2"
   ]
  },
  {
   "metadata": {},
   "cell_type": "markdown",
   "source": [
    "# Run hyperparameter tuning on swivel model\n",
    "\n",
    "## DEPRECATED"
   ],
   "id": "6c4d040a20c4c9b0"
  },
  {
   "cell_type": "code",
   "execution_count": null,
   "id": "9c9aefee",
   "metadata": {
    "pycharm": {
     "name": "#%%\n"
    }
   },
   "outputs": [],
   "source": [
    "import os\n",
    "\n",
    "import torch\n",
    "import numpy as np\n",
    "from ray import train, tune\n",
    "from ray.tune.schedulers import ASHAScheduler\n",
    "from ray.tune.search.hyperopt import HyperOptSearch\n",
    "\n",
    "from nama.data.utils import load_dataset, select_frequent_k\n",
    "from nama.data.filesystem import download_file_from_s3\n",
    "from nama.eval import metrics\n",
    "from nama.models import swivel"
   ]
  },
  {
   "cell_type": "code",
   "execution_count": null,
   "id": "9fb03ae0",
   "metadata": {
    "pycharm": {
     "name": "#%%\n"
    }
   },
   "outputs": [],
   "source": [
    "# Config\n",
    "\n",
    "# run this on a 256GB standard instance\n",
    "\n",
    "# TODO run both given and surname\n",
    "given_surname = \"given\"\n",
    "# given_surname = \"surname\"\n",
    "\n",
    "num_matches = 500\n",
    "SAMPLE_SIZE = 30000\n",
    "\n",
    "TRAIN_DATA_PATH = f\"s3://fs-nama-data/2024/familysearch-names/processed/tree-hr-{given_surname}-train-augmented.csv.gz\""
   ]
  },
  {
   "cell_type": "code",
   "execution_count": null,
   "id": "8e84f668",
   "metadata": {
    "pycharm": {
     "name": "#%%\n"
    }
   },
   "outputs": [],
   "source": [
    "train_data_path = download_file_from_s3(TRAIN_DATA_PATH) if TRAIN_DATA_PATH.startswith(\"s3://\") else TRAIN_DATA_PATH\n",
    "input_names_train, record_name_frequencies_train, candidate_names_train = load_dataset(train_data_path)"
   ]
  },
  {
   "cell_type": "code",
   "execution_count": null,
   "id": "32de9785",
   "metadata": {
    "pycharm": {
     "name": "#%%\n"
    }
   },
   "outputs": [],
   "source": [
    "print(len(input_names_train))\n",
    "print(len(candidate_names_train))\n",
    "print(len(record_name_frequencies_train))"
   ]
  },
  {
   "cell_type": "code",
   "execution_count": null,
   "id": "c9e19f48",
   "metadata": {
    "pycharm": {
     "name": "#%%\n"
    }
   },
   "outputs": [],
   "source": [
    "# sample the dataset\n",
    "input_names_train_sample, record_name_frequencies_train_sample, candidate_names_train_sample = \\\n",
    "    select_frequent_k(input_names_train, \n",
    "                      record_name_frequencies_train, \n",
    "                      candidate_names_train, \n",
    "                      SAMPLE_SIZE)\n",
    "print(\"sample input names\", len(input_names_train_sample))\n",
    "print(\"sample number of record name frequencies\", sum(len(rnf) for rnf in record_name_frequencies_train_sample))\n",
    "print(\"sample candidate names\", len(candidate_names_train_sample))"
   ]
  },
  {
   "cell_type": "code",
   "execution_count": null,
   "id": "45086840",
   "metadata": {
    "pycharm": {
     "name": "#%%\n"
    }
   },
   "outputs": [],
   "source": [
    "DEFAULT_VOCAB_SIZE = SAMPLE_SIZE\n",
    "DEFAULT_EMBEDDING_DIM = 100\n",
    "DEFAULT_CONFIDENCE_BASE = 0.18\n",
    "DEFAULT_CONFIDENCE_SCALE = 0.5\n",
    "DEFAULT_CONFIDENCE_EXPONENT = 0.3\n",
    "DEFAULT_LEARNING_RATE = 0.14\n",
    "DEFAULT_SUBMATRIX_SIZE = 2048 # Needs to be adjusted with full dataset\n",
    "DEFAULT_NUM_EPOCHS = 30 # Needs to be adjusted with full dataset"
   ]
  },
  {
   "cell_type": "code",
   "execution_count": null,
   "id": "84affe09",
   "metadata": {
    "pycharm": {
     "name": "#%%\n"
    }
   },
   "outputs": [],
   "source": [
    "device = torch.device(\"cuda:0\" if torch.cuda.is_available() else \"cpu\")\n",
    "print(device)"
   ]
  },
  {
   "cell_type": "code",
   "execution_count": null,
   "id": "17827df8",
   "metadata": {
    "pycharm": {
     "name": "#%%\n"
    }
   },
   "outputs": [],
   "source": [
    "def compute_auc(model, \n",
    "                vocab, \n",
    "                input_names,\n",
    "                record_name_frequencies,\n",
    "                candidate_names):\n",
    "    best_matches = swivel.get_best_swivel_matches(model, \n",
    "                                                  vocab, \n",
    "                                                  input_names,\n",
    "                                                  candidate_names,\n",
    "                                                  k=num_matches, \n",
    "                                                  batch_size=256,\n",
    "                                                  add_context=True,\n",
    "                                                  n_jobs=1,\n",
    "                                                  progress_bar=False)\n",
    "    return metrics.get_auc(record_name_frequencies, \n",
    "                           best_matches, \n",
    "                           min_threshold=0.01, \n",
    "                           max_threshold=2.0,\n",
    "                           step=0.03, \n",
    "                           distances=False)"
   ]
  },
  {
   "cell_type": "code",
   "execution_count": null,
   "id": "708ba76e",
   "metadata": {
    "pycharm": {
     "name": "#%%\n"
    }
   },
   "outputs": [],
   "source": [
    "def plot_pr_curve(model, \n",
    "                  vocab, \n",
    "                  input_names,\n",
    "                  record_name_frequencies,\n",
    "                  candidate_names):\n",
    "    best_matches = swivel.get_best_swivel_matches(model, \n",
    "                                                  vocab, \n",
    "                                                  input_names,\n",
    "                                                  candidate_names,\n",
    "                                                  k=num_matches, \n",
    "                                                  batch_size=256,\n",
    "                                                  add_context=True,\n",
    "                                                  n_jobs=1,\n",
    "                                                  progress_bar=False)\n",
    "    \n",
    "    metrics.precision_weighted_recall_curve_at_threshold(record_name_frequencies, \n",
    "                                                         best_matches, \n",
    "                                                         min_threshold=0.01, \n",
    "                                                         max_threshold=2.0, \n",
    "                                                         step=0.05, \n",
    "                                                         distances=False)"
   ]
  },
  {
   "cell_type": "code",
   "execution_count": null,
   "id": "d6d55e71",
   "metadata": {
    "pycharm": {
     "name": "#%%\n"
    }
   },
   "outputs": [],
   "source": [
    "def train_model(param_config, \n",
    "                input_names,\n",
    "                record_name_frequencies,\n",
    "                candidate_names):\n",
    "    \n",
    "    swivel_dataset = swivel.SwivelDataset(input_names,\n",
    "                                          record_name_frequencies,\n",
    "                                          param_config['vocab_size'])\n",
    "    swivel_vocab = swivel_dataset.get_vocab()\n",
    "\n",
    "    # Instantiate the model\n",
    "    model = swivel.SwivelModel(len(swivel_vocab),\n",
    "                               param_config['embedding_dim'], \n",
    "                               param_config['confidence_base'], \n",
    "                               param_config['confidence_scale'], \n",
    "                               param_config['confidence_exponent'])\n",
    "    \n",
    "    # Init model biases \n",
    "    model.init_params(swivel_dataset.get_row_sums(), swivel_dataset.get_col_sums())\n",
    "    \n",
    "    # Put model on device\n",
    "    model.to(device)\n",
    "    \n",
    "    # Create optimizer\n",
    "    optimizer = torch.optim.Adagrad(model.parameters(), \n",
    "                                   lr=param_config['learning_rate'])\n",
    "    \n",
    "    for epoch in range(param_config['num_epochs']):\n",
    "        loss_values = swivel.train_swivel(model, \n",
    "                                          swivel_dataset,\n",
    "                                          n_steps=0, \n",
    "                                          submatrix_size=param_config['submatrix_size'], \n",
    "                                          lr=param_config['learning_rate'], \n",
    "                                          device=device,\n",
    "                                          verbose=False,\n",
    "                                          optimizer=optimizer)\n",
    "        \n",
    "        # Compute AUC on the train data\n",
    "        auc = compute_auc(model, \n",
    "                          swivel_vocab,\n",
    "                          input_names,\n",
    "                          record_name_frequencies,\n",
    "                          candidate_names)\n",
    "        \n",
    "        # Report the metrics to Ray\n",
    "        train.report({\"auc\": auc, \"mean_loss\": np.mean(loss_values)})"
   ]
  },
  {
   "cell_type": "markdown",
   "id": "87a6fd69",
   "metadata": {
    "pycharm": {
     "name": "#%% md\n"
    }
   },
   "source": [
    "### Search space for parameters"
   ]
  },
  {
   "cell_type": "code",
   "execution_count": null,
   "id": "ca715a5f",
   "metadata": {
    "pycharm": {
     "name": "#%%\n"
    }
   },
   "outputs": [],
   "source": [
    "param_config = {\n",
    "    \"vocab_size\": DEFAULT_VOCAB_SIZE,\n",
    "    \"embedding_dim\": tune.grid_search([50, 100]),\n",
    "    \"confidence_base\": DEFAULT_CONFIDENCE_BASE,    # tune.quniform(0.1, 0.2, 0.02),\n",
    "    \"confidence_scale\": DEFAULT_CONFIDENCE_SCALE,  # tune.quniform(0.4, 0.5, 0.05),\n",
    "    \"confidence_exponent\": DEFAULT_CONFIDENCE_EXPONENT,  # tune.quniform(0.2, .4, 0.05),\n",
    "    \"learning_rate\": DEFAULT_LEARNING_RATE,        # tune.quniform(0.04, 0.3, 0.02),\n",
    "    \"submatrix_size\": DEFAULT_SUBMATRIX_SIZE,      # Needs to be adjusted with full dataset\n",
    "    \"num_epochs\": DEFAULT_NUM_EPOCHS\n",
    "}"
   ]
  },
  {
   "cell_type": "code",
   "execution_count": null,
   "id": "77afe74f",
   "metadata": {
    "pycharm": {
     "name": "#%%\n"
    }
   },
   "outputs": [],
   "source": [
    "# Will try to terminate bad trials early\n",
    "# https://docs.ray.io/en/latest/tune/api_docs/schedulers.html\n",
    "scheduler = ASHAScheduler(max_t=100,\n",
    "                          grace_period=1, \n",
    "                          reduction_factor=4)"
   ]
  },
  {
   "cell_type": "code",
   "execution_count": null,
   "id": "7048f4d6",
   "metadata": {
    "pycharm": {
     "name": "#%%\n"
    }
   },
   "outputs": [],
   "source": [
    "# Can provide multiple points\n",
    "current_best_params = [\n",
    "        {\n",
    "            \"vocab_size\": DEFAULT_VOCAB_SIZE,\n",
    "            \"embedding_dim\": DEFAULT_EMBEDDING_DIM,\n",
    "            \"confidence_base\": DEFAULT_CONFIDENCE_BASE,\n",
    "            \"confidence_scale\": DEFAULT_CONFIDENCE_SCALE,\n",
    "            \"confidence_exponent\": DEFAULT_CONFIDENCE_EXPONENT,\n",
    "            \"learning_rate\": DEFAULT_LEARNING_RATE,\n",
    "            \"submatrix_size\": DEFAULT_SUBMATRIX_SIZE,\n",
    "            \"num_epochs\": DEFAULT_NUM_EPOCHS\n",
    "        }\n",
    "    ]\n",
    "\n",
    "# https://docs.ray.io/en/latest/tune/api_docs/suggestion.html#tune-hyperopt\n",
    "search_alg = HyperOptSearch(points_to_evaluate=current_best_params)"
   ]
  },
  {
   "cell_type": "markdown",
   "id": "558b048a",
   "metadata": {
    "pycharm": {
     "name": "#%% md\n"
    }
   },
   "source": [
    "### Run HPO"
   ]
  },
  {
   "cell_type": "code",
   "execution_count": null,
   "id": "ee458455",
   "metadata": {
    "pycharm": {
     "name": "#%%\n"
    }
   },
   "outputs": [],
   "source": [
    "callbacks = []\n",
    "\n",
    "result = tune.run(tune.with_parameters(train_model, \n",
    "                                       input_names=input_names_train_sample,\n",
    "                                       record_name_frequencies=record_name_frequencies_train_sample,\n",
    "                                       candidate_names=candidate_names_train_sample),\n",
    "                  resources_per_trial={'cpu': 0.5, 'gpu': 0.5},\n",
    "                  config=param_config,\n",
    "#                   scheduler=scheduler,\n",
    "#                   search_alg=search_alg,\n",
    "#                   num_samples=8,\n",
    "#                   metric='auc', \n",
    "#                   mode='max',\n",
    "#                   checkpoint_score_attr='auc',\n",
    "                  time_budget_s=6*3600,\n",
    "#                   keep_checkpoints_num=100,\n",
    "                  progress_reporter=tune.JupyterNotebookReporter(\n",
    "                      overwrite=False,\n",
    "                      max_report_frequency=5*60\n",
    "                  ),\n",
    "                  callbacks=callbacks\n",
    "                 )\n"
   ]
  },
  {
   "cell_type": "markdown",
   "id": "7971b34b",
   "metadata": {
    "pycharm": {
     "name": "#%% md\n"
    }
   },
   "source": [
    "### Get best model"
   ]
  },
  {
   "cell_type": "code",
   "execution_count": null,
   "id": "b44f90f5",
   "metadata": {
    "pycharm": {
     "name": "#%%\n"
    }
   },
   "outputs": [],
   "source": [
    "# Get trial that has the highest AUC (can also do with mean_loss or any other metric)\n",
    "best_trial_auc = result.get_best_trial(metric='auc', mode='max', scope='all')"
   ]
  },
  {
   "cell_type": "code",
   "execution_count": null,
   "id": "1a589d97",
   "metadata": {
    "pycharm": {
     "name": "#%%\n"
    }
   },
   "outputs": [],
   "source": [
    "# Parameters with the highest AUC\n",
    "best_trial_auc.config"
   ]
  },
  {
   "cell_type": "code",
   "execution_count": null,
   "id": "97c05a1d",
   "metadata": {
    "pycharm": {
     "name": "#%%\n"
    }
   },
   "outputs": [],
   "source": [
    "print(f\"Best trial final train loss: {best_trial_auc.last_result['mean_loss']}\")\n",
    "print(f\"Best trial final train auc: {best_trial_auc.last_result['auc']}\")"
   ]
  },
  {
   "cell_type": "code",
   "execution_count": null,
   "id": "19f3b277",
   "metadata": {
    "pycharm": {
     "name": "#%%\n"
    }
   },
   "outputs": [],
   "source": []
  }
 ],
 "metadata": {
  "kernelspec": {
   "display_name": "Python 3 (ipykernel)",
   "language": "python",
   "name": "python3"
  },
  "language_info": {
   "codemirror_mode": {
    "name": "ipython",
    "version": 3
   },
   "file_extension": ".py",
   "mimetype": "text/x-python",
   "name": "python",
   "nbconvert_exporter": "python",
   "pygments_lexer": "ipython3",
   "version": "3.8.12"
  }
 },
 "nbformat": 4,
 "nbformat_minor": 5
}
