{
 "cells": [
  {
   "cell_type": "code",
   "id": "2882991e",
   "metadata": {
    "ExecuteTime": {
     "end_time": "2024-12-12T17:55:15.455144Z",
     "start_time": "2024-12-12T17:55:15.412310Z"
    }
   },
   "source": [
    "%load_ext autoreload\n",
    "%autoreload 2"
   ],
   "outputs": [],
   "execution_count": 1
  },
  {
   "cell_type": "markdown",
   "id": "d671df72",
   "metadata": {},
   "source": [
    "# Split buckets into clusters and super-clusters using cross-encoder\n",
    "\n",
    "Load the parser and trained model, and use a hierarchal agglomerative clustering algorithm to split existing FamilySearch buckets into clusters and super-clusters based upon similarity computed using the cross-encoder model. Each cluster contains the names in the bucket that the model determines are similar to each other, and each super-cluster contains all of the clusters in the bucket.\n",
    "\n",
    "Each cluster contains:\n",
    "\n",
    "1. a list of names, \n",
    "2. the most-common name as the cluster label, and \n",
    "3. a cluster centroid: a vector depicting the center of the cluster using a bi-encoder. \n",
    "\n",
    "Each super-cluster contains:\n",
    "\n",
    "1. a list of cluster labels\n",
    "2. the most-common name in the cluster as the super-cluster label\n",
    "\n",
    "If a bucket has only one cluster, we don't create a super-cluster for the bucket.\n",
    "\n",
    "When determine which cluster a rare name belongs to, we will choose the closest centroid.\n",
    "\n",
    "The questions to answer are:\n",
    "\n",
    "1. What should the threshold be?\n",
    "\n",
    "ISSUES\n",
    "- cross-encoder scores much lower than bi-encoder: why?\n",
    "    - do we need to combine both scores?\n",
    "    - is cross-encoder really wrong when it scores near 0?\n",
    "- why is the cross-encoder score so much lower than the bi-encoder score?\n",
    "- is taking the average cross-encoder score the right thing to do?\n",
    "    - what about taking the max score for each name, and then averaging the maximums???\n",
    "- does the problem go away if we take the average of the two ce scores instead of the harmonic mean?\n",
    "    - is the bi-encoder closer to the average or the harmonic mean?\n",
    "- we should try to **graph** correlation between Y=bi-encoder score and X=average vs harmonic mean of ce score\n",
    "- when you sort the two scores, is the order different?\n",
    "\n",
    "larger ttest is better, smaller mann is better\n",
    "t_ttest, _ = ttest_ind(random_pair_scores, non_negative_scores, equal_var=False)\n",
    "t_mann, _  = mannwhitneyu(random_pair_scores, non_negative_scores, use_continuity=False)\n",
    "print(int(abs(t_ttest)), int(t_mann/1_000_000))"
   ]
  },
  {
   "cell_type": "code",
   "id": "3ab5d9f3",
   "metadata": {
    "ExecuteTime": {
     "end_time": "2024-12-12T21:36:49.181450Z",
     "start_time": "2024-12-12T21:36:48.916728Z"
    }
   },
   "source": [
    "from collections import defaultdict\n",
    "import json\n",
    "import math\n",
    "import os\n",
    "import random\n",
    "\n",
    "import matplotlib.pyplot as plt\n",
    "import numpy as np\n",
    "import pandas as pd\n",
    "from sentence_transformers.cross_encoder import CrossEncoder\n",
    "from sklearn.cluster import AgglomerativeClustering\n",
    "from sklearn.metrics.pairwise import cosine_similarity\n",
    "from statistics import harmonic_mean\n",
    "import torch\n",
    "from tqdm.notebook import tqdm\n",
    "\n",
    "from nama.data.filesystem import download_file_from_s3, save_file\n",
    "from nama.models.tokenizer import get_tokenize_function_and_vocab\n",
    "\n",
    "os.environ['TOKENIZERS_PARALLELISM'] = 'true'"
   ],
   "outputs": [],
   "execution_count": 41
  },
  {
   "cell_type": "code",
   "id": "1ff83f53",
   "metadata": {
    "ExecuteTime": {
     "end_time": "2024-12-12T18:23:02.739215Z",
     "start_time": "2024-12-12T18:23:02.679091Z"
    }
   },
   "source": [
    "# config\n",
    "# TODO run both given and surname\n",
    "given_surname = \"given\"\n",
    "# given_surname = \"surname\"\n",
    "\n",
    "# hyperparameters\n",
    "linkage = \"average\"  # average, complete\n",
    "similarity_threshold = 0.1 if given_surname == \"given\" else 0.25\n",
    "cluster_freq_normalizer = \"none\"  # log, log10, none\n",
    "\n",
    "experiment_name = f\"{linkage}-{similarity_threshold}-{cluster_freq_normalizer}\"\n",
    "\n",
    "max_tokens = 10\n",
    "bi_encoder_vocab_size = 2048\n",
    "cross_encoder_vocab_size = 265\n",
    "num_epochs = 8\n",
    "embedding_dim = 256\n",
    "learning_rate = 0.00005 \n",
    "tokenizer_max_length = 32\n",
    "\n",
    "std_path = f\"../references/std_{given_surname}.txt\"\n",
    "pref_path = f\"s3://fs-nama-data/2024/familysearch-names/processed/tree-preferred-{given_surname}-aggr.csv.gz\"\n",
    "tokenizer_path=f\"s3://fs-nama-data/2024/nama-data/data/models/fs-{given_surname}-subword-tokenizer-{bi_encoder_vocab_size}.json\"\n",
    "bi_encoder_path = f\"s3://fs-nama-data/2024/nama-data/data/models/bi_encoder-ce-{given_surname}-{num_epochs}-{embedding_dim}-{num_epochs}-{bi_encoder_vocab_size}-{learning_rate}.pth\"\n",
    "cross_encoder_dir = f\"../data/models/cross-encoder-{given_surname}-{cross_encoder_vocab_size}\"\n",
    "cross_encoder_dir_s3 = f\"s3://fs-nama-data/2024/nama-data/data/models/cross-encoder-{given_surname}-{cross_encoder_vocab_size}/\"\n",
    "\n",
    "# experiment_dir = f\"../reports/\"\n",
    "clusters_path = f\"s3://fs-nama-data/2024/nama-data/data/processed/clusters_{given_surname}-{linkage}-{similarity_threshold}-{cluster_freq_normalizer}.json\"\n",
    "super_clusters_path = f\"s3://fs-nama-data/2024/nama-data/data/processed/super_clusters_{given_surname}-{linkage}-{similarity_threshold}-{cluster_freq_normalizer}.json\"\n",
    "clusters_path"
   ],
   "outputs": [
    {
     "data": {
      "text/plain": [
       "'s3://fs-nama-data/2024/nama-data/data/processed/clusters_given-average-0.1-none.json'"
      ]
     },
     "execution_count": 14,
     "metadata": {},
     "output_type": "execute_result"
    }
   ],
   "execution_count": 14
  },
  {
   "cell_type": "markdown",
   "id": "ad87f02c",
   "metadata": {},
   "source": [
    "## Load data"
   ]
  },
  {
   "cell_type": "code",
   "id": "56affce8",
   "metadata": {
    "ExecuteTime": {
     "end_time": "2024-12-12T17:55:23.682149Z",
     "start_time": "2024-12-12T17:55:23.602350Z"
    }
   },
   "source": [
    "def get_cluster_freq(name):\n",
    "    freq = name_freq.get(name, 0)\n",
    "    if cluster_freq_normalizer == \"log\":\n",
    "        return max(1, math.floor(math.log(max(1,freq))))\n",
    "    elif cluster_freq_normalizer == \"log10\":\n",
    "        return max(1, math.floor(math.log10(max(1,freq))))\n",
    "    else:\n",
    "        return 1"
   ],
   "outputs": [],
   "execution_count": 4
  },
  {
   "cell_type": "code",
   "id": "deaa1fe1",
   "metadata": {
    "ExecuteTime": {
     "end_time": "2024-12-12T17:55:23.961945Z",
     "start_time": "2024-12-12T17:55:23.686132Z"
    }
   },
   "source": [
    "# load buckets\n",
    "bucket_names = defaultdict(set)\n",
    "name_buckets = defaultdict(set)\n",
    "with open(std_path, 'rt') as f:\n",
    "    for line in f.readlines():\n",
    "        names = line.strip().replace(':', ' ').split(' ')\n",
    "        bucket_name = names[0]\n",
    "        for name in names:\n",
    "            name = name.strip()\n",
    "            if len(name) == 0:\n",
    "                continue\n",
    "            bucket_names[bucket_name].add(name)\n",
    "            name_buckets[name].add(bucket_name)\n",
    "print(len(bucket_names), len(name_buckets))"
   ],
   "outputs": [
    {
     "name": "stdout",
     "output_type": "stream",
     "text": [
      "8878 95997\n"
     ]
    }
   ],
   "execution_count": 5
  },
  {
   "cell_type": "code",
   "id": "cf12581a",
   "metadata": {
    "ExecuteTime": {
     "end_time": "2024-12-12T17:55:32.229572Z",
     "start_time": "2024-12-12T17:55:23.963530Z"
    }
   },
   "source": [
    "# load pref names\n",
    "path = download_file_from_s3(pref_path) if pref_path.startswith(\"s3://\") else pref_path\n",
    "pref_df = pd.read_csv(path, na_filter=False)\n",
    "name_freq = {name: freq for name, freq in zip(pref_df['name'], pref_df['frequency'])}\n",
    "pref_df = None\n",
    "print(len(name_freq))\n",
    "print('john', name_freq['john'], get_cluster_freq('john'))"
   ],
   "outputs": [
    {
     "name": "stdout",
     "output_type": "stream",
     "text": [
      "2691517\n",
      "john 35659133 1\n"
     ]
    }
   ],
   "execution_count": 6
  },
  {
   "cell_type": "code",
   "id": "ec03d8e1",
   "metadata": {
    "ExecuteTime": {
     "end_time": "2024-12-12T17:55:32.354823Z",
     "start_time": "2024-12-12T17:55:32.232281Z"
    }
   },
   "source": [
    "cnt = 0\n",
    "for name in name_buckets:\n",
    "    if name not in name_freq:\n",
    "        cnt += 1\n",
    "        print(name)\n",
    "print(cnt)"
   ],
   "outputs": [
    {
     "name": "stdout",
     "output_type": "stream",
     "text": [
      "abdn\n",
      "abr\n",
      "adoracin\n",
      "aryantie\n",
      "alex\n",
      "alexr\n",
      "almaricus\n",
      "amuleck\n",
      "ant\n",
      "art\n",
      "aug\n",
      "baby\n",
      "brbaro\n",
      "bart\n",
      "benedam\n",
      "benj\n",
      "betsab\n",
      "bngta\n",
      "borrodil\n",
      "kecizza\n",
      "capt\n",
      "chas\n",
      "chasf\n",
      "chloedean\n",
      "chrtien\n",
      "chloery\n",
      "col\n",
      "croml\n",
      "cstula\n",
      "dmasa\n",
      "dmaso\n",
      "danl\n",
      "dahnelle\n",
      "daughter\n",
      "deceased\n",
      "dit\n",
      "edw\n",
      "edwd\n",
      "nd\n",
      "eliz\n",
      "elizth\n",
      "elisab\n",
      "esq\n",
      "experinece\n",
      "father\n",
      "fedrzej\n",
      "feramorze\n",
      "filemn\n",
      "feralie\n",
      "franoyse\n",
      "frdrique\n",
      "frderique\n",
      "fr\n",
      "freswede\n",
      "froiln\n",
      "gen\n",
      "geo\n",
      "gjerson\n",
      "gheorghios\n",
      "gmez\n",
      "gnvieve\n",
      "gnevive\n",
      "gppa\n",
      "hel\n",
      "dr\n",
      "hen\n",
      "huybartus\n",
      "husband\n",
      "in\n",
      "ismrie\n",
      "jas\n",
      "jathniall\n",
      "jeremuth\n",
      "jac\n",
      "jn\n",
      "jno\n",
      "joh\n",
      "jon\n",
      "jrand\n",
      "jaziell\n",
      "jstoan\n",
      "jun\n",
      "hken\n",
      "kolbjrn\n",
      "kjr\n",
      "lpez\n",
      "lt\n",
      "lusaine\n",
      "muoz\n",
      "maj\n",
      "malaquas\n",
      "margt\n",
      "merebath\n",
      "mister\n",
      "mother\n",
      "matt\n",
      "mme\n",
      "miss\n",
      "melitn\n",
      "mlitine\n",
      "mich\n",
      "michl\n",
      "haramita\n",
      "mnico\n",
      "mordsche\n",
      "nath\n",
      "nee\n",
      "nehimeah\n",
      "neptal\n",
      "null\n",
      "nn\n",
      "nrgaard\n",
      "ocotln\n",
      "odiln\n",
      "of\n",
      "ol\n",
      "onesophorus\n",
      "pacfica\n",
      "panajottis\n",
      "patk\n",
      "patt\n",
      "peeril\n",
      "pet\n",
      "phil\n",
      "pnfilo\n",
      "pnfila\n",
      "precindia\n",
      "rgis\n",
      "rev\n",
      "rd\n",
      "richd\n",
      "ric\n",
      "robt\n",
      "rmula\n",
      "rmulo\n",
      "rnnaug\n",
      "sagrdo\n",
      "saml\n",
      "zainte\n",
      "sar\n",
      "sol\n",
      "sen\n",
      "senr\n",
      "srvulo\n",
      "sfren\n",
      "sffren\n",
      "sgt\n",
      "shuebal\n",
      "sim\n",
      "son\n",
      "sndergaard\n",
      "srren\n",
      "sstenes\n",
      "sus\n",
      "thankes\n",
      "thger\n",
      "th\n",
      "thos\n",
      "thrze\n",
      "tim\n",
      "tger\n",
      "thorbjrn\n",
      "torbirn\n",
      "trris\n",
      "unk\n",
      "unkn\n",
      "unknow\n",
      "unkown\n",
      "urs\n",
      "vonzza\n",
      "vinzas\n",
      "walrandt\n",
      "walthre\n",
      "wife\n",
      "willm\n",
      "wm\n",
      "wmb\n",
      "wmp\n",
      "wmg\n",
      "zphirin\n",
      "180\n"
     ]
    }
   ],
   "execution_count": 7
  },
  {
   "cell_type": "code",
   "id": "356cb540",
   "metadata": {
    "ExecuteTime": {
     "end_time": "2024-12-12T17:55:32.416415Z",
     "start_time": "2024-12-12T17:55:32.356724Z"
    }
   },
   "source": [
    "def get_most_freq_name(names):\n",
    "    most_freq_name = None\n",
    "    most_freq_freq = None\n",
    "    for name in names:\n",
    "        freq = name_freq.get(name, 0)\n",
    "        if most_freq_name is None or freq > most_freq_freq:\n",
    "            most_freq_name = name\n",
    "            most_freq_freq = freq\n",
    "    return most_freq_name"
   ],
   "outputs": [],
   "execution_count": 8
  },
  {
   "metadata": {
    "ExecuteTime": {
     "end_time": "2024-12-12T17:55:32.485730Z",
     "start_time": "2024-12-12T17:55:32.419285Z"
    }
   },
   "cell_type": "code",
   "source": [
    "# download cross encoder\n",
    "for filename in [\n",
    "    'CECorrelationEvaluator_dev_results.csv',\n",
    "    'config.json',\n",
    "    'merges.txt',\n",
    "    'special_tokens_map.json',\n",
    "    'tokenizer_config.json',\n",
    "    'tokenizer.json',\n",
    "    'vocab.json',\n",
    "    'model.safetensors',\n",
    "]:\n",
    "    print(filename)\n",
    "    cross_encoder_dir_filename = os.path.join(cross_encoder_dir, filename)\n",
    "    if not os.path.exists(cross_encoder_dir_filename):\n",
    "        print('downloading', filename)\n",
    "        download_file_from_s3(cross_encoder_dir_s3+filename, cross_encoder_dir_filename)"
   ],
   "id": "9bf39aa32a563c91",
   "outputs": [
    {
     "name": "stdout",
     "output_type": "stream",
     "text": [
      "CECorrelationEvaluator_dev_results.csv\n",
      "config.json\n",
      "merges.txt\n",
      "special_tokens_map.json\n",
      "tokenizer_config.json\n",
      "tokenizer.json\n",
      "vocab.json\n",
      "model.safetensors\n"
     ]
    }
   ],
   "execution_count": 9
  },
  {
   "cell_type": "code",
   "id": "f558fb51",
   "metadata": {
    "ExecuteTime": {
     "end_time": "2024-12-12T17:55:33.013031Z",
     "start_time": "2024-12-12T17:55:32.488195Z"
    }
   },
   "source": [
    "# load cross encoder model\n",
    "ce_model = CrossEncoder(cross_encoder_dir, max_length=tokenizer_max_length)"
   ],
   "outputs": [],
   "execution_count": 10
  },
  {
   "metadata": {
    "ExecuteTime": {
     "end_time": "2024-12-12T18:23:17.792382Z",
     "start_time": "2024-12-12T18:23:17.089166Z"
    }
   },
   "cell_type": "code",
   "source": [
    "# load tokenizer\n",
    "path = download_file_from_s3(tokenizer_path) if tokenizer_path.startswith(\"s3://\") else tokenizer_path\n",
    "tokenize, tokenizer_vocab = get_tokenize_function_and_vocab(tokenizer_path=path, max_tokens=max_tokens)\n",
    "print(len(tokenizer_vocab))\n",
    "print(tokenize('dallan'))"
   ],
   "id": "84e60a771815caf4",
   "outputs": [
    {
     "name": "stdout",
     "output_type": "stream",
     "text": [
      "2048\n",
      "[1584, 489, 1, 1, 1, 1, 1, 1, 1, 1]\n"
     ]
    }
   ],
   "execution_count": 15
  },
  {
   "metadata": {
    "ExecuteTime": {
     "end_time": "2024-12-12T21:27:54.491767Z",
     "start_time": "2024-12-12T21:27:53.336450Z"
    }
   },
   "cell_type": "code",
   "source": [
    "# load bi-encoder\n",
    "path = download_file_from_s3(bi_encoder_path) if bi_encoder_path.startswith(\"s3://\") else bi_encoder_path\n",
    "bi_encoder_model = torch.load(path)\n",
    "bi_encoder_model.eval()"
   ],
   "id": "3e32d75496c7693",
   "outputs": [
    {
     "name": "stderr",
     "output_type": "stream",
     "text": [
      "/tmp/ipykernel_3794509/3861995143.py:3: FutureWarning: You are using `torch.load` with `weights_only=False` (the current default value), which uses the default pickle module implicitly. It is possible to construct malicious pickle data which will execute arbitrary code during unpickling (See https://github.com/pytorch/pytorch/blob/main/SECURITY.md#untrusted-models for more details). In a future release, the default value for `weights_only` will be flipped to `True`. This limits the functions that could be executed during unpickling. Arbitrary objects will no longer be allowed to be loaded via this mode unless they are explicitly allowlisted by the user via `torch.serialization.add_safe_globals`. We recommend you start setting `weights_only=True` for any use case where you don't have full control of the loaded file. Please open an issue on GitHub for any issues related to this experimental feature.\n",
      "  bi_encoder_model = torch.load(path)\n"
     ]
    },
    {
     "data": {
      "text/plain": [
       "BiEncoder(\n",
       "  (embedding): Embedding(2048, 256)\n",
       "  (positional_embedding): Embedding(10, 256)\n",
       "  (pooling): AdaptiveAvgPool1d(output_size=1)\n",
       ")"
      ]
     },
     "execution_count": 32,
     "metadata": {},
     "output_type": "execute_result"
    }
   ],
   "execution_count": 32
  },
  {
   "cell_type": "markdown",
   "id": "0f71ea56",
   "metadata": {},
   "source": "## Compare Cross-encoder scores"
  },
  {
   "cell_type": "code",
   "id": "a54ac523",
   "metadata": {
    "ExecuteTime": {
     "end_time": "2024-12-12T18:05:25.163739Z",
     "start_time": "2024-12-12T17:55:57.794784Z"
    }
   },
   "source": [
    "ce_avg_scores = []\n",
    "ce_harmonic_scores = []\n",
    "ce_max_scores = []\n",
    "\n",
    "for bucket_name, names in tqdm(bucket_names.items(), mininterval=2.0):\n",
    "    if len(names) == 1:\n",
    "        continue\n",
    "    # compute X and clustered_names\n",
    "    X = []\n",
    "    names = list(names)\n",
    "    for name1 in random.sample(names, min(len(names), 3)):\n",
    "        for name2 in random.sample(names, min(len(names), 3)):\n",
    "            if name1 == name2:\n",
    "                continue\n",
    "            # compute cross-encoder scores\n",
    "            ce_scores = ce_model.predict([[name1, name2], [name2, name1]])\n",
    "            ce_harmonic_score = harmonic_mean([ce_scores[0], ce_scores[1]])\n",
    "            ce_avg_score = (ce_scores[0]+ce_scores[1])/2\n",
    "            ce_max_score = max(ce_scores[0], ce_scores[1])\n",
    "            # save them\n",
    "            ce_harmonic_scores.append(ce_harmonic_score)\n",
    "            ce_avg_scores.append(ce_avg_score)\n",
    "            ce_max_scores.append(ce_max_score)"
   ],
   "outputs": [
    {
     "data": {
      "text/plain": [
       "  0%|          | 0/8878 [00:00<?, ?it/s]"
      ],
      "application/vnd.jupyter.widget-view+json": {
       "version_major": 2,
       "version_minor": 0,
       "model_id": "2d9e45be22cb4d689a87c485f894ae49"
      }
     },
     "metadata": {},
     "output_type": "display_data"
    }
   ],
   "execution_count": 11
  },
  {
   "cell_type": "code",
   "id": "72e8461d",
   "metadata": {
    "ExecuteTime": {
     "end_time": "2024-12-12T18:05:25.242131Z",
     "start_time": "2024-12-12T18:05:25.169751Z"
    }
   },
   "source": [
    "for ix, (h, a, m) in enumerate(zip(ce_harmonic_scores, ce_avg_scores, ce_max_scores)):\n",
    "    if ix > 20:\n",
    "        break\n",
    "    print(h, a, m)"
   ],
   "outputs": [
    {
     "name": "stdout",
     "output_type": "stream",
     "text": [
      "0.41594246 0.41607988 0.42364115\n",
      "0.41594246 0.41607988 0.42364115\n",
      "0.4468008 0.44680083 0.44692123\n",
      "0.4468008 0.44680083 0.44692123\n",
      "0.7332878 0.73329926 0.73620284\n",
      "0.796797 0.7967981 0.7977691\n",
      "0.8146019 0.81553173 0.84307\n",
      "0.6679859 0.66802 0.67279094\n",
      "0.9250009 0.9250026 0.9262551\n",
      "0.6679859 0.66802 0.67279094\n",
      "0.678243 0.6783214 0.68561524\n",
      "0.5436077 0.5440835 0.56017196\n",
      "0.5436077 0.5440835 0.56017196\n",
      "3.4517816e-06 3.4517839e-06 3.4546283e-06\n",
      "3.4517816e-06 3.4517839e-06 3.4546283e-06\n",
      "0.41339672 0.41340476 0.41522828\n",
      "0.40826103 0.40826333 0.40923145\n",
      "3.4573338e-06 3.457334e-06 3.4579175e-06\n",
      "0.41678414 0.41678417 0.4169126\n",
      "0.48820096 0.48840666 0.49842942\n",
      "0.41493404 0.41493434 0.41528264\n"
     ]
    }
   ],
   "execution_count": 12
  },
  {
   "cell_type": "code",
   "id": "697ed8a0",
   "metadata": {
    "ExecuteTime": {
     "end_time": "2024-12-12T18:23:49.199569Z",
     "start_time": "2024-12-12T18:23:49.140946Z"
    }
   },
   "source": "print(len(ce_harmonic_scores), len(ce_avg_scores), len(ce_max_scores))",
   "outputs": [
    {
     "name": "stdout",
     "output_type": "stream",
     "text": [
      "46365 46365 46365\n"
     ]
    }
   ],
   "execution_count": 17
  },
  {
   "cell_type": "code",
   "id": "c5873ec0",
   "metadata": {
    "ExecuteTime": {
     "end_time": "2024-12-12T18:23:52.040326Z",
     "start_time": "2024-12-12T18:23:51.199727Z"
    }
   },
   "source": [
    "plt.figure(figsize=(10, 6))\n",
    "plt.hist(ce_harmonic_scores, bins=100, alpha=0.5, label=\"cross-encoder\", color='red')\n",
    "plt.legend(loc='upper right')\n",
    "# Show the plot\n",
    "plt.tight_layout()\n",
    "plt.show()"
   ],
   "outputs": [
    {
     "data": {
      "text/plain": [
       "<Figure size 1000x600 with 1 Axes>"
      ],
      "image/png": "[encoded data removed]"
     },
     "metadata": {},
     "output_type": "display_data"
    }
   ],
   "execution_count": 18
  },
  {
   "cell_type": "markdown",
   "id": "8bf39b3f",
   "metadata": {},
   "source": [
    "## Cluster names"
   ]
  },
  {
   "cell_type": "markdown",
   "id": "c3367ceb",
   "metadata": {},
   "source": [
    "### create clusterer"
   ]
  },
  {
   "cell_type": "code",
   "id": "eee9e679",
   "metadata": {
    "ExecuteTime": {
     "end_time": "2024-12-12T18:24:11.186922Z",
     "start_time": "2024-12-12T18:24:11.121919Z"
    }
   },
   "source": [
    "def compute_row(name, names):\n",
    "    # compute pairs\n",
    "    pairs = []\n",
    "    for name2 in names:\n",
    "        if name2 != name:\n",
    "            pairs.append([name, name2])\n",
    "            pairs.append([name2, name])\n",
    "    scores = ce_model.predict(pairs) if len(pairs) > 0 else []\n",
    "    # construct row\n",
    "    row = []\n",
    "    ix = 0\n",
    "    for name2 in names:\n",
    "        score = 0.0\n",
    "        if name2 == name:\n",
    "            score = 1.0\n",
    "        else:\n",
    "            score = harmonic_mean([scores[ix], scores[ix+1]])\n",
    "            ix += 2\n",
    "                \n",
    "        # store the distance between name and name2\n",
    "        for _ in range(get_cluster_freq(name2)):\n",
    "            row.append(1.0 - score)\n",
    "    return row"
   ],
   "outputs": [],
   "execution_count": 19
  },
  {
   "cell_type": "code",
   "id": "0ce7626d",
   "metadata": {
    "ExecuteTime": {
     "end_time": "2024-12-12T18:24:13.087813Z",
     "start_time": "2024-12-12T18:24:13.015430Z"
    }
   },
   "source": [
    "# test different hyperparameters\n",
    "similarity_threshold = 0.25  # be=0.3, ce=0.08 or 0.15, cebe=0.28\n",
    "linkage = \"average\""
   ],
   "outputs": [],
   "execution_count": 20
  },
  {
   "cell_type": "code",
   "id": "44d81f4a",
   "metadata": {
    "ExecuteTime": {
     "end_time": "2024-12-12T18:27:02.866478Z",
     "start_time": "2024-12-12T18:27:02.802920Z"
    }
   },
   "source": [
    "clusterer = AgglomerativeClustering(\n",
    "    n_clusters=None,\n",
    "    metric=\"precomputed\",\n",
    "    linkage=linkage,\n",
    "    distance_threshold=(1-similarity_threshold),\n",
    ")"
   ],
   "outputs": [],
   "execution_count": 21
  },
  {
   "cell_type": "markdown",
   "id": "7375094e",
   "metadata": {},
   "source": [
    "### test clusterer"
   ]
  },
  {
   "cell_type": "code",
   "id": "bb1f29ee",
   "metadata": {
    "ExecuteTime": {
     "end_time": "2024-12-12T18:30:06.298307Z",
     "start_time": "2024-12-12T18:30:05.278056Z"
    }
   },
   "source": [
    "%%time\n",
    "\n",
    "# test_names = ['david', 'dan', 'daniel', 'dave']  # , 'darris', 'darrin', 'daren',\n",
    "#               'abraham','abe','aabraham','ab','abaham','abaraham','abarham','abb',\n",
    "#               'abelarde','abera','aberaham']\n",
    "# test_names = ['maholy', 'malay', 'mauley', 'ma', 'mala']\n",
    "test_names = bucket_names['berry']\n",
    "print(len(test_names))\n",
    "X = []\n",
    "names = []\n",
    "for name in test_names:\n",
    "    row = compute_row(name, test_names)\n",
    "    for _ in range(get_cluster_freq(name)):\n",
    "        names.append(name)\n",
    "        X.append(row)\n",
    "print(len(X))\n",
    "clustering = clusterer.fit(X)\n",
    "clusters = [set() for _ in range(clustering.n_clusters_)]\n",
    "print('n_clusters', clustering.n_clusters_)\n",
    "print('labels', clustering.labels_)\n",
    "print('names', names)\n",
    "for name, cluster in zip(names, clustering.labels_):\n",
    "    clusters[cluster].add(name)\n",
    "for cluster in clusters:\n",
    "    print()\n",
    "    print('cluster', get_most_freq_name(cluster), ':', cluster)"
   ],
   "outputs": [
    {
     "name": "stdout",
     "output_type": "stream",
     "text": [
      "26\n",
      "26\n",
      "n_clusters 3\n",
      "labels [0 0 0 0 0 2 0 0 0 0 0 0 0 0 0 0 0 0 0 0 0 0 0 0 1 0]\n",
      "names ['beri', 'ber', 'barie', 'beeri', 'barrie', 'dubarry', 'berah', 'beery', 'barry', 'burry', 'bary', 'buri', 'bery', 'bere', 'berrey', 'berr', 'bari', 'bury', 'berrie', 'burie', 'beary', 'beria', 'berry', 'barri', 'berryhill', 'brre']\n",
      "\n",
      "cluster barry : {'beri', 'ber', 'barie', 'beeri', 'barrie', 'berah', 'beery', 'barry', 'burry', 'bary', 'buri', 'bery', 'bere', 'berrey', 'bari', 'berr', 'bury', 'berrie', 'burie', 'beary', 'beria', 'berry', 'barri', 'brre'}\n",
      "\n",
      "cluster berryhill : {'berryhill'}\n",
      "\n",
      "cluster dubarry : {'dubarry'}\n",
      "CPU times: user 880 ms, sys: 218 ms, total: 1.1 s\n",
      "Wall time: 942 ms\n"
     ]
    }
   ],
   "execution_count": 22
  },
  {
   "cell_type": "code",
   "id": "ea2d69f6",
   "metadata": {
    "ExecuteTime": {
     "end_time": "2024-12-12T18:30:25.240755Z",
     "start_time": "2024-12-12T18:30:25.146774Z"
    }
   },
   "source": [
    "def get_ce_score(name1, name2):\n",
    "    scores = ce_model.predict([[name1, name2], [name2, name1]])\n",
    "    print(scores)\n",
    "    return harmonic_mean([scores[0], scores[1]])\n",
    "\n",
    "name1 = 'johnson'\n",
    "name2 = 'johnsson'\n",
    "print(get_ce_score(name1, name2))\n",
    "print(compute_row(name1, [name2]))"
   ],
   "outputs": [
    {
     "name": "stdout",
     "output_type": "stream",
     "text": [
      "[0.5696617  0.58503747]\n",
      "0.5772472\n",
      "[np.float32(0.4227528)]\n"
     ]
    }
   ],
   "execution_count": 24
  },
  {
   "cell_type": "markdown",
   "id": "30331a86",
   "metadata": {},
   "source": [
    "### run clusterer"
   ]
  },
  {
   "cell_type": "code",
   "id": "7f300cec",
   "metadata": {
    "ExecuteTime": {
     "end_time": "2024-12-12T18:30:37.450671Z",
     "start_time": "2024-12-12T18:30:37.382802Z"
    }
   },
   "source": "print(linkage, similarity_threshold, clusters_path)",
   "outputs": [
    {
     "name": "stdout",
     "output_type": "stream",
     "text": [
      "average 0.25 s3://fs-nama-data/2024/nama-data/data/processed/clusters_given-average-0.1-none.json\n"
     ]
    }
   ],
   "execution_count": 25
  },
  {
   "cell_type": "code",
   "id": "f12c0ec3",
   "metadata": {
    "ExecuteTime": {
     "end_time": "2024-12-12T18:30:42.678870Z",
     "start_time": "2024-12-12T18:30:42.612672Z"
    }
   },
   "source": [
    "clusterer = AgglomerativeClustering(\n",
    "    n_clusters=None,\n",
    "    metric=\"precomputed\",\n",
    "    linkage=linkage,\n",
    "    distance_threshold=(1-similarity_threshold),\n",
    ")"
   ],
   "outputs": [],
   "execution_count": 26
  },
  {
   "cell_type": "code",
   "id": "55325152",
   "metadata": {
    "ExecuteTime": {
     "end_time": "2024-12-12T20:57:20.550146Z",
     "start_time": "2024-12-12T18:30:46.736858Z"
    }
   },
   "source": [
    "%%time\n",
    "bucket_clusters = {}\n",
    "for bucket_name, names in tqdm(bucket_names.items(), mininterval=2.0):\n",
    "    if len(names) == 1:\n",
    "        bucket_clusters[bucket_name] = [names]\n",
    "    else:\n",
    "        # compute X and clustered_names\n",
    "        X = []\n",
    "        clustered_names = []\n",
    "        for name in names:\n",
    "            row = compute_row(name, names)\n",
    "            for _ in range(get_cluster_freq(name)):\n",
    "                clustered_names.append(name)\n",
    "                X.append(row)\n",
    "        X = np.array(X)\n",
    "        # cluster\n",
    "        clustering = clusterer.fit(X)\n",
    "        # create the clusters\n",
    "        clusters = [set() for _ in range(clustering.n_clusters_)]\n",
    "        for name, cluster in zip(clustered_names, clustering.labels_):\n",
    "            clusters[cluster].add(name)\n",
    "        bucket_clusters[bucket_name] = clusters\n",
    "len(bucket_clusters)"
   ],
   "outputs": [
    {
     "data": {
      "text/plain": [
       "  0%|          | 0/8878 [00:00<?, ?it/s]"
      ],
      "application/vnd.jupyter.widget-view+json": {
       "version_major": 2,
       "version_minor": 0,
       "model_id": "1f5700ee6a99480f98e4de30550d7a20"
      }
     },
     "metadata": {},
     "output_type": "display_data"
    },
    {
     "data": {
      "text/plain": [
       "8878"
      ]
     },
     "execution_count": 27,
     "metadata": {},
     "output_type": "execute_result"
    }
   ],
   "execution_count": 27
  },
  {
   "cell_type": "code",
   "id": "a2eff716",
   "metadata": {
    "ExecuteTime": {
     "end_time": "2024-12-12T21:27:07.380671Z",
     "start_time": "2024-12-12T21:27:07.291975Z"
    }
   },
   "source": [
    "print(\n",
    "    similarity_threshold,\n",
    "    len(bucket_clusters), \n",
    "    sum(len(bucket_cluster) for bucket_cluster in bucket_clusters.values()),\n",
    "    sum(sum(len(cluster) for cluster in clusters) for clusters in bucket_clusters.values())  \n",
    ")"
   ],
   "outputs": [
    {
     "name": "stdout",
     "output_type": "stream",
     "text": [
      "0.25 8878 15476 96010\n"
     ]
    }
   ],
   "execution_count": 28
  },
  {
   "cell_type": "markdown",
   "id": "36337a99",
   "metadata": {},
   "source": [
    "## Evaluate results"
   ]
  },
  {
   "cell_type": "code",
   "id": "8dadc595",
   "metadata": {
    "ExecuteTime": {
     "end_time": "2024-12-12T21:27:10.320420Z",
     "start_time": "2024-12-12T21:27:10.258151Z"
    }
   },
   "source": [
    "bucket_cluster_total = sum(len(clusters) for clusters in bucket_clusters.values())\n",
    "print(len(bucket_clusters), bucket_cluster_total)"
   ],
   "outputs": [
    {
     "name": "stdout",
     "output_type": "stream",
     "text": [
      "8878 15476\n"
     ]
    }
   ],
   "execution_count": 29
  },
  {
   "cell_type": "code",
   "id": "86360730",
   "metadata": {
    "ExecuteTime": {
     "end_time": "2024-12-12T21:27:11.540953Z",
     "start_time": "2024-12-12T21:27:11.494169Z"
    }
   },
   "source": [
    "# what about the top 100, 1000 names?\n",
    "total_clusters = 0\n",
    "total_names = 0\n",
    "for ix, name in enumerate(name_freq.keys()):\n",
    "    if ix % 100 == 0 and ix > 0:\n",
    "        print(total_names, total_clusters / total_names)\n",
    "    if ix == 2000:\n",
    "        break\n",
    "    if name not in name_buckets:\n",
    "        continue\n",
    "    bucket_name = next(iter(name_buckets[name]))\n",
    "    total_clusters += len(bucket_clusters[bucket_name])\n",
    "    total_names += 1"
   ],
   "outputs": [
    {
     "name": "stdout",
     "output_type": "stream",
     "text": [
      "90 23.066666666666666\n",
      "185 19.82162162162162\n",
      "284 18.158450704225352\n",
      "380 17.397368421052633\n",
      "479 16.77035490605428\n",
      "575 16.264347826086958\n",
      "675 15.881481481481481\n",
      "775 15.56\n",
      "874 15.104118993135012\n",
      "972 14.789094650205762\n",
      "1068 14.405430711610487\n",
      "1165 14.165665236051503\n",
      "1263 14.038796516231196\n",
      "1362 13.872980910425845\n",
      "1458 13.612482853223593\n",
      "1555 13.408360128617364\n",
      "1651 13.087219866747425\n",
      "1751 12.830953740719588\n",
      "1847 12.636166756903085\n",
      "1945 12.49974293059126\n"
     ]
    }
   ],
   "execution_count": 30
  },
  {
   "cell_type": "code",
   "id": "7a05c438",
   "metadata": {
    "ExecuteTime": {
     "end_time": "2024-12-12T21:27:11.634268Z",
     "start_time": "2024-12-12T21:27:11.542294Z"
    }
   },
   "source": [
    "for name in list(name_freq.keys())[:10]:\n",
    "    if name not in name_buckets:\n",
    "        continue\n",
    "    bucket_name = next(iter(name_buckets[name]))\n",
    "    print('***', name, bucket_name)\n",
    "    for ix, cluster in enumerate(bucket_clusters[bucket_name]):\n",
    "        print(' ', ix, get_most_freq_name(cluster), ':', ' '.join(cluster))\n"
   ],
   "outputs": [
    {
     "name": "stdout",
     "output_type": "stream",
     "text": [
      "*** maria mary\n",
      "  0 mamie : mammy memie mama mamme maymee mayma maime mami mame mam maimie mamye mayme mamey mamo mamia maymie mamie mamy mammie mamee\n",
      "  1 maren : mareana murine maren morrine mureen maurina marein maureen morren morene maurene mareen mauren mourine mauriana mareano marene maurena maurine maurien\n",
      "  2 polly : poley pally pallie poly poli polli powley polley palley polly polla phally palle pole pola polie polle poll pollie pol pooly pala paley\n",
      "  3 mair : mahar mayr mayre mair\n",
      "  4 myra : mirah meira mra maura morah myram meyra mayora moira myra mayra mira marah muria mavra moroa mura myro myrah mora moyra\n",
      "  5 mollie : molly molley moly mollye molle moll mol molie moley mollie mole mollerus molli mollee\n",
      "  6 marit : maurette murita marritje meretha marriett myraette marit myreta marot marite marynette marete mauretta morette miretta marata maretia marrithe marita moretta merritie marretta mariett marith merrietta merat marriet meretta maryt maritia marrete merretta maritie martta maryette marreta married marietta marieta marijte merith maretta mariete maryetta myrettia myretta mareretha marietie maryett marat mareta mariatta morita maritje marjet marrietta mariote mariet mariat maryaret maurita mariotta maritte marritte marrieta marriad marrita merritje maritta marette marritta merritta marriette merietta mariette\n",
      "  7 maurisia : maur mauritia maurilia maurisaz maurille maurisia maurius\n",
      "  8 meri : myrie mire meri miry myree myre\n",
      "  9 mya : mya ma\n",
      "  10 mally : malie malee mulla malu malli maylee mali malj malah malla molla malila mall maela maile maleia mallie mally mala malle malley malia mals mula malea maila maly\n",
      "  11 merrie : merrilyn merrilynn merelyn merilyn merrie merria merling merrillyn\n",
      "  12 morean : moriel morean\n",
      "  13 maria : marha moria maraa masria maried mariea mariade maira mariia marra maridt marrie myria marrah maria mara marin mariya marie mria mariee mirie marid myriah mariaa mariha marih mariar mariae mario merie miria mariah maraia mare meria maire marria marriah marier marioe maaria mrie\n",
      "  14 marilyn : marlina marlena maryn marilene marolyn marylene marilynne marylin marylinn marlise marylon marylynn marlene morlen marelene morlene marlane marrilyn marelyn marlyne marilynn marillyn marler marylynne maralin marliese marylyn marilan marleah marleen marlean marylan marlayne maryline marlaine maroline maralyn marlyse maraline marilin marlynn maralene maryln marihelen marilyn marline maralina marleene maryellen marilyne marlisa\n",
      "  15 molloy : molloy malay\n",
      "  16 meli : meal mealy meli mealey meally meely meallie\n",
      "  17 marius : marius marenius marylis maryllis marillis marilis\n",
      "  18 miriam : marum merum maryam meriam miram mirriam marim mariem mirim mariam merium mariom marium myriam miryam mirjami maream merriem mirium miriam marrium mirum miraim mirian miriame merrium meriem maryem maram mirjam marriam merriam\n",
      "  19 merida : mareda moreda mereda marida merida\n",
      "  20 meares : mear meares\n",
      "  21 mirion : mirion\n",
      "  22 miro : mirja mirra mir mirrah miro mirs\n",
      "  23 murcia : murcia\n",
      "  24 riza : riza\n",
      "  25 mauley : mauley maholy\n",
      "  26 palo : pallo palli palo pali\n",
      "  27 mauricette : moricette mauricette\n",
      "  28 miriama : marima marama maima miriama\n",
      "  29 mary : marz marr marya meary marry marrey merey maary mar maru marai mariy marse marye mairy mary mry marh mars mari marri marey\n",
      "  30 nolly : nolly\n",
      "  31 marzolff : martzolf martzolff marzolff marzolph martzolph\n",
      "*** john john\n",
      "  0 joan : joon joan jonie jony jonan johne jona johnnye johnney joney jonne joane johney jhone jonae jonny johnne johndine jonney johnsie joine jone johnny joni jonnie johnie johnnie joene joen johnni\n",
      "  1 hans : hannus hanes hanss hams haans hannis hannas hanks hanns hank hans hanis hanz hons han hannu hansz hahns hanchen hants hauns hannss\n",
      "  2 john : johanas jhon jonthn joh johm jhan johanns john johans joahn johan johnn jonn johny joohn johns jont johnt johin jahn johon johni jonh jhn\n",
      "  3 juan : jhuan juane juan jauna jwan juon juano jna juanso jhuana jhoana jhoan juoan juann juana juiana\n",
      "  4 jens : jeng jenss genus jense iens jenns jens\n",
      "  5 jonathan : joanthan jonath jonatham jonathana jonathan jonth joathan johanthan jonothon jonithan jonnathan johathan jonathanis jonathani jonothan jonahan johothan jonatas jonatha joanathan jathan johnothan jonathen jonathon jonatn janathan jonatan johathon jonathin jonathanus jonathae jonathas yonathan johnaton johnathin johnthan jonathn jonethen johnithan johnathan johnathen johanathan johnath jonaathan johnathon johnethan jonthan jonanthan johnnathan jonethan\n",
      "  6 jackie : jackey jacque jakes jacky jacks jacki jacqs jackie jakey jakie jackes jacs jacie jacq jache jacko jacke jacquie\n",
      "  7 jans : jns jans jon jno jn\n",
      "  8 joannes : jonnes jennis janies janos jenas janius janas jenness jannes joanes jenis janues jenius janus joannes\n",
      "  9 giovanni : geovanni giovonni giovanne gioanni giovanni govanni giavanni giovana giovanna giovani giovanno giovina giovan giovannia giovannina\n",
      "  10 johann : joann joanae johnnes hannes johnan johanah johane joahanna jonna joanna johannes joehanna johannie joeann joannus johannesen johanny joannis johana jahannes johannesdr johani johann johansen joannoe joeanna johanness johania johnah johannis johannae joannam johannus johna jonnah johnnis joannie johonna johnes johanus johanis joanah jhoanna johanna johannah johanson joanne johannsen joannae joanny juanna johannen johanni johanes johannam johanne johanss joannah jhanna joanni johnna joana joannum joani joanie johannem jhannes johansson johansine johannas\n",
      "  11 jacomo : jacomo giocomo\n",
      "  12 johannette : johannette johannesdatter\n",
      "  13 juanita : juniata juanitta juanito quanita juanita janita juantia juanta juniatta junette junith jaunita juanetta junietta juneta junita jaunta jaunetta juaneta\n",
      "  14 jo : jo\n",
      "  15 cobo : cobo\n",
      "  16 jack : jac jc jock jack joch joc\n",
      "  17 hintze : henzey hintze\n",
      "  18 jeck : jeck\n",
      "  19 jinnie : jinie jinnie\n",
      "  20 jan : janny jan jaun\n",
      "  21 jannitie : jannitie hannetje\n",
      "  22 hansine : hance hansy hansena hansie hansene hancy hancey hansina hansey hansa hansine hansmine hansje hanse hanssine\n",
      "  23 joannem : jom joannem\n",
      "  24 henshaw : henshaw hanshaw\n",
      "  25 jak : jok jak\n",
      "  26 jensinius : jensinius\n",
      "  27 waneta : waneita wanetah waunetta wauneta waynette wahneta wannetta wanitta wanetta waunita wanita waneta\n",
      "  28 joao : joam joao\n",
      "  29 jaques : jaques\n",
      "*** mary mary\n",
      "  0 mamie : mammy memie mama mamme maymee mayma maime mami mame mam maimie mamye mayme mamey mamo mamia maymie mamie mamy mammie mamee\n",
      "  1 maren : mareana murine maren morrine mureen maurina marein maureen morren morene maurene mareen mauren mourine mauriana mareano marene maurena maurine maurien\n",
      "  2 polly : poley pally pallie poly poli polli powley polley palley polly polla phally palle pole pola polie polle poll pollie pol pooly pala paley\n",
      "  3 mair : mahar mayr mayre mair\n",
      "  4 myra : mirah meira mra maura morah myram meyra mayora moira myra mayra mira marah muria mavra moroa mura myro myrah mora moyra\n",
      "  5 mollie : molly molley moly mollye molle moll mol molie moley mollie mole mollerus molli mollee\n",
      "  6 marit : maurette murita marritje meretha marriett myraette marit myreta marot marite marynette marete mauretta morette miretta marata maretia marrithe marita moretta merritie marretta mariett marith merrietta merat marriet meretta maryt maritia marrete merretta maritie martta maryette marreta married marietta marieta marijte merith maretta mariete maryetta myrettia myretta mareretha marietie maryett marat mareta mariatta morita maritje marjet marrietta mariote mariet mariat maryaret maurita mariotta maritte marritte marrieta marriad marrita merritje maritta marette marritta merritta marriette merietta mariette\n",
      "  7 maurisia : maur mauritia maurilia maurisaz maurille maurisia maurius\n",
      "  8 meri : myrie mire meri miry myree myre\n",
      "  9 mya : mya ma\n",
      "  10 mally : malie malee mulla malu malli maylee mali malj malah malla molla malila mall maela maile maleia mallie mally mala malle malley malia mals mula malea maila maly\n",
      "  11 merrie : merrilyn merrilynn merelyn merilyn merrie merria merling merrillyn\n",
      "  12 morean : moriel morean\n",
      "  13 maria : marha moria maraa masria maried mariea mariade maira mariia marra maridt marrie myria marrah maria mara marin mariya marie mria mariee mirie marid myriah mariaa mariha marih mariar mariae mario merie miria mariah maraia mare meria maire marria marriah marier marioe maaria mrie\n",
      "  14 marilyn : marlina marlena maryn marilene marolyn marylene marilynne marylin marylinn marlise marylon marylynn marlene morlen marelene morlene marlane marrilyn marelyn marlyne marilynn marillyn marler marylynne maralin marliese marylyn marilan marleah marleen marlean marylan marlayne maryline marlaine maroline maralyn marlyse maraline marilin marlynn maralene maryln marihelen marilyn marline maralina marleene maryellen marilyne marlisa\n",
      "  15 molloy : molloy malay\n",
      "  16 meli : meal mealy meli mealey meally meely meallie\n",
      "  17 marius : marius marenius marylis maryllis marillis marilis\n",
      "  18 miriam : marum merum maryam meriam miram mirriam marim mariem mirim mariam merium mariom marium myriam miryam mirjami maream merriem mirium miriam marrium mirum miraim mirian miriame merrium meriem maryem maram mirjam marriam merriam\n",
      "  19 merida : mareda moreda mereda marida merida\n",
      "  20 meares : mear meares\n",
      "  21 mirion : mirion\n",
      "  22 miro : mirja mirra mir mirrah miro mirs\n",
      "  23 murcia : murcia\n",
      "  24 riza : riza\n",
      "  25 mauley : mauley maholy\n",
      "  26 palo : pallo palli palo pali\n",
      "  27 mauricette : moricette mauricette\n",
      "  28 miriama : marima marama maima miriama\n",
      "  29 mary : marz marr marya meary marry marrey merey maary mar maru marai mariy marse marye mairy mary mry marh mars mari marri marey\n",
      "  30 nolly : nolly\n",
      "  31 marzolff : martzolf martzolff marzolff marzolph martzolph\n",
      "*** william william\n",
      "  0 billy : biel billah bille bilah billy bills bill billey bully bilha bil bilhah billa billye bial\n",
      "  1 wiley : wyly wily wyley wiley wylly wile wyle wylie wyllie\n",
      "  2 william : willu wil wilham wila willaim whilliam willm willn williaam williy williem willielmus williami williiam willimi willham willo wiiliam wills wiljam williom welliam willliam wellie willye williamson willmi williamine williamii willian willin wlliam william wiliiam illiam willis willi wiliam willia willeam williana willie wiilliam will williame wilho willim willum williamsen williams willlie williwm willina willyam willima willy willium willow wilie wille wilam willianna wilian wilha willam willien willan walliam williamm willias willey wilyam willine\n",
      "  3 woolley : wolley weley welley woolley whiley wooley\n",
      "  4 guillermo : gillermo guellermo guillermo guillarmo gullermo guillerno guillerino guilermo guilhermino\n",
      "  5 wol : wol woll wolle\n",
      "  6 wilhelm : willhelm wilhem willelmus willhelmi wilheim willhelmus wilhelmenia willhelmina wilhelma wilhelmene wilhelme wilhelmen wilhelminae wilhelmiena willelmi wilhilmina wilhelemina wilhelmo vilhelm wilhe wilhelmi wilhelmin willem wilhelimina wilhelmus wilhelm wilhelmum whilhelmina willhelmine wilh welhelmine welhelm wilhelminia wilhelmeni welhelmina willhelmena wilhelmiene wilhelmena wilhelmia\n",
      "  7 wm : wm\n",
      "  8 wella : wellam wella\n",
      "  9 guillaume : guillaume gulielmus gulielmi\n",
      "*** anna annette\n",
      "  0 nain : nania nanon nannina nanine nannia nonne nain nannine\n",
      "  1 annantonia : annastina annastiina anastina annantonia annestina anestine anstine\n",
      "  2 anna : anca annaen aner anania anneva annae aannah anima annia amna ani annah anaa anah anae aanna anida annena anma annna ania anya aneata annay annar annamae ana aniana anannah annali annam anna anana aana anra anada anea annea annaa annama anina anena annina ahna anar anaca\n",
      "  3 anne : anney aene aenne anni annie aunie amne ane annij annir annei aanne anie annye annig annem anny aane anner anye ahne anne anniel aney aine\n",
      "  4 anita : annete anat annata annettia aneta anetie annieta annetia anila anitta anet annatya anete anneta anette anate anneth annabeth anita annitta annita anetha anetta annetti anjanette anettie anieta annate anota anatha annitte anethe anatia annett annetta annatia annath annet anett anite aneita annetha annatte annettie anitia anito annietta annette annettee\n",
      "  5 annigje : annigien annichjen annichje annigje annegie annechie annechien annechiena annechina annegijn annegje annichie annegjen annetjie annegien anniggien annechjen annighjen anneca annichien annigie annachien annechijn annechje annigjen annighje\n",
      "  6 nita : enta nite nita enita enith\n",
      "  7 annabarbara : annabarbara annabritta annabrita\n",
      "  8 anno : annor anno hanou hanow ano annoe annou anor\n",
      "  9 nantes : yantes nantes yantis\n",
      "  10 aniela : anilla anely anella annely annelle annelj anela aniela aneli anelle annele anello anyll annell anneli annella anele annela\n",
      "  11 ann : ahn aen an ann anm ain aun awn aann aan annen amn annn aanun aanen\n",
      "  12 annalee : ainee anee inee analee annalee annee anilee\n",
      "  13 anh : anh ansck ank anck\n",
      "  14 antje : annettje anaatje anntje annautye antji antja annetge annaatje annatien yannetje antke annaatjen annitgen annittje antjen anneje antjie annetji anje annaetjen annetgen annatjen annatie annetze annaetye annatgen annetje annetie antge aentje ankje annatje annetien annaatie annetjen anetje angje antje annitjen annitje anatye anatie aantje anatje annatjie anja annaje annatye annitge annitie annetye annaetje anskje\n",
      "  15 annegret : annegret\n",
      "  16 ans : aanes anns ans ahnes aners\n",
      "  17 aune : aune auna nauna\n",
      "  18 annika : annechen annecken anicke anicka annikken anneke annatchen aniken aniche annica annikka anika annekin annecke anikke annike annicken annicke anche anneche annake annicka ancke anneken annaka anecka annieka annichen annemieke annauche annicha annikki anichen anchen anncke annikke aneke annaken annchen anneka annek annick anniche annecka annke annika anniken annich\n",
      "  19 annarosa : annerose annarosa\n",
      "  20 ansia : ansje ansia\n",
      "  21 annamaria : anamari anmariah annamari annaemariae annamariah annamarie anemarie anamaria anmari annmarie anamarie annemaria anmaria annamaria anamariah annemarie anmarie\n",
      "  22 ennike : enche enike ennicke encke ennike ennecke enke ennikke enniken eneke\n",
      "  23 anore : andorthe anore\n",
      "  24 annamary : annaly annamary annaley annary\n",
      "  25 anine : annesine annine anine anemine anesine\n",
      "  26 anty : annyte anty\n",
      "  27 analia : analu anelie annalise annalie annaline annelin annelis anamelia annelies annaliese analine analia anelise annalena annalene annalina annalea annelie analene annelia anali annalies annalia anamalia\n",
      "  28 aentgen : aentgen aente\n",
      "  29 ennutte : ennutte enetta enutte\n",
      "  30 nancy : namcy nancy\n",
      "  31 andd : andd\n",
      "  32 inon : inon\n",
      "  33 annacatharina : annacatharina\n",
      "  34 aina : aino aina aini\n",
      "  35 amazelie : amazelie\n",
      "  36 ennen : ennen enchgen enchen\n",
      "  37 ancheta : anschel ancheta\n",
      "  38 onetta : ineta nieta onetta nietta\n",
      "  39 nanete : nanete\n",
      "  40 kleinanna : klianna kleinanna clianna klyanna\n",
      "  41 honna : honna hoona\n",
      "  42 yanick : yanick\n",
      "  43 aae : aaa aae\n",
      "  44 anliza : annaliisa anliza\n",
      "  45 anu : anu aunnu annu onnu\n",
      "  46 annot : annot aunet\n",
      "  47 ein : ein een\n",
      "  48 eana : aena eana\n",
      "  49 ohne : onne ohne\n",
      "  50 ayn : ayne ayn\n",
      "  51 chanah : chanah\n",
      "  52 annli : annli anli anly\n",
      "  53 hayner : hayner hainer\n",
      "  54 ennusze : ennuhze enusse ennusze ennusche enusze ennusse annusze\n",
      "  55 anjemima : anjemima\n",
      "*** jose joseph\n",
      "  0 joa : joa johh joah\n",
      "  1 giuseppa : joseppa jusepe guisseppe guiseppe jusepa giuseppa guiseppo guiseppa guseppe guiseppi jusepha joseppe jusephe josepa gueseppe guisippe guisseppi\n",
      "  2 josephine : josiphene josaphine josophene josephein josephiene josefine josephinne josephine josephinae joshephine josephien josiephine josephene josiphine joesphine josephie josephen josaphin josophine josaphina josaphene josephne josephina josphine guiseppina jospehine josphene josafine jesephine jozephina giuseppina josefina josephn\n",
      "  3 joseph : josepe josefha josph jsoeph jossph josephfa jospeh josephte josepho josephy josaph josepha joseph josefa joeseph juseph jozepha josefh josefo josephf josef jossef josefe jaseph josephum jseph josephia jpha josoph jeseph josephe josepfa joseh josepf joseff josephi jozeph jossepha jozsef josseph josep josehp josphe josephae josephus jozefa joesph jozef\n",
      "  4 joe : jow joo joe\n",
      "  5 jose : josei jos jossie josie jose jocie josse josu josy\n",
      "  6 joey : joey\n",
      "  7 boppo : boppo\n",
      "  8 joze : joz joze\n",
      "  9 jph : jph\n",
      "  10 joes : joas joes joos\n",
      "  11 js : js\n",
      "  12 joso : jozo joso\n",
      "*** elizabeth elizabeth\n",
      "  0 betty : bitsey bety betsey betcy beatty betti bitsy betty betey bett bettylou betsy betsie bettsey baty betsay bitty batey betsa betta betzy batty betse bettie bettey besey beatie bettsy beaty bittie beth bettee betts bettsie bette betzie beattie bettye\n",
      "  1 beesy : beasy busey bezi boisy besy basey bussy beesy\n",
      "  2 bosie : basie bazzie busia bosie\n",
      "  3 elsie : elsie elcie elsi ellsie elsia nelsie elcia elzia\n",
      "  4 elizabeth : elizibeth elizabetae elisebeth elezabath eliezabeth eilzabeth ellisabet elsbeth elizh elsbet ellisabeth elizabetha elziabeth elyzabeth elizabeeth lizabeth eliazbeth elzebeth elizzebeth elisabath elisabeth elezebeth elisabith elezebth elissabeth elezbeth elizabethe elizeb elizebth ellizabeth elsbieta elizabeh elizbath eliizabeth elisabett elisebet elizbt elizaebth elzabeth elizabaeth elisabets elizebetha elisabethen elizsabeth wlizabeth elisabette elizebett elisibeth elizziebeth elezebath elizbh ellizebeth elsebeth elizaabeth elyzabethe lizabet elizabett elisabetha elizebath elisabete elisabhet elizabeth eliesabetha elizebith elizaboth lizebeth elizabith elesibeth elsbeta elijsabeth elizbeath elezabeth elizabette eliesabeth elsebet elysabetha elisabeta eliazabeth elicabeth elisabth elisebath elizabe elizzibeth elisabethe elesabeth elisabethae elisabetae elizebeath elizabeht elizebet elliz elixabeth elisabet elizobeth elisbeth elisbet elyzabetha elizbth elizabetham elisabetta elizabt lizbeth elssbeth elizeabeth elizabethae elizzabeth elesbeth elysabeth elijsabet elissabetha elezibeth elizabrth elilzabeth elisebetha elesebeth elizabeath elisabel elizabth elizth elizaberth elisabeht elazabeth elisabetham elizebeth elizabh elizb elsbetha elissabet elizabhet elizaberh elizibath elijabeth eliziabeth elizabeta elizabetta lizzabeth elizbeth elizabete\n",
      "  5 lessie : leise lessey leisa lessy lessie lease lesa lesia lassie\n",
      "  6 eliza : leza eliz elisa elizza elizi liza lizz elizy eliza aliza elizas elizae elizia lizza eilza elizabet elyza elliza elizea elizabath elizab elizob elizzie elizha elizah eleza\n",
      "  7 libbie : libbie libba libbey libbe libia libby liby libie\n",
      "  8 bess : bs bess\n",
      "  9 lizzie : liz lizze lizzey lizy lizzee lizzi lizie lizzy lezzie lizey lizzie leizzie lizzia lizi lize lyzie\n",
      "  10 bessie : bessey besse bessye beesie bessi besie besa bessia bessee bessie bessa bessis bessy bassie bissie\n",
      "  11 lisette : lissbet lisabeth lisbeth lijsbetje lisbett lispeth lijsbetjen lisbetha lysbeth liesebeth leijsbet lissbeth lisabet lisbetta lijsbeth lisbet leijsebet lisabeht lisebet lisbeta lysbet elisabeath liesbeth lisebeth lisbedt lijsebet lisabetha lijsabeth lispet lijsabet liesabeth liesebet lisette lijsbet leisbeth\n",
      "  12 lisa : lisia liska lissie lissi lisey lisha lisco lisy lessa lissy lisa lissia lysa lissa lizia lissey liisa\n",
      "  13 bicy : bicie bicey bicy\n",
      "  14 elizio : elizio elesio\n",
      "  15 buc : buc\n",
      "  16 bethier : bethier bethire bethiar\n",
      "  17 leici : leici\n",
      "  18 elspet : elspeth elspe elspet\n",
      "  19 ilsabein : ilsabein\n",
      "  20 lis : lis lies lice\n",
      "  21 luiso : luiso\n",
      "  22 leijsie : lysie leijsie\n",
      "  23 beauty : beauty\n",
      "  24 elise : eliese elizie elise elizeu elies elize\n",
      "*** thomas thomas\n",
      "  0 ths : ths tho th thus tha thoe\n",
      "  1 thomas : thomen thamas thoams tombs thomo thomasee tomis tohmas thomax timpson thomann thomss thommes thomman thomad thompson thaomas thomsa thomps thompston thomis thomase toomas thomus tomasz thoms tomes thomal tomasse tommas yhomas tompson thomes tomae thas thompsie thomson tomsey thomaz tuomas thomon tommes thoomas thommas thoman toombs tomaz thaman thomaso thomass thmas theoma thomam thomp tomos thms tomase thomaa thoas thoma tomass tommis thomaas thomans thomasse thomos thomae tomas thomasz thomads tohomas themas toms thomoe thos thomasd thomaus thosmas thomnas thomaes thommen thomsson thonas thomas thames thommis\n",
      "  2 toens : thewis thones toens thonis\n",
      "  3 tamas : tamas tams tamis tamzy thame tammo tamo tamza tammes tamsy tamsie tames tamsey thams\n",
      "  4 tom : tum tom tumu tuomo\n",
      "  5 thomasin : tamasen thomazine thomassen thomassina thomasyne thomaszen tomasine tamerson thomasyn tameson tommasina tommesen timasin thamison thomsen tamsen thamazine tamzen tamesia tunison tamzon tomisin thamzin thomesine tamsyne tamsan tamizen tomalin tomzen thamsen thomazin thomesin tomsin tomsyn thomsine tamson tomeson tomasson thamson thamazin thamasine thomazina tamezin timison tamsin thomassin tamizon tampson thomzin thomason tamason tamasina tomassen tamesin tamsyn thomasinae thamosin thamason tomison tamazen thamsin tamazon thamasyn thomasena tomisine thamazen thomasan thomasson thomzine tamozin thamsine tomasen thomosin thomsin tamisine thamozin tamsine thomaszine thameson thomosine tomasin tamasin tomsson tammen thomazyn thamerson tomazine tamesen timson thomasina tamazine thomisina tomsen tomacina tamzine thomasine thamesin tamisen tomzin tomassin thamezin tamzin thamsyn tomasene thomyson tominson tomesen tamsina thomasene tomasina thamasin thomsyn thomassine thomacina tamosin thomazen thomasin tomsine tomazin thamzen tamazin thomesen tomasyn tomson tamisin thomzen thamzyn thomasen tonson tomesin thomisen thomison tomason thomeson thomisin tamison tumsen tanzen tamizin tamasine tamasyn thomisine\n",
      "  6 tommy : tomo tomeno tomy thomie tomcke thome thommie tommie tomine tomma tommye tomie tommey thommy tomme thomai tomena tomi tome toma tomia thomek tomek thomy tomey thomei tomina thomine tommy thomi\n",
      "  7 tma : tma\n",
      "  8 damasena : damsin damasena\n",
      "  9 tomislav : tomislav\n",
      "  10 tos : tosh thoss tos\n",
      "  11 timmis : timmis\n",
      "  12 toa : thowe thoa tohe thoae toa\n",
      "  13 thom : thyme thom them tham tm\n",
      "  14 tomasa : tamasa tomasi tomassa tomasia tomaso tomazia tomasito tomasino domacia tomasita thomassa thomazia domasa thomaza tommaso tomasso tommasa thomasia tomazo tommazo tomsa thomasa tomaza tomosa tomasa tommasso tomacita thomosa\n",
      "*** james james\n",
      "  0 jim : jm jum gim jem jim\n",
      "  1 james : jemes jmaes jas jaems jamis jamaes jaymes jaimes jamse jam jamas jeams jamess jeames jamos james jaames jams\n",
      "  2 jimmie : jimmey jimie jimy jimmie jimmi jimey jimmy jimmye jime jemmie jimme\n",
      "  3 jaume : jaume\n",
      "*** joseph joseph\n",
      "  0 joa : joa johh joah\n",
      "  1 giuseppa : joseppa jusepe guisseppe guiseppe jusepa giuseppa guiseppo guiseppa guseppe guiseppi jusepha joseppe jusephe josepa gueseppe guisippe guisseppi\n",
      "  2 josephine : josiphene josaphine josophene josephein josephiene josefine josephinne josephine josephinae joshephine josephien josiephine josephene josiphine joesphine josephie josephen josaphin josophine josaphina josaphene josephne josephina josphine guiseppina jospehine josphene josafine jesephine jozephina giuseppina josefina josephn\n",
      "  3 joseph : josepe josefha josph jsoeph jossph josephfa jospeh josephte josepho josephy josaph josepha joseph josefa joeseph juseph jozepha josefh josefo josephf josef jossef josefe jaseph josephum jseph josephia jpha josoph jeseph josephe josepfa joseh josepf joseff josephi jozeph jossepha jozsef josseph josep josehp josphe josephae josephus jozefa joesph jozef\n",
      "  4 joe : jow joo joe\n",
      "  5 jose : josei jos jossie josie jose jocie josse josu josy\n",
      "  6 joey : joey\n",
      "  7 boppo : boppo\n",
      "  8 joze : joz joze\n",
      "  9 jph : jph\n",
      "  10 joes : joas joes joos\n",
      "  11 js : js\n",
      "  12 joso : jozo joso\n"
     ]
    }
   ],
   "execution_count": 31
  },
  {
   "cell_type": "markdown",
   "id": "7efe7a89",
   "metadata": {},
   "source": [
    "### Write experiment report\n",
    "\n",
    "deprecated"
   ]
  },
  {
   "cell_type": "raw",
   "id": "87a1a1b7",
   "metadata": {},
   "source": [
    "# gather every 25'th name into an experiment\n",
    "experiment = {}\n",
    "for ix, (bucket_name, clusters) in enumerate(bucket_clusters.items()):\n",
    "    if ix % 25 != 0:\n",
    "        continue\n",
    "    experiment[bucket_name] = clusters"
   ]
  },
  {
   "cell_type": "raw",
   "id": "0d653f96",
   "metadata": {},
   "source": [
    "def name_sort_key(name):\n",
    "    freq = name_freq.get(name, 0)\n",
    "    return f\"{freq:12d}:{name}\""
   ]
  },
  {
   "cell_type": "raw",
   "id": "7fbade36",
   "metadata": {},
   "source": [
    "lines = []\n",
    "lines.append(f\"Experiment: {experiment_name}\")\n",
    "lines.append(f\"sub-buckets={bucket_cluster_total}\")\n",
    "for bucket_name, clusters in experiment.items():\n",
    "    lines.append(bucket_name)\n",
    "    clusters.sort(key=lambda cluster: name_sort_key(get_most_freq_name(cluster)), reverse=True)\n",
    "    for cluster in clusters:\n",
    "        cluster.sort(key=name_sort_key, reverse=True)\n",
    "        lines.append(f\"- {get_most_freq_name(cluster)}: {' '.join(cluster)}\")"
   ]
  },
  {
   "cell_type": "raw",
   "id": "07b04218",
   "metadata": {},
   "source": [
    "for line in lines:\n",
    "    print(line)"
   ]
  },
  {
   "cell_type": "raw",
   "id": "cc1752f9",
   "metadata": {},
   "source": [
    "experiment_name"
   ]
  },
  {
   "cell_type": "raw",
   "id": "fd11adf9",
   "metadata": {},
   "source": [
    "experiment_filename = f\"{experiment_name}.txt\"\n",
    "with open(os.path.join(experiment_dir, experiment_filename), 'wt') as f:\n",
    "    f.write(\"\\n\".join(lines))"
   ]
  },
  {
   "cell_type": "markdown",
   "id": "8cbfb4ce",
   "metadata": {},
   "source": [
    "## Save Clusters and Super-Clusters"
   ]
  },
  {
   "metadata": {
    "ExecuteTime": {
     "end_time": "2024-12-12T21:28:04.800375Z",
     "start_time": "2024-12-12T21:28:04.733974Z"
    }
   },
   "cell_type": "code",
   "source": [
    "def get_embedding(name):\n",
    "    name_tokens = tokenize(name)\n",
    "    return bi_encoder_model.get_embedding(name_tokens)"
   ],
   "id": "6c24eea1f0861f1e",
   "outputs": [],
   "execution_count": 33
  },
  {
   "cell_type": "code",
   "id": "582d08b3",
   "metadata": {
    "ExecuteTime": {
     "end_time": "2024-12-12T21:28:06.020877Z",
     "start_time": "2024-12-12T21:28:05.978249Z"
    }
   },
   "source": [
    "def get_cluster_centroid(cluster):\n",
    "    centroid = None\n",
    "    for name in cluster:\n",
    "        embedding = get_embedding(name)\n",
    "        for _ in range(get_cluster_freq(name)):\n",
    "            if centroid is None:\n",
    "                centroid = embedding.copy()\n",
    "            else:\n",
    "                centroid += embedding\n",
    "    return centroid / np.linalg.norm(centroid)    "
   ],
   "outputs": [],
   "execution_count": 34
  },
  {
   "cell_type": "code",
   "id": "6dcbde4a",
   "metadata": {
    "ExecuteTime": {
     "end_time": "2024-12-12T21:28:25.766143Z",
     "start_time": "2024-12-12T21:28:25.700940Z"
    }
   },
   "source": [
    "get_cluster_freq('richard')"
   ],
   "outputs": [
    {
     "data": {
      "text/plain": [
       "1"
      ]
     },
     "execution_count": 35,
     "metadata": {},
     "output_type": "execute_result"
    }
   ],
   "execution_count": 35
  },
  {
   "cell_type": "code",
   "id": "a2d5daa4",
   "metadata": {
    "ExecuteTime": {
     "end_time": "2024-12-12T21:31:28.784113Z",
     "start_time": "2024-12-12T21:31:28.702112Z"
    }
   },
   "source": [
    "emb1 = get_embedding('richard')\n",
    "emb2 = get_embedding('dallan')\n",
    "print(cosine_similarity([emb1], [emb2]))\n",
    "print(cosine_similarity([emb1], [emb1]))\n",
    "print(cosine_similarity([emb1], [emb1+emb2]))\n",
    "print(cosine_similarity([emb1], [get_cluster_centroid(['richard', 'dallan'])]))"
   ],
   "outputs": [
    {
     "name": "stdout",
     "output_type": "stream",
     "text": [
      "[[0.06258433]]\n",
      "[[0.9999999]]\n",
      "[[0.55615735]]\n",
      "[[0.55615735]]\n"
     ]
    }
   ],
   "execution_count": 36
  },
  {
   "cell_type": "code",
   "id": "7173cf88",
   "metadata": {
    "ExecuteTime": {
     "end_time": "2024-12-12T21:32:50.803875Z",
     "start_time": "2024-12-12T21:32:27.537494Z"
    }
   },
   "source": [
    "all_clusters = {}\n",
    "super_clusters = {}\n",
    "for bucket_name, clusters in tqdm(bucket_clusters.items()):\n",
    "    cluster_names = []\n",
    "    for cluster in clusters:\n",
    "        centroid = get_cluster_centroid(cluster)\n",
    "        cluster_name = f\"{bucket_name}/{get_most_freq_name(cluster)}\"\n",
    "        cluster_names.append(cluster_name)\n",
    "        all_clusters[cluster_name] = {\n",
    "            \"names\": list(cluster),\n",
    "            \"centroid\": centroid.tolist(),\n",
    "        }\n",
    "    if len(cluster_names) > 1:\n",
    "        super_clusters[bucket_name] = cluster_names"
   ],
   "outputs": [
    {
     "data": {
      "text/plain": [
       "  0%|          | 0/8878 [00:00<?, ?it/s]"
      ],
      "application/vnd.jupyter.widget-view+json": {
       "version_major": 2,
       "version_minor": 0,
       "model_id": "66a88205937448f7b6900809629e793f"
      }
     },
     "metadata": {},
     "output_type": "display_data"
    },
    {
     "name": "stdout",
     "output_type": "stream",
     "text": [
      "CPU times: user 23.1 s, sys: 269 ms, total: 23.4 s\n",
      "Wall time: 23.2 s\n"
     ]
    }
   ],
   "execution_count": 38
  },
  {
   "cell_type": "code",
   "id": "d5ae9082",
   "metadata": {
    "ExecuteTime": {
     "end_time": "2024-12-12T21:32:55.269225Z",
     "start_time": "2024-12-12T21:32:55.203384Z"
    }
   },
   "source": [
    "print(len(all_clusters), len(super_clusters))"
   ],
   "outputs": [
    {
     "name": "stdout",
     "output_type": "stream",
     "text": [
      "15476 2556\n"
     ]
    }
   ],
   "execution_count": 39
  },
  {
   "cell_type": "code",
   "id": "d8acd092",
   "metadata": {
    "ExecuteTime": {
     "end_time": "2024-12-12T21:32:56.757293Z",
     "start_time": "2024-12-12T21:32:56.706603Z"
    }
   },
   "source": [
    "print(clusters_path, super_clusters_path)"
   ],
   "outputs": [
    {
     "name": "stdout",
     "output_type": "stream",
     "text": [
      "s3://fs-nama-data/2024/nama-data/data/processed/clusters_given-average-0.1-none.json s3://fs-nama-data/2024/nama-data/data/processed/super_clusters_given-average-0.1-none.json\n"
     ]
    }
   ],
   "execution_count": 40
  },
  {
   "cell_type": "code",
   "id": "373f49ef",
   "metadata": {
    "ExecuteTime": {
     "end_time": "2024-12-12T21:37:44.952591Z",
     "start_time": "2024-12-12T21:37:30.005566Z"
    }
   },
   "source": [
    "save_file(clusters_path,\n",
    "          lambda local_out_path : json.dump(all_clusters, open(local_out_path, 'wt'), indent=2))\n",
    "save_file(super_clusters_path,\n",
    "          lambda local_out_path : json.dump(super_clusters, open(local_out_path, 'wt'), indent=2))"
   ],
   "outputs": [],
   "execution_count": 42
  },
  {
   "cell_type": "code",
   "id": "67ae3e23",
   "metadata": {
    "ExecuteTime": {
     "end_time": "2024-12-12T21:41:56.721060Z",
     "start_time": "2024-12-12T21:41:56.642522Z"
    }
   },
   "source": [
    "for name, cluster in list(all_clusters.items())[::200]:\n",
    "    print(name, cluster['names'])\n",
    "    "
   ],
   "outputs": [
    {
     "name": "stdout",
     "output_type": "stream",
     "text": [
      "aa/aa ['aa']\n",
      "adhemar/ademar ['ademir', 'admire', 'ademar', 'adhemar', 'admer', 'admar']\n",
      "alderton/aldert ['alderd', 'aldersey', 'alders', 'aeldert', 'alderman', 'alderson', 'aldor', 'alder', 'alderton', 'aldert', 'aaldert', 'alerd']\n",
      "alzada/alzada ['elzada', 'alzada', 'alzeda', 'alzadia', 'alzade', 'alzaida', 'alzadie', 'alzady', 'elzade', 'elzadia', 'calzada', 'elzadie']\n",
      "annette/ennike ['enche', 'enike', 'ennicke', 'encke', 'ennike', 'ennecke', 'enke', 'ennikke', 'enniken', 'eneke']\n",
      "arizona/aragon ['aragon']\n",
      "athanasios/afanasij ['afanasij']\n",
      "balaam/balam ['balum', 'balaam', 'balma', 'baalam', 'balam']\n",
      "beckwith/beckwith ['beckworth', 'beckwith']\n",
      "biase/brazee ['brazee']\n",
      "botel/baatel ['baatel']\n",
      "bumpus/bumpus ['bumpass', 'bumpus']\n",
      "cannot/canoto ['canoto', 'cannot']\n",
      "cecilia/cecilie ['cislie', 'sisilie', 'sesilie', 'cicilie', 'cisselie', 'cisilie', 'sicilie', 'ciselie', 'cicelie', 'seselie', 'cicillie', 'siselie', 'secilie', 'cecelie', 'cecilie', 'sicelie', 'cecillie', 'sislie', 'sisselie', 'cesilie', 'sissilie']\n",
      "chistian/chistian ['cheston', 'chistian', 'chessen', 'chistiana', 'chisten', 'chestian', 'chistine', 'chesten']\n",
      "cobb/cobb ['cobbs', 'cob', 'cobb', 'cub']\n",
      "covert/cuvier ['cuvier']\n",
      "dandridge/dandridge ['dandridge', 'dandrige', 'danridge']\n",
      "dennis/dancy ['dansey', 'dansie', 'dancy', 'dancey']\n",
      "dodd/dodd ['dode', 'dood', 'dodds', 'dodd', 'doad', 'dods', 'dod']\n",
      "dulcibella/dulcibella ['dulcabella', 'dulcibella', 'dulcebella']\n",
      "eggert/eggert ['egar', 'eggert', 'egert', 'eggers']\n",
      "ellevine/ellevine ['eleven', 'ellevine']\n",
      "eoban/eobanus ['eobanus', 'eoban']\n",
      "ethridge/ethridge ['lethbridge', 'ethridge', 'etheridge']\n",
      "ezechias/ezequias ['ezechias', 'ezequias']\n",
      "fergus/fergus ['fergus', 'forgus', 'furgus', 'furgis', 'fargus', 'feargus']\n",
      "frank/faunce ['faunce', 'fanca']\n",
      "garris/garrick ['garris', 'garrick', 'garis', 'gerrish', 'garish', 'gerios', 'gerrick']\n",
      "gertrude/gehla ['gellen', 'gehla', 'geila', 'geln', 'gele', 'geile', 'gehl']\n",
      "gm/gam ['gem', 'gam', 'gum', 'gm']\n",
      "gudelia/gudula ['gaudelia', 'gudelia', 'gudula', 'gudulae', 'gudule', 'godula', 'gudulam', 'gudelio']\n",
      "halleck/hallock ['hallick', 'hellich', 'hellech', 'hellick', 'hallock', 'hellek', 'halleck', 'hellik', 'hallack']\n",
      "hedgeman/hedgeman ['hedgeman', 'hodgman', 'hedgman']\n",
      "hicks/hicks ['hickson', 'hicks', 'hickes', 'hickey', 'hick', 'heck']\n",
      "hosea/huse ['hushai', 'huss', 'huse']\n",
      "ila/ila ['ilay', 'illa', 'ille', 'illah', 'illie', 'ilah', 'ilia', 'ilie', 'ilea', 'illia', 'ilai', 'ila', 'iley']\n",
      "isagani/isagani ['isagani']\n",
      "jaromir/jaromir ['jaromir', 'jaromar']\n",
      "joel/johiel ['johial', 'johiel', 'johile']\n",
      "junior/junior ['junior']\n",
      "kincaid/kincaid ['kincaid']\n",
      "lanman/lanman ['lanman', 'lanmon']\n",
      "lelilia/lelilia ['lelilia', 'lelila']\n",
      "lischen/lisken ['lischen', 'lisken', 'lijsken', 'liskin']\n",
      "lowan/lewin ['loween', 'lowine', 'lewin', 'lowen', 'lewine', 'lowan', 'lowene', 'lown', 'louin', 'lowin']\n",
      "mack/mack ['mok', 'mac', 'mach', 'mak', 'mack', 'mock', 'macho', 'macke']\n",
      "marfisa/marfisa ['marfiza', 'marfisa']\n",
      "maud/maud ['moude', 'mawde', 'maude', 'maudi', 'maid', 'maulde', 'maudia', 'mould', 'molde', 'moud', 'maudella', 'mawd', 'mawld', 'mauld', 'mauda', 'maudie', 'maud', 'maudy', 'mavde', 'mayd']\n",
      "meng/meng ['mang', 'myung', 'meng', 'myong']\n",
      "miranda/miranda ['mirand', 'myranda', 'morandus', 'miranda', 'meranda', 'merendy', 'marindia', 'marand', 'morand', 'mirandia', 'maranda', 'marindy', 'moranda', 'morinda', 'merenda', 'marandia', 'marandy', 'merrinda', 'morandy', 'mirandi', 'myrinda', 'mirandy', 'morenda', 'merandy', 'mirande', 'mirinda']\n",
      "nada/noda ['node', 'noda']\n",
      "newstead/newstead ['newstead']\n",
      "obdulia/obdulia ['obdulia', 'obdulio']\n",
      "ora/orie ['orey', 'oria', 'orrey', 'orria', 'orre', 'orra', 'oree', 'orry', 'oray', 'orea', 'orray', 'ory', 'oura', 'oury', 'orrah', 'orrie', 'orie']\n",
      "padre/padre ['patra', 'patr', 'padro', 'padre', 'padres']\n",
      "penelope/piney ['pinney', 'pinny', 'pinnie', 'pinon', 'piny', 'pinie', 'piney']\n",
      "pilling/billings ['billingsly', 'billingsley', 'billing', 'pillans', 'pilling', 'billings', 'billinge', 'belling']\n",
      "pugh/peau ['peau', 'pew']\n",
      "rc/rc ['rk', 'rc']\n",
      "rial/rial ['riall', 'riol', 'ryall', 'rial', 'ryal']\n",
      "ronald/roni ['ronni', 'roni', 'rauni']\n",
      "sagrado/sagrado ['sagrada', 'lagrado', 'sagrdo', 'sagrados', 'sagrado']\n",
      "schroder/schroder ['schroder']\n",
      "seward/seward ['sheward', 'sewart', 'sword', 'sayward', 'sward', 'saward', 'seward', 'seaward']\n",
      "simington/simonton ['simonton', 'simington']\n",
      "sophia/fick ['fieke', 'fiec', 'fieck', 'fick', 'fiek']\n",
      "sturtevant/sturtevant ['sturtevant', 'sturdivant']\n",
      "tanneguy/tanneguy ['tanneguy', 'tangie']\n",
      "theodore/teuvo ['teuvo']\n",
      "tolentino/tolentino ['tolentin', 'tolentino', 'folentino', 'tolentina', 'tholentino']\n",
      "ubenseslao/ubenseslao ['ubenseslao']\n",
      "vanda/vanda ['vinda', 'vanda', 'venda', 'vaunda', 'ovanda']\n",
      "viggo/viggo ['vego', 'wiggo', 'wigo', 'veggo', 'viggo', 'vigo']\n",
      "warburton/warburton ['warburton']\n",
      "wilfred/wf ['wf']\n",
      "xacobo/xacobo ['xacobo']\n",
      "zenas/senius ['sinius', 'cenius', 'senius']\n"
     ]
    }
   ],
   "execution_count": 46
  },
  {
   "metadata": {
    "ExecuteTime": {
     "end_time": "2024-12-12T21:43:44.611465Z",
     "start_time": "2024-12-12T21:43:44.543358Z"
    }
   },
   "cell_type": "code",
   "source": [
    "for name, super_cluster in list(super_clusters.items())[:100]:\n",
    "    print(name, super_cluster)"
   ],
   "id": "67df19ac87119aeb",
   "outputs": [
    {
     "name": "stdout",
     "output_type": "stream",
     "text": [
      "aage ['aage/ouwe', 'aage/aage']\n",
      "aaltje ['aaltje/aaltje', 'aaltje/eltje', 'aaltje/aal', 'aaltje/altino', 'aaltje/alche', 'aaltje/aleka']\n",
      "aaron ['aaron/erin', 'aaron/aaron', 'aaron/heron', 'aaron/hirons', 'aaron/heere', 'aaron/eurene', 'aaron/irion', 'aaron/arentjen', 'aaron/aaro']\n",
      "aart ['aart/aerts', 'aart/eert', 'aart/aart']\n",
      "aati ['aati/aate', 'aati/ato']\n",
      "abad ['abad/abad', 'abad/aboud']\n",
      "abbe ['abbe/abbe', 'abbe/ebbie', 'abbe/abon']\n",
      "abbott ['abbott/abbott', 'abbott/abed', 'abbott/abato']\n",
      "abel ['abel/abel', 'abel/ebel', 'abel/aapeli', 'abel/ibe', 'abel/abelina', 'abel/auberlin', 'abel/apke', 'abel/yep', 'abel/avalo', 'abel/lona']\n",
      "abelardo ['abelardo/heradio', 'abelardo/abelardo']\n",
      "abeltje ['abeltje/abeltje', 'abeltje/ijbel']\n",
      "aberdeen ['aberdeen/aberdeen', 'aberdeen/abertano']\n",
      "abraham ['abraham/abraham', 'abraham/abe', 'abraham/abra', 'abraham/ibrahim', 'abraham/broom', 'abraham/iveranna', 'abraham/everine', 'abraham/abelarde', 'abraham/abrys']\n",
      "absalom ['absalom/absalom', 'absalom/absilla']\n",
      "abundio ['abundio/abundio', 'abundio/abbondanza']\n",
      "acacia ['acacia/acacio', 'acacia/achatz']\n",
      "accie ['accie/ace', 'accie/aca']\n",
      "achie ['achie/miche', 'achie/macia', 'achie/akie', 'achie/achie']\n",
      "achille ['achille/achille', 'achille/aquilin', 'achille/quilino', 'achille/acles']\n",
      "achsah ['achsah/achsah', 'achsah/acke', 'achsah/ahe']\n",
      "ackland ['ackland/oakland', 'ackland/echlin']\n",
      "acre ['acre/achor', 'acre/acre', 'acre/achrah']\n",
      "ada ['ada/ayde', 'ada/adiah', 'ada/eda', 'ada/aeta', 'ada/audia', 'ada/atie', 'ada/ada', 'ada/adamu', 'ada/adeheit', 'ada/adabell', 'ada/luada']\n",
      "adalisa ['adalisa/eliska', 'adalisa/adalgisa', 'adalisa/audley', 'adalisa/atlee']\n",
      "adam ['adam/adam', 'adam/adao', 'adam/aatami', 'adam/adan', 'adam/edem', 'adam/adnet', 'adam/dahm', 'adam/aatu']\n",
      "addis ['addis/addis', 'addis/adice']\n",
      "adelaide ['adelaide/alheit', 'adelaide/adelaide', 'adelaide/alaide', 'adelaide/aleidis', 'adelaide/attje', 'adelaide/ahlke', 'adelaide/aita', 'adelaide/eilke', 'adelaide/addie', 'adelaide/adolar', 'adelaide/alletgen', 'adelaide/deilon', 'adelaide/aele', 'adelaide/leike', 'adelaide/eilgen', 'adelaide/eetse', 'adelaide/attie', 'adelaide/taleke']\n",
      "adele ['adele/adele', 'adele/edell', 'adele/aedel']\n",
      "adeline ['adeline/adeline', 'adeline/alminda', 'adeline/adelmo', 'adeline/edeline', 'adeline/almut', 'adeline/elmitt', 'adeline/ardele', 'adeline/lesmes']\n",
      "adelord ['adelord/aldrich', 'adelord/adelor', 'adelord/adelricus']\n",
      "ader ['ader/eder', 'ader/ader']\n",
      "adlou ['adlou/adla', 'adlou/allaug']\n",
      "adolph ['adolph/adolf', 'adolph/adelfa', 'adolph/aldefonso', 'adolph/fito', 'adolph/adolph']\n",
      "adora ['adora/adora', 'adora/cedora']\n",
      "adrian ['adrian/ariens', 'adrian/arina', 'adrian/arijen', 'adrian/ariaantje', 'adrian/adriana', 'adrian/adniram', 'adrian/adrietta', 'adrian/edron', 'adrian/arra']\n",
      "africa ['africa/africa', 'africa/apharacia']\n",
      "agapito ['agapito/agapito', 'agapito/agop']\n",
      "agar ['agar/agar', 'agar/ogerus', 'agar/agra']\n",
      "agatha ['agatha/aagje', 'agatha/agda', 'agatha/agatha', 'agatha/gatha', 'agatha/aagot', 'agatha/aged', 'agatha/aecht', 'agatha/aggli', 'agatha/agafia', 'agatha/eegje', 'agatha/aguida']\n",
      "agripina ['agripina/agripina', 'agripina/pin', 'agripina/pim']\n",
      "aguido ['aguido/agatino', 'aguido/aguido']\n",
      "ahava ['ahava/ahab', 'ahava/ahaphia']\n",
      "ake ['ake/ake', 'ake/aiko']\n",
      "akin ['akin/akin', 'akin/agen']\n",
      "ala ['ala/ala', 'ala/alais']\n",
      "aladino ['aladino/aladino', 'aladino/aldo']\n",
      "albert ['albert/elbert', 'albert/bertha', 'albert/beret', 'albert/adalbertus', 'albert/albertine', 'albert/berta', 'albert/albert', 'albert/alverta', 'albert/vojtech', 'albert/bartha', 'albert/bert', 'albert/alberto', 'albert/ausbert', 'albert/beltram', 'albert/bertus', 'albert/tolo', 'albert/baard', 'albert/behl', 'albert/albridge', 'albert/voigt', 'albert/alba', 'albert/albemarie', 'albert/wojciech', 'albert/beppie', 'albert/albrecht']\n",
      "albina ['albina/albina', 'albina/alwin', 'albina/alby', 'albina/alwine', 'albina/aubin', 'albina/albarosa', 'albina/elbin', 'albina/alvo']\n",
      "albus ['albus/albas', 'albus/albuquerque']\n",
      "alcinda ['alcinda/alcina', 'alcinda/alcuin']\n",
      "alcira ['alcira/alzira', 'alcira/alcario']\n",
      "alcy ['alcy/alcie', 'alcy/alcy']\n",
      "alden ['alden/alden', 'alden/aldemar', 'alden/eldren', 'alden/alda']\n",
      "alderton ['alderton/aldert', 'alderton/ilderton']\n",
      "aldis ['aldis/aldis', 'aldis/eldis']\n",
      "aldonsa ['aldonsa/aldona', 'aldonsa/aldwin']\n",
      "alette ['alette/alette', 'alette/aleid', 'alette/aletta', 'alette/elueteria', 'alette/eletta']\n",
      "alexander ['alexander/sandor', 'alexander/alexis', 'alexander/alx', 'alexander/alexander', 'alexander/aleja', 'alexander/sascha', 'alexander/alexo', 'alexander/elex', 'alexander/santi', 'alexander/alamander', 'alexander/alec', 'alexander/allexr', 'alexander/sannes', 'alexander/alistair', 'alexander/sandrina', 'alexander/leszek', 'alexander/scheindel', 'alexander/alcantara', 'alexander/zander', 'alexander/oksana', 'alexander/alessio', 'alexander/sunday', 'alexander/sondergaard', 'alexander/elwick']\n",
      "alfonsa ['alfonsa/alphonsine', 'alfonsa/ildephonse', 'alfonsa/alfin', 'alfonsa/fossa', 'alfonsa/alphena']\n",
      "alfred ['alfred/alfred', 'alfred/halford', 'alfred/alf', 'alfred/elford', 'alfred/albarado', 'alfred/aford', 'alfred/alured']\n",
      "alfus ['alfus/alfus', 'alfus/alphosine']\n",
      "algernon ['algernon/algernon', 'algernon/algy']\n",
      "algeron ['algeron/alger', 'algeron/alcorn']\n",
      "alice ['alice/ales', 'alice/eliae', 'alice/elice', 'alice/eize', 'alice/alice', 'alice/elios', 'alice/ellis']\n",
      "alida ['alida/elida', 'alida/alida']\n",
      "alka ['alka/alke', 'alka/ulka']\n",
      "allard ['allard/aladar', 'allard/allerton']\n",
      "allena ['allena/ulyana', 'allena/illena', 'allena/alene', 'allena/olanna']\n",
      "alles ['alles/alles', 'alles/alese']\n",
      "allingham ['allingham/gillingham', 'allingham/ayling']\n",
      "allison ['allison/allison', 'allison/alson', 'allison/allie', 'allison/ellison', 'allison/aili', 'allison/alcino', 'allison/ali', 'allison/ael', 'allison/elisina', 'allison/allise']\n",
      "alma ['alma/elmina', 'alma/alma', 'alma/elma']\n",
      "almanzor ['almanzor/almanzor', 'almanzor/almentaria']\n",
      "almeda ['almeda/almeda', 'almeda/nyssa']\n",
      "almira ['almira/almira', 'almira/almiro', 'almira/amaury', 'almira/emeric', 'almira/almaretta']\n",
      "almon ['almon/almon', 'almon/elmon']\n",
      "almuth ['almuth/almuth', 'almuth/almode']\n",
      "alonzo ['alonzo/alonso', 'alonzo/lonnie', 'alonzo/alfonso', 'alonzo/lonas', 'alonzo/alphonse', 'alonzo/elenezer', 'alonzo/lun', 'alonzo/poncho', 'alonzo/lonzie', 'alonzo/ildephons']\n",
      "alpha ['alpha/alpha', 'alpha/alfio', 'alpha/elfa']\n",
      "alred ['alred/aller', 'alred/alred']\n",
      "alsada ['alsada/calsada', 'alsada/alcidia']\n",
      "alse ['alse/alse', 'alse/alza']\n",
      "alta ['alta/alta', 'alta/allathea', 'alta/aalt', 'alta/altagracia', 'alta/elta', 'alta/altavene']\n",
      "altina ['altina/altina', 'altina/izaltina']\n",
      "alton ['alton/alton', 'alton/auld', 'alton/elton', 'alton/altham']\n",
      "alva ['alva/elva', 'alva/alva', 'alva/halva', 'alva/alivia', 'alva/elvada', 'alva/elway']\n",
      "alvaretta ['alvaretta/alvaretta', 'alvaretta/alvres']\n",
      "alves ['alves/alves', 'alves/elvice']\n",
      "alvin ['alvin/alwina', 'alvin/alvin', 'alvin/elvin', 'alvin/elwin', 'alvin/alavon']\n",
      "alwilda ['alwilda/alvilda', 'alwilda/elvilah']\n",
      "alxis ['alxis/alexise', 'alxis/alcus']\n",
      "alys ['alys/alisia', 'alys/alyse', 'alys/alys']\n",
      "alzada ['alzada/elzetta', 'alzada/alzada']\n",
      "alzina ['alzina/elzina', 'alzina/elzan', 'alzina/alzina']\n",
      "amado ['amado/amada', 'amado/amado', 'amado/ameda', 'amado/aimo', 'amado/amatus', 'amado/ahmet']\n",
      "amancia ['amancia/amancio', 'amancia/ometa', 'amancia/amata']\n",
      "amanda ['amanda/amanda', 'amanda/amantha', 'amanda/mianda', 'amanda/amandus']\n",
      "amariah ['amariah/amara', 'amariah/amir', 'amariah/amorous', 'amariah/emeris']\n",
      "amber ['amber/ambior', 'amber/amber', 'amber/ember']\n",
      "ambrose ['ambrose/ambrose', 'ambrose/amr', 'ambrose/bross', 'ambrose/abrs']\n"
     ]
    }
   ],
   "execution_count": 47
  },
  {
   "metadata": {},
   "cell_type": "code",
   "outputs": [],
   "execution_count": null,
   "source": "",
   "id": "b4c35a5c644b8320"
  }
 ],
 "metadata": {
  "kernelspec": {
   "display_name": "Python 3 (ipykernel)",
   "language": "python",
   "name": "python3"
  },
  "language_info": {
   "codemirror_mode": {
    "name": "ipython",
    "version": 3
   },
   "file_extension": ".py",
   "mimetype": "text/x-python",
   "name": "python",
   "nbconvert_exporter": "python",
   "pygments_lexer": "ipython3",
   "version": "3.9.16"
  }
 },
 "nbformat": 4,
 "nbformat_minor": 5
}
