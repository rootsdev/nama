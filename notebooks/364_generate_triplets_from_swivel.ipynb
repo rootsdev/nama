{
 "cells": [
  {
   "cell_type": "code",
   "id": "f03c5c95",
   "metadata": {
    "ExecuteTime": {
     "end_time": "2024-12-02T20:46:03.840897Z",
     "start_time": "2024-12-02T20:46:03.796709Z"
    }
   },
   "source": [
    "%load_ext autoreload\n",
    "%autoreload 2"
   ],
   "outputs": [],
   "execution_count": 1
  },
  {
   "cell_type": "markdown",
   "id": "3a85e8a5",
   "metadata": {},
   "source": [
    "# Generate tree anchor name, pos record name, neg record name triplets\n",
    "\n",
    "## DEPRECATED\n",
    "\n",
    "Use the swivel model over high-frequency names to generate (anchor, pos, pos_score, neg, neg_score) triplets.\n",
    "\n",
    "For each high-frequency name and every other high-frequency name that is similar, generate 5 hard negatives and 5 easy negatives.\n",
    "\n",
    "The hard negatives come from other high-frequency names that are similar. The easy negatives come from other very-high-frequency names, whether they are similar or not."
   ]
  },
  {
   "cell_type": "code",
   "id": "0f1cc02e",
   "metadata": {
    "ExecuteTime": {
     "end_time": "2024-12-02T20:46:05.769298Z",
     "start_time": "2024-12-02T20:46:03.862012Z"
    }
   },
   "source": [
    "from bisect import bisect_right\n",
    "import gzip\n",
    "import math\n",
    "import os\n",
    "import shutil\n",
    "import tempfile\n",
    "\n",
    "import numpy as np\n",
    "import pandas as pd\n",
    "import random\n",
    "import torch\n",
    "from tqdm.auto import tqdm\n",
    "\n",
    "from nama.data.filesystem import download_file_from_s3, upload_file_to_s3\n",
    "from nama.data.utils import read_csv\n",
    "from nama.models.swivel import SwivelModel, get_best_swivel_matches"
   ],
   "outputs": [],
   "execution_count": 2
  },
  {
   "cell_type": "code",
   "id": "bd18a3ae",
   "metadata": {
    "ExecuteTime": {
     "end_time": "2024-12-02T20:46:05.799874Z",
     "start_time": "2024-12-02T20:46:05.771115Z"
    }
   },
   "source": [
    "# Config\n",
    "\n",
    "# TODO run both given and surname\n",
    "given_surname = \"given\"\n",
    "# given_surname = \"surname\"\n",
    "\n",
    "high_freq_threshold = 1000\n",
    "very_high_freq_threshold = 10000\n",
    "pos_threshold = 0.4\n",
    "hard_neg_threshold = 0.3\n",
    "hard_neg_count = 10\n",
    "easy_neg_count = 30\n",
    "\n",
    "vocab_size = 610000 if given_surname == \"given\" else 2100000\n",
    "embed_dim = 100\n",
    "\n",
    "frequencies_path = f\"s3://fs-nama-data/2024/familysearch-names/interim/tree-hr-{given_surname}-aggr-v2.parquet\"\n",
    "swivel_vocab_path=f\"s3://fs-nama-data/2024/nama-data/data/models/fs-{given_surname}-swivel-vocab-{vocab_size}-augmented.csv\"\n",
    "swivel_model_path=f\"s3://fs-nama-data/2024/nama-data/data/models/fs-{given_surname}-swivel-model-{vocab_size}-{embed_dim}-augmented.pth\"\n",
    "\n",
    "triplets_path=f\"s3://fs-nama-data/2024/familysearch-names/processed/tree-hr-{given_surname}-triplets-{hard_neg_count}-{easy_neg_count}.csv.gz\""
   ],
   "outputs": [],
   "execution_count": 3
  },
  {
   "metadata": {
    "ExecuteTime": {
     "end_time": "2024-12-02T20:46:05.901223Z",
     "start_time": "2024-12-02T20:46:05.801322Z"
    }
   },
   "cell_type": "code",
   "source": [
    "device = torch.device(\"cuda:0\" if torch.cuda.is_available() else \"cpu\")\n",
    "print(device)\n",
    "torch.cuda.empty_cache()\n",
    "print(torch.cuda.is_available())\n",
    "if torch.cuda.is_available():\n",
    "    print(\"cuda total\", torch.cuda.get_device_properties(0).total_memory)\n",
    "    print(\"cuda reserved\", torch.cuda.memory_reserved(0))\n",
    "    print(\"cuda allocated\", torch.cuda.memory_allocated(0))"
   ],
   "id": "d39bb41c33236488",
   "outputs": [
    {
     "name": "stdout",
     "output_type": "stream",
     "text": [
      "cuda:0\n",
      "True\n",
      "cuda total 8141471744\n",
      "cuda reserved 0\n",
      "cuda allocated 0\n"
     ]
    }
   ],
   "execution_count": 4
  },
  {
   "cell_type": "markdown",
   "id": "418249f4",
   "metadata": {},
   "source": [
    "## Load data"
   ]
  },
  {
   "metadata": {
    "ExecuteTime": {
     "end_time": "2024-12-02T20:46:33.109583Z",
     "start_time": "2024-12-02T20:46:05.903624Z"
    }
   },
   "cell_type": "code",
   "source": [
    "# load counts\n",
    "frequencies_path = download_file_from_s3(frequencies_path) if frequencies_path.startswith(\"s3://\") else frequencies_path\n",
    "counts_df = pd.read_parquet(frequencies_path)\n",
    "print(counts_df.shape)\n",
    "counts_df.head(3)"
   ],
   "id": "5c3d8c5c5fba631",
   "outputs": [
    {
     "name": "stdout",
     "output_type": "stream",
     "text": [
      "(25541154, 10)\n"
     ]
    },
    {
     "data": {
      "text/plain": [
       "  name alt_name  frequency  reverse_frequency  sum_name_frequency  \\\n",
       "0    a        a    1622927            1622927             2578937   \n",
       "1    a       aa        154                139             2578937   \n",
       "2    a      aaa          3                  5             2578937   \n",
       "\n",
       "   total_name_frequency  total_alt_name_frequency  ordered_prob  \\\n",
       "0              36295683                  36295683      0.629301   \n",
       "1              36295683                      5067      0.000060   \n",
       "2              36295683                       143      0.000001   \n",
       "\n",
       "   unordered_prob  similarity  \n",
       "0    4.680698e-02    1.000000  \n",
       "1    8.071524e-06    0.500000  \n",
       "2    2.204111e-07    0.333333  "
      ],
      "text/html": [
       "<div>\n",
       "<style scoped>\n",
       "    .dataframe tbody tr th:only-of-type {\n",
       "        vertical-align: middle;\n",
       "    }\n",
       "\n",
       "    .dataframe tbody tr th {\n",
       "        vertical-align: top;\n",
       "    }\n",
       "\n",
       "    .dataframe thead th {\n",
       "        text-align: right;\n",
       "    }\n",
       "</style>\n",
       "<table border=\"1\" class=\"dataframe\">\n",
       "  <thead>\n",
       "    <tr style=\"text-align: right;\">\n",
       "      <th></th>\n",
       "      <th>name</th>\n",
       "      <th>alt_name</th>\n",
       "      <th>frequency</th>\n",
       "      <th>reverse_frequency</th>\n",
       "      <th>sum_name_frequency</th>\n",
       "      <th>total_name_frequency</th>\n",
       "      <th>total_alt_name_frequency</th>\n",
       "      <th>ordered_prob</th>\n",
       "      <th>unordered_prob</th>\n",
       "      <th>similarity</th>\n",
       "    </tr>\n",
       "  </thead>\n",
       "  <tbody>\n",
       "    <tr>\n",
       "      <th>0</th>\n",
       "      <td>a</td>\n",
       "      <td>a</td>\n",
       "      <td>1622927</td>\n",
       "      <td>1622927</td>\n",
       "      <td>2578937</td>\n",
       "      <td>36295683</td>\n",
       "      <td>36295683</td>\n",
       "      <td>0.629301</td>\n",
       "      <td>4.680698e-02</td>\n",
       "      <td>1.000000</td>\n",
       "    </tr>\n",
       "    <tr>\n",
       "      <th>1</th>\n",
       "      <td>a</td>\n",
       "      <td>aa</td>\n",
       "      <td>154</td>\n",
       "      <td>139</td>\n",
       "      <td>2578937</td>\n",
       "      <td>36295683</td>\n",
       "      <td>5067</td>\n",
       "      <td>0.000060</td>\n",
       "      <td>8.071524e-06</td>\n",
       "      <td>0.500000</td>\n",
       "    </tr>\n",
       "    <tr>\n",
       "      <th>2</th>\n",
       "      <td>a</td>\n",
       "      <td>aaa</td>\n",
       "      <td>3</td>\n",
       "      <td>5</td>\n",
       "      <td>2578937</td>\n",
       "      <td>36295683</td>\n",
       "      <td>143</td>\n",
       "      <td>0.000001</td>\n",
       "      <td>2.204111e-07</td>\n",
       "      <td>0.333333</td>\n",
       "    </tr>\n",
       "  </tbody>\n",
       "</table>\n",
       "</div>"
      ]
     },
     "execution_count": 5,
     "metadata": {},
     "output_type": "execute_result"
    }
   ],
   "execution_count": 5
  },
  {
   "metadata": {
    "ExecuteTime": {
     "end_time": "2024-12-02T20:46:42.353249Z",
     "start_time": "2024-12-02T20:46:33.112078Z"
    }
   },
   "cell_type": "code",
   "source": [
    "counts_df = counts_df[['alt_name', 'total_alt_name_frequency']].drop_duplicates()\n",
    "print(counts_df.shape)\n",
    "counts_df.head(3)"
   ],
   "id": "939696323db3d541",
   "outputs": [
    {
     "name": "stdout",
     "output_type": "stream",
     "text": [
      "(6148634, 2)\n"
     ]
    },
    {
     "data": {
      "text/plain": [
       "  alt_name  total_alt_name_frequency\n",
       "0        a                  36295683\n",
       "1       aa                      5067\n",
       "2      aaa                       143"
      ],
      "text/html": [
       "<div>\n",
       "<style scoped>\n",
       "    .dataframe tbody tr th:only-of-type {\n",
       "        vertical-align: middle;\n",
       "    }\n",
       "\n",
       "    .dataframe tbody tr th {\n",
       "        vertical-align: top;\n",
       "    }\n",
       "\n",
       "    .dataframe thead th {\n",
       "        text-align: right;\n",
       "    }\n",
       "</style>\n",
       "<table border=\"1\" class=\"dataframe\">\n",
       "  <thead>\n",
       "    <tr style=\"text-align: right;\">\n",
       "      <th></th>\n",
       "      <th>alt_name</th>\n",
       "      <th>total_alt_name_frequency</th>\n",
       "    </tr>\n",
       "  </thead>\n",
       "  <tbody>\n",
       "    <tr>\n",
       "      <th>0</th>\n",
       "      <td>a</td>\n",
       "      <td>36295683</td>\n",
       "    </tr>\n",
       "    <tr>\n",
       "      <th>1</th>\n",
       "      <td>aa</td>\n",
       "      <td>5067</td>\n",
       "    </tr>\n",
       "    <tr>\n",
       "      <th>2</th>\n",
       "      <td>aaa</td>\n",
       "      <td>143</td>\n",
       "    </tr>\n",
       "  </tbody>\n",
       "</table>\n",
       "</div>"
      ]
     },
     "execution_count": 6,
     "metadata": {},
     "output_type": "execute_result"
    }
   ],
   "execution_count": 6
  },
  {
   "metadata": {
    "ExecuteTime": {
     "end_time": "2024-12-02T20:46:44.974296Z",
     "start_time": "2024-12-02T20:46:42.354630Z"
    }
   },
   "cell_type": "code",
   "source": [
    "# load swivel vocab\n",
    "swivel_vocab_path = download_file_from_s3(swivel_vocab_path) if swivel_vocab_path.startswith(\"s3://\") else swivel_vocab_path\n",
    "vocab_df = read_csv(swivel_vocab_path)\n",
    "swivel_vocab = {name: _id for name, _id in zip(vocab_df[\"name\"], vocab_df[\"index\"])}\n",
    "print(len(swivel_vocab))"
   ],
   "id": "b56c14d4c31b2b90",
   "outputs": [
    {
     "name": "stdout",
     "output_type": "stream",
     "text": [
      "610000\n"
     ]
    }
   ],
   "execution_count": 7
  },
  {
   "metadata": {
    "ExecuteTime": {
     "end_time": "2024-12-02T20:47:10.055957Z",
     "start_time": "2024-12-02T20:46:44.975575Z"
    }
   },
   "cell_type": "code",
   "source": [
    "swivel_model_path = download_file_from_s3(swivel_model_path) if swivel_model_path.startswith(\"s3://\") else swivel_model_path\n",
    "swivel_model = SwivelModel(len(swivel_vocab), embed_dim)\n",
    "swivel_model.load_state_dict(torch.load(swivel_model_path, map_location=torch.device(device)))\n",
    "swivel_model.to(device)\n",
    "swivel_model.eval()"
   ],
   "id": "204c53e38fe9de09",
   "outputs": [
    {
     "name": "stderr",
     "output_type": "stream",
     "text": [
      "/tmp/ipykernel_2406571/1659968908.py:3: FutureWarning: You are using `torch.load` with `weights_only=False` (the current default value), which uses the default pickle module implicitly. It is possible to construct malicious pickle data which will execute arbitrary code during unpickling (See https://github.com/pytorch/pytorch/blob/main/SECURITY.md#untrusted-models for more details). In a future release, the default value for `weights_only` will be flipped to `True`. This limits the functions that could be executed during unpickling. Arbitrary objects will no longer be allowed to be loaded via this mode unless they are explicitly allowlisted by the user via `torch.serialization.add_safe_globals`. We recommend you start setting `weights_only=True` for any use case where you don't have full control of the loaded file. Please open an issue on GitHub for any issues related to this experimental feature.\n",
      "  swivel_model.load_state_dict(torch.load(swivel_model_path, map_location=torch.device(device)))\n"
     ]
    },
    {
     "data": {
      "text/plain": [
       "SwivelModel(\n",
       "  (wi): Embedding(610000, 100)\n",
       "  (wj): Embedding(610000, 100)\n",
       "  (bi): Embedding(610000, 1)\n",
       "  (bj): Embedding(610000, 1)\n",
       ")"
      ]
     },
     "execution_count": 8,
     "metadata": {},
     "output_type": "execute_result"
    }
   ],
   "execution_count": 8
  },
  {
   "metadata": {
    "ExecuteTime": {
     "end_time": "2024-12-02T20:47:12.136436Z",
     "start_time": "2024-12-02T20:47:10.057314Z"
    }
   },
   "cell_type": "code",
   "source": [
    "# get high-frequency names, ignoring initials\n",
    "high_freq_names = [name for name, freq in zip(counts_df['alt_name'], counts_df['total_alt_name_frequency']) \n",
    "                   if freq > high_freq_threshold and name in swivel_vocab and len(name) > 1]\n",
    "len(high_freq_names)"
   ],
   "id": "49b39c1ed7394410",
   "outputs": [
    {
     "data": {
      "text/plain": [
       "43379"
      ]
     },
     "execution_count": 9,
     "metadata": {},
     "output_type": "execute_result"
    }
   ],
   "execution_count": 9
  },
  {
   "metadata": {
    "ExecuteTime": {
     "end_time": "2024-12-02T20:47:14.096196Z",
     "start_time": "2024-12-02T20:47:12.137773Z"
    }
   },
   "cell_type": "code",
   "source": [
    "# get very-high-frequency names along with the log of their frequency, ignoring initials\n",
    "very_high_freq_name_freqs = {name: math.log10(freq) for name, freq in zip(counts_df['alt_name'], counts_df['total_alt_name_frequency']) \n",
    "                   if freq > very_high_freq_threshold and name in swivel_vocab and len(name) > 1}\n",
    "len(very_high_freq_name_freqs)"
   ],
   "id": "45e2332e51e37915",
   "outputs": [
    {
     "data": {
      "text/plain": [
       "9743"
      ]
     },
     "execution_count": 10,
     "metadata": {},
     "output_type": "execute_result"
    }
   ],
   "execution_count": 10
  },
  {
   "metadata": {
    "ExecuteTime": {
     "end_time": "2024-12-02T20:47:14.130775Z",
     "start_time": "2024-12-02T20:47:14.098693Z"
    }
   },
   "cell_type": "code",
   "source": [
    "very_high_freq_name_positions = []\n",
    "very_high_freq_name_names = []\n",
    "start_pos = 0.0\n",
    "total_freq = sum(very_high_freq_name_freqs.values())\n",
    "for name, freq in very_high_freq_name_freqs.items():\n",
    "    very_high_freq_name_positions.append(start_pos)\n",
    "    very_high_freq_name_names.append(name)\n",
    "    start_pos += freq / total_freq\n",
    "print(very_high_freq_name_positions[0:10])\n",
    "print(very_high_freq_name_names[0:10])"
   ],
   "id": "42dc70456256ff62",
   "outputs": [
    {
     "name": "stdout",
     "output_type": "stream",
     "text": [
      "[0.0, 0.00010380820314508952, 0.00019260745835782074, 0.00030672626576713275, 0.0004382758681311588, 0.0005344989823098632, 0.0006286051530217165, 0.0007200461856900705, 0.0008096374979576926, 0.0009153062339552252]\n",
      "['aage', 'aagot', 'aaltje', 'aaron', 'aart', 'aase', 'ab', 'abad', 'abagail', 'abba']\n"
     ]
    }
   ],
   "execution_count": 11
  },
  {
   "metadata": {
    "ExecuteTime": {
     "end_time": "2024-12-02T20:47:14.158696Z",
     "start_time": "2024-12-02T20:47:14.132068Z"
    }
   },
   "cell_type": "code",
   "source": [
    "def find_name_for_position(positions, names, input_position):\n",
    "    \"\"\"\n",
    "    Finds the name associated with the highest position that is less than\n",
    "    or equal to the input_position using binary search.\n",
    "\n",
    "    :param positions: List of positions, sorted by position.\n",
    "    :param names: List of names, sorted by position.\n",
    "    :param input_position: The input position to search for.\n",
    "    :return: The name associated with the highest position <= input_position, or None if no such position exists.\n",
    "    \"\"\"\n",
    "    # Find the index where input_position would fit\n",
    "    index = bisect_right(positions, input_position) - 1\n",
    "    \n",
    "    # Check if the index is valid\n",
    "    if index >= 0:\n",
    "        return names[index]\n",
    "    return None"
   ],
   "id": "dccfde7ab19f527",
   "outputs": [],
   "execution_count": 12
  },
  {
   "metadata": {
    "ExecuteTime": {
     "end_time": "2024-12-02T20:47:14.187367Z",
     "start_time": "2024-12-02T20:47:14.160158Z"
    }
   },
   "cell_type": "code",
   "source": [
    "print(find_name_for_position(very_high_freq_name_positions, very_high_freq_name_names, 0.0001))\n",
    "print(find_name_for_position(very_high_freq_name_positions, very_high_freq_name_names, 0.00025))"
   ],
   "id": "89e11fbeed352ab9",
   "outputs": [
    {
     "name": "stdout",
     "output_type": "stream",
     "text": [
      "aage\n",
      "aaltje\n"
     ]
    }
   ],
   "execution_count": 13
  },
  {
   "cell_type": "markdown",
   "id": "15066e4e",
   "metadata": {},
   "source": [
    "## Generate triplets"
   ]
  },
  {
   "metadata": {
    "ExecuteTime": {
     "end_time": "2024-12-02T20:47:14.215762Z",
     "start_time": "2024-12-02T20:47:14.188756Z"
    }
   },
   "cell_type": "code",
   "source": [
    "def save_to_csv(df, filepath):\n",
    "    \"\"\"\n",
    "    Save a DataFrame to CSV, either creating a new file or appending to existing one.\n",
    "    \n",
    "    Parameters:\n",
    "    df (pandas.DataFrame): DataFrame to save\n",
    "    filepath (str): Path to the CSV file\n",
    "    \n",
    "    Returns:\n",
    "    bool: True if successful, False if an error occurred\n",
    "    \"\"\"\n",
    "    if not os.path.exists(filepath):\n",
    "        # File doesn't exist - create new file with headers\n",
    "        df.to_csv(filepath, index=False)\n",
    "    else:\n",
    "        # File exists - append without headers\n",
    "        df.to_csv(filepath, mode='a', header=False, index=False)"
   ],
   "id": "bec230590aac9c2f",
   "outputs": [],
   "execution_count": 14
  },
  {
   "metadata": {
    "ExecuteTime": {
     "end_time": "2024-12-03T00:35:19.232839Z",
     "start_time": "2024-12-02T20:47:14.217142Z"
    }
   },
   "cell_type": "code",
   "source": [
    "%%time\n",
    "temp_filepath = f\"{tempfile.NamedTemporaryFile(delete=False).name}.csv\"\n",
    "print(temp_filepath)\n",
    "for anchor_name in tqdm(high_freq_names):\n",
    "    triplets = []\n",
    "    # get positives and hard negatives\n",
    "    swivel_scores = get_best_swivel_matches(model=swivel_model, \n",
    "                                            vocab=swivel_vocab, \n",
    "                                            input_names=np.array([anchor_name]),\n",
    "                                            candidate_names=np.array(high_freq_names), \n",
    "                                            encoder_model=None,\n",
    "                                            k=1000, \n",
    "                                            batch_size=1000,\n",
    "                                            add_context=True,\n",
    "                                            progress_bar=False,\n",
    "                                            n_jobs=1)\n",
    "    pos_names = [(name, score) for name, score in swivel_scores[0] if score > pos_threshold]\n",
    "    hard_neg_names = [(name, score) for name, score in swivel_scores[0] if score > hard_neg_threshold]\n",
    "    if len(pos_names) == 0 or len(hard_neg_names) == 0:\n",
    "        continue\n",
    "    # get easy negatives\n",
    "    swivel_scores = get_best_swivel_matches(model=swivel_model, \n",
    "                                            vocab=swivel_vocab, \n",
    "                                            input_names=np.array([anchor_name]),\n",
    "                                            candidate_names=np.array(very_high_freq_name_names), \n",
    "                                            encoder_model=None,\n",
    "                                            k=len(very_high_freq_name_names), \n",
    "                                            batch_size=1000,\n",
    "                                            add_context=True,\n",
    "                                            progress_bar=False,\n",
    "                                            n_jobs=1)\n",
    "    easy_neg_name_scores = {name: score for name, score in swivel_scores[0]}\n",
    "    # generate triplets\n",
    "    for pos_name, pos_score in pos_names:\n",
    "        # add hard negatives\n",
    "        for _ in range(hard_neg_count):\n",
    "            neg_name, neg_score = random.choice(hard_neg_names)\n",
    "            temp_pos_name, temp_pos_score = (pos_name, pos_score) if pos_score > neg_score else (neg_name, neg_score)\n",
    "            temp_neg_name, temp_neg_score = (neg_name, neg_score) if pos_score > neg_score else (pos_name, pos_score)\n",
    "            triplets.append({\n",
    "                'anchor': anchor_name, \n",
    "                'positive': pos_name, \n",
    "                'positive_score': pos_score, \n",
    "                'negative': neg_name, \n",
    "                'negative_score': neg_score\n",
    "            })            \n",
    "        # add easy negatives\n",
    "        for _ in range(easy_neg_count):\n",
    "            neg_name = find_name_for_position(very_high_freq_name_positions, very_high_freq_name_names, random.random())\n",
    "            neg_score = easy_neg_name_scores[neg_name]\n",
    "            temp_pos_name, temp_pos_score = (pos_name, pos_score) if pos_score > neg_score else (neg_name, neg_score)\n",
    "            temp_neg_name, temp_neg_score = (neg_name, neg_score) if pos_score > neg_score else (pos_name, pos_score)\n",
    "            triplets.append({\n",
    "                'anchor': anchor_name, \n",
    "                'positive': pos_name, \n",
    "                'positive_score': pos_score, \n",
    "                'negative': neg_name, \n",
    "                'negative_score': neg_score\n",
    "            })\n",
    "    # save triplets\n",
    "    df = pd.DataFrame(triplets)\n",
    "    save_to_csv(df, temp_filepath)        "
   ],
   "id": "8c162f174cb8d54c",
   "outputs": [
    {
     "name": "stdout",
     "output_type": "stream",
     "text": [
      "/tmp/tmpi6pxekvu.csv\n"
     ]
    },
    {
     "data": {
      "text/plain": [
       "  0%|          | 0/43379 [00:00<?, ?it/s]"
      ],
      "application/vnd.jupyter.widget-view+json": {
       "version_major": 2,
       "version_minor": 0,
       "model_id": "8385b6f082be47e6a7d2bde46066dfb2"
      }
     },
     "metadata": {},
     "output_type": "display_data"
    },
    {
     "name": "stdout",
     "output_type": "stream",
     "text": [
      "CPU times: user 1d 51min 23s, sys: 5min 41s, total: 1d 57min 4s\n",
      "Wall time: 3h 48min 4s\n"
     ]
    }
   ],
   "execution_count": 15
  },
  {
   "metadata": {},
   "cell_type": "markdown",
   "source": "## Save triplets to S3",
   "id": "a8a7f53e8e05b068"
  },
  {
   "metadata": {
    "ExecuteTime": {
     "end_time": "2024-12-03T00:56:23.185572Z",
     "start_time": "2024-12-03T00:35:19.234286Z"
    }
   },
   "cell_type": "code",
   "source": [
    "temp_gz_filepath = f\"{tempfile.NamedTemporaryFile(delete=False).name}.csv.gz\"\n",
    "print(temp_gz_filepath)\n",
    "with open(temp_filepath, 'rb') as f_in:\n",
    "    with gzip.open(temp_gz_filepath, 'wb') as f_out:\n",
    "        shutil.copyfileobj(f_in, f_out)\n",
    "upload_file_to_s3(temp_gz_filepath, triplets_path)"
   ],
   "id": "23a6b662c6eb77d1",
   "outputs": [
    {
     "name": "stdout",
     "output_type": "stream",
     "text": [
      "/tmp/tmp1v977a17.csv.gz\n"
     ]
    },
    {
     "data": {
      "text/plain": [
       "True"
      ]
     },
     "execution_count": 16,
     "metadata": {},
     "output_type": "execute_result"
    }
   ],
   "execution_count": 16
  },
  {
   "cell_type": "code",
   "id": "47c074fe",
   "metadata": {
    "ExecuteTime": {
     "end_time": "2024-12-03T00:56:23.189820Z",
     "start_time": "2024-12-03T00:56:23.187020Z"
    }
   },
   "source": [],
   "outputs": [],
   "execution_count": 16
  }
 ],
 "metadata": {
  "kernelspec": {
   "display_name": "Python 3 (ipykernel)",
   "language": "python",
   "name": "python3"
  },
  "language_info": {
   "codemirror_mode": {
    "name": "ipython",
    "version": 3
   },
   "file_extension": ".py",
   "mimetype": "text/x-python",
   "name": "python",
   "nbconvert_exporter": "python",
   "pygments_lexer": "ipython3",
   "version": "3.9.16"
  }
 },
 "nbformat": 4,
 "nbformat_minor": 5
}
