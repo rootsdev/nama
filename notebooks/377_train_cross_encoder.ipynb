{
 "cells": [
  {
   "cell_type": "code",
   "id": "0ccd0eb4",
   "metadata": {
    "ExecuteTime": {
     "end_time": "2024-12-06T17:18:11.824516Z",
     "start_time": "2024-12-06T17:18:11.797709Z"
    }
   },
   "source": [
    "%load_ext autoreload\n",
    "%autoreload 2"
   ],
   "outputs": [],
   "execution_count": 1
  },
  {
   "cell_type": "markdown",
   "id": "bebacbdb",
   "metadata": {},
   "source": [
    "# Train cross encoder\n",
    "# Train cross encoder\n",
    "Train a cross-encoder on the triplets from notebook 373, using the Roberta model from notebook 375.\n",
    "\n",
    "\n",
    "| vocab | notes                           | corr | random / mean | difference | pos-neg / mean | name-name |\n",
    "|-------| ------------------------------- |------| ------ | ---------- | ------- | --------- |\n",
    "| 265   |                                 |      |  |         |    |        |\n"
   ]
  },
  {
   "cell_type": "code",
   "id": "2525d3d7",
   "metadata": {
    "ExecuteTime": {
     "end_time": "2024-12-06T17:19:07.664294Z",
     "start_time": "2024-12-06T17:19:07.594990Z"
    }
   },
   "source": [
    "import math\n",
    "import os\n",
    "import random\n",
    "\n",
    "from sentence_transformers import InputExample\n",
    "from sentence_transformers.cross_encoder import CrossEncoder\n",
    "from sentence_transformers.cross_encoder.evaluation import CECorrelationEvaluator\n",
    "from sklearn.model_selection import train_test_split\n",
    "import torch\n",
    "from torch.utils.data import DataLoader\n",
    "from tqdm import tqdm\n",
    "\n",
    "from nama.data.filesystem import download_file_from_s3, upload_file_to_s3\n",
    "from nama.data.utils import read_csv"
   ],
   "outputs": [],
   "execution_count": 6
  },
  {
   "cell_type": "code",
   "id": "bd5420dc",
   "metadata": {
    "ExecuteTime": {
     "end_time": "2024-12-08T05:21:58.253308Z",
     "start_time": "2024-12-08T05:21:58.209120Z"
    }
   },
   "source": [
    "#config\n",
    "# TODO do for given and surname\n",
    "given_surname = \"given\"\n",
    "# given_surname = \"surname\"\n",
    "\n",
    "num_epochs = 1\n",
    "train_batch_size = 16\n",
    "warmup_fraction = 0.1\n",
    "train_all = True\n",
    "# these flags affect the test data, so when comparing models generated with different flag values,\n",
    "# make sure you re-generate the test data with the same flag values for the comparisons\n",
    "each_pair_once = False\n",
    "add_same_name = True\n",
    "\n",
    "cross_encoder_vocab_size = 265\n",
    "tokenizer_max_length = 32\n",
    "tree_name_min_freq = 1000\n",
    "roberta_dir = f\"../data/models/roberta-{given_surname}-{cross_encoder_vocab_size}\"\n",
    "roberta_dir_s3 = f\"s3://fs-nama-data/2024/nama-data/data/models/roberta-{given_surname}-{cross_encoder_vocab_size}/\"\n",
    "triplets_path=f\"s3://fs-nama-data/2024/familysearch-names/processed/tree-hr-{given_surname}-triplets-{tree_name_min_freq}-augmented.csv.gz\"\n",
    "\n",
    "cross_encoder_dir = f\"../data/models/cross-encoder-{given_surname}-{cross_encoder_vocab_size}\"\n",
    "cross_encoder_dir_s3 = f\"s3://fs-nama-data/2024/nama-data/data/models/cross-encoder-{given_surname}-{cross_encoder_vocab_size}/\"\n",
    "\n",
    "print(cross_encoder_dir)"
   ],
   "outputs": [
    {
     "name": "stdout",
     "output_type": "stream",
     "text": [
      "../data/models/cross-encoder-given-265\n"
     ]
    }
   ],
   "execution_count": 17
  },
  {
   "cell_type": "code",
   "id": "942e1ba9",
   "metadata": {
    "ExecuteTime": {
     "end_time": "2024-12-06T17:18:26.031808Z",
     "start_time": "2024-12-06T17:18:25.963467Z"
    }
   },
   "source": [
    "if not os.path.exists(roberta_dir):\n",
    "    os.makedirs(roberta_dir) \n",
    "if not os.path.exists(cross_encoder_dir):\n",
    "    os.makedirs(cross_encoder_dir) "
   ],
   "outputs": [],
   "execution_count": 4
  },
  {
   "cell_type": "code",
   "id": "da1ac45b",
   "metadata": {
    "ExecuteTime": {
     "end_time": "2024-12-06T17:18:28.106660Z",
     "start_time": "2024-12-06T17:18:27.890655Z"
    }
   },
   "source": [
    "torch.cuda.empty_cache()\n",
    "print(torch.cuda.is_available())\n",
    "print(\"cuda total\", torch.cuda.get_device_properties(0).total_memory)\n",
    "print(\"cuda reserved\", torch.cuda.memory_reserved(0))\n",
    "print(\"cuda allocated\", torch.cuda.memory_allocated(0))"
   ],
   "outputs": [
    {
     "name": "stdout",
     "output_type": "stream",
     "text": [
      "True\n",
      "cuda total 8141471744\n",
      "cuda reserved 0\n",
      "cuda allocated 0\n"
     ]
    }
   ],
   "execution_count": 5
  },
  {
   "cell_type": "markdown",
   "id": "24804494",
   "metadata": {},
   "source": "## Load data"
  },
  {
   "metadata": {},
   "cell_type": "code",
   "outputs": [],
   "execution_count": null,
   "source": [
    "# download roberta\n",
    "for filename in [\n",
    "    'vocab.json',\n",
    "    'merges.txt',\n",
    "    'config.json',\n",
    "    'training_args.bin',\n",
    "    'model.safetensors',\n",
    "]:\n",
    "    print(filename)\n",
    "    roberta_dir_filename = os.path.join(roberta_dir, filename)\n",
    "    if not os.path.exists(roberta_dir_filename):\n",
    "        download_file_from_s3(roberta_dir_s3+filename, roberta_dir_filename)"
   ],
   "id": "ff4d7c3db32d7c43"
  },
  {
   "cell_type": "code",
   "id": "58a1bc26",
   "metadata": {
    "ExecuteTime": {
     "end_time": "2024-12-06T17:19:42.812421Z",
     "start_time": "2024-12-06T17:19:13.990951Z"
    }
   },
   "source": [
    "# load triplets\n",
    "path = download_file_from_s3(triplets_path) if triplets_path.startswith(\"s3://\") else triplets_path\n",
    "triplets_df = read_csv(path)\n",
    "print(len(triplets_df))\n",
    "triplets_df.head(30)"
   ],
   "outputs": [
    {
     "name": "stdout",
     "output_type": "stream",
     "text": [
      "15486190\n"
     ]
    },
    {
     "data": {
      "text/plain": [
       "         anchor    positive    negative  positive_score  negative_score\n",
       "0         frits       frith     lisetta        0.426568        0.000000\n",
       "1        penina       penna      devina        0.506620        0.410542\n",
       "2      cherstin     kerstin        taft        0.622299        0.000000\n",
       "3       severin    severine       ludie        0.501471        0.000000\n",
       "4    carrington  corrington    thoribia        0.609195        0.000000\n",
       "5          irma       irman    albertha        0.592040        0.000000\n",
       "6       martini      martin      marlyn        0.543451        0.400991\n",
       "7        werner      verner    patience        0.508241        0.000000\n",
       "8      alphonse       alpho     alphens        0.634270        0.408732\n",
       "9      trijntje     rijntje     bryngel        0.436747        0.000000\n",
       "10       josiah      josiah      andres        1.000000        0.000000\n",
       "11       salomo      salamo     gonzaga        0.567742        0.000000\n",
       "12       andrej       andra        eeva        0.403030        0.000000\n",
       "13       dudley       dudey      gerard        0.947368        0.000000\n",
       "14       joseph    jossepha    teodocio        0.402659        0.000000\n",
       "15        wilma       milma     wilmuth        0.657962        0.426152\n",
       "16     linville    lenville      orange        0.625848        0.000000\n",
       "17      bridget      bidget        bret        0.983516        0.405187\n",
       "18    gwendolen       dolen    mathiana        0.418375        0.000000\n",
       "19  balthasaris   balthasar       truls        0.637874        0.000000\n",
       "20         lucy        lucy     thereza        1.000000        0.000000\n",
       "21     elsworth    elzworth        erse        0.639338        0.000000\n",
       "22       amelia     amerlia       nelia        0.945848        0.413662\n",
       "23      petrona     petrona       justo        1.000000        0.000000\n",
       "24        ansel       aneil   guglielmo        0.535417        0.000000\n",
       "25       pharis     pharris  adalbertus        0.618182        0.000000\n",
       "26        wyman      weymon       lopez        0.431643        0.000000\n",
       "27         omar        onar     arminta        0.575714        0.000000\n",
       "28      ricardo    recaredo     mathews        0.596178        0.000000\n",
       "29       marcia      marcis     marcisa        0.514397        0.415148"
      ],
      "text/html": [
       "<div>\n",
       "<style scoped>\n",
       "    .dataframe tbody tr th:only-of-type {\n",
       "        vertical-align: middle;\n",
       "    }\n",
       "\n",
       "    .dataframe tbody tr th {\n",
       "        vertical-align: top;\n",
       "    }\n",
       "\n",
       "    .dataframe thead th {\n",
       "        text-align: right;\n",
       "    }\n",
       "</style>\n",
       "<table border=\"1\" class=\"dataframe\">\n",
       "  <thead>\n",
       "    <tr style=\"text-align: right;\">\n",
       "      <th></th>\n",
       "      <th>anchor</th>\n",
       "      <th>positive</th>\n",
       "      <th>negative</th>\n",
       "      <th>positive_score</th>\n",
       "      <th>negative_score</th>\n",
       "    </tr>\n",
       "  </thead>\n",
       "  <tbody>\n",
       "    <tr>\n",
       "      <th>0</th>\n",
       "      <td>frits</td>\n",
       "      <td>frith</td>\n",
       "      <td>lisetta</td>\n",
       "      <td>0.426568</td>\n",
       "      <td>0.000000</td>\n",
       "    </tr>\n",
       "    <tr>\n",
       "      <th>1</th>\n",
       "      <td>penina</td>\n",
       "      <td>penna</td>\n",
       "      <td>devina</td>\n",
       "      <td>0.506620</td>\n",
       "      <td>0.410542</td>\n",
       "    </tr>\n",
       "    <tr>\n",
       "      <th>2</th>\n",
       "      <td>cherstin</td>\n",
       "      <td>kerstin</td>\n",
       "      <td>taft</td>\n",
       "      <td>0.622299</td>\n",
       "      <td>0.000000</td>\n",
       "    </tr>\n",
       "    <tr>\n",
       "      <th>3</th>\n",
       "      <td>severin</td>\n",
       "      <td>severine</td>\n",
       "      <td>ludie</td>\n",
       "      <td>0.501471</td>\n",
       "      <td>0.000000</td>\n",
       "    </tr>\n",
       "    <tr>\n",
       "      <th>4</th>\n",
       "      <td>carrington</td>\n",
       "      <td>corrington</td>\n",
       "      <td>thoribia</td>\n",
       "      <td>0.609195</td>\n",
       "      <td>0.000000</td>\n",
       "    </tr>\n",
       "    <tr>\n",
       "      <th>5</th>\n",
       "      <td>irma</td>\n",
       "      <td>irman</td>\n",
       "      <td>albertha</td>\n",
       "      <td>0.592040</td>\n",
       "      <td>0.000000</td>\n",
       "    </tr>\n",
       "    <tr>\n",
       "      <th>6</th>\n",
       "      <td>martini</td>\n",
       "      <td>martin</td>\n",
       "      <td>marlyn</td>\n",
       "      <td>0.543451</td>\n",
       "      <td>0.400991</td>\n",
       "    </tr>\n",
       "    <tr>\n",
       "      <th>7</th>\n",
       "      <td>werner</td>\n",
       "      <td>verner</td>\n",
       "      <td>patience</td>\n",
       "      <td>0.508241</td>\n",
       "      <td>0.000000</td>\n",
       "    </tr>\n",
       "    <tr>\n",
       "      <th>8</th>\n",
       "      <td>alphonse</td>\n",
       "      <td>alpho</td>\n",
       "      <td>alphens</td>\n",
       "      <td>0.634270</td>\n",
       "      <td>0.408732</td>\n",
       "    </tr>\n",
       "    <tr>\n",
       "      <th>9</th>\n",
       "      <td>trijntje</td>\n",
       "      <td>rijntje</td>\n",
       "      <td>bryngel</td>\n",
       "      <td>0.436747</td>\n",
       "      <td>0.000000</td>\n",
       "    </tr>\n",
       "    <tr>\n",
       "      <th>10</th>\n",
       "      <td>josiah</td>\n",
       "      <td>josiah</td>\n",
       "      <td>andres</td>\n",
       "      <td>1.000000</td>\n",
       "      <td>0.000000</td>\n",
       "    </tr>\n",
       "    <tr>\n",
       "      <th>11</th>\n",
       "      <td>salomo</td>\n",
       "      <td>salamo</td>\n",
       "      <td>gonzaga</td>\n",
       "      <td>0.567742</td>\n",
       "      <td>0.000000</td>\n",
       "    </tr>\n",
       "    <tr>\n",
       "      <th>12</th>\n",
       "      <td>andrej</td>\n",
       "      <td>andra</td>\n",
       "      <td>eeva</td>\n",
       "      <td>0.403030</td>\n",
       "      <td>0.000000</td>\n",
       "    </tr>\n",
       "    <tr>\n",
       "      <th>13</th>\n",
       "      <td>dudley</td>\n",
       "      <td>dudey</td>\n",
       "      <td>gerard</td>\n",
       "      <td>0.947368</td>\n",
       "      <td>0.000000</td>\n",
       "    </tr>\n",
       "    <tr>\n",
       "      <th>14</th>\n",
       "      <td>joseph</td>\n",
       "      <td>jossepha</td>\n",
       "      <td>teodocio</td>\n",
       "      <td>0.402659</td>\n",
       "      <td>0.000000</td>\n",
       "    </tr>\n",
       "    <tr>\n",
       "      <th>15</th>\n",
       "      <td>wilma</td>\n",
       "      <td>milma</td>\n",
       "      <td>wilmuth</td>\n",
       "      <td>0.657962</td>\n",
       "      <td>0.426152</td>\n",
       "    </tr>\n",
       "    <tr>\n",
       "      <th>16</th>\n",
       "      <td>linville</td>\n",
       "      <td>lenville</td>\n",
       "      <td>orange</td>\n",
       "      <td>0.625848</td>\n",
       "      <td>0.000000</td>\n",
       "    </tr>\n",
       "    <tr>\n",
       "      <th>17</th>\n",
       "      <td>bridget</td>\n",
       "      <td>bidget</td>\n",
       "      <td>bret</td>\n",
       "      <td>0.983516</td>\n",
       "      <td>0.405187</td>\n",
       "    </tr>\n",
       "    <tr>\n",
       "      <th>18</th>\n",
       "      <td>gwendolen</td>\n",
       "      <td>dolen</td>\n",
       "      <td>mathiana</td>\n",
       "      <td>0.418375</td>\n",
       "      <td>0.000000</td>\n",
       "    </tr>\n",
       "    <tr>\n",
       "      <th>19</th>\n",
       "      <td>balthasaris</td>\n",
       "      <td>balthasar</td>\n",
       "      <td>truls</td>\n",
       "      <td>0.637874</td>\n",
       "      <td>0.000000</td>\n",
       "    </tr>\n",
       "    <tr>\n",
       "      <th>20</th>\n",
       "      <td>lucy</td>\n",
       "      <td>lucy</td>\n",
       "      <td>thereza</td>\n",
       "      <td>1.000000</td>\n",
       "      <td>0.000000</td>\n",
       "    </tr>\n",
       "    <tr>\n",
       "      <th>21</th>\n",
       "      <td>elsworth</td>\n",
       "      <td>elzworth</td>\n",
       "      <td>erse</td>\n",
       "      <td>0.639338</td>\n",
       "      <td>0.000000</td>\n",
       "    </tr>\n",
       "    <tr>\n",
       "      <th>22</th>\n",
       "      <td>amelia</td>\n",
       "      <td>amerlia</td>\n",
       "      <td>nelia</td>\n",
       "      <td>0.945848</td>\n",
       "      <td>0.413662</td>\n",
       "    </tr>\n",
       "    <tr>\n",
       "      <th>23</th>\n",
       "      <td>petrona</td>\n",
       "      <td>petrona</td>\n",
       "      <td>justo</td>\n",
       "      <td>1.000000</td>\n",
       "      <td>0.000000</td>\n",
       "    </tr>\n",
       "    <tr>\n",
       "      <th>24</th>\n",
       "      <td>ansel</td>\n",
       "      <td>aneil</td>\n",
       "      <td>guglielmo</td>\n",
       "      <td>0.535417</td>\n",
       "      <td>0.000000</td>\n",
       "    </tr>\n",
       "    <tr>\n",
       "      <th>25</th>\n",
       "      <td>pharis</td>\n",
       "      <td>pharris</td>\n",
       "      <td>adalbertus</td>\n",
       "      <td>0.618182</td>\n",
       "      <td>0.000000</td>\n",
       "    </tr>\n",
       "    <tr>\n",
       "      <th>26</th>\n",
       "      <td>wyman</td>\n",
       "      <td>weymon</td>\n",
       "      <td>lopez</td>\n",
       "      <td>0.431643</td>\n",
       "      <td>0.000000</td>\n",
       "    </tr>\n",
       "    <tr>\n",
       "      <th>27</th>\n",
       "      <td>omar</td>\n",
       "      <td>onar</td>\n",
       "      <td>arminta</td>\n",
       "      <td>0.575714</td>\n",
       "      <td>0.000000</td>\n",
       "    </tr>\n",
       "    <tr>\n",
       "      <th>28</th>\n",
       "      <td>ricardo</td>\n",
       "      <td>recaredo</td>\n",
       "      <td>mathews</td>\n",
       "      <td>0.596178</td>\n",
       "      <td>0.000000</td>\n",
       "    </tr>\n",
       "    <tr>\n",
       "      <th>29</th>\n",
       "      <td>marcia</td>\n",
       "      <td>marcis</td>\n",
       "      <td>marcisa</td>\n",
       "      <td>0.514397</td>\n",
       "      <td>0.415148</td>\n",
       "    </tr>\n",
       "  </tbody>\n",
       "</table>\n",
       "</div>"
      ]
     },
     "execution_count": 7,
     "metadata": {},
     "output_type": "execute_result"
    }
   ],
   "execution_count": 7
  },
  {
   "cell_type": "markdown",
   "id": "2caa0752",
   "metadata": {},
   "source": [
    "## Convert triplets into training examples"
   ]
  },
  {
   "cell_type": "code",
   "id": "c5e9e739",
   "metadata": {
    "ExecuteTime": {
     "end_time": "2024-12-06T17:21:58.341700Z",
     "start_time": "2024-12-06T17:19:42.814065Z"
    }
   },
   "source": [
    "%%time\n",
    "data = []\n",
    "all_names = set()\n",
    "seen_pairs = set()\n",
    "for anchor, pos, pos_score, neg, neg_score in tqdm(zip(\n",
    "    triplets_df['anchor'],\n",
    "    triplets_df['positive'],\n",
    "    triplets_df['positive_score'],\n",
    "    triplets_df['negative'],\n",
    "    triplets_df['negative_score'],\n",
    ")):\n",
    "    if (not add_same_name or anchor != pos) and \\\n",
    "       (not each_pair_once or (not (anchor, pos) in seen_pairs and not (pos, anchor) in seen_pairs)):\n",
    "        data.append(InputExample(texts=[anchor, pos], label=pos_score))\n",
    "        seen_pairs.add((anchor, pos))\n",
    "    if (not add_same_name or anchor != neg) and \\\n",
    "       (not each_pair_once or (not (anchor, neg) in seen_pairs and not (neg, anchor) in seen_pairs)):\n",
    "        data.append(InputExample(texts=[anchor, neg], label=neg_score))\n",
    "        seen_pairs.add((anchor, neg))\n",
    "    all_names.add(anchor)\n",
    "    all_names.add(pos)\n",
    "    all_names.add(neg)\n",
    "len(data)"
   ],
   "outputs": [
    {
     "name": "stderr",
     "output_type": "stream",
     "text": [
      "15486190it [02:15, 114307.80it/s]\n"
     ]
    },
    {
     "data": {
      "text/plain": [
       "28981013"
      ]
     },
     "execution_count": 8,
     "metadata": {},
     "output_type": "execute_result"
    }
   ],
   "execution_count": 8
  },
  {
   "cell_type": "code",
   "id": "92f8279d",
   "metadata": {
    "ExecuteTime": {
     "end_time": "2024-12-06T17:21:58.387702Z",
     "start_time": "2024-12-06T17:21:58.343409Z"
    }
   },
   "source": [
    "len(all_names)"
   ],
   "outputs": [
    {
     "data": {
      "text/plain": [
       "66979"
      ]
     },
     "execution_count": 9,
     "metadata": {},
     "output_type": "execute_result"
    }
   ],
   "execution_count": 9
  },
  {
   "cell_type": "code",
   "id": "302c93d1",
   "metadata": {
    "ExecuteTime": {
     "end_time": "2024-12-06T17:21:58.518822Z",
     "start_time": "2024-12-06T17:21:58.389549Z"
    }
   },
   "source": [
    "# add name, name, 1.0\n",
    "if add_same_name:\n",
    "    for name in all_names:\n",
    "        data.append(InputExample(texts=[name, name], label=1.0))\n",
    "len(data)"
   ],
   "outputs": [
    {
     "data": {
      "text/plain": [
       "29047992"
      ]
     },
     "execution_count": 10,
     "metadata": {},
     "output_type": "execute_result"
    }
   ],
   "execution_count": 10
  },
  {
   "cell_type": "code",
   "id": "a34f64fd",
   "metadata": {
    "ExecuteTime": {
     "end_time": "2024-12-06T17:26:36.133945Z",
     "start_time": "2024-12-06T17:21:58.520671Z"
    }
   },
   "source": [
    "%%time\n",
    "if train_all:\n",
    "    dev_size = 0.01\n",
    "    test_size = 0.01\n",
    "else:\n",
    "    dev_size = 0.1\n",
    "    test_size = 0.1\n",
    "raw_train_data, test_data = train_test_split(data, test_size=(dev_size+test_size), random_state=42)\n",
    "dev_data, test_data = train_test_split(test_data, test_size=(test_size / (dev_size+test_size)), random_state=42)\n",
    "\n",
    "train_data = []\n",
    "for example in raw_train_data:\n",
    "    name1, name2 = example.texts\n",
    "    train_data.append(InputExample(texts=[name1, name2], label=example.label))\n",
    "    if name1 != name2:\n",
    "        train_data.append(InputExample(texts=[name2, name1], label=example.label))\n",
    "del raw_train_data\n",
    "\n",
    "random.shuffle(train_data)\n",
    "\n",
    "print('train', len(train_data))\n",
    "print('dev', len(dev_data))\n",
    "print('test', len(test_data))"
   ],
   "outputs": [
    {
     "name": "stdout",
     "output_type": "stream",
     "text": [
      "train 56868373\n",
      "dev 290480\n",
      "test 290480\n"
     ]
    }
   ],
   "execution_count": 11
  },
  {
   "cell_type": "markdown",
   "id": "97c53c89",
   "metadata": {},
   "source": [
    "## Train cross-encoder"
   ]
  },
  {
   "cell_type": "code",
   "id": "3e70b9d0",
   "metadata": {
    "ExecuteTime": {
     "end_time": "2024-12-06T17:27:40.825446Z",
     "start_time": "2024-12-06T17:27:40.630628Z"
    }
   },
   "source": [
    "# We wrap train_samples (which is a List[InputExample]) into a pytorch DataLoader\n",
    "train_dataloader = DataLoader(train_data, shuffle=True, batch_size=train_batch_size)\n",
    "\n",
    "# We add an evaluator, which evaluates the performance during training\n",
    "evaluator = CECorrelationEvaluator.from_input_examples(dev_data, name='dev')\n",
    "\n",
    "# Configure the training\n",
    "warmup_steps = math.ceil(len(train_dataloader) * num_epochs * warmup_fraction) #N% of train data for warm-up\n",
    "print(\"Warmup-steps: {}\".format(warmup_steps))"
   ],
   "outputs": [
    {
     "name": "stdout",
     "output_type": "stream",
     "text": [
      "Warmup-steps: 355428\n"
     ]
    }
   ],
   "execution_count": 12
  },
  {
   "cell_type": "code",
   "id": "878f7697",
   "metadata": {
    "ExecuteTime": {
     "end_time": "2024-12-06T17:28:41.760598Z",
     "start_time": "2024-12-06T17:28:41.320455Z"
    }
   },
   "source": [
    "model = CrossEncoder(roberta_dir, num_labels=1, max_length=tokenizer_max_length)"
   ],
   "outputs": [
    {
     "name": "stderr",
     "output_type": "stream",
     "text": [
      "Some weights of RobertaForSequenceClassification were not initialized from the model checkpoint at ../data/models/roberta-given-265 and are newly initialized: ['classifier.dense.bias', 'classifier.dense.weight', 'classifier.out_proj.bias', 'classifier.out_proj.weight']\n",
      "You should probably TRAIN this model on a down-stream task to be able to use it for predictions and inference.\n"
     ]
    }
   ],
   "execution_count": 13
  },
  {
   "cell_type": "code",
   "id": "a1b1c7f3",
   "metadata": {
    "ExecuteTime": {
     "end_time": "2024-12-07T23:26:33.863117Z",
     "start_time": "2024-12-06T17:29:40.402785Z"
    }
   },
   "source": [
    "%%time\n",
    "\n",
    "model.fit(train_dataloader=train_dataloader,\n",
    "          evaluator=evaluator,\n",
    "          epochs=num_epochs,\n",
    "          warmup_steps=warmup_steps,\n",
    "          evaluation_steps=200_000,\n",
    "          show_progress_bar=True,\n",
    "          output_path=cross_encoder_dir)"
   ],
   "outputs": [
    {
     "data": {
      "text/plain": [
       "Epoch:   0%|          | 0/1 [00:00<?, ?it/s]"
      ],
      "application/vnd.jupyter.widget-view+json": {
       "version_major": 2,
       "version_minor": 0,
       "model_id": "a4c914f9e2ac48a7a03027b6b3b7963c"
      }
     },
     "metadata": {},
     "output_type": "display_data"
    },
    {
     "data": {
      "text/plain": [
       "Iteration:   0%|          | 0/3554274 [00:00<?, ?it/s]"
      ],
      "application/vnd.jupyter.widget-view+json": {
       "version_major": 2,
       "version_minor": 0,
       "model_id": "13e83296878e45ac881e4fd17fc3d95a"
      }
     },
     "metadata": {},
     "output_type": "display_data"
    },
    {
     "name": "stdout",
     "output_type": "stream",
     "text": [
      "CPU times: user 1d 9h 11min 23s, sys: 2h 36min 28s, total: 1d 11h 47min 52s\n",
      "Wall time: 1d 5h 56min 53s\n"
     ]
    }
   ],
   "execution_count": 14
  },
  {
   "metadata": {},
   "cell_type": "markdown",
   "source": "## Save cross-encoder",
   "id": "1255aae87b4376fa"
  },
  {
   "metadata": {
    "ExecuteTime": {
     "end_time": "2024-12-08T05:18:48.561822Z",
     "start_time": "2024-12-08T05:18:47.974088Z"
    }
   },
   "cell_type": "code",
   "source": "model.save(cross_encoder_dir)",
   "id": "40eb8b7a28a01357",
   "outputs": [],
   "execution_count": 16
  },
  {
   "metadata": {
    "ExecuteTime": {
     "end_time": "2024-12-08T05:22:54.801990Z",
     "start_time": "2024-12-08T05:22:48.488558Z"
    }
   },
   "cell_type": "code",
   "source": [
    "# upload to s3\n",
    "for filename in [\n",
    "    'CECorrelationEvaluator_dev_results.csv',\n",
    "    'config.json',\n",
    "    'merges.txt',\n",
    "    'special_tokens_map.json',\n",
    "    'tokenizer_config.json',\n",
    "    'tokenizer.json',\n",
    "    'vocab.json',\n",
    "    'model.safetensors',\n",
    "]:\n",
    "    print(filename)\n",
    "    upload_file_to_s3(os.path.join(cross_encoder_dir, filename), cross_encoder_dir_s3+filename)"
   ],
   "id": "88647633d6599e30",
   "outputs": [
    {
     "name": "stdout",
     "output_type": "stream",
     "text": [
      "CECorrelationEvaluator_dev_results.csv\n",
      "config.json\n",
      "merges.txt\n",
      "special_tokens_map.json\n",
      "tokenizer_config.json\n",
      "tokenizer.json\n",
      "vocab.json\n",
      "model.safetensors\n"
     ]
    }
   ],
   "execution_count": 18
  },
  {
   "cell_type": "markdown",
   "id": "115b388b",
   "metadata": {},
   "source": [
    "## Evaluate cross-encoder"
   ]
  },
  {
   "cell_type": "code",
   "id": "1cdd63fe",
   "metadata": {
    "ExecuteTime": {
     "end_time": "2024-12-08T05:23:46.060120Z",
     "start_time": "2024-12-08T05:23:45.977102Z"
    }
   },
   "source": [
    "model = CrossEncoder(cross_encoder_dir, max_length=tokenizer_max_length)\n",
    "cross_encoder_dir"
   ],
   "outputs": [
    {
     "data": {
      "text/plain": [
       "'../data/models/cross-encoder-given-265'"
      ]
     },
     "execution_count": 19,
     "metadata": {},
     "output_type": "execute_result"
    }
   ],
   "execution_count": 19
  },
  {
   "cell_type": "code",
   "id": "52e2af85",
   "metadata": {
    "ExecuteTime": {
     "end_time": "2024-12-08T05:25:29.845018Z",
     "start_time": "2024-12-08T05:23:46.061364Z"
    }
   },
   "source": [
    "%%time\n",
    "\n",
    "evaluator = CECorrelationEvaluator.from_input_examples(test_data, name='test')\n",
    "evaluator(model)"
   ],
   "outputs": [
    {
     "name": "stdout",
     "output_type": "stream",
     "text": [
      "CPU times: user 2min 17s, sys: 23.9 s, total: 2min 41s\n",
      "Wall time: 1min 43s\n"
     ]
    },
    {
     "data": {
      "text/plain": [
       "np.float64(0.9566643846517128)"
      ]
     },
     "execution_count": 20,
     "metadata": {},
     "output_type": "execute_result"
    }
   ],
   "execution_count": 20
  },
  {
   "cell_type": "markdown",
   "id": "45d58f3d",
   "metadata": {},
   "source": [
    "## Test predictions"
   ]
  },
  {
   "cell_type": "markdown",
   "id": "6f764ba8",
   "metadata": {},
   "source": [
    "### Sample"
   ]
  },
  {
   "cell_type": "code",
   "id": "f50d9849",
   "metadata": {
    "ExecuteTime": {
     "end_time": "2024-12-08T05:25:30.984128Z",
     "start_time": "2024-12-08T05:25:29.847671Z"
    }
   },
   "source": [
    "for example in test_data[:250]:\n",
    "    if example.label == 0.0:\n",
    "        continue\n",
    "    name1, name2 = example.texts\n",
    "    score = model.predict([[name1, name2]])[0]\n",
    "    print(name1, name2, score, example.label)"
   ],
   "outputs": [
    {
     "name": "stdout",
     "output_type": "stream",
     "text": [
      "celanire celenire 0.88051033 0.8760655737704919\n",
      "haseltine hasseltine 0.5421073 0.5912704598597038\n",
      "lavon lavanna 0.40955743 0.4247191011235955\n",
      "magarita margarita 0.78680915 0.8686695278969957\n",
      "geraldine gerldine 0.95641774 0.9626445300919064\n",
      "mintie miltie 0.41366017 0.4272232304900182\n",
      "wilhelmine guilelminae 0.5805446 0.5665768194070081\n",
      "aldon alden 0.5766243 0.5488126649076517\n",
      "absolum absalom 0.7174611 0.5896516393442623\n",
      "latitia lelitia 0.44683722 0.4159126365054603\n",
      "rozalia rozi 0.9059107 0.9478287153652392\n",
      "sylvester sylveste 0.95586234 0.9457954545454546\n",
      "curtis custis 0.67141306 0.7178479048111743\n",
      "mareke mareka 0.62239945 0.6006756756756757\n",
      "patience patient 0.9510035 0.9388034188034188\n",
      "catarine catharina 0.49673945 0.5015784114052954\n",
      "marcelia marcella 0.54874957 0.5062755291496472\n",
      "fred freddie 0.6308613 0.6115419018989663\n",
      "pilar pear 0.4197967 0.403171552138395\n",
      "novella nevella 0.6547166 0.6307692307692307\n",
      "lulia lolia 0.41000655 0.4125797629899726\n",
      "lois loi 0.9291004 0.921311475409836\n",
      "arabella abelle 0.4168027 0.4414322250639386\n",
      "christiane cristiane 0.6978117 0.6827195467422096\n",
      "tomasina tomasa 0.5219858 0.5259085580304806\n",
      "priscilla percella 0.8738922 0.8715418502202643\n",
      "ruford reford 0.43765113 0.4124137931034483\n",
      "rosalie rosale 0.7211032 0.7161052631578948\n",
      "glenwood glen 0.5494103 0.5348066298342542\n",
      "dean deon 0.5987834 0.6133633941381431\n",
      "hershell herschel 0.54766196 0.5016093404859577\n",
      "twyla tyla 0.42629632 0.4694029850746268\n",
      "dale bale 0.56410843 0.5402843601895735\n",
      "orcelia orcilia 0.6253608 0.6236363636363637\n",
      "lavinnia lavinna 0.5419217 0.4382405745062837\n",
      "louraine lorraine 0.5573569 0.548936170212766\n",
      "alexander alexaner 0.9858423 0.979088471849866\n",
      "florenz florencio 0.42213693 0.4060340381640021\n",
      "kate kite 0.5951126 0.5737313432835821\n",
      "nathan lathon 0.4111799 0.4539568345323741\n",
      "hernando hermando 0.72156245 0.7303643724696356\n",
      "viola cilla 0.39945462 0.4062470421202083\n",
      "bertha eutha 0.39897957 0.4079072219293622\n",
      "serafina saraphine 0.46784058 0.4214176440591535\n",
      "gesina rosina 0.40207547 0.4022439851943245\n",
      "ocie ocle 0.5923747 0.5629139072847682\n",
      "norverto norberto 0.79472065 0.7114782608695652\n",
      "willetta willetts 0.41516554 0.4619926199261993\n",
      "phoebe poebe 0.8744808 0.862295081967213\n",
      "lucetta lusette 0.5773511 0.5791666666666666\n",
      "beatty beaty 0.60469943 0.6246428571428572\n",
      "heinricke heinrick 0.41947284 0.4038668098818475\n",
      "lockie lottie 0.4182868 0.405742251223491\n",
      "domenico domnick 0.48909563 0.4863523573200993\n",
      "fructuosa fructuoza 0.77245194 0.7902654867256638\n",
      "christian christiani 0.61425275 0.8080110497237569\n",
      "celinda silinda 0.5874282 0.5649402390438247\n",
      "chester chesta 0.5593524 0.5505119453924915\n",
      "marzella maryetta 0.40914905 0.4052154195011338\n",
      "bently bentley 0.8884431 0.8503118503118503\n",
      "margareta margje 0.40711033 0.4030248469571481\n",
      "rosario rosar 0.706178 0.6910179640718563\n",
      "persis perris 0.7750578 0.7584337349397591\n",
      "lewellen lewellan 0.5243237 0.5148247978436657\n",
      "yanuario nazario 0.39960048 0.4079613992762365\n",
      "fannye fannie 0.72017515 0.7210042432814711\n",
      "cleave cleve 0.68651825 0.6733306022122081\n",
      "arleene arlene 0.68081903 0.6132093023255814\n",
      "zella zellia 0.6344736 0.6139293139293139\n",
      "hermann mann 0.41072467 0.408068669527897\n",
      "elisa nelida 0.3884135 0.4043024771838331\n",
      "suella sue 0.5406115 0.5112068965517242\n",
      "lanora sanora 0.4632996 0.4310344827586207\n",
      "corneilius corneluis 0.4231476 0.4132879045996593\n",
      "ishmael ishmal 0.8451418 0.8493702770780857\n",
      "celena celina 0.6198453 0.552098880597015\n",
      "glenda blenda 0.40838087 0.4048888888888889\n",
      "arvilla aravilla 0.75747734 0.7422535211267606\n",
      "kate kathr 0.418813 0.4016742239274503\n",
      "johans johanes 0.4143707 0.4195988538681948\n",
      "harriett haret 0.5460415 0.5172978505629477\n",
      "lodewijk lodewyk 0.6356951 0.6635868380910874\n",
      "delao adela 0.41344386 0.4084561178731583\n",
      "hortance hortence 0.51973146 0.5257284562926225\n",
      "brunetta brunett 0.5128341 0.5024630541871922\n",
      "martina gertina 0.41135344 0.4083890577507599\n",
      "alfrieda alfreida 0.528547 0.519908466819222\n",
      "ausie ansie 0.52397084 0.5127167630057803\n",
      "sullivan sullie 0.41503096 0.4447241045498548\n",
      "matthaus matthea 0.41069525 0.4081802015411974\n",
      "pauline pauling 0.8554096 0.8458620689655172\n",
      "christophine christe 0.40529844 0.4096350364963504\n",
      "cecile cecia 0.41707194 0.4470103092783505\n",
      "veryl viril 0.440487 0.4445714285714286\n",
      "maranda moranda 0.567294 0.5675709001233046\n",
      "colleta carlota 0.3901504 0.4104942965779468\n",
      "eulina eulia 0.41467053 0.4061000406669378\n",
      "roselyn rose 0.48166582 0.4496967023271204\n",
      "ivalee ivalee 0.99992156 1.0\n",
      "gaetana tana 0.44658956 0.4284691136974037\n",
      "tillman tillmon 0.7727853 0.7907427341227126\n",
      "jane jenie 0.47762215 0.4787538021937506\n",
      "manoel manuel 0.5518386 0.5141043291702442\n",
      "marciano macsimiano 0.40499434 0.4081481481481481\n",
      "kenneth renneth 0.97214407 0.96\n",
      "pearlina pearline 0.5221612 0.4692056583242655\n",
      "nanne nancie 0.41748142 0.4041640378548896\n",
      "cyril cyrell 0.6930318 0.6697892271662763\n",
      "augusta augasta 0.9517076 0.9458128078817734\n",
      "benancia venancia 0.77519435 0.7354195011337868\n",
      "ada leada 0.4802238 0.4317503392130258\n",
      "marie mariz 0.44297263 0.4572916666666666\n",
      "mcpherson pherson 0.8610568 0.8521193092621664\n",
      "lavinia lavnia 0.69502836 0.6774774774774774\n",
      "graziosa gracioza 0.5342294 0.5384615384615385\n",
      "crescenzia crescentia 0.6205186 0.5565217391304348\n",
      "anton anthan 0.7504473 0.7478346456692914\n",
      "bartholome barthome 0.60975295 0.6222950819672131\n",
      "noreen noren 0.526651 0.5159268929503916\n",
      "leila lerla 0.5848665 0.5706666666666667\n",
      "chrystal crystal 0.62749594 0.6038910505836577\n",
      "fietta fretta 0.62145996 0.5958677685950413\n",
      "florentino florenti 0.62468 0.6049586776859504\n",
      "gardener gardner 0.87079006 0.8643854119765871\n",
      "casimir casimier 0.7253285 0.7336038961038962\n",
      "elmus elmas 0.5537484 0.5530106257378985\n",
      "georgina georgino 0.5719676 0.568166089965398\n",
      "wilks wilkes 0.736627 0.6409791477787852\n",
      "althea althy 0.63474 0.6109215017064846\n",
      "randi rangdi 0.7874243 0.8212153518123667\n",
      "beret berit 0.6783712 0.6651658194141854\n",
      "conradina coenradina 0.58655256 0.5802690582959642\n",
      "alden auldin 0.6454381 0.6217948717948718\n",
      "gerda gerde 0.8697162 0.8624423963133641\n",
      "agnes agnass 0.95006895 0.9329305135951662\n",
      "geertruij girtrudis 0.41654268 0.4062635928664637\n",
      "gustava gustana 0.7603728 0.75\n",
      "olindo deolindo 0.41545704 0.4087537993920973\n",
      "caspar casper 0.5760237 0.5945125728785654\n",
      "carmella carmellia 0.5749411 0.5603563474387527\n",
      "marcelino marzelino 0.8915205 0.8725314183123878\n"
     ]
    }
   ],
   "execution_count": 21
  },
  {
   "cell_type": "markdown",
   "id": "7c4cb90c",
   "metadata": {},
   "source": [
    "### How many random pairs score above a low threshold?"
   ]
  },
  {
   "cell_type": "code",
   "id": "27822f30",
   "metadata": {
    "ExecuteTime": {
     "end_time": "2024-12-08T05:25:31.026882Z",
     "start_time": "2024-12-08T05:25:30.985619Z"
    }
   },
   "source": [
    "def harmonic_mean(x,y):\n",
    "    return 2 / (1/x+1/y)"
   ],
   "outputs": [],
   "execution_count": 22
  },
  {
   "cell_type": "code",
   "id": "a19179b7",
   "metadata": {
    "ExecuteTime": {
     "end_time": "2024-12-08T05:31:20.590214Z",
     "start_time": "2024-12-08T05:25:31.028465Z"
    }
   },
   "source": [
    "%%time\n",
    "\n",
    "threshold = 0.41\n",
    "cnt = 0\n",
    "seen_pairs = set()\n",
    "for i in range(0, min(len(test_data)-1, 50000)):\n",
    "    name1 = test_data[i].texts[0]\n",
    "    name2 = test_data[i+1].texts[0]\n",
    "    if name1 == name2 or (name1,name2) in seen_pairs or (name2,name1) in seen_pairs:\n",
    "        continue\n",
    "    scores = model.predict([[name1, name2],[name2, name1]])\n",
    "    if harmonic_mean(scores[0],scores[1]) > threshold:\n",
    "        print(name1, name2, scores)\n",
    "        cnt += 1\n",
    "    seen_pairs.add((name1,name2))\n",
    "print(cnt)"
   ],
   "outputs": [
    {
     "name": "stdout",
     "output_type": "stream",
     "text": [
      "arabella arrilla [0.40825588 0.41221616]\n",
      "serafina seraphine [0.4223442 0.4305678]\n",
      "friederike fredericka [0.5052289  0.48464355]\n",
      "christina christophine [0.42018816 0.42238525]\n",
      "juana johanna [0.4139102  0.42060548]\n",
      "cleatus claes [0.41839203 0.41968575]\n",
      "frederik frederic [0.41877 0.41783]\n",
      "mattia lattie [0.41174743 0.41262403]\n",
      "marian moriah [0.41334358 0.41407606]\n",
      "katharine kathrine [0.44278458 0.4286129 ]\n",
      "catharina catharinae [0.7289712  0.72761184]\n",
      "minnie miner [0.49804702 0.49664605]\n",
      "birgitte birthe [0.4144755  0.41168505]\n",
      "dominick domingas [0.41899586 0.41814163]\n",
      "kirstine christiane [0.41531363 0.41436496]\n",
      "filipe philip [0.41795895 0.41812778]\n",
      "margarita margia [0.41686842 0.41625157]\n",
      "raimunda amanda [0.41033164 0.4171916 ]\n",
      "leola lepha [0.41522574 0.41857493]\n",
      "hessie jessamine [0.41048086 0.4112171 ]\n",
      "lessie bessie [0.4146549  0.41526413]\n",
      "sirena lorena [0.4107069  0.41029382]\n",
      "magrietha margarethe [0.45232892 0.46344233]\n",
      "lorraine lorance [0.41676113 0.41906658]\n",
      "lilly lillar [0.4166477  0.41661954]\n",
      "bernhard bernhardine [0.41915962 0.42317653]\n",
      "christopher christophorus [0.46356136 0.45298725]\n",
      "henson nelson [0.41651735 0.41454285]\n",
      "philip phillip [0.75693876 0.7564892 ]\n",
      "lavina lovisa [0.41630554 0.41688275]\n",
      "marguerite margueritte [0.89370966 0.9025927 ]\n",
      "leon leonice [0.41614676 0.41364482]\n",
      "stella cella [0.41390255 0.4132163 ]\n",
      "elisabeth isabele [0.42187282 0.4149804 ]\n",
      "ynocencio florencio [0.41348156 0.4147315 ]\n",
      "christian kerstin [0.42156208 0.4193319 ]\n",
      "gebhard gerhard [0.42617607 0.42318088]\n",
      "genevra genoveva [0.41820922 0.42071074]\n",
      "lorenzo lonzo [0.4373527  0.44838762]\n",
      "herbert heribert [0.6442423 0.6454161]\n",
      "ceilia delia [0.41391918 0.41647965]\n",
      "matthias matthieu [0.43617016 0.43317285]\n",
      "catherine carmine [0.42394078 0.41613147]\n",
      "getrudis gertrud [0.4413755  0.44924995]\n",
      "ellis elliott [0.42475426 0.41926688]\n",
      "marlene marceline [0.41702488 0.41458845]\n",
      "gerrit garrett [0.42827934 0.44240877]\n",
      "catarino caterina [0.41371247 0.41386726]\n",
      "luella louella [0.6861244 0.6815502]\n",
      "lytton layton [0.41779232 0.41836357]\n",
      "flossie florrie [0.4257212  0.42834443]\n",
      "finnis finn [0.426411  0.4232576]\n",
      "delora delia [0.41064242 0.40963992]\n",
      "sidney sidse [0.45007387 0.44006735]\n",
      "marcela marcell [0.41170338 0.41308695]\n",
      "loretta rozetta [0.4152499  0.41491538]\n",
      "launa leona [0.42414448 0.4246906 ]\n",
      "mary marybelle [0.6499521 0.6571161]\n",
      "bell bella [0.42346752 0.42559165]\n",
      "bell boel [0.42671213 0.40959603]\n",
      "wellie willhelmine [0.4132294  0.40818092]\n",
      "verina verona [0.41538158 0.41543928]\n",
      "mandana amanda [0.47395605 0.5304333 ]\n",
      "ale adele [0.4154234 0.4141706]\n",
      "apolonia lonia [0.42745075 0.4177428 ]\n",
      "georg georges [0.4711994  0.48274067]\n",
      "alvis alouis [0.44521615 0.4562815 ]\n",
      "ottelia ottilie [0.5261913 0.5196713]\n",
      "florencio florence [0.41966718 0.4187472 ]\n",
      "antonio antonia [0.42547867 0.4252866 ]\n",
      "ersebet elisabeth [0.4091509  0.41639233]\n",
      "verna erma [0.40977046 0.4122906 ]\n",
      "elisa elise [0.5027019  0.49436304]\n",
      "henrietta harriett [0.4129571  0.41355914]\n",
      "katalin catharine [0.41852963 0.41651082]\n",
      "achsah asa [0.40702534 0.41640785]\n",
      "nella louella [0.41154906 0.41165903]\n",
      "robert roger [0.41323185 0.41421583]\n",
      "sarah savannah [0.42407405 0.41967255]\n",
      "lucretia lunetta [0.41253313 0.41688648]\n",
      "alpha alma [0.41624215 0.41235545]\n",
      "eleanor leonore [0.41602287 0.41565493]\n",
      "mathias mathaeus [0.43506083 0.45583066]\n",
      "theophile theofil [0.45696366 0.44621396]\n",
      "emmett emma [0.47745818 0.4928554 ]\n",
      "dorothea dorothy [0.46359757 0.4767905 ]\n",
      "miranda amanda [0.41668347 0.4200423 ]\n",
      "louisa luvina [0.41457605 0.41250268]\n",
      "williiam willodean [0.41030273 0.4133332 ]\n",
      "marcin marien [0.41097507 0.41367483]\n",
      "rosena rosanna [0.41660896 0.41694102]\n",
      "susy susana [0.42091244 0.41420087]\n",
      "philbert philip [0.43358952 0.42553872]\n",
      "lucindy cinda [0.49950868 0.49977908]\n",
      "ethan euphan [0.41267413 0.4099575 ]\n",
      "herman hermana [0.42443886 0.43495783]\n",
      "gavino vaino [0.4220789  0.45325017]\n",
      "herley shirley [0.41644064 0.41536725]\n",
      "louis louisa [0.4159176  0.41206813]\n",
      "martha marica [0.4146472 0.4133572]\n",
      "thelma thena [0.4332398  0.42357504]\n",
      "augusta augustina [0.4511019  0.46355054]\n",
      "marguerite margarida [0.4121223  0.41063404]\n",
      "vincenzo vincent [0.5882228  0.58885133]\n",
      "idaline evaline [0.4077951  0.41317093]\n",
      "lucila lucinda [0.420572   0.41944358]\n",
      "clifford cliffie [0.48786905 0.5028125 ]\n",
      "amelia melissa [0.4135301  0.42018008]\n",
      "louise eloise [0.41870084 0.41813076]\n",
      "vivian lillian [0.42821527 0.42211777]\n",
      "lourens louwrens [0.7855707 0.7840091]\n",
      "arsene irene [0.41802266 0.42379183]\n",
      "veronika petronila [0.40967435 0.4133619 ]\n",
      "johnathan john [0.6009984 0.6139931]\n",
      "mina elmina [0.44030455 0.42857713]\n",
      "friedrich friederike [0.4154025  0.42212948]\n",
      "firmina hermina [0.41253528 0.4126525 ]\n",
      "lura luisa [0.4408219  0.44220054]\n",
      "dessie lessie [0.4124215  0.41276556]\n",
      "katharine caterine [0.41215885 0.41162997]\n",
      "carl karl [0.7335095  0.72220665]\n",
      "lewellen ellen [0.4161655  0.41215962]\n",
      "elena electa [0.41540676 0.4120003 ]\n",
      "123\n",
      "CPU times: user 6min 15s, sys: 35.5 s, total: 6min 50s\n",
      "Wall time: 5min 49s\n"
     ]
    }
   ],
   "execution_count": 23
  },
  {
   "cell_type": "markdown",
   "id": "bb74ddd7",
   "metadata": {},
   "source": [
    "### How many pairs score significantly differently than their label?"
   ]
  },
  {
   "cell_type": "code",
   "id": "5ef0c258",
   "metadata": {
    "ExecuteTime": {
     "end_time": "2024-12-08T05:31:27.821593Z",
     "start_time": "2024-12-08T05:31:20.591883Z"
    }
   },
   "source": [
    "%%time\n",
    "\n",
    "threshold = 0.1\n",
    "cnt = 0\n",
    "for example in test_data[:1000]:\n",
    "    name1, name2 = example.texts\n",
    "    scores = model.predict([[name1, name2],[name2, name1]])\n",
    "    score = harmonic_mean(scores[0],scores[1])\n",
    "    if abs(score - example.label) > threshold:\n",
    "        print(name1, name2, score, example.label)\n",
    "        cnt += 1\n",
    "print(cnt)"
   ],
   "outputs": [
    {
     "name": "stdout",
     "output_type": "stream",
     "text": [
      "absolum absalom 0.7231626 0.5896516393442623\n",
      "lavinnia lavinna 0.53864753 0.4382405745062837\n",
      "christian christiani 0.6152768 0.8080110497237569\n",
      "damas damase 0.66388303 0.5552709359605912\n",
      "marion mariona 0.44165045 0.5434094903339192\n",
      "sarena serena 0.7259096 0.6035149384885765\n",
      "winfred winnfred 0.5817621 0.4440065681444992\n",
      "elonzo alonzo 0.68828225 0.5675177898702386\n",
      "wille willie 0.7405068 0.8575582852845325\n",
      "delrefugio derefugio 0.7361068 0.8541893362350381\n",
      "consolacion consuelo 1.7504643e-05 0.4578348035284683\n",
      "deltransito deltrancito 0.76761097 0.9201817695803262\n",
      "zachris zacharias 0.64121205 0.5117465224111283\n",
      "13\n",
      "CPU times: user 7.71 s, sys: 701 ms, total: 8.41 s\n",
      "Wall time: 7.18 s\n"
     ]
    }
   ],
   "execution_count": 24
  },
  {
   "cell_type": "markdown",
   "id": "a8224590",
   "metadata": {},
   "source": [
    "### How many positive pairs score negatively, and how many negative pairs score positively?"
   ]
  },
  {
   "cell_type": "code",
   "id": "0825f91b",
   "metadata": {
    "ExecuteTime": {
     "end_time": "2024-12-08T05:31:34.690600Z",
     "start_time": "2024-12-08T05:31:27.823516Z"
    }
   },
   "source": [
    "%%time\n",
    "\n",
    "threshold = 0.1\n",
    "cnt = 0\n",
    "for example in test_data[:1000]:\n",
    "    name1, name2 = example.texts\n",
    "    scores = model.predict([[name1, name2],[name2, name1]])\n",
    "    score = harmonic_mean(scores[0],scores[1])\n",
    "    if (example.label >= 0.5+threshold and score < 0.5) or (example.label < 0.5-threshold and score >= 0.5):\n",
    "        print(name1, name2, score, example.label, '***' if example.label >= 0.5+threshold and score < 0.5 else '')\n",
    "        cnt += 1\n",
    "print(cnt)\n"
   ],
   "outputs": [
    {
     "name": "stdout",
     "output_type": "stream",
     "text": [
      "0\n",
      "CPU times: user 7.36 s, sys: 656 ms, total: 8.02 s\n",
      "Wall time: 6.82 s\n"
     ]
    }
   ],
   "execution_count": 25
  },
  {
   "cell_type": "markdown",
   "id": "2d91d6ab",
   "metadata": {},
   "source": [
    "### How many names don't score highly against themselves?"
   ]
  },
  {
   "cell_type": "code",
   "id": "940a82e4",
   "metadata": {
    "ExecuteTime": {
     "end_time": "2024-12-08T05:31:41.882300Z",
     "start_time": "2024-12-08T05:31:34.691936Z"
    }
   },
   "source": [
    "%%time\n",
    "\n",
    "threshold = 0.75\n",
    "cnt = 0\n",
    "seen_names = set()\n",
    "for example in test_data[:1000]:\n",
    "    name1, name2 = example.texts\n",
    "    scores = model.predict([[name1, name1],[name2, name2]])\n",
    "    if name1 not in seen_names and scores[0] < threshold:\n",
    "        print(name1, scores[0])\n",
    "        cnt += 1\n",
    "        seen_names.add(name1)\n",
    "    if name2 not in seen_names and scores[1] < threshold:\n",
    "        print(name2, scores[1])\n",
    "        cnt += 1\n",
    "        seen_names.add(name2)\n",
    "print(cnt)"
   ],
   "outputs": [
    {
     "name": "stdout",
     "output_type": "stream",
     "text": [
      "0\n",
      "CPU times: user 7.64 s, sys: 712 ms, total: 8.35 s\n",
      "Wall time: 7.15 s\n"
     ]
    }
   ],
   "execution_count": 26
  },
  {
   "cell_type": "code",
   "execution_count": null,
   "id": "2fe420c8",
   "metadata": {},
   "outputs": [],
   "source": []
  }
 ],
 "metadata": {
  "kernelspec": {
   "display_name": "Python 3 (ipykernel)",
   "language": "python",
   "name": "python3"
  },
  "language_info": {
   "codemirror_mode": {
    "name": "ipython",
    "version": 3
   },
   "file_extension": ".py",
   "mimetype": "text/x-python",
   "name": "python",
   "nbconvert_exporter": "python",
   "pygments_lexer": "ipython3",
   "version": "3.9.16"
  }
 },
 "nbformat": 4,
 "nbformat_minor": 5
}
