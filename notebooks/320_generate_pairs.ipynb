{
 "cells": [
  {
   "cell_type": "code",
   "id": "530204d6",
   "metadata": {
    "pycharm": {
     "name": "#%%\n"
    },
    "ExecuteTime": {
     "end_time": "2024-10-22T20:53:15.632290Z",
     "start_time": "2024-10-22T20:53:15.591899Z"
    }
   },
   "source": [
    "%load_ext autoreload\n",
    "%autoreload 2"
   ],
   "outputs": [],
   "execution_count": 1
  },
  {
   "cell_type": "markdown",
   "id": "216b5f9f",
   "metadata": {
    "pycharm": {
     "name": "#%% md\n"
    }
   },
   "source": [
    "# Generate pairs of best-matching name pieces from multi-word given or surnames\n",
    "For a multi-word tree name <-> a multi-word record name pair, determine which tree-name word should be\n",
    "associated with which record-name word"
   ]
  },
  {
   "cell_type": "code",
   "id": "20a76005",
   "metadata": {
    "pycharm": {
     "name": "#%%\n"
    },
    "ExecuteTime": {
     "end_time": "2024-10-22T20:53:16.157739Z",
     "start_time": "2024-10-22T20:53:15.634602Z"
    }
   },
   "source": [
    "from os.path import join\n",
    "\n",
    "from mpire import WorkerPool\n",
    "from pathlib import Path\n",
    "import pandas as pd\n",
    "\n",
    "from nama.data.filesystem import glob, download_file_from_s3, save_file\n",
    "from nama.data.match import match_name_pairs"
   ],
   "outputs": [],
   "execution_count": 2
  },
  {
   "cell_type": "code",
   "id": "5f913ce0",
   "metadata": {
    "pycharm": {
     "name": "#%%\n"
    },
    "ExecuteTime": {
     "end_time": "2024-10-22T20:53:16.172808Z",
     "start_time": "2024-10-22T20:53:16.159018Z"
    }
   },
   "source": [
    "# DO FOR BOTH GIVEN AND SURNAME\n",
    "# given_surname = \"given\"\n",
    "given_surname = \"surname\"\n",
    "\n",
    "in_path = f\"s3://fs-nama-data/2024/familysearch-names/interim/tree-hr-{given_surname}/\"\n",
    "out_path = f\"s3://fs-nama-data/2024/familysearch-names/interim/tree-hr-{given_surname}-pairs/\""
   ],
   "outputs": [],
   "execution_count": 3
  },
  {
   "cell_type": "code",
   "id": "48a83242",
   "metadata": {
    "pycharm": {
     "name": "#%%\n"
    },
    "ExecuteTime": {
     "end_time": "2024-10-22T20:53:16.190238Z",
     "start_time": "2024-10-22T20:53:16.173958Z"
    }
   },
   "source": [
    "def process_file(out_path, filename):\n",
    "    basename = Path(filename).stem\n",
    "\n",
    "    # read file\n",
    "    filename = download_file_from_s3(filename) if filename.startswith(\"s3://\") else filename\n",
    "    df = pd.read_parquet(filename)\n",
    "\n",
    "    # split name and alt-name into individual name pieces\n",
    "    df[\"name_pieces\"] = df[\"name\"].str.split()\n",
    "    df[\"alt_name_pieces\"] = df[\"alt_name\"].str.split()\n",
    "\n",
    "    # match pieces in name with the nearest alt_name pieces\n",
    "    df[\"pairs\"] = df.apply(match_name_pairs, axis=1)\n",
    "\n",
    "    # explode pairs into a new (name, alt_name) dataframe\n",
    "    df = pd.DataFrame(\n",
    "        df[[\"pairs\"]].explode(\"pairs\", ignore_index=True).dropna()[\"pairs\"].tolist(),\n",
    "        columns=[\"name\", \"alt_name\"],\n",
    "    )\n",
    "\n",
    "    # remove empty\n",
    "    df = df[~df[\"name\"].isna() & ~df[\"alt_name\"].isna()]\n",
    "\n",
    "    # write\n",
    "    save_file(join(out_path, basename) + \".parquet\", \n",
    "              lambda local_out_path : df.to_parquet(local_out_path))    "
   ],
   "outputs": [],
   "execution_count": 4
  },
  {
   "cell_type": "code",
   "id": "40417510",
   "metadata": {
    "pycharm": {
     "name": "#%%\n"
    },
    "ExecuteTime": {
     "end_time": "2024-10-22T21:37:41.203740Z",
     "start_time": "2024-10-22T20:53:16.717933Z"
    }
   },
   "source": [
    "# process files\n",
    "filenames = glob(join(in_path,\"*.parquet\"))\n",
    "with WorkerPool(shared_objects=out_path) as pool:\n",
    "    pool.map(process_file, filenames, progress_bar=True)"
   ],
   "outputs": [
    {
     "name": "stderr",
     "output_type": "stream",
     "text": [
      "100%|██████████| 12000/12000 [44:19<00:00,  1.41it/s] \n"
     ]
    }
   ],
   "execution_count": 5
  },
  {
   "cell_type": "code",
   "execution_count": null,
   "id": "98dc8cd0",
   "metadata": {
    "pycharm": {
     "name": "#%%\n"
    }
   },
   "outputs": [],
   "source": []
  }
 ],
 "metadata": {
  "kernelspec": {
   "display_name": "nama",
   "language": "python",
   "name": "nama"
  },
  "language_info": {
   "codemirror_mode": {
    "name": "ipython",
    "version": 3
   },
   "file_extension": ".py",
   "mimetype": "text/x-python",
   "name": "python",
   "nbconvert_exporter": "python",
   "pygments_lexer": "ipython3",
   "version": "3.9.16"
  }
 },
 "nbformat": 4,
 "nbformat_minor": 5
}
