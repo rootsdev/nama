{
 "cells": [
  {
   "cell_type": "code",
   "execution_count": 1,
   "id": "6ff95667",
   "metadata": {
    "pycharm": {
     "name": "#%%\n"
    }
   },
   "outputs": [],
   "source": [
    "%load_ext autoreload\n",
    "%autoreload 2"
   ]
  },
  {
   "cell_type": "markdown",
   "id": "945d9f1a",
   "metadata": {
    "pycharm": {
     "name": "#%% md\n"
    }
   },
   "source": [
    "# Aggregate preferred names\n",
    "Split into individual name pieces before aggregation"
   ]
  },
  {
   "cell_type": "code",
   "execution_count": 2,
   "id": "b047809e",
   "metadata": {
    "pycharm": {
     "name": "#%%\n"
    }
   },
   "outputs": [],
   "source": [
    "from os.path import join\n",
    "\n",
    "import pandas as pd\n",
    "from mpire import WorkerPool\n",
    "\n",
    "from nama.data.filesystem import glob, download_file_from_s3, save_file"
   ]
  },
  {
   "cell_type": "code",
   "execution_count": 3,
   "id": "4eb74209",
   "metadata": {
    "pycharm": {
     "name": "#%%\n"
    }
   },
   "outputs": [],
   "source": [
    "# TODO process given and surname\n",
    "given_surname = \"given\"\n",
    "# given_surname = \"surname\"\n",
    "\n",
    "is_surname = given_surname == \"surname\"\n",
    "\n",
    "in_path = f\"s3://fs-nama-data/2024/familysearch-names/interim/tree-preferred-{given_surname}/\"\n",
    "out_path = f\"s3://fs-nama-data/2024/familysearch-names/processed/tree-preferred-{given_surname}-aggr.csv.gz\""
   ]
  },
  {
   "cell_type": "code",
   "execution_count": 4,
   "id": "def37075",
   "metadata": {
    "pycharm": {
     "name": "#%%\n"
    }
   },
   "outputs": [
    {
     "name": "stderr",
     "output_type": "stream",
     "text": [
      "Exception occurred, terminating ... :  25%|█████████▉                              | 2995/12000 [04:41<07:43, 19.42it/s]"
     ]
    },
    {
     "name": "stdout",
     "output_type": "stream",
     "text": [
      "Error downloading file s3://fs-nama-data/2024/familysearch-names/interim/tree-preferred-given/part-02940.parquet from S3: \n",
      "Error downloading file s3://fs-nama-data/2024/familysearch-names/interim/tree-preferred-given/part-03026.parquet from S3: \n",
      "Error downloading file s3://fs-nama-data/2024/familysearch-names/interim/tree-preferred-given/part-02998.parquet from S3: \n",
      "Error downloading file s3://fs-nama-data/2024/familysearch-names/interim/tree-preferred-given/part-02929.parquet from S3: \n",
      "Error downloading file s3://fs-nama-data/2024/familysearch-names/interim/tree-preferred-given/part-03012.parquet from S3: \n",
      "Error downloading file s3://fs-nama-data/2024/familysearch-names/interim/tree-preferred-given/part-02950.parquet from S3: \n",
      "Error downloading file s3://fs-nama-data/2024/familysearch-names/interim/tree-preferred-given/part-02915.parquet from S3: \n",
      "Error downloading file s3://fs-nama-data/2024/familysearch-names/interim/tree-preferred-given/part-03004.parquet from S3: \n"
     ]
    },
    {
     "name": "stderr",
     "output_type": "stream",
     "text": [
      "\n"
     ]
    },
    {
     "name": "stdout",
     "output_type": "stream",
     "text": [
      "Error downloading file s3://fs-nama-data/2024/familysearch-names/interim/tree-preferred-given/part-02973.parquet from S3: \n",
      "Error downloading file s3://fs-nama-data/2024/familysearch-names/interim/tree-preferred-given/part-03096.parquet from S3: \n",
      "Error downloading file s3://fs-nama-data/2024/familysearch-names/interim/tree-preferred-given/part-03040.parquet from S3: \n",
      "Error downloading file s3://fs-nama-data/2024/familysearch-names/interim/tree-preferred-given/part-02984.parquet from S3: \n",
      "Error downloading file s3://fs-nama-data/2024/familysearch-names/interim/tree-preferred-given/part-03072.parquet from S3: \n",
      "Error downloading file s3://fs-nama-data/2024/familysearch-names/interim/tree-preferred-given/part-02904.parquet from S3: \n",
      "Error downloading file s3://fs-nama-data/2024/familysearch-names/interim/tree-preferred-given/part-03052.parquet from S3: \n"
     ]
    },
    {
     "ename": "KeyboardInterrupt",
     "evalue": "",
     "output_type": "error",
     "traceback": [
      "\u001B[0;31m---------------------------------------------------------------------------\u001B[0m",
      "\u001B[0;31mKeyboardInterrupt\u001B[0m                         Traceback (most recent call last)",
      "File \u001B[0;32m~/rootsdev/nama/.venv/lib/python3.12/site-packages/mpire/pool.py:762\u001B[0m, in \u001B[0;36mWorkerPool.imap_unordered\u001B[0;34m(self, func, iterable_of_args, iterable_len, max_tasks_active, chunk_size, n_splits, worker_lifespan, progress_bar, worker_init, worker_exit, task_timeout, worker_init_timeout, worker_exit_timeout, progress_bar_options, progress_bar_style)\u001B[0m\n\u001B[1;32m    761\u001B[0m \u001B[38;5;28;01mtry\u001B[39;00m:\n\u001B[0;32m--> 762\u001B[0m     \u001B[38;5;28;01myield\u001B[39;00m \u001B[43mimap_iterator\u001B[49m\u001B[38;5;241;43m.\u001B[39;49m\u001B[43mnext\u001B[49m\u001B[43m(\u001B[49m\u001B[43mblock\u001B[49m\u001B[38;5;241;43m=\u001B[39;49m\u001B[38;5;28;43;01mTrue\u001B[39;49;00m\u001B[43m,\u001B[49m\u001B[43m \u001B[49m\u001B[43mtimeout\u001B[49m\u001B[38;5;241;43m=\u001B[39;49m\u001B[38;5;241;43m0.01\u001B[39;49m\u001B[43m)\u001B[49m\n\u001B[1;32m    763\u001B[0m     n_active \u001B[38;5;241m-\u001B[39m\u001B[38;5;241m=\u001B[39m \u001B[38;5;241m1\u001B[39m\n",
      "File \u001B[0;32m~/rootsdev/nama/.venv/lib/python3.12/site-packages/mpire/async_result.py:161\u001B[0m, in \u001B[0;36mUnorderedAsyncResultIterator.next\u001B[0;34m(self, block, timeout)\u001B[0m\n\u001B[1;32m    160\u001B[0m \u001B[38;5;28;01mwhile\u001B[39;00m \u001B[38;5;129;01mnot\u001B[39;00m \u001B[38;5;28mself\u001B[39m\u001B[38;5;241m.\u001B[39m_items:\n\u001B[0;32m--> 161\u001B[0m     timed_out \u001B[38;5;241m=\u001B[39m \u001B[38;5;129;01mnot\u001B[39;00m \u001B[38;5;28;43mself\u001B[39;49m\u001B[38;5;241;43m.\u001B[39;49m\u001B[43m_condition\u001B[49m\u001B[38;5;241;43m.\u001B[39;49m\u001B[43mwait\u001B[49m\u001B[43m(\u001B[49m\u001B[43mtimeout\u001B[49m\u001B[38;5;241;43m=\u001B[39;49m\u001B[43mtimeout\u001B[49m\u001B[43m)\u001B[49m\n\u001B[1;32m    162\u001B[0m     \u001B[38;5;28;01mif\u001B[39;00m timed_out:\n",
      "File \u001B[0;32m~/.local/share/mise/installs/python/3.12.7/lib/python3.12/threading.py:359\u001B[0m, in \u001B[0;36mCondition.wait\u001B[0;34m(self, timeout)\u001B[0m\n\u001B[1;32m    358\u001B[0m \u001B[38;5;28;01mif\u001B[39;00m timeout \u001B[38;5;241m>\u001B[39m \u001B[38;5;241m0\u001B[39m:\n\u001B[0;32m--> 359\u001B[0m     gotit \u001B[38;5;241m=\u001B[39m \u001B[43mwaiter\u001B[49m\u001B[38;5;241;43m.\u001B[39;49m\u001B[43macquire\u001B[49m\u001B[43m(\u001B[49m\u001B[38;5;28;43;01mTrue\u001B[39;49;00m\u001B[43m,\u001B[49m\u001B[43m \u001B[49m\u001B[43mtimeout\u001B[49m\u001B[43m)\u001B[49m\n\u001B[1;32m    360\u001B[0m \u001B[38;5;28;01melse\u001B[39;00m:\n",
      "\u001B[0;31mKeyboardInterrupt\u001B[0m: ",
      "\nDuring handling of the above exception, another exception occurred:\n",
      "\u001B[0;31mKeyboardInterrupt\u001B[0m                         Traceback (most recent call last)",
      "Cell \u001B[0;32mIn[4], line 7\u001B[0m\n\u001B[1;32m      4\u001B[0m     \u001B[38;5;28;01mreturn\u001B[39;00m pd\u001B[38;5;241m.\u001B[39mread_parquet(filename)\n\u001B[1;32m      6\u001B[0m \u001B[38;5;28;01mwith\u001B[39;00m WorkerPool() \u001B[38;5;28;01mas\u001B[39;00m pool:\n\u001B[0;32m----> 7\u001B[0m     dfs \u001B[38;5;241m=\u001B[39m \u001B[43mpool\u001B[49m\u001B[38;5;241;43m.\u001B[39;49m\u001B[43mmap\u001B[49m\u001B[43m(\u001B[49m\u001B[43mread_file\u001B[49m\u001B[43m,\u001B[49m\u001B[43m \u001B[49m\u001B[43mglob\u001B[49m\u001B[43m(\u001B[49m\u001B[43mjoin\u001B[49m\u001B[43m(\u001B[49m\u001B[43min_path\u001B[49m\u001B[43m,\u001B[49m\u001B[43m \u001B[49m\u001B[38;5;124;43m\"\u001B[39;49m\u001B[38;5;124;43mpart-*\u001B[39;49m\u001B[38;5;124;43m\"\u001B[39;49m\u001B[43m)\u001B[49m\u001B[43m)\u001B[49m\u001B[43m,\u001B[49m\u001B[43m \u001B[49m\u001B[43mprogress_bar\u001B[49m\u001B[38;5;241;43m=\u001B[39;49m\u001B[38;5;28;43;01mTrue\u001B[39;49;00m\u001B[43m)\u001B[49m\n\u001B[1;32m      8\u001B[0m \u001B[38;5;28mprint\u001B[39m(\u001B[38;5;28mlen\u001B[39m(dfs))\n\u001B[1;32m      9\u001B[0m \u001B[38;5;28mprint\u001B[39m(dfs[\u001B[38;5;241m0\u001B[39m]\u001B[38;5;241m.\u001B[39mshape)\n",
      "File \u001B[0;32m~/rootsdev/nama/.venv/lib/python3.12/site-packages/mpire/pool.py:467\u001B[0m, in \u001B[0;36mWorkerPool.map\u001B[0;34m(self, func, iterable_of_args, iterable_len, max_tasks_active, chunk_size, n_splits, worker_lifespan, progress_bar, concatenate_numpy_output, worker_init, worker_exit, task_timeout, worker_init_timeout, worker_exit_timeout, progress_bar_options, progress_bar_style)\u001B[0m\n\u001B[1;32m    465\u001B[0m \u001B[38;5;28;01mif\u001B[39;00m iterable_len \u001B[38;5;129;01mis\u001B[39;00m \u001B[38;5;28;01mNone\u001B[39;00m \u001B[38;5;129;01mand\u001B[39;00m \u001B[38;5;28mhasattr\u001B[39m(iterable_of_args, \u001B[38;5;124m'\u001B[39m\u001B[38;5;124m__len__\u001B[39m\u001B[38;5;124m'\u001B[39m):\n\u001B[1;32m    466\u001B[0m     iterable_len \u001B[38;5;241m=\u001B[39m \u001B[38;5;28mlen\u001B[39m(iterable_of_args)\n\u001B[0;32m--> 467\u001B[0m results \u001B[38;5;241m=\u001B[39m \u001B[38;5;28;43mself\u001B[39;49m\u001B[38;5;241;43m.\u001B[39;49m\u001B[43mmap_unordered\u001B[49m\u001B[43m(\u001B[49m\n\u001B[1;32m    468\u001B[0m \u001B[43m    \u001B[49m\u001B[43mfunc\u001B[49m\u001B[43m,\u001B[49m\u001B[43m \u001B[49m\u001B[43m(\u001B[49m\u001B[43m(\u001B[49m\u001B[43margs_idx\u001B[49m\u001B[43m,\u001B[49m\u001B[43m \u001B[49m\u001B[43margs\u001B[49m\u001B[43m)\u001B[49m\u001B[43m \u001B[49m\u001B[38;5;28;43;01mfor\u001B[39;49;00m\u001B[43m \u001B[49m\u001B[43margs_idx\u001B[49m\u001B[43m,\u001B[49m\u001B[43m \u001B[49m\u001B[43margs\u001B[49m\u001B[43m \u001B[49m\u001B[38;5;129;43;01min\u001B[39;49;00m\u001B[43m \u001B[49m\u001B[38;5;28;43menumerate\u001B[39;49m\u001B[43m(\u001B[49m\u001B[43miterable_of_args\u001B[49m\u001B[43m)\u001B[49m\u001B[43m)\u001B[49m\u001B[43m,\u001B[49m\u001B[43m \u001B[49m\u001B[43miterable_len\u001B[49m\u001B[43m,\u001B[49m\u001B[43m \u001B[49m\u001B[43mmax_tasks_active\u001B[49m\u001B[43m,\u001B[49m\n\u001B[1;32m    469\u001B[0m \u001B[43m    \u001B[49m\u001B[43mchunk_size\u001B[49m\u001B[43m,\u001B[49m\u001B[43m \u001B[49m\u001B[43mn_splits\u001B[49m\u001B[43m,\u001B[49m\u001B[43m \u001B[49m\u001B[43mworker_lifespan\u001B[49m\u001B[43m,\u001B[49m\u001B[43m \u001B[49m\u001B[43mprogress_bar\u001B[49m\u001B[43m,\u001B[49m\u001B[43m \u001B[49m\u001B[43mworker_init\u001B[49m\u001B[43m,\u001B[49m\u001B[43m \u001B[49m\u001B[43mworker_exit\u001B[49m\u001B[43m,\u001B[49m\u001B[43m \u001B[49m\u001B[43mtask_timeout\u001B[49m\u001B[43m,\u001B[49m\u001B[43m \u001B[49m\n\u001B[1;32m    470\u001B[0m \u001B[43m    \u001B[49m\u001B[43mworker_init_timeout\u001B[49m\u001B[43m,\u001B[49m\u001B[43m \u001B[49m\u001B[43mworker_exit_timeout\u001B[49m\u001B[43m,\u001B[49m\u001B[43m \u001B[49m\u001B[43mprogress_bar_options\u001B[49m\u001B[43m,\u001B[49m\u001B[43m \u001B[49m\u001B[43mprogress_bar_style\u001B[49m\n\u001B[1;32m    471\u001B[0m \u001B[43m\u001B[49m\u001B[43m)\u001B[49m\n\u001B[1;32m    473\u001B[0m \u001B[38;5;66;03m# Notify workers to forget about order\u001B[39;00m\n\u001B[1;32m    474\u001B[0m \u001B[38;5;28mself\u001B[39m\u001B[38;5;241m.\u001B[39m_worker_comms\u001B[38;5;241m.\u001B[39mclear_keep_order()\n",
      "File \u001B[0;32m~/rootsdev/nama/.venv/lib/python3.12/site-packages/mpire/pool.py:534\u001B[0m, in \u001B[0;36mWorkerPool.map_unordered\u001B[0;34m(self, func, iterable_of_args, iterable_len, max_tasks_active, chunk_size, n_splits, worker_lifespan, progress_bar, worker_init, worker_exit, task_timeout, worker_init_timeout, worker_exit_timeout, progress_bar_options, progress_bar_style)\u001B[0m\n\u001B[1;32m    492\u001B[0m \u001B[38;5;250m\u001B[39m\u001B[38;5;124;03m\"\"\"\u001B[39;00m\n\u001B[1;32m    493\u001B[0m \u001B[38;5;124;03mSame as ``multiprocessing.map()``, but unordered. Also allows a user to set the maximum number of tasks\u001B[39;00m\n\u001B[1;32m    494\u001B[0m \u001B[38;5;124;03mavailable in the queue.\u001B[39;00m\n\u001B[0;32m   (...)\u001B[0m\n\u001B[1;32m    531\u001B[0m \u001B[38;5;124;03m:return: List with unordered results\u001B[39;00m\n\u001B[1;32m    532\u001B[0m \u001B[38;5;124;03m\"\"\"\u001B[39;00m\n\u001B[1;32m    533\u001B[0m \u001B[38;5;66;03m# Simply call imap and cast it to a list. This make sure all elements are there before returning\u001B[39;00m\n\u001B[0;32m--> 534\u001B[0m \u001B[38;5;28;01mreturn\u001B[39;00m \u001B[38;5;28;43mlist\u001B[39;49m\u001B[43m(\u001B[49m\u001B[38;5;28;43mself\u001B[39;49m\u001B[38;5;241;43m.\u001B[39;49m\u001B[43mimap_unordered\u001B[49m\u001B[43m(\u001B[49m\u001B[43mfunc\u001B[49m\u001B[43m,\u001B[49m\u001B[43m \u001B[49m\u001B[43miterable_of_args\u001B[49m\u001B[43m,\u001B[49m\u001B[43m \u001B[49m\u001B[43miterable_len\u001B[49m\u001B[43m,\u001B[49m\u001B[43m \u001B[49m\u001B[43mmax_tasks_active\u001B[49m\u001B[43m,\u001B[49m\u001B[43m \u001B[49m\u001B[43mchunk_size\u001B[49m\u001B[43m,\u001B[49m\n\u001B[1;32m    535\u001B[0m \u001B[43m                                \u001B[49m\u001B[43mn_splits\u001B[49m\u001B[43m,\u001B[49m\u001B[43m \u001B[49m\u001B[43mworker_lifespan\u001B[49m\u001B[43m,\u001B[49m\u001B[43m \u001B[49m\u001B[43mprogress_bar\u001B[49m\u001B[43m,\u001B[49m\u001B[43m \u001B[49m\u001B[43mworker_init\u001B[49m\u001B[43m,\u001B[49m\u001B[43m \u001B[49m\u001B[43mworker_exit\u001B[49m\u001B[43m,\u001B[49m\u001B[43m \u001B[49m\n\u001B[1;32m    536\u001B[0m \u001B[43m                                \u001B[49m\u001B[43mtask_timeout\u001B[49m\u001B[43m,\u001B[49m\u001B[43m \u001B[49m\u001B[43mworker_init_timeout\u001B[49m\u001B[43m,\u001B[49m\u001B[43m \u001B[49m\u001B[43mworker_exit_timeout\u001B[49m\u001B[43m,\u001B[49m\u001B[43m \u001B[49m\u001B[43mprogress_bar_options\u001B[49m\u001B[43m,\u001B[49m\n\u001B[1;32m    537\u001B[0m \u001B[43m                                \u001B[49m\u001B[43mprogress_bar_style\u001B[49m\u001B[43m)\u001B[49m\u001B[43m)\u001B[49m\n",
      "File \u001B[0;32m~/rootsdev/nama/.venv/lib/python3.12/site-packages/mpire/pool.py:798\u001B[0m, in \u001B[0;36mWorkerPool.imap_unordered\u001B[0;34m(self, func, iterable_of_args, iterable_len, max_tasks_active, chunk_size, n_splits, worker_lifespan, progress_bar, worker_init, worker_exit, task_timeout, worker_init_timeout, worker_exit_timeout, progress_bar_options, progress_bar_style)\u001B[0m\n\u001B[1;32m    795\u001B[0m                 \u001B[38;5;28mself\u001B[39m\u001B[38;5;241m.\u001B[39m_worker_comms\u001B[38;5;241m.\u001B[39mwait_until_progress_bar_is_complete()\n\u001B[1;32m    797\u001B[0m         \u001B[38;5;28;01mexcept\u001B[39;00m \u001B[38;5;167;01mKeyboardInterrupt\u001B[39;00m:\n\u001B[0;32m--> 798\u001B[0m             \u001B[38;5;28;43mself\u001B[39;49m\u001B[38;5;241;43m.\u001B[39;49m\u001B[43m_handle_exception\u001B[49m\u001B[43m(\u001B[49m\u001B[43m)\u001B[49m\n\u001B[1;32m    800\u001B[0m \u001B[38;5;28;01mfinally\u001B[39;00m:\n\u001B[1;32m    801\u001B[0m     \u001B[38;5;28;01mif\u001B[39;00m tqdm_manager_owner:\n",
      "File \u001B[0;32m~/rootsdev/nama/.venv/lib/python3.12/site-packages/mpire/pool.py:926\u001B[0m, in \u001B[0;36mWorkerPool._handle_exception\u001B[0;34m(self)\u001B[0m\n\u001B[1;32m    923\u001B[0m \u001B[38;5;28mself\u001B[39m\u001B[38;5;241m.\u001B[39m_worker_comms\u001B[38;5;241m.\u001B[39mclear_keep_order()\n\u001B[1;32m    925\u001B[0m \u001B[38;5;66;03m# Raise\u001B[39;00m\n\u001B[0;32m--> 926\u001B[0m \u001B[38;5;28;01mraise\u001B[39;00m exception\n",
      "\u001B[0;31mKeyboardInterrupt\u001B[0m: "
     ]
    }
   ],
   "source": [
    "# read input files into dataframe array\n",
    "def read_file(filename):\n",
    "    filename = download_file_from_s3(filename) if filename.startswith(\"s3://\") else filename\n",
    "    return pd.read_parquet(filename)\n",
    "\n",
    "with WorkerPool() as pool:\n",
    "    dfs = pool.map(read_file, glob(join(in_path, \"part-*\")), progress_bar=True)\n",
    "print(len(dfs))\n",
    "print(dfs[0].shape)\n",
    "print(dfs[0])"
   ]
  },
  {
   "cell_type": "code",
   "execution_count": null,
   "id": "e745c133",
   "metadata": {
    "pycharm": {
     "name": "#%%\n"
    }
   },
   "outputs": [],
   "source": [
    "# process and pre-aggregate each dataframe\n",
    "def parameterize(dfs):\n",
    "    # a second element in the tuple is needed to keep mpire from trying to also iterate over the df\n",
    "    return [(df, ix) for ix, df in enumerate(dfs)]\n",
    "\n",
    "\n",
    "def process(df, _):\n",
    "    # split into individual name pieces\n",
    "    df[\"name\"] = df[\"name\"].str.split()\n",
    "\n",
    "    # explode names\n",
    "    df = pd.DataFrame(\n",
    "        df.explode(\"name\", ignore_index=True).dropna()[\"name\"].tolist(),\n",
    "        columns=[\"name\"],\n",
    "    )\n",
    "\n",
    "    # group\n",
    "    df[\"frequency\"] = 1\n",
    "    return df.groupby([\"name\"]).sum().reset_index()\n",
    "\n",
    "\n",
    "with WorkerPool() as pool:\n",
    "    dfs = pool.map(process, parameterize(dfs), progress_bar=True)"
   ]
  },
  {
   "cell_type": "code",
   "execution_count": null,
   "id": "7371ec1e",
   "metadata": {
    "pycharm": {
     "name": "#%%\n"
    }
   },
   "outputs": [],
   "source": [
    "print(len(dfs))\n",
    "print(dfs[0].shape)\n",
    "print(dfs[0])"
   ]
  },
  {
   "cell_type": "code",
   "execution_count": null,
   "id": "e3f3736e",
   "metadata": {
    "pycharm": {
     "name": "#%%\n"
    }
   },
   "outputs": [],
   "source": [
    "%%time\n",
    "# combine all dataframes into a single dataframe\n",
    "df = pd.concat(dfs)\n",
    "del dfs\n",
    "print(df.shape)\n",
    "print(df)"
   ]
  },
  {
   "cell_type": "code",
   "execution_count": null,
   "id": "e8b05aa4",
   "metadata": {
    "pycharm": {
     "name": "#%%\n"
    }
   },
   "outputs": [],
   "source": [
    "%%time\n",
    "# group by name and sum frequency\n",
    "grouped = df.groupby([\"name\"]).sum().reset_index()\n",
    "del df\n",
    "print(grouped.shape)"
   ]
  },
  {
   "cell_type": "code",
   "execution_count": null,
   "id": "fc5fe1d9",
   "metadata": {
    "pycharm": {
     "name": "#%%\n"
    }
   },
   "outputs": [],
   "source": [
    "%%time\n",
    "# remove the empty name and single-occurrence names, and sort by descending frequency\n",
    "grouped = grouped[(grouped[\"name\"] != \"\") & (grouped[\"frequency\"] > 1)]\n",
    "grouped = grouped.sort_values(by=\"frequency\", ascending=False)"
   ]
  },
  {
   "cell_type": "code",
   "execution_count": null,
   "id": "88aa68d7",
   "metadata": {
    "pycharm": {
     "name": "#%%\n"
    }
   },
   "outputs": [],
   "source": [
    "print(grouped.memory_usage(deep=True))\n",
    "print(grouped)"
   ]
  },
  {
   "cell_type": "code",
   "execution_count": null,
   "id": "5a4e943c",
   "metadata": {
    "pycharm": {
     "name": "#%%\n"
    }
   },
   "outputs": [],
   "source": [
    "# write to csv\n",
    "save_file(out_path,\n",
    "          lambda local_out_path : grouped.to_csv(local_out_path, index=False))"
   ]
  },
  {
   "cell_type": "code",
   "execution_count": null,
   "id": "d11d1545",
   "metadata": {
    "pycharm": {
     "name": "#%%\n"
    }
   },
   "outputs": [],
   "source": []
  }
 ],
 "metadata": {
  "kernelspec": {
   "display_name": "Python 3 (ipykernel)",
   "language": "python",
   "name": "python3"
  },
  "language_info": {
   "codemirror_mode": {
    "name": "ipython",
    "version": 3
   },
   "file_extension": ".py",
   "mimetype": "text/x-python",
   "name": "python",
   "nbconvert_exporter": "python",
   "pygments_lexer": "ipython3",
   "version": "3.12.7"
  }
 },
 "nbformat": 4,
 "nbformat_minor": 5
}
