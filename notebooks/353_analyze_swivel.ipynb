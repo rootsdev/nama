{
 "cells": [
  {
   "cell_type": "code",
   "id": "896a97b4",
   "metadata": {
    "ExecuteTime": {
     "end_time": "2024-11-19T21:54:21.276145Z",
     "start_time": "2024-11-19T21:54:20.792673Z"
    }
   },
   "source": [
    "%load_ext autoreload\n",
    "%autoreload 2\n",
    "%matplotlib inline"
   ],
   "outputs": [],
   "execution_count": 1
  },
  {
   "cell_type": "markdown",
   "id": "4c9d8205",
   "metadata": {
    "pycharm": {
     "name": "#%% md\n"
    }
   },
   "source": "# Analyze swivel scores"
  },
  {
   "cell_type": "code",
   "id": "ad2e0f1b",
   "metadata": {
    "ExecuteTime": {
     "end_time": "2024-11-19T22:07:32.622946Z",
     "start_time": "2024-11-19T22:07:32.599055Z"
    }
   },
   "source": [
    "from collections import namedtuple, defaultdict\n",
    "# \n",
    "# import jellyfish\n",
    "# import matplotlib.pyplot as plt\n",
    "# from mpire import WorkerPool\n",
    "# import pandas as pd\n",
    "# import random\n",
    "# from sklearn.model_selection import train_test_split\n",
    "\n",
    "import numpy as np\n",
    "import torch\n",
    "# \n",
    "# from src.data.filesystem import fopen\n",
    "# from src.data.utils import load_dataset\n",
    "# from src.eval.utils import similars_to_ndarray\n",
    "from nama.models.swivel import SwivelModel, get_best_swivel_matches\n",
    "# from src.models.utils import remove_padding\n",
    "\n",
    "from nama.data.filesystem import download_file_from_s3, save_file\n",
    "from nama.data.utils import read_csv"
   ],
   "outputs": [],
   "execution_count": 15
  },
  {
   "cell_type": "code",
   "id": "2dfe0578",
   "metadata": {
    "ExecuteTime": {
     "end_time": "2024-11-19T21:54:23.238936Z",
     "start_time": "2024-11-19T21:54:23.215612Z"
    }
   },
   "source": [
    "# config\n",
    "\n",
    "# TODO run both given and surname\n",
    "given_surname = \"given\"\n",
    "# given_surname = \"surname\"\n",
    "\n",
    "vocab_size = 610000 if given_surname == \"given\" else 2100000\n",
    "embed_dim = 100\n",
    "Config = namedtuple(\"Config\", [\n",
    "    \"std_path\",\n",
    "    \"embed_dim\",\n",
    "    \"swivel_vocab_path\",\n",
    "    \"swivel_model_path\",\n",
    "])\n",
    "config = Config(\n",
    "    std_path = f\"../references/std_{given_surname}.txt\",\n",
    "    embed_dim=embed_dim,\n",
    "    swivel_vocab_path=f\"s3://fs-nama-data/2024/nama-data/data/models/fs-{given_surname}-swivel-vocab-{vocab_size}-augmented.csv\",\n",
    "    swivel_model_path=f\"s3://fs-nama-data/2024/nama-data/data/models/fs-{given_surname}-swivel-model-{vocab_size}-{embed_dim}-augmented.pth\",\n",
    "    \n",
    ")"
   ],
   "outputs": [],
   "execution_count": 3
  },
  {
   "metadata": {
    "ExecuteTime": {
     "end_time": "2024-11-19T21:58:44.028460Z",
     "start_time": "2024-11-19T21:58:44.001951Z"
    }
   },
   "cell_type": "code",
   "source": [
    "device = torch.device(\"cuda:0\" if torch.cuda.is_available() else \"cpu\")\n",
    "print(device)\n",
    "torch.cuda.empty_cache()\n",
    "print(torch.cuda.is_available())\n",
    "if torch.cuda.is_available():\n",
    "    print(\"cuda total\", torch.cuda.get_device_properties(0).total_memory)\n",
    "    print(\"cuda reserved\", torch.cuda.memory_reserved(0))\n",
    "    print(\"cuda allocated\", torch.cuda.memory_allocated(0))"
   ],
   "id": "819bdbe983073ec7",
   "outputs": [
    {
     "name": "stdout",
     "output_type": "stream",
     "text": [
      "cuda:0\n",
      "True\n",
      "cuda total 8141471744\n",
      "cuda reserved 0\n",
      "cuda allocated 0\n"
     ]
    }
   ],
   "execution_count": 10
  },
  {
   "cell_type": "code",
   "id": "390f4a78",
   "metadata": {
    "ExecuteTime": {
     "end_time": "2024-11-19T21:54:23.664681Z",
     "start_time": "2024-11-19T21:54:23.441026Z"
    }
   },
   "source": [
    "# load buckets\n",
    "bucket_names = defaultdict(set)\n",
    "name_buckets = defaultdict(set)\n",
    "with open(config.std_path, 'rt') as f:\n",
    "    for line in f.readlines():\n",
    "        names = line.strip().replace(':', ' ').split(' ')\n",
    "        bucket_name = names[0]\n",
    "        for name in names:\n",
    "            name = name.strip()\n",
    "            if len(name) == 0:\n",
    "                continue\n",
    "            bucket_names[bucket_name].add(name)\n",
    "            name_buckets[name].add(bucket_name)\n",
    "print(len(bucket_names), len(name_buckets))"
   ],
   "outputs": [
    {
     "name": "stdout",
     "output_type": "stream",
     "text": [
      "8878 95997\n"
     ]
    }
   ],
   "execution_count": 5
  },
  {
   "cell_type": "code",
   "id": "e269e938",
   "metadata": {
    "ExecuteTime": {
     "end_time": "2024-11-19T21:59:08.036109Z",
     "start_time": "2024-11-19T21:59:05.605249Z"
    }
   },
   "source": [
    "swivel_vocab_path = download_file_from_s3(config.swivel_vocab_path) if config.swivel_vocab_path.startswith(\"s3://\") else config.swivel_vocab_path\n",
    "vocab_df = read_csv(swivel_vocab_path)\n",
    "swivel_vocab = {name: _id for name, _id in zip(vocab_df[\"name\"], vocab_df[\"index\"])}\n",
    "print(len(swivel_vocab))"
   ],
   "outputs": [
    {
     "name": "stdout",
     "output_type": "stream",
     "text": [
      "610000\n"
     ]
    }
   ],
   "execution_count": 11
  },
  {
   "cell_type": "code",
   "id": "25b3e296",
   "metadata": {
    "ExecuteTime": {
     "end_time": "2024-11-19T21:59:55.479820Z",
     "start_time": "2024-11-19T21:59:29.888700Z"
    }
   },
   "source": [
    "swivel_model_path = download_file_from_s3(config.swivel_model_path) if config.swivel_model_path.startswith(\"s3://\") else config.swivel_model_path\n",
    "swivel_model = SwivelModel(len(swivel_vocab), config.embed_dim)\n",
    "swivel_model.load_state_dict(torch.load(swivel_model_path, map_location=torch.device(device)))\n",
    "swivel_model.to(device)\n",
    "swivel_model.eval()"
   ],
   "outputs": [
    {
     "data": {
      "text/plain": [
       "SwivelModel(\n",
       "  (wi): Embedding(610000, 100)\n",
       "  (wj): Embedding(610000, 100)\n",
       "  (bi): Embedding(610000, 1)\n",
       "  (bj): Embedding(610000, 1)\n",
       ")"
      ]
     },
     "execution_count": 12,
     "metadata": {},
     "output_type": "execute_result"
    }
   ],
   "execution_count": 12
  },
  {
   "metadata": {},
   "cell_type": "markdown",
   "source": "## Calculate swivel scores for names in the same bucket",
   "id": "7cf2dc697794f945"
  },
  {
   "metadata": {
    "ExecuteTime": {
     "end_time": "2024-11-19T22:13:10.121539Z",
     "start_time": "2024-11-19T22:13:09.946303Z"
    }
   },
   "cell_type": "code",
   "source": [
    "scores = []\n",
    "for ix, (bucket_name, names) in enumerate(bucket_names.items()):\n",
    "    if bucket_name not in swivel_vocab:\n",
    "        print(\"bucket name missing\", bucket_name)\n",
    "        continue\n",
    "    for name in names:\n",
    "        if name not in swivel_vocab:\n",
    "            print(\"name missing\", name)\n",
    "            continue\n",
    "        if name == bucket_name:\n",
    "            continue\n",
    "        swivel_scores = get_best_swivel_matches(model=swivel_model, \n",
    "                                                vocab=swivel_vocab, \n",
    "                                                input_names=np.array([bucket_name]),\n",
    "                                                candidate_names=np.array([name]), \n",
    "                                                encoder_model=None,\n",
    "                                                k=1, \n",
    "                                                batch_size=1000,\n",
    "                                                add_context=True,\n",
    "                                                progress_bar=False,\n",
    "                                                n_jobs=1)\n",
    "        print(bucket_name, swivel_scores[0][0])\n",
    "    if ix > 10:\n",
    "        break"
   ],
   "id": "f734f8b9be7c9384",
   "outputs": [
    {
     "name": "stdout",
     "output_type": "stream",
     "text": [
      "aad ['adi' 0.4426210658829054]\n",
      "aaffien ['affie' 0.4656717356705998]\n",
      "aafje ['aaftje' 0.6114681089816434]\n",
      "name missing afje\n",
      "aafje ['aefje' 0.651685494770062]\n",
      "aagaard ['agard' 0.6384286223835175]\n",
      "aage ['ouwe' 0.038618646644627275]\n",
      "aaltje ['aalje' 0.5886518828655694]\n",
      "aaltje ['aletje' 0.5381761533546043]\n",
      "aaltje ['aaltjen' 0.7828434022831788]\n",
      "name missing aeltijen\n",
      "aaltje ['altino' 0.29617106886264494]\n",
      "aaltje ['alchy' 0.1625622347454544]\n",
      "aaltje ['aeltijn' 0.5674344886632808]\n",
      "aaltje ['aaltji' 0.7765158614449673]\n",
      "aaltje ['aelke' 0.4292968461811517]\n",
      "aaltje ['aeltje' 0.722470821812775]\n",
      "aaltje ['elte' 0.28094489217194796]\n",
      "aaltje ['altin' 0.43206147550277313]\n",
      "aaltje ['aeltien' 0.6104051100538883]\n",
      "aaltje ['aal' 0.14934069488018445]\n",
      "aaltje ['alche' 0.22591997856881682]\n",
      "aaltje ['aleka' 0.19439982784549784]\n",
      "aaltje ['eltjen' 0.4339137976514315]\n",
      "aaltje ['aaltijn' 0.6836955632447763]\n",
      "aaltje ['eltje' 0.492060944802463]\n",
      "aaltje ['aeltge' 0.4980095389975159]\n",
      "aaltje ['altjen' 0.5770803550313351]\n",
      "aaltje ['aelken' 0.3173444243589055]\n",
      "aaltje ['alchie' 0.005862755893392093]\n",
      "aaltje ['aalten' 0.5168912664472094]\n",
      "aaltje ['aeltgen' 0.5165929722532088]\n",
      "aaltje ['aalken' 0.4705929918337184]\n",
      "aaltje ['aeltjen' 0.6488313176076087]\n",
      "aaltje ['aelten' 0.33180882389015]\n",
      "name missing altgen\n",
      "aaltje ['aalte' 0.5739880110545996]\n",
      "aaltje ['aaltien' 0.6897356133843955]\n",
      "aaltje ['alcha' 0.15905551751640745]\n",
      "aaron ['aaaron' 0.5026033076058259]\n",
      "aaron ['ariaan' 0.2667917754663303]\n",
      "aaron ['aren' 0.48883907386889613]\n",
      "aaron ['harian' 0.398914104129368]\n",
      "aaron ['arin' 0.43775510966610665]\n",
      "aaron ['heeren' 0.22609833605993848]\n",
      "aaron ['aryon' 0.42966048552503705]\n",
      "aaron ['eran' 0.3431824793585325]\n",
      "aaron ['haren' 0.48136707166053677]\n",
      "aaron ['aaran' 0.7017048940233691]\n",
      "aaron ['arrian' 0.3503211462122356]\n",
      "aaron ['errand' 0.2351692357578244]\n",
      "aaron ['hirons' 0.2695815921713698]\n",
      "aaron ['herran' 0.27148141338491455]\n",
      "aaron ['arion' 0.5189979603911026]\n",
      "aaron ['aryan' 0.24031816042300336]\n",
      "aaron ['irion' 0.3086864301971484]\n",
      "aaron ['aarron' 0.692839644916162]\n",
      "aaron ['aran' 0.4999085889344378]\n",
      "aaron ['harron' 0.5802255963164862]\n",
      "aaron ['erron' 0.4588422735537667]\n",
      "aaron ['eron' 0.47621950707343064]\n",
      "aaron ['heran' 0.28225554212880444]\n",
      "aaron ['aaren' 0.6747266606003754]\n",
      "aaron ['araon' 0.4871504641153829]\n",
      "aaron ['haron' 0.7473684613808717]\n",
      "aaron ['aron' 0.7148930687727928]\n",
      "aaron ['herring' 0.15740169806043558]\n",
      "aaron ['heertjes' -0.12148716934971714]\n",
      "aaron ['earon' 0.7972026369981997]\n",
      "aaron ['arone' 0.5194383506851254]\n",
      "aaron ['arrin' 0.37847697851697554]\n",
      "aaron ['erran' 0.3023412292029535]\n",
      "aaron ['arao' 0.32409701175854877]\n",
      "aaron ['arran' 0.45726506917311227]\n",
      "aaron ['erona' 0.326605026771817]\n",
      "aaron ['aerin' 0.2291316445964884]\n",
      "aaron ['arren' 0.4422932832207309]\n",
      "aaron ['heeres' 0.21727047239842875]\n",
      "aaron ['herron' 0.374466051981907]\n",
      "aaron ['ariann' 0.21091226123224588]\n",
      "aaron ['harring' 0.14364074643856117]\n",
      "name missing arentge\n",
      "aaron ['aeron' 0.5286681336898593]\n",
      "aaron ['auren' 0.39528735243989455]\n",
      "aaron ['auron' 0.5430690277573158]\n",
      "aaron ['eurene' 0.09483053265748102]\n",
      "aaron ['heron' 0.46185627825622017]\n",
      "aaron ['arnon' 0.5233757984630126]\n",
      "aaron ['heren' 0.22175644066415823]\n",
      "aaron ['arentjen' -0.10074033936247125]\n",
      "aaron ['horan' 0.3151613002952378]\n",
      "aaron ['aharon' 0.48414390928309153]\n",
      "aaron ['harren' 0.4100541507544654]\n",
      "aaron ['ariane' 0.2026770104077724]\n",
      "aaron ['aroon' 0.4285472203101005]\n",
      "aaron ['arian' 0.3689048757846407]\n",
      "aaron ['aaro' 0.6820382809444548]\n",
      "aaron ['arron' 0.6379005343205505]\n",
      "aaron ['harin' 0.4297419743814845]\n",
      "aaron ['heerkes' -0.0006716536596254943]\n",
      "aaron ['herren' 0.21818502059564482]\n",
      "aaron ['aar' 0.4373901154447981]\n",
      "aaron ['arien' 0.3564374724627362]\n",
      "aaron ['errin' 0.21279995409730376]\n",
      "aaron ['aurin' 0.3736558706922488]\n",
      "aaron ['arendtje' -0.019547566106914653]\n",
      "aaron ['harn' 0.47743159566262994]\n",
      "aaron ['heerke' -0.050979162035433886]\n",
      "name missing arijtje\n",
      "aaron ['aarin' 0.5325677278437355]\n",
      "aaron ['ehren' 0.24976787689297922]\n",
      "aaron ['aryn' 0.18000188719270932]\n",
      "aaron ['ariaen' 0.22056998928959726]\n",
      "aaron ['erin' 0.32406145151744153]\n",
      "aaron ['herond' 0.2742256174184978]\n",
      "aaron ['herrin' 0.2599788986398509]\n",
      "aaron ['hering' -0.011559567031967448]\n",
      "aaron ['hurren' 0.23305448654452224]\n",
      "aaron ['heere' 0.1379491251811553]\n",
      "aaron ['harran' 0.44373343014563077]\n",
      "aart ['aerd' 0.4848812027856093]\n",
      "aart ['eerts' 0.2708084781016125]\n",
      "aart ['aerdt' 0.43665561401144315]\n",
      "aart ['aerts' 0.4295741240602475]\n",
      "aart ['aarts' 0.5740158412961215]\n",
      "aart ['aard' 0.9101037275892947]\n",
      "aart ['aardt' 0.5334645277422332]\n",
      "aart ['eert' 0.3670487682688543]\n",
      "aartje ['aartien' 0.5490803578324635]\n",
      "aartje ['aertjen' 0.5582996640824481]\n",
      "aartje ['aartie' 0.6085372784886665]\n",
      "aartje ['aartjen' 0.7360019249818681]\n",
      "aartje ['aertje' 0.6695955092346394]\n",
      "aartje ['artje' 0.6411399639215912]\n",
      "aartje ['aertgen' 0.3684760954788157]\n",
      "aaste ['aust' 0.11608308885489083]\n",
      "aaste ['aste' 0.6391541473230321]\n",
      "aaste ['asta' 0.5510122983942274]\n",
      "aaste ['aasta' 0.9345939547148765]\n",
      "aaste ['austie' 0.31841580232421657]\n"
     ]
    }
   ],
   "execution_count": 22
  },
  {
   "cell_type": "code",
   "execution_count": null,
   "id": "737919ec",
   "metadata": {},
   "outputs": [],
   "source": [
    "_, input_names_eval_sample, _, weighted_actual_names_eval_sample = \\\n",
    "    train_test_split(input_names_eval, weighted_actual_names_eval, test_size=sample_size)\n",
    "candidate_names_eval_sample = candidate_names_eval"
   ]
  },
  {
   "cell_type": "code",
   "execution_count": null,
   "id": "47c0b96e",
   "metadata": {},
   "outputs": [],
   "source": [
    "print(\"input_names_eval_sample\", len(input_names_eval_sample))\n",
    "print(\"weighted_actual_names_eval_sample\", len(weighted_actual_names_eval_sample))\n",
    "print(\"candidate_names_eval_sample\", len(candidate_names_eval_sample))"
   ]
  },
  {
   "cell_type": "code",
   "execution_count": null,
   "id": "721651a2",
   "metadata": {},
   "outputs": [],
   "source": [
    "def calc_similarity_to(name):\n",
    "    name = remove_padding(name)\n",
    "\n",
    "    def calc_similarity(row):\n",
    "        cand_name = remove_padding(row[0])\n",
    "        dist = jellyfish.levenshtein_distance(name, cand_name)\n",
    "        return 1 - (dist / max(len(name), len(cand_name)))\n",
    "\n",
    "    return calc_similarity"
   ]
  },
  {
   "cell_type": "code",
   "execution_count": null,
   "id": "6cc40b08",
   "metadata": {},
   "outputs": [],
   "source": [
    "def get_similars(shared, names, _=None):\n",
    "    candidate_names_test, k = shared\n",
    "    \n",
    "    def get_similars_for_name(name):\n",
    "        scores = np.apply_along_axis(calc_similarity_to(name), 1, candidate_names_test[:, None])\n",
    "\n",
    "        # sorted_scores_idx = np.argsort(scores)[::-1][:k]\n",
    "        partitioned_idx = np.argpartition(scores, -k)[-k:]\n",
    "        sorted_partitioned_idx = np.argsort(scores[partitioned_idx])[::-1]\n",
    "        sorted_scores_idx = partitioned_idx[sorted_partitioned_idx]\n",
    "\n",
    "        candidate_names = candidate_names_test[sorted_scores_idx]\n",
    "        candidate_scores = scores[sorted_scores_idx]\n",
    "\n",
    "        return list(zip(candidate_names, candidate_scores))\n",
    "    \n",
    "    result = []\n",
    "    for name in names:\n",
    "        result.append(get_similars_for_name(name))\n",
    "    return result"
   ]
  },
  {
   "cell_type": "code",
   "execution_count": null,
   "id": "02d09438",
   "metadata": {},
   "outputs": [],
   "source": [
    "def create_batches(names, batch_size):\n",
    "    batches = []\n",
    "    for ix in range(0, len(names), batch_size):\n",
    "        # batches are tuples to keep mpire from expanding the batch \n",
    "        batches.append((names[ix:ix + batch_size], ix))\n",
    "    return batches"
   ]
  },
  {
   "cell_type": "code",
   "execution_count": null,
   "id": "02386fd8",
   "metadata": {},
   "outputs": [],
   "source": [
    "swivel_names_scores = get_best_swivel_matches(model=swivel_model, \n",
    "                                              vocab=swivel_vocab, \n",
    "                                              input_names=input_names_eval_sample,\n",
    "                                              candidate_names=candidate_names_eval_sample, \n",
    "                                              encoder_model=None,\n",
    "                                              k=num_matches, \n",
    "                                              batch_size=batch_size,\n",
    "                                              add_context=True,\n",
    "                                              n_jobs=1)"
   ]
  },
  {
   "cell_type": "code",
   "execution_count": null,
   "id": "a28f2fc2",
   "metadata": {},
   "outputs": [],
   "source": [
    "print(sum(len(names_scores) for names_scores in swivel_names_scores))"
   ]
  },
  {
   "cell_type": "code",
   "execution_count": null,
   "id": "12ba1a35",
   "metadata": {},
   "outputs": [],
   "source": [
    "input_names_batches = create_batches(input_names_eval_sample, batch_size=batch_size)\n",
    "with WorkerPool(\n",
    "    shared_objects=(candidate_names_eval_sample, num_matches),\n",
    ") as pool:\n",
    "    lev_names_scores = pool.map(get_similars, input_names_batches, progress_bar=True)\n",
    "# flatten\n",
    "lev_names_scores = [name_score for batch in lev_names_scores for name_score in batch]\n",
    "# convert to ndarray\n",
    "lev_names_scores = similars_to_ndarray(lev_names_scores)"
   ]
  },
  {
   "cell_type": "code",
   "execution_count": null,
   "id": "d8776c09",
   "metadata": {},
   "outputs": [],
   "source": [
    "print(sum(len(names_scores) for names_scores in lev_names_scores))"
   ]
  },
  {
   "cell_type": "code",
   "execution_count": null,
   "id": "6d0666f4",
   "metadata": {},
   "outputs": [],
   "source": [
    "# find pairs in both with score above a threshold\n",
    "swivel_threshold = 0.45\n",
    "lev_threshold = 0.55\n",
    "sample_rate = 0.01\n",
    "xs = []\n",
    "ys = []\n",
    "cs = []\n",
    "xs_pos = []\n",
    "ys_pos = []\n",
    "xs_neg = []\n",
    "ys_neg = []\n",
    "weights = []\n",
    "actual_score_counts = []\n",
    "swivel_score_counts = []\n",
    "lev_score_counts = []\n",
    "all_candidate_names = set(candidate_names_eval_sample)\n",
    "for input_name, wans, swivels, levs in \\\n",
    "    zip(input_names_eval_sample, weighted_actual_names_eval_sample, swivel_names_scores, lev_names_scores):\n",
    "    # actuals - ensure names are in all_candidate_names\n",
    "    actual_weights = {name: weight for name, weight, _ in wans if name in all_candidate_names}\n",
    "    actual_score_counts.append(len(actual_weights))\n",
    "    # swivel\n",
    "    swivel_scores = {name: score for name, score in swivels if score >= swivel_threshold}\n",
    "    swivel_names = set(swivel_scores.keys())\n",
    "    swivel_score_counts.append(len(swivel_scores))\n",
    "    # levenshtein\n",
    "    lev_scores = {name: score for name, score in levs if score >= lev_threshold}\n",
    "    lev_names = set(lev_scores.keys())\n",
    "    lev_score_counts.append(len(lev_scores))\n",
    "    \n",
    "    # count various scores\n",
    "    candidate_names = swivel_names.intersection(lev_names)\n",
    "    for candidate_name in candidate_names:\n",
    "        if random.random() > sample_rate:\n",
    "            continue\n",
    "        swivel_score = swivel_scores[candidate_name]\n",
    "        lev_score = lev_scores[candidate_name]\n",
    "        xs.append(swivel_score)\n",
    "        ys.append(lev_score)\n",
    "        if candidate_name in actual_weights:\n",
    "            cs.append('green')\n",
    "            xs_pos.append(swivel_score)\n",
    "            ys_pos.append(lev_score)\n",
    "            weights.append(actual_weights[candidate_name])\n",
    "            del actual_weights[candidate_name]\n",
    "        else:\n",
    "            cs.append('red')\n",
    "            xs_neg.append(swivel_score)\n",
    "            ys_neg.append(lev_score)\n",
    "#     for name in actual_weights.keys():\n",
    "#         if name not in swivel_names:\n",
    "#             print(\"swivel\", input_name, name)\n",
    "#         if name not in lev_names:\n",
    "#             print(\"lev\", input_name, name)"
   ]
  },
  {
   "cell_type": "code",
   "execution_count": null,
   "id": "7306b4b7",
   "metadata": {},
   "outputs": [],
   "source": [
    "print(sum(swivel_score_counts), sum(lev_score_counts))\n",
    "print(len(cs), len([c for c in cs if c == 'green']), sum(actual_score_counts)*sample_rate)"
   ]
  },
  {
   "cell_type": "code",
   "execution_count": null,
   "id": "693b2d09",
   "metadata": {},
   "outputs": [],
   "source": [
    "figure, ax = plt.subplots(1, 1, figsize=(20, 15))\n",
    "ax.set_title(\"Swivel vs Levenshtein score\")\n",
    "ax.scatter(x=xs, y=ys, c=cs)\n",
    "plt.xlabel(\"swivel score\")\n",
    "plt.ylabel(\"levenshtein score\")\n",
    "plt.xlim([swivel_threshold, 1.0])\n",
    "plt.ylim([lev_threshold, 1.0])\n",
    "plt.show()"
   ]
  },
  {
   "cell_type": "code",
   "execution_count": null,
   "id": "0170f455",
   "metadata": {},
   "outputs": [],
   "source": [
    "figure, ax = plt.subplots(1, 1, figsize=(20, 15))\n",
    "ax.set_title(\"Swivel vs Levenshtein score - positive only\")\n",
    "ax.scatter(x=xs_pos, y=ys_pos)\n",
    "plt.xlabel(\"swivel score\")\n",
    "plt.ylabel(\"levenshtein score\")\n",
    "plt.xlim([swivel_threshold, 1.0])\n",
    "plt.ylim([lev_threshold, 1.0])\n",
    "plt.show()"
   ]
  },
  {
   "cell_type": "code",
   "execution_count": null,
   "id": "335f7609",
   "metadata": {},
   "outputs": [],
   "source": [
    "figure, ax = plt.subplots(1, 1, figsize=(20, 15))\n",
    "ax.set_title(\"Swivel vs Levenshtein score - negative only\")\n",
    "ax.scatter(x=xs_neg, y=ys_neg)\n",
    "plt.xlabel(\"swivel score\")\n",
    "plt.ylabel(\"levenshtein score\")\n",
    "plt.xlim([swivel_threshold, 1.0])\n",
    "plt.ylim([lev_threshold, 1.0])\n",
    "plt.show()"
   ]
  },
  {
   "cell_type": "code",
   "execution_count": null,
   "id": "f4a541af",
   "metadata": {},
   "outputs": [],
   "source": [
    "figure, ax = plt.subplots(1, 1, figsize=(20, 15))\n",
    "ax.set_title(\"Weights\")\n",
    "ax.hist(x=weights, bins=100)\n",
    "plt.show()"
   ]
  },
  {
   "cell_type": "code",
   "execution_count": null,
   "id": "75e63b68",
   "metadata": {},
   "outputs": [],
   "source": [
    "figure, ax = plt.subplots(1, 1, figsize=(20, 15))\n",
    "ax.set_title(\"Swivel score counts\")\n",
    "ax.hist(x=swivel_score_counts, bins=100)\n",
    "plt.show()"
   ]
  },
  {
   "cell_type": "code",
   "execution_count": null,
   "id": "62b1ccc8",
   "metadata": {},
   "outputs": [],
   "source": [
    "figure, ax = plt.subplots(1, 1, figsize=(20, 15))\n",
    "ax.set_title(\"Levenshtein score counts\")\n",
    "ax.hist(x=lev_score_counts, bins=100)\n",
    "plt.show()"
   ]
  },
  {
   "cell_type": "code",
   "execution_count": null,
   "id": "5259e6e0",
   "metadata": {},
   "outputs": [],
   "source": []
  }
 ],
 "metadata": {
  "kernelspec": {
   "display_name": "nama",
   "language": "python",
   "name": "nama"
  },
  "language_info": {
   "codemirror_mode": {
    "name": "ipython",
    "version": 3
   },
   "file_extension": ".py",
   "mimetype": "text/x-python",
   "name": "python",
   "nbconvert_exporter": "python",
   "pygments_lexer": "ipython3",
   "version": "3.8.12"
  }
 },
 "nbformat": 4,
 "nbformat_minor": 5
}
