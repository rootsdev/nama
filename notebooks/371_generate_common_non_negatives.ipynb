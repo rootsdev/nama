{
 "cells": [
  {
   "cell_type": "code",
   "execution_count": null,
   "id": "139bee68",
   "metadata": {},
   "outputs": [],
   "source": [
    "%load_ext autoreload\n",
    "%autoreload 2"
   ]
  },
  {
   "cell_type": "markdown",
   "id": "028823c5",
   "metadata": {},
   "source": [
    "# Generate common non-negatives\n",
    "\n",
    "Add existing standard, triplets, and nicknames to common non-negatives"
   ]
  },
  {
   "cell_type": "code",
   "id": "e0364890",
   "metadata": {
    "ExecuteTime": {
     "end_time": "2024-12-05T17:47:54.840300Z",
     "start_time": "2024-12-05T17:47:54.834751Z"
    }
   },
   "source": [
    "import random\n",
    "import re\n",
    "\n",
    "import pandas as pd\n",
    "\n",
    "from nama.data.filesystem import download_file_from_s3, save_file\n",
    "from nama.data.utils import read_csv"
   ],
   "outputs": [],
   "execution_count": 10
  },
  {
   "cell_type": "code",
   "id": "774de195",
   "metadata": {
    "ExecuteTime": {
     "end_time": "2024-12-05T17:41:52.568949Z",
     "start_time": "2024-12-05T17:41:52.563084Z"
    }
   },
   "source": [
    "#config\n",
    "# TODO do for given and surname\n",
    "given_surname = \"given\"\n",
    "# given_surname = \"surname\"\n",
    "\n",
    "num_common_names = 10000 if given_surname == \"given\" else 25000\n",
    "tree_name_min_freq = 1000\n",
    "\n",
    "pref_path = f\"s3://fs-nama-data/2024/familysearch-names/processed/tree-preferred-{given_surname}-aggr.csv.gz\"\n",
    "std_path = f\"../references/std_{given_surname}.txt\"\n",
    "given_nicknames_path = \"../references/givenname_nicknames.csv\"\n",
    "triplets_path=f\"s3://fs-nama-data/2024/familysearch-names/processed/tree-hr-{given_surname}-triplets-{tree_name_min_freq}.csv.gz\"\n",
    "\n",
    "non_negatives_path = f\"s3://fs-nama-data/2024/familysearch-names/processed/common_{given_surname}_non_negatives.csv\""
   ],
   "outputs": [],
   "execution_count": 1
  },
  {
   "cell_type": "markdown",
   "id": "e7c030b7",
   "metadata": {},
   "source": [
    "## Load data"
   ]
  },
  {
   "cell_type": "markdown",
   "id": "401ad99c",
   "metadata": {},
   "source": [
    "### read preferred names"
   ]
  },
  {
   "cell_type": "code",
   "id": "3606383a",
   "metadata": {
    "ExecuteTime": {
     "end_time": "2024-12-05T17:43:22.838786Z",
     "start_time": "2024-12-05T17:43:19.158541Z"
    }
   },
   "source": [
    "path = download_file_from_s3(pref_path) if pref_path.startswith(\"s3://\") else pref_path\n",
    "pref_df = read_csv(path)\n",
    "common_names = set([name for name in pref_df['name'][:num_common_names].tolist() \\\n",
    "                if len(name) > 1 and re.fullmatch(r'[a-z]+', name)])\n",
    "len(common_names)"
   ],
   "outputs": [
    {
     "data": {
      "text/plain": [
       "9977"
      ]
     },
     "execution_count": 3,
     "metadata": {},
     "output_type": "execute_result"
    }
   ],
   "execution_count": 3
  },
  {
   "cell_type": "markdown",
   "id": "2be4909b",
   "metadata": {},
   "source": [
    "## Start with FS buckets"
   ]
  },
  {
   "cell_type": "code",
   "id": "6a359ed7",
   "metadata": {
    "ExecuteTime": {
     "end_time": "2024-12-05T17:43:40.085834Z",
     "start_time": "2024-12-05T17:43:39.658287Z"
    }
   },
   "source": [
    "common_names_set = set(common_names)\n",
    "common_non_negatives = set()\n",
    "\n",
    "with open(std_path) as f:\n",
    "    for ix, line in enumerate(f.readlines()):\n",
    "        line = line.strip()\n",
    "        head_names, tail_names = line.split(':')\n",
    "        head_names = head_names.strip()\n",
    "        tail_names = tail_names.strip()\n",
    "        names = set()\n",
    "        if len(head_names):\n",
    "            names |= set(head_names.split(' '))\n",
    "        if len(tail_names):\n",
    "            names |= set(tail_names.split(' '))\n",
    "        names = [name for name in names if len(name) > 0]\n",
    "        for name1 in names:\n",
    "            if name1 not in common_names_set:\n",
    "                continue\n",
    "            for name2 in names:\n",
    "                if name2 not in common_names_set:\n",
    "                    continue\n",
    "                if name1 == name2:\n",
    "                    continue\n",
    "                common_non_negatives.add((name1, name2))\n",
    "print(len(common_non_negatives))"
   ],
   "outputs": [
    {
     "name": "stdout",
     "output_type": "stream",
     "text": [
      "163802\n"
     ]
    }
   ],
   "execution_count": 4
  },
  {
   "cell_type": "markdown",
   "id": "2b26cb96",
   "metadata": {},
   "source": [
    "### add triplets"
   ]
  },
  {
   "cell_type": "code",
   "id": "8a5eb692",
   "metadata": {
    "ExecuteTime": {
     "end_time": "2024-12-05T17:44:48.568325Z",
     "start_time": "2024-12-05T17:44:34.582443Z"
    }
   },
   "source": [
    "path = download_file_from_s3(triplets_path) if triplets_path.startswith(\"s3://\") else triplets_path\n",
    "triplets_df = read_csv(path)\n",
    "print(len(triplets_df))\n",
    "triplets_df.head(3)"
   ],
   "outputs": [
    {
     "name": "stdout",
     "output_type": "stream",
     "text": [
      "3289279\n"
     ]
    },
    {
     "data": {
      "text/plain": [
       "     anchor  positive  positive_score negative  negative_score\n",
       "0  aloysius  alaysius        0.961516  aloisia        0.403759\n",
       "1   rosanna  roseanna        0.792378  susanne        0.400109\n",
       "2   stephen    stehen        0.968966   stearn        0.501695"
      ],
      "text/html": [
       "<div>\n",
       "<style scoped>\n",
       "    .dataframe tbody tr th:only-of-type {\n",
       "        vertical-align: middle;\n",
       "    }\n",
       "\n",
       "    .dataframe tbody tr th {\n",
       "        vertical-align: top;\n",
       "    }\n",
       "\n",
       "    .dataframe thead th {\n",
       "        text-align: right;\n",
       "    }\n",
       "</style>\n",
       "<table border=\"1\" class=\"dataframe\">\n",
       "  <thead>\n",
       "    <tr style=\"text-align: right;\">\n",
       "      <th></th>\n",
       "      <th>anchor</th>\n",
       "      <th>positive</th>\n",
       "      <th>positive_score</th>\n",
       "      <th>negative</th>\n",
       "      <th>negative_score</th>\n",
       "    </tr>\n",
       "  </thead>\n",
       "  <tbody>\n",
       "    <tr>\n",
       "      <th>0</th>\n",
       "      <td>aloysius</td>\n",
       "      <td>alaysius</td>\n",
       "      <td>0.961516</td>\n",
       "      <td>aloisia</td>\n",
       "      <td>0.403759</td>\n",
       "    </tr>\n",
       "    <tr>\n",
       "      <th>1</th>\n",
       "      <td>rosanna</td>\n",
       "      <td>roseanna</td>\n",
       "      <td>0.792378</td>\n",
       "      <td>susanne</td>\n",
       "      <td>0.400109</td>\n",
       "    </tr>\n",
       "    <tr>\n",
       "      <th>2</th>\n",
       "      <td>stephen</td>\n",
       "      <td>stehen</td>\n",
       "      <td>0.968966</td>\n",
       "      <td>stearn</td>\n",
       "      <td>0.501695</td>\n",
       "    </tr>\n",
       "  </tbody>\n",
       "</table>\n",
       "</div>"
      ]
     },
     "execution_count": 5,
     "metadata": {},
     "output_type": "execute_result"
    }
   ],
   "execution_count": 5
  },
  {
   "cell_type": "code",
   "id": "538e50c4",
   "metadata": {
    "ExecuteTime": {
     "end_time": "2024-12-05T17:45:51.463578Z",
     "start_time": "2024-12-05T17:45:42.933181Z"
    }
   },
   "source": [
    "for anchor, pos, neg in zip(\n",
    "    triplets_df['anchor'], \n",
    "    triplets_df['positive'],\n",
    "    triplets_df['negative'],\n",
    "):\n",
    "    common_non_negatives.add((anchor, pos))\n",
    "    common_non_negatives.add((pos, anchor))\n",
    "    common_non_negatives.add((anchor, neg))\n",
    "    common_non_negatives.add((neg, anchor))\n",
    "len(common_non_negatives)"
   ],
   "outputs": [
    {
     "data": {
      "text/plain": [
       "1118810"
      ]
     },
     "execution_count": 6,
     "metadata": {},
     "output_type": "execute_result"
    }
   ],
   "execution_count": 6
  },
  {
   "cell_type": "markdown",
   "id": "b7d9ce98",
   "metadata": {},
   "source": [
    "### add given nicknames"
   ]
  },
  {
   "cell_type": "code",
   "id": "b7fe87dc",
   "metadata": {
    "ExecuteTime": {
     "end_time": "2024-12-05T17:45:51.475300Z",
     "start_time": "2024-12-05T17:45:51.465076Z"
    }
   },
   "source": [
    "if given_surname == \"given\":\n",
    "    with open(given_nicknames_path, \"rt\") as f:\n",
    "        for line in f.readlines():\n",
    "            names = line.split(',')\n",
    "            for name1 in names:\n",
    "                for name2 in names:\n",
    "                    if name1 > name2:\n",
    "                        common_non_negatives.add((name1, name2))\n",
    "                        common_non_negatives.add((name2, name1))\n",
    "len(common_non_negatives)"
   ],
   "outputs": [
    {
     "data": {
      "text/plain": [
       "1122584"
      ]
     },
     "execution_count": 7,
     "metadata": {},
     "output_type": "execute_result"
    }
   ],
   "execution_count": 7
  },
  {
   "cell_type": "markdown",
   "id": "e0df5a95",
   "metadata": {},
   "source": [
    "## Save common non-negatives"
   ]
  },
  {
   "cell_type": "code",
   "id": "efe649b2",
   "metadata": {
    "ExecuteTime": {
     "end_time": "2024-12-05T17:48:10.960790Z",
     "start_time": "2024-12-05T17:48:05.009137Z"
    }
   },
   "source": [
    "records = []\n",
    "for name1, name2 in common_non_negatives:\n",
    "    records.append({'name1': name1, 'name2': name2})\n",
    "random.shuffle(records)\n",
    "df = pd.DataFrame(records)\n",
    "save_file(non_negatives_path,\n",
    "          lambda local_out_path : df.to_csv(local_out_path, index=False))"
   ],
   "outputs": [],
   "execution_count": 11
  },
  {
   "cell_type": "code",
   "execution_count": null,
   "id": "4a0ac472",
   "metadata": {},
   "outputs": [],
   "source": []
  }
 ],
 "metadata": {
  "kernelspec": {
   "display_name": "Python 3 (ipykernel)",
   "language": "python",
   "name": "python3"
  },
  "language_info": {
   "codemirror_mode": {
    "name": "ipython",
    "version": 3
   },
   "file_extension": ".py",
   "mimetype": "text/x-python",
   "name": "python",
   "nbconvert_exporter": "python",
   "pygments_lexer": "ipython3",
   "version": "3.9.16"
  }
 },
 "nbformat": 4,
 "nbformat_minor": 5
}
