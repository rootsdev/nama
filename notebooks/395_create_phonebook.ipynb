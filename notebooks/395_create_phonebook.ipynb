{
 "cells": [
  {
   "cell_type": "code",
   "id": "2907945b",
   "metadata": {
    "pycharm": {
     "name": "#%%\n"
    },
    "ExecuteTime": {
     "end_time": "2024-12-17T18:26:40.270003Z",
     "start_time": "2024-12-17T18:26:39.418957Z"
    }
   },
   "source": [
    "%load_ext autoreload\n",
    "%autoreload 2\n",
    "%matplotlib inline"
   ],
   "outputs": [],
   "execution_count": 1
  },
  {
   "cell_type": "markdown",
   "id": "3b2dac44",
   "metadata": {
    "pycharm": {
     "name": "#%% md\n"
    }
   },
   "source": [
    "# Create a phonebook\n",
    "\n",
    "A phonebook maps clusters to partitions under the following constraints.\n",
    "\n",
    "1. All clusters in the same bucket MUST go in the same partition.\n",
    "2. A partition CANNOT contain clusters totalling more than N records.\n",
    "3. Clusters that are similar to each other SHOULD go in the same partition.\n",
    "\n",
    "## Aproach\n",
    "\n",
    "1. Choose a maximum number of partitions and a maximum number of records per partition.\n",
    "2. Compute the top N most-similar clusters to each cluster.\n",
    "3. Start by putting the clusters for each bucket in their own partition.\n",
    "4. Some buckets because of their size will span multiple partitions. Split those buckets up-front.\n",
    "5. While there are more than the maximum number of partitions, merge partitions containing the most-similar (to least-similar) clusters so long as the combined partition doesn't exceed the maximum partition size.\n",
    "6. If you end up with too many partitions, or many partitions that have significantly fewer number of records than the maximum, consider repeating the steps with a lower maximum number of records per partition."
   ]
  },
  {
   "cell_type": "code",
   "id": "8d131857",
   "metadata": {
    "pycharm": {
     "name": "#%%\n"
    },
    "ExecuteTime": {
     "end_time": "2024-12-17T18:26:44.483207Z",
     "start_time": "2024-12-17T18:26:40.280169Z"
    }
   },
   "source": [
    "from collections import defaultdict\n",
    "import json\n",
    "import re\n",
    "\n",
    "import matplotlib.pyplot as plt\n",
    "import numpy as np\n",
    "from tqdm.notebook import tqdm\n",
    "\n",
    "from nama.data.filesystem import download_file_from_s3, save_file\n",
    "from nama.data.utils import read_csv\n",
    "from nama.models.utils import top_similar_names"
   ],
   "outputs": [],
   "execution_count": 2
  },
  {
   "cell_type": "code",
   "id": "b54bdec3",
   "metadata": {
    "pycharm": {
     "name": "#%%\n"
    },
    "ExecuteTime": {
     "end_time": "2024-12-17T18:29:22.899953Z",
     "start_time": "2024-12-17T18:29:22.870187Z"
    }
   },
   "source": [
    "# configure\n",
    "# run only for surname\n",
    "given_surname = \"surname\"\n",
    "\n",
    "phonebook_type = 'hr'  # 'tree'\n",
    "pref_prefix = 'hr' if phonebook_type == 'hr' else 'tree-preferred'\n",
    "n_partitions = 720\n",
    "max_partition_size = 15_800_000 if phonebook_type == 'hr' else 1_250_000\n",
    "min_threshold = 0.6\n",
    "\n",
    "linkage = \"average\"\n",
    "similarity_threshold = 0.1 if given_surname == \"given\" else 0.25\n",
    "cluster_freq_normalizer = \"none\"\n",
    "clusters_path = f\"s3://fs-nama-data/2024/nama-data/data/processed/clusters_{given_surname}-{linkage}-{similarity_threshold}-{cluster_freq_normalizer}-augmented.json\"\n",
    "super_clusters_path = f\"s3://fs-nama-data/2024/nama-data/data/processed/super_clusters_{given_surname}-{linkage}-{similarity_threshold}-{cluster_freq_normalizer}.json\"\n",
    "pref_path = f\"s3://fs-nama-data/2024/familysearch-names/processed/tree-preferred-{given_surname}-aggr.csv.gz\"\n",
    "\n",
    "phonebook_path = f\"s3://fs-nama-data/2024/familysearch-names/processed/{phonebook_type}-phonebook.json\""
   ],
   "outputs": [],
   "execution_count": 7
  },
  {
   "cell_type": "markdown",
   "id": "4190d2c0",
   "metadata": {
    "pycharm": {
     "name": "#%% md\n"
    }
   },
   "source": [
    "### Load data"
   ]
  },
  {
   "cell_type": "code",
   "id": "cec1c31c",
   "metadata": {
    "ExecuteTime": {
     "end_time": "2024-12-17T18:29:41.370127Z",
     "start_time": "2024-12-17T18:29:33.375349Z"
    }
   },
   "source": [
    "# dict of name -> freq\n",
    "path = download_file_from_s3(pref_path) if pref_path.startswith(\"s3://\") else pref_path\n",
    "pref_df = read_csv(path)\n",
    "name_freq = {name: freq for name, freq in zip(pref_df['name'], pref_df['frequency']) \\\n",
    "                if re.fullmatch(r'[a-z]+', name)}\n",
    "pref_df = None"
   ],
   "outputs": [],
   "execution_count": 8
  },
  {
   "cell_type": "code",
   "id": "c3b3a871-d8f8-4113-9f9f-b2bbad6f2c69",
   "metadata": {
    "ExecuteTime": {
     "end_time": "2024-12-17T18:29:41.433180Z",
     "start_time": "2024-12-17T18:29:41.371770Z"
    }
   },
   "source": [
    "print(len(name_freq))\n",
    "print(sum(list(name_freq.values())))"
   ],
   "outputs": [
    {
     "name": "stdout",
     "output_type": "stream",
     "text": [
      "2691517\n",
      "1607582733\n"
     ]
    }
   ],
   "execution_count": 9
  },
  {
   "cell_type": "code",
   "id": "5f7ae378",
   "metadata": {
    "ExecuteTime": {
     "end_time": "2024-12-17T18:30:30.691632Z",
     "start_time": "2024-12-17T18:30:19.915703Z"
    }
   },
   "source": [
    "# load clusters and super-clusters\n",
    "name_cluster = {}       # name -> cluster position\n",
    "cluster_centroids = []  # centroid for each cluster\n",
    "cluster_labels = []     # label for each cluster\n",
    "cluster_indexes = {}    # cluster label -> index\n",
    "cluster_sizes = []      # number of records for each cluster\n",
    "\n",
    "path = download_file_from_s3(clusters_path) if clusters_path.startswith(\"s3://\") else clusters_path\n",
    "with open(path, 'r') as f:\n",
    "    clusters = json.load(f)  # cluster label -> names, centroid\n",
    "\n",
    "path = download_file_from_s3(super_clusters_path) if super_clusters_path.startswith(\"s3://\") else super_clusters_path\n",
    "with open(path, 'r') as f:\n",
    "    super_clusters = json.load(f)  # super_cluster label -> cluster labels\n",
    "\n",
    "for label, cluster in clusters.items():\n",
    "    n_records = 0\n",
    "    for name in cluster['names']:\n",
    "        name_cluster[name] = len(cluster_labels)\n",
    "        n_records += name_freq.get(name, 0)\n",
    "    cluster_indexes[label] = len(cluster_labels)\n",
    "    cluster_labels.append(label)\n",
    "    cluster_sizes.append(n_records)\n",
    "    cluster_centroids.append(np.array(cluster['centroid']))\n",
    "cluster_labels = np.array(cluster_labels)"
   ],
   "outputs": [],
   "execution_count": 11
  },
  {
   "cell_type": "code",
   "id": "00eb0732",
   "metadata": {
    "ExecuteTime": {
     "end_time": "2024-12-17T18:30:30.720930Z",
     "start_time": "2024-12-17T18:30:30.693504Z"
    }
   },
   "source": [
    "print('number of names', len(name_cluster))\n",
    "print('number of clusters', len(cluster_labels))\n",
    "print('number of super-clusters', len(super_clusters))"
   ],
   "outputs": [
    {
     "name": "stdout",
     "output_type": "stream",
     "text": [
      "number of names 154032\n",
      "number of clusters 16233\n",
      "number of super-clusters 2556\n"
     ]
    }
   ],
   "execution_count": 12
  },
  {
   "cell_type": "code",
   "id": "1a83cabb",
   "metadata": {
    "ExecuteTime": {
     "end_time": "2024-12-17T18:30:30.749471Z",
     "start_time": "2024-12-17T18:30:30.722226Z"
    }
   },
   "source": [
    "print('size of all clusters', sum(cluster_sizes))"
   ],
   "outputs": [
    {
     "name": "stdout",
     "output_type": "stream",
     "text": [
      "size of all clusters 1537330250\n"
     ]
    }
   ],
   "execution_count": 13
  },
  {
   "cell_type": "code",
   "id": "1480b891",
   "metadata": {
    "ExecuteTime": {
     "end_time": "2024-12-17T18:30:30.779921Z",
     "start_time": "2024-12-17T18:30:30.751708Z"
    }
   },
   "source": [
    "print('perfect partition size', sum(cluster_sizes) / n_partitions)"
   ],
   "outputs": [
    {
     "name": "stdout",
     "output_type": "stream",
     "text": [
      "perfect partition size 2135180.902777778\n"
     ]
    }
   ],
   "execution_count": 14
  },
  {
   "cell_type": "markdown",
   "id": "f9a355e1",
   "metadata": {},
   "source": [
    "## Compute nearby clusters"
   ]
  },
  {
   "cell_type": "code",
   "id": "0f255605",
   "metadata": {
    "ExecuteTime": {
     "end_time": "2024-12-17T18:45:32.376500Z",
     "start_time": "2024-12-17T18:30:59.289628Z"
    }
   },
   "source": [
    "%%time\n",
    "cluster_similarity_scores = []  # [(ix1, ix2, similarity)]\n",
    "top_n = 1000\n",
    "for ix, centroid in tqdm(enumerate(cluster_centroids), mininterval=2.0):\n",
    "    nearby_clusters, similarities = top_similar_names(centroid, cluster_centroids, cluster_labels,\n",
    "                                                      threshold=min_threshold, top_n=top_n)\n",
    "    for nearby_cluster, similarity in zip(nearby_clusters, similarities):\n",
    "        nearby_ix = cluster_indexes[nearby_cluster]\n",
    "        if ix >= nearby_ix:\n",
    "            continue\n",
    "        cluster_similarity_scores.append((ix, nearby_ix, similarity))"
   ],
   "outputs": [
    {
     "data": {
      "text/plain": [
       "0it [00:00, ?it/s]"
      ],
      "application/vnd.jupyter.widget-view+json": {
       "version_major": 2,
       "version_minor": 0,
       "model_id": "e92706218d6a46189abf96f197e86e1d"
      }
     },
     "metadata": {},
     "output_type": "display_data"
    }
   ],
   "execution_count": 15
  },
  {
   "cell_type": "code",
   "id": "0f496842",
   "metadata": {
    "ExecuteTime": {
     "end_time": "2024-12-17T18:45:32.509655Z",
     "start_time": "2024-12-17T18:45:32.378765Z"
    }
   },
   "source": [
    "cluster_similarity_scores = sorted(cluster_similarity_scores, key=lambda x: x[2], reverse=True)"
   ],
   "outputs": [],
   "execution_count": 16
  },
  {
   "cell_type": "code",
   "id": "596cc9a2",
   "metadata": {
    "ExecuteTime": {
     "end_time": "2024-12-17T18:45:32.537854Z",
     "start_time": "2024-12-17T18:45:32.510746Z"
    }
   },
   "source": [
    "len(cluster_similarity_scores)"
   ],
   "outputs": [
    {
     "data": {
      "text/plain": [
       "159150"
      ]
     },
     "execution_count": 17,
     "metadata": {},
     "output_type": "execute_result"
    }
   ],
   "execution_count": 17
  },
  {
   "cell_type": "markdown",
   "id": "4d3d1200",
   "metadata": {},
   "source": [
    "## Create phonebook"
   ]
  },
  {
   "cell_type": "code",
   "id": "ceb83130",
   "metadata": {
    "ExecuteTime": {
     "end_time": "2024-12-17T18:46:13.607194Z",
     "start_time": "2024-12-17T18:46:13.577387Z"
    }
   },
   "source": [
    "def merge_partitions(ix1, ix2):\n",
    "    global partition_ix, partition_clusters, partition_size, cluster_partitions\n",
    "\n",
    "    # remove old partitions from cluster_partitions\n",
    "    for cluster in partition_clusters[ix1]:\n",
    "        cluster_partitions[cluster].remove(ix1)\n",
    "    for cluster in partition_clusters[ix2]:\n",
    "        cluster_partitions[cluster].remove(ix2)\n",
    "    # add clusters to new partition\n",
    "    partition_clusters[partition_ix] = partition_clusters[ix1] + partition_clusters[ix2]\n",
    "    for cluster in partition_clusters[partition_ix]:\n",
    "        cluster_partitions[cluster].append(partition_ix)    \n",
    "    # calc size of new partition\n",
    "    partition_size[partition_ix] = partition_size[ix1] + partition_size[ix2]\n",
    "    # delete old partitions\n",
    "    del partition_clusters[ix1]\n",
    "    del partition_clusters[ix2]\n",
    "    del partition_size[ix1]\n",
    "    del partition_size[ix2]\n",
    "    # update next available partition index\n",
    "    partition_ix += 1"
   ],
   "outputs": [],
   "execution_count": 30
  },
  {
   "cell_type": "markdown",
   "id": "a7d98aea",
   "metadata": {},
   "source": [
    "### Start by creating partitions for each cluster"
   ]
  },
  {
   "cell_type": "code",
   "id": "727f9746-5142-4d74-9ec1-78df388bf5db",
   "metadata": {
    "ExecuteTime": {
     "end_time": "2024-12-17T18:46:14.909862Z",
     "start_time": "2024-12-17T18:46:14.871563Z"
    }
   },
   "source": [
    "partition_ix = 0\n",
    "partition_clusters = {}                # partition -> [cluster ix]\n",
    "partition_size = {}                    # partition -> size\n",
    "cluster_partitions = defaultdict(list) # cluster -> [partition ix]"
   ],
   "outputs": [],
   "execution_count": 31
  },
  {
   "cell_type": "code",
   "id": "ae6f96c7",
   "metadata": {
    "ExecuteTime": {
     "end_time": "2024-12-17T18:46:16.136191Z",
     "start_time": "2024-12-17T18:46:16.077529Z"
    }
   },
   "source": [
    "for ix in range(len(cluster_labels)):\n",
    "    # calculate the number of partitions needed for the cluster\n",
    "    size = cluster_sizes[ix]\n",
    "    n_cluster_partitions = 1\n",
    "    while size > max_partition_size:\n",
    "        print(size, cluster_labels[ix])\n",
    "        n_cluster_partitions += 1\n",
    "        size -= max_partition_size\n",
    "    # assign cluster to n_cluster_partitions\n",
    "    for _ in range(n_cluster_partitions):\n",
    "        partition_clusters[partition_ix] = [ix]\n",
    "        cluster_partitions[ix].append(partition_ix)\n",
    "        partition_size[partition_ix] = cluster_sizes[ix] / n_cluster_partitions\n",
    "        partition_ix += 1"
   ],
   "outputs": [
    {
     "name": "stdout",
     "output_type": "stream",
     "text": [
      "29740531 annette/anna\n",
      "16174715 antonio/antonio\n",
      "22372661 catherine/catharina\n",
      "30103447 elizabeth/elizabeth\n",
      "24800265 frank/francisco\n",
      "16883283 george/george\n",
      "17196428 james/james\n",
      "38677759 john/john\n",
      "22877759 john/john\n",
      "20213930 john/johann\n",
      "27671403 joseph/joseph\n",
      "20530756 joseph/jose\n",
      "18841564 margaret/margaret\n",
      "93376120 mary/maria\n",
      "77576120 mary/maria\n",
      "61776120 mary/maria\n",
      "45976120 mary/maria\n",
      "30176120 mary/maria\n",
      "33048968 mary/mary\n",
      "17248968 mary/mary\n",
      "18969606 thomas/thomas\n",
      "30905645 william/william\n"
     ]
    }
   ],
   "execution_count": 32
  },
  {
   "cell_type": "code",
   "id": "413d239a",
   "metadata": {
    "ExecuteTime": {
     "end_time": "2024-12-17T18:46:16.165444Z",
     "start_time": "2024-12-17T18:46:16.137667Z"
    }
   },
   "source": [
    "partition_ix"
   ],
   "outputs": [
    {
     "data": {
      "text/plain": [
       "16255"
      ]
     },
     "execution_count": 33,
     "metadata": {},
     "output_type": "execute_result"
    }
   ],
   "execution_count": 33
  },
  {
   "cell_type": "markdown",
   "id": "6d1d7e54-c833-4358-8194-5add47e1f8c3",
   "metadata": {},
   "source": [
    "## Review single-character names"
   ]
  },
  {
   "cell_type": "code",
   "id": "ea0ca82e-9c10-488f-8861-e5047bc0d068",
   "metadata": {
    "ExecuteTime": {
     "end_time": "2024-12-17T18:46:17.834174Z",
     "start_time": "2024-12-17T18:46:17.416484Z"
    }
   },
   "source": [
    "total_freq = 0\n",
    "for name, freq in name_freq.items():\n",
    "    if len(name) > 1:\n",
    "        continue\n",
    "    print(name, freq)\n",
    "    total_freq += freq\n",
    "print(total_freq)"
   ],
   "outputs": [
    {
     "name": "stdout",
     "output_type": "stream",
     "text": [
      "a 6615822\n",
      "m 6554747\n",
      "j 5977694\n",
      "l 4133834\n",
      "c 3863195\n",
      "h 3704733\n",
      "w 3588789\n",
      "b 2867914\n",
      "f 2659581\n",
      "r 2352188\n",
      "s 2153925\n",
      "d 1911997\n",
      "g 1858226\n",
      "t 1475387\n",
      "p 1475199\n",
      "n 984389\n",
      "v 808752\n",
      "k 645155\n",
      "i 644368\n",
      "u 155034\n",
      "x 69683\n",
      "z 65835\n",
      "q 30871\n",
      "54597318\n"
     ]
    }
   ],
   "execution_count": 34
  },
  {
   "cell_type": "markdown",
   "id": "baf7c070-d550-49f5-ab79-0cadff15ba24",
   "metadata": {},
   "source": [
    "### Merge clusters for the same super-cluster"
   ]
  },
  {
   "cell_type": "code",
   "id": "53bd19bc-f478-4d74-bc5e-dae17e578cf5",
   "metadata": {
    "ExecuteTime": {
     "end_time": "2024-12-17T18:46:19.325048Z",
     "start_time": "2024-12-17T18:46:19.293173Z"
    }
   },
   "source": [
    "def get_smallest_partition(ixs):\n",
    "    size = None\n",
    "    smallest_ix = None\n",
    "    for ix in ixs:\n",
    "        if size is None or size > partition_size[ix]:\n",
    "            size = partition_size[ix]\n",
    "            smallest_ix = ix\n",
    "    return ix"
   ],
   "outputs": [],
   "execution_count": 35
  },
  {
   "cell_type": "code",
   "id": "ba6dcced-a461-4af5-8c35-f411705f13d1",
   "metadata": {
    "ExecuteTime": {
     "end_time": "2024-12-17T18:46:20.494706Z",
     "start_time": "2024-12-17T18:46:20.435641Z"
    }
   },
   "source": [
    "for super_cluster in super_clusters.values():\n",
    "    first_cluster_label = super_cluster[0]\n",
    "    for cluster_label in super_cluster[1:]:\n",
    "        ix1s = cluster_partitions[cluster_indexes[first_cluster_label]]\n",
    "        ix2s = cluster_partitions[cluster_indexes[cluster_label]]\n",
    "        # if both clusters span multiple partions, don't try to merge\n",
    "        if len(ix1s) > 1 and len(ix2s) > 1:\n",
    "            continue\n",
    "        # if clusters are already on same partition, don't need to merge\n",
    "        if (len(ix1s) == 1 and ix1s[0] in ix2s) or (len(ix2s) == 1 and ix2s[0] in ix1s):\n",
    "            continue\n",
    "        # merge the smallest partition if > 1 partition\n",
    "        ix1 = get_smallest_partition(ix1s) if len(ix1s) > 1 else ix1s[0]\n",
    "        ix2 = get_smallest_partition(ix2s) if len(ix2s) > 1 else ix2s[0]\n",
    "        if partition_size[ix1] + partition_size[ix2] <= max_partition_size:\n",
    "            merge_partitions(ix1, ix2)"
   ],
   "outputs": [],
   "execution_count": 36
  },
  {
   "cell_type": "code",
   "id": "db046a7d-704f-428e-9342-6dbdd7de1d94",
   "metadata": {
    "ExecuteTime": {
     "end_time": "2024-12-17T18:46:21.762329Z",
     "start_time": "2024-12-17T18:46:21.724350Z"
    }
   },
   "source": [
    "len(partition_clusters)"
   ],
   "outputs": [
    {
     "data": {
      "text/plain": [
       "9709"
      ]
     },
     "execution_count": 37,
     "metadata": {},
     "output_type": "execute_result"
    }
   ],
   "execution_count": 37
  },
  {
   "cell_type": "markdown",
   "id": "4f7430ab",
   "metadata": {},
   "source": [
    "### Merge partitions containing most-similar clusters"
   ]
  },
  {
   "cell_type": "code",
   "id": "410d3ecf",
   "metadata": {
    "ExecuteTime": {
     "end_time": "2024-12-17T18:46:24.628537Z",
     "start_time": "2024-12-17T18:46:24.068849Z"
    }
   },
   "source": [
    "for cix1, cix2, _ in tqdm(cluster_similarity_scores, mininterval=2.0):\n",
    "    if len(partition_clusters) <= n_partitions:\n",
    "        break\n",
    "    pix1s = cluster_partitions[cix1]\n",
    "    pix2s = cluster_partitions[cix2]\n",
    "    # if both clusters span multiple partions, don't try to merge\n",
    "    if len(pix1s) > 1 and len(pix2s) > 1:\n",
    "        continue\n",
    "    # if clusters are already on same partition, don't need to merge\n",
    "    if (len(pix1s) == 1 and pix1s[0] in pix2s) or (len(pix2s) == 1 and pix2s[0] in pix1s):\n",
    "        continue\n",
    "    # merge the smallest partition if > 1 partition\n",
    "    pix1 = get_smallest_partition(pix1s) if len(pix1s) > 1 else pix1s[0]\n",
    "    pix2 = get_smallest_partition(pix2s) if len(pix2s) > 1 else pix2s[0]\n",
    "    if partition_size[pix1] + partition_size[pix2] <= max_partition_size:\n",
    "        merge_partitions(pix1, pix2)    "
   ],
   "outputs": [
    {
     "data": {
      "text/plain": [
       "  0%|          | 0/159150 [00:00<?, ?it/s]"
      ],
      "application/vnd.jupyter.widget-view+json": {
       "version_major": 2,
       "version_minor": 0,
       "model_id": "89a35a656b504b42adcddbe8b24edf8c"
      }
     },
     "metadata": {},
     "output_type": "display_data"
    }
   ],
   "execution_count": 38
  },
  {
   "cell_type": "code",
   "id": "d5a8b79b",
   "metadata": {
    "ExecuteTime": {
     "end_time": "2024-12-17T18:46:33.364377Z",
     "start_time": "2024-12-17T18:46:33.336390Z"
    }
   },
   "source": [
    "len(partition_clusters)"
   ],
   "outputs": [
    {
     "data": {
      "text/plain": [
       "1175"
      ]
     },
     "execution_count": 39,
     "metadata": {},
     "output_type": "execute_result"
    }
   ],
   "execution_count": 39
  },
  {
   "cell_type": "markdown",
   "id": "7c6ec4a5",
   "metadata": {},
   "source": [
    "### Merge other partitions using best-fit"
   ]
  },
  {
   "cell_type": "code",
   "id": "84fac6a5",
   "metadata": {
    "ExecuteTime": {
     "end_time": "2024-12-17T18:46:35.833205Z",
     "start_time": "2024-12-17T18:46:35.542895Z"
    }
   },
   "source": [
    "while len(partition_clusters) > n_partitions:\n",
    "    # find the smallest partition\n",
    "    small_ix = min(partition_size, key=partition_size.get)\n",
    "    # find the largest (or first?) partition it will fit into\n",
    "    large_ix = None\n",
    "    for pix, size in partition_size.items():\n",
    "        if pix == small_ix or partition_size[small_ix] + size > max_partition_size:\n",
    "            continue\n",
    "        if large_ix is None or size > partition_size[large_ix]:\n",
    "            large_ix = pix\n",
    "    if large_ix is None:\n",
    "        break\n",
    "    # merge them\n",
    "    merge_partitions(small_ix, large_ix)"
   ],
   "outputs": [],
   "execution_count": 40
  },
  {
   "cell_type": "markdown",
   "id": "8de35242-0150-40ad-bfaf-46eb7a4e85a9",
   "metadata": {},
   "source": [
    "## Check number of partitions"
   ]
  },
  {
   "cell_type": "code",
   "id": "09b4f1bc-5852-49bd-8757-4963a84ba65e",
   "metadata": {
    "ExecuteTime": {
     "end_time": "2024-12-17T18:46:38.504536Z",
     "start_time": "2024-12-17T18:46:38.474685Z"
    }
   },
   "source": [
    "if len(partition_clusters) > n_partitions:\n",
    "    print('We have a problem!')\n",
    "len(partition_clusters)"
   ],
   "outputs": [
    {
     "data": {
      "text/plain": [
       "720"
      ]
     },
     "execution_count": 41,
     "metadata": {},
     "output_type": "execute_result"
    }
   ],
   "execution_count": 41
  },
  {
   "cell_type": "markdown",
   "id": "3f77b490-d1d0-4776-bcbc-b97bc8773b2a",
   "metadata": {},
   "source": [
    "## Add single-character surnames to partitions\n",
    "\n",
    "Don't update partition_clusters because we don't use it from here on. \n",
    "\n",
    "Instead, add single-character surnames to cluster_labels and cluster_partitions, and update partition_size."
   ]
  },
  {
   "cell_type": "code",
   "id": "48206410-e122-4c1b-9a00-8a72b1725e65",
   "metadata": {
    "ExecuteTime": {
     "end_time": "2024-12-17T18:46:43.350984Z",
     "start_time": "2024-12-17T18:46:43.095841Z"
    }
   },
   "source": [
    "single_character_name_freq = {name: freq for name, freq in name_freq.items() if len(name) == 1}\n",
    "len(single_character_name_freq)"
   ],
   "outputs": [
    {
     "data": {
      "text/plain": [
       "23"
      ]
     },
     "execution_count": 42,
     "metadata": {},
     "output_type": "execute_result"
    }
   ],
   "execution_count": 42
  },
  {
   "cell_type": "code",
   "id": "efb8be5d-190b-41e9-ba8b-da2a953403fb",
   "metadata": {
    "ExecuteTime": {
     "end_time": "2024-12-17T18:46:46.634560Z",
     "start_time": "2024-12-17T18:46:46.603764Z"
    }
   },
   "source": [
    "cluster_labels_list = cluster_labels.tolist()\n",
    "len(cluster_labels_list)"
   ],
   "outputs": [
    {
     "data": {
      "text/plain": [
       "16233"
      ]
     },
     "execution_count": 43,
     "metadata": {},
     "output_type": "execute_result"
    }
   ],
   "execution_count": 43
  },
  {
   "cell_type": "code",
   "id": "5d3ec6f9-b66a-413d-bcb2-d4b0cdbe0220",
   "metadata": {
    "ExecuteTime": {
     "end_time": "2024-12-17T18:46:57.794553Z",
     "start_time": "2024-12-17T18:46:57.763354Z"
    }
   },
   "source": [
    "for name, freq in sorted(single_character_name_freq.items(), key=lambda kv: kv[1], reverse=True):\n",
    "    cix = len(cluster_labels_list)\n",
    "    # add name to cluster_labels\n",
    "    cluster_labels_list.append(name)\n",
    "    # find the smallest partition\n",
    "    small_ix = min(partition_size, key=partition_size.get)\n",
    "    # add the name to that partition\n",
    "    cluster_partitions[cix] = [small_ix]\n",
    "    partition_size[small_ix] += freq \n",
    "    print(f\"added {name} with freq {freq} to partition {small_ix}; new size is {partition_size[small_ix]}\")\n",
    "    if partition_size[small_ix] > max_partition_size:\n",
    "        print('WARNING: oversized partition', ix, partition_size[small_ix])"
   ],
   "outputs": [
    {
     "name": "stdout",
     "output_type": "stream",
     "text": [
      "added a with freq 6615822 to partition 4566; new size is 6616688.0\n",
      "added m with freq 6554747 to partition 30756; new size is 6555617.0\n",
      "added j with freq 5977694 to partition 15585; new size is 5978569.0\n",
      "added l with freq 4133834 to partition 11543; new size is 4134719.0\n",
      "added c with freq 3863195 to partition 8347; new size is 3864083.0\n",
      "added h with freq 3704733 to partition 15695; new size is 3705621.0\n",
      "added w with freq 3588789 to partition 15645; new size is 3589681.0\n",
      "added b with freq 2867914 to partition 1011; new size is 2868807.0\n",
      "added f with freq 2659581 to partition 2008; new size is 2660480.0\n",
      "added r with freq 2352188 to partition 4441; new size is 2353092.0\n",
      "added s with freq 2153925 to partition 15652; new size is 2154833.0\n",
      "added d with freq 1911997 to partition 1762; new size is 1912908.0\n",
      "added g with freq 1858226 to partition 9694; new size is 1859140.0\n",
      "added t with freq 1475387 to partition 7703; new size is 1476302.0\n",
      "added p with freq 1475199 to partition 15642; new size is 1476117.0\n",
      "added n with freq 984389 to partition 15577; new size is 985326.0\n",
      "added v with freq 808752 to partition 30605; new size is 809690.0\n",
      "added k with freq 645155 to partition 15574; new size is 646101.0\n",
      "added i with freq 644368 to partition 15598; new size is 645317.0\n",
      "added u with freq 155034 to partition 45; new size is 155990.0\n",
      "added x with freq 69683 to partition 11655; new size is 70644.0\n",
      "added z with freq 65835 to partition 2117; new size is 66801.0\n",
      "added q with freq 30871 to partition 15600; new size is 31848.0\n"
     ]
    }
   ],
   "execution_count": 44
  },
  {
   "cell_type": "code",
   "id": "d55fde7a-f1b8-4f29-a877-a3554761e606",
   "metadata": {
    "ExecuteTime": {
     "end_time": "2024-12-17T18:47:01.345674Z",
     "start_time": "2024-12-17T18:47:01.310817Z"
    }
   },
   "source": [
    "cluster_labels = np.array(cluster_labels_list)"
   ],
   "outputs": [],
   "execution_count": 45
  },
  {
   "cell_type": "markdown",
   "id": "8ee639d3",
   "metadata": {},
   "source": [
    "### Check partition sizes"
   ]
  },
  {
   "cell_type": "code",
   "id": "6237c1ab",
   "metadata": {
    "ExecuteTime": {
     "end_time": "2024-12-17T18:47:05.600243Z",
     "start_time": "2024-12-17T18:47:05.570653Z"
    }
   },
   "source": [
    "# count number of partitions that are less than 90% full, 75% full, half full\n",
    "for threshold in [0.90, 0.75, 0.5, 0.25]:\n",
    "    print(threshold, len([size for size in partition_size.values() if size < max_partition_size * threshold]))"
   ],
   "outputs": [
    {
     "name": "stdout",
     "output_type": "stream",
     "text": [
      "0.9 637\n",
      "0.75 631\n",
      "0.5 619\n",
      "0.25 612\n"
     ]
    }
   ],
   "execution_count": 46
  },
  {
   "cell_type": "markdown",
   "id": "eb9128ad",
   "metadata": {},
   "source": [
    "## Plot partition sizes"
   ]
  },
  {
   "cell_type": "code",
   "id": "2a697d81",
   "metadata": {
    "ExecuteTime": {
     "end_time": "2024-12-17T18:47:14.700106Z",
     "start_time": "2024-12-17T18:47:14.361864Z"
    }
   },
   "source": [
    "plt.figure(figsize=(10, 6))\n",
    "plt.hist(partition_size.values(), bins=100)\n",
    "plt.tight_layout()\n",
    "plt.show()"
   ],
   "outputs": [
    {
     "data": {
      "text/plain": [
       "<Figure size 1000x600 with 1 Axes>"
      ],
      "image/png": "[encoded data removed]"
     },
     "metadata": {},
     "output_type": "display_data"
    }
   ],
   "execution_count": 47
  },
  {
   "cell_type": "markdown",
   "id": "8c4de633",
   "metadata": {},
   "source": [
    "## Plot scores"
   ]
  },
  {
   "cell_type": "code",
   "id": "342bb377",
   "metadata": {
    "ExecuteTime": {
     "end_time": "2024-12-17T18:47:26.778537Z",
     "start_time": "2024-12-17T18:47:26.517970Z"
    }
   },
   "source": [
    "same_partition_scores = []\n",
    "diff_partition_scores = []\n",
    "for cix1, cix2, score in cluster_similarity_scores:\n",
    "    if cix1 == cix2:\n",
    "        continue\n",
    "    pix1s = cluster_partitions[cix1]\n",
    "    pix2s = cluster_partitions[cix2]\n",
    "    if (len(pix1s) == 1 and pix1s[0] in pix2s) or (len(pix2s) == 1 and pix2s[0] in pix1s):\n",
    "        same_partition_scores.append(score)\n",
    "    else:\n",
    "        diff_partition_scores.append(score)\n",
    "print(len(same_partition_scores))\n",
    "print(len(diff_partition_scores))"
   ],
   "outputs": [
    {
     "name": "stdout",
     "output_type": "stream",
     "text": [
      "50066\n",
      "109084\n"
     ]
    }
   ],
   "execution_count": 48
  },
  {
   "cell_type": "code",
   "id": "ec97e8b1",
   "metadata": {
    "ExecuteTime": {
     "end_time": "2024-12-17T18:47:30.020111Z",
     "start_time": "2024-12-17T18:47:29.050161Z"
    }
   },
   "source": [
    "plt.figure(figsize=(10, 6))\n",
    "plt.hist(same_partition_scores, bins=100, alpha=0.5, label=\"same\", color='green')\n",
    "plt.hist(diff_partition_scores, bins=100, alpha=0.5, label=\"diff\", color='red')\n",
    "plt.legend(loc='upper right')\n",
    "plt.tight_layout()\n",
    "plt.show()"
   ],
   "outputs": [
    {
     "data": {
      "text/plain": [
       "<Figure size 1000x600 with 1 Axes>"
      ],
      "image/png": "[encoded data removed]"
     },
     "metadata": {},
     "output_type": "display_data"
    }
   ],
   "execution_count": 49
  },
  {
   "cell_type": "markdown",
   "id": "f18f2ef9",
   "metadata": {},
   "source": [
    "## Save phonebook"
   ]
  },
  {
   "cell_type": "code",
   "id": "5e6bb5a7",
   "metadata": {
    "ExecuteTime": {
     "end_time": "2024-12-17T18:47:50.350573Z",
     "start_time": "2024-12-17T18:47:50.290868Z"
    }
   },
   "source": [
    "final_partition_start = 0\n",
    "cluster_final_partition = defaultdict(list)\n",
    "partition2final_partition = {}\n",
    "# renumber partition ids to start at 0\n",
    "for cix, partitions in cluster_partitions.items():\n",
    "    cluster_id = cluster_labels[cix]\n",
    "    for partition in partitions:\n",
    "        if partition in partition2final_partition:\n",
    "            final_partition = partition2final_partition[partition]\n",
    "        else:\n",
    "            final_partition = final_partition_start\n",
    "            partition2final_partition[partition] = final_partition_start\n",
    "            final_partition_start += 1\n",
    "        cluster_final_partition[cluster_id].append(final_partition)"
   ],
   "outputs": [],
   "execution_count": 50
  },
  {
   "cell_type": "code",
   "id": "10c34d77",
   "metadata": {
    "ExecuteTime": {
     "end_time": "2024-12-17T18:47:52.765796Z",
     "start_time": "2024-12-17T18:47:52.718694Z"
    }
   },
   "source": [
    "# should be 720\n",
    "final_partition_start"
   ],
   "outputs": [
    {
     "data": {
      "text/plain": [
       "720"
      ]
     },
     "execution_count": 51,
     "metadata": {},
     "output_type": "execute_result"
    }
   ],
   "execution_count": 51
  },
  {
   "cell_type": "code",
   "execution_count": 87,
   "id": "5233d3f1",
   "metadata": {},
   "outputs": [],
   "source": [
    "save_file(phonebook_path,\n",
    "          lambda local_out_path : json.dump(cluster_final_partition, open(local_out_path, 'w')))"
   ]
  },
  {
   "cell_type": "code",
   "id": "abd95c23",
   "metadata": {
    "ExecuteTime": {
     "end_time": "2024-12-17T18:47:57.187754Z",
     "start_time": "2024-12-17T18:47:57.141801Z"
    }
   },
   "source": [
    "phonebook_path"
   ],
   "outputs": [
    {
     "data": {
      "text/plain": [
       "'s3://fs-nama-data/2024/familysearch-names/processed/hr-phonebook.json'"
      ]
     },
     "execution_count": 52,
     "metadata": {},
     "output_type": "execute_result"
    }
   ],
   "execution_count": 52
  },
  {
   "cell_type": "code",
   "id": "6f5e271e-d2aa-46a4-b03d-f6d4c5902b4c",
   "metadata": {
    "ExecuteTime": {
     "end_time": "2024-12-17T18:48:00.705135Z",
     "start_time": "2024-12-17T18:48:00.666871Z"
    }
   },
   "source": [
    "cluster_final_partition['a']"
   ],
   "outputs": [
    {
     "data": {
      "text/plain": [
       "[270]"
      ]
     },
     "execution_count": 53,
     "metadata": {},
     "output_type": "execute_result"
    }
   ],
   "execution_count": 53
  },
  {
   "cell_type": "code",
   "execution_count": null,
   "id": "6394570d-8d1a-4cb0-a91a-1f6ba3f28157",
   "metadata": {},
   "outputs": [],
   "source": []
  }
 ],
 "metadata": {
  "kernelspec": {
   "display_name": "Python 3 (ipykernel)",
   "language": "python",
   "name": "python3"
  },
  "language_info": {
   "codemirror_mode": {
    "name": "ipython",
    "version": 3
   },
   "file_extension": ".py",
   "mimetype": "text/x-python",
   "name": "python",
   "nbconvert_exporter": "python",
   "pygments_lexer": "ipython3",
   "version": "3.9.18"
  }
 },
 "nbformat": 4,
 "nbformat_minor": 5
}
