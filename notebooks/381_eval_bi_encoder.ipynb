{
 "cells": [
  {
   "cell_type": "code",
   "id": "0",
   "metadata": {
    "ExecuteTime": {
     "end_time": "2024-12-12T17:18:08.094923Z",
     "start_time": "2024-12-12T17:18:08.035363Z"
    }
   },
   "source": [
    "%load_ext autoreload\n",
    "%autoreload 2\n",
    "%matplotlib inline"
   ],
   "outputs": [],
   "execution_count": 1
  },
  {
   "cell_type": "markdown",
   "id": "1",
   "metadata": {
    "pycharm": {
     "name": "#%% md\n"
    }
   },
   "source": [
    " Evaluate bi-encoder\n",
    "\n",
    "Calculate ROC-AUC for various bi-encoder models to see which one performs best\n",
    "\n",
    "Results\n",
    "- lr = 0.00005 hard_negs = 15 easy_negs = 15 vocab_size = 256 AUC = 0.9785468571658106\n",
    "- lr = 0.00005 hard_negs = 10 easy_negs = 20 vocab_size = 2048 AUC = 0.9801656491546622\n",
    "- lr = 0.00005 hard_negs = 10 easy_negs = 30 vocab_size = 2048 AUC = \n",
    "- lr = 0.0001 hard_negs = 15 easy_negs = 15 vocab_size = 2048 AUC = 0.9791479317312332\n",
    "- lr = 0.00005 hard_negs = 15 easy_negs = 15 vocab_size = 2048 AUC = 0.9796675370074298\n",
    "- old clf AUC = 0.9835559336624864\n",
    "- lr = 0.00005 ce vocab_size = 2048 AUC = 0.9855205231724369\n",
    "- "
   ]
  },
  {
   "cell_type": "code",
   "id": "2",
   "metadata": {
    "ExecuteTime": {
     "end_time": "2024-12-12T17:18:12.035087Z",
     "start_time": "2024-12-12T17:18:08.102913Z"
    }
   },
   "source": [
    "from collections import defaultdict\n",
    "\n",
    "from sklearn.metrics import roc_curve, auc\n",
    "import numpy as np\n",
    "import matplotlib.pyplot as plt\n",
    "import pandas as pd\n",
    "import seaborn as sns\n",
    "import torch\n",
    "from tqdm import tqdm\n",
    "\n",
    "from nama.data.filesystem import download_file_from_s3\n",
    "from nama.models.tokenizer import get_tokenize_function_and_vocab"
   ],
   "outputs": [],
   "execution_count": 2
  },
  {
   "cell_type": "code",
   "id": "3",
   "metadata": {
    "ExecuteTime": {
     "end_time": "2024-12-12T17:27:04.432379Z",
     "start_time": "2024-12-12T17:27:04.373391Z"
    }
   },
   "source": [
    "# config\n",
    "\n",
    "# TODO run both given and surname\n",
    "given_surname = \"given\"\n",
    "# given_surname = \"surname\"\n",
    "\n",
    "num_epochs = 8\n",
    "embedding_dim = 256\n",
    "hard_negs = 10\n",
    "easy_negs = 30\n",
    "bi_encoder_vocab_size = 2048\n",
    "learning_rate = 0.00005\n",
    "max_tokens = 10\n",
    "very_high_freq_threshold = 100000\n",
    "\n",
    "std_path = f\"../references/std_{given_surname}.txt\"\n",
    "frequencies_path = f\"s3://fs-nama-data/2024/familysearch-names/interim/tree-hr-{given_surname}-aggr-v2.parquet\"\n",
    "tokenizer_path=f\"s3://fs-nama-data/2024/nama-data/data/models/fs-{given_surname}-subword-tokenizer-{bi_encoder_vocab_size}.json\"\n",
    "# bi_encoder_path = f\"s3://fs-nama-data/2024/nama-data/data/models/bi_encoder-{given_surname}-{num_epochs}-{embedding_dim}-{hard_negs}-{easy_negs}-{bi_encoder_vocab_size}-{learning_rate}.pth\"\n",
    "bi_encoder_path = f\"s3://fs-nama-data/2024/nama-data/data/models/bi_encoder-ce-{given_surname}-{num_epochs}-{embedding_dim}-{num_epochs}-{bi_encoder_vocab_size}-{learning_rate}.pth\"\n",
    "\n",
    "# old bi-encoder and tokenizer\n",
    "# bi_encoder_path = \"/home/data/nama/nama-data/models/bi_encoder-given-cecommon+0+aug-0-1.pth\"\n",
    "# tokenizer_path= \"/home/data/nama/nama-data/models/fs-given-subword-tokenizer-2000f.json\""
   ],
   "outputs": [],
   "execution_count": 12
  },
  {
   "cell_type": "code",
   "id": "4",
   "metadata": {
    "ExecuteTime": {
     "end_time": "2024-12-12T17:18:12.210939Z",
     "start_time": "2024-12-12T17:18:12.090437Z"
    }
   },
   "source": [
    "device = torch.device(\"cuda:0\" if torch.cuda.is_available() else \"cpu\")\n",
    "print(device)\n",
    "torch.cuda.empty_cache()\n",
    "print(torch.cuda.is_available())\n",
    "if torch.cuda.is_available():\n",
    "    print(\"cuda total\", torch.cuda.get_device_properties(0).total_memory)\n",
    "    print(\"cuda reserved\", torch.cuda.memory_reserved(0))\n",
    "    print(\"cuda allocated\", torch.cuda.memory_allocated(0))"
   ],
   "outputs": [
    {
     "name": "stdout",
     "output_type": "stream",
     "text": [
      "cuda:0\n",
      "True\n",
      "cuda total 8141471744\n",
      "cuda reserved 0\n",
      "cuda allocated 0\n"
     ]
    }
   ],
   "execution_count": 4
  },
  {
   "cell_type": "code",
   "id": "5",
   "metadata": {
    "ExecuteTime": {
     "end_time": "2024-12-12T17:18:12.358299Z",
     "start_time": "2024-12-12T17:18:12.213177Z"
    }
   },
   "source": [
    "# load buckets\n",
    "bucket_names = defaultdict(set)\n",
    "with open(std_path, 'rt') as f:\n",
    "    for line in f.readlines():\n",
    "        names = line.strip().replace(':', ' ').split(' ')\n",
    "        bucket_name = names[0]\n",
    "        for name in names:\n",
    "            name = name.strip()\n",
    "            if len(name) == 0:\n",
    "                continue\n",
    "            bucket_names[bucket_name].add(name)\n",
    "print(len(bucket_names))"
   ],
   "outputs": [
    {
     "name": "stdout",
     "output_type": "stream",
     "text": [
      "8878\n"
     ]
    }
   ],
   "execution_count": 5
  },
  {
   "cell_type": "code",
   "id": "116b5a8199452475",
   "metadata": {
    "ExecuteTime": {
     "end_time": "2024-12-12T17:19:11.078608Z",
     "start_time": "2024-12-12T17:18:12.359878Z"
    }
   },
   "source": [
    "# load counts\n",
    "path = download_file_from_s3(frequencies_path) if frequencies_path.startswith(\"s3://\") else frequencies_path\n",
    "counts_df = pd.read_parquet(path)\n",
    "counts_df = counts_df[['alt_name', 'total_alt_name_frequency']].drop_duplicates()\n",
    "print(counts_df.shape)\n",
    "name_frequency = dict(zip(counts_df['alt_name'], counts_df['total_alt_name_frequency']))\n",
    "print(len(name_frequency))"
   ],
   "outputs": [
    {
     "name": "stdout",
     "output_type": "stream",
     "text": [
      "(6148634, 2)\n",
      "6148634\n"
     ]
    }
   ],
   "execution_count": 6
  },
  {
   "metadata": {
    "ExecuteTime": {
     "end_time": "2024-12-12T17:19:11.445845Z",
     "start_time": "2024-12-12T17:19:11.080610Z"
    }
   },
   "cell_type": "code",
   "source": [
    "very_high_freq_names = [name for name, freq in name_frequency.items() if freq > very_high_freq_threshold]\n",
    "print(len(very_high_freq_names))"
   ],
   "id": "6",
   "outputs": [
    {
     "name": "stdout",
     "output_type": "stream",
     "text": [
      "2104\n"
     ]
    }
   ],
   "execution_count": 7
  },
  {
   "metadata": {
    "ExecuteTime": {
     "end_time": "2024-12-12T17:19:12.057977Z",
     "start_time": "2024-12-12T17:19:11.448026Z"
    }
   },
   "cell_type": "code",
   "source": [
    "# load tokenizer\n",
    "path = download_file_from_s3(tokenizer_path) if tokenizer_path.startswith(\"s3://\") else tokenizer_path\n",
    "tokenize, tokenizer_vocab = get_tokenize_function_and_vocab(tokenizer_path=path, max_tokens=max_tokens)\n",
    "print(len(tokenizer_vocab))\n",
    "print(tokenize('dallan'))"
   ],
   "id": "bb2a349f099cd4fe",
   "outputs": [
    {
     "name": "stdout",
     "output_type": "stream",
     "text": [
      "2048\n",
      "[1584, 489, 1, 1, 1, 1, 1, 1, 1, 1]\n"
     ]
    }
   ],
   "execution_count": 8
  },
  {
   "metadata": {
    "ExecuteTime": {
     "end_time": "2024-12-12T17:27:11.351428Z",
     "start_time": "2024-12-12T17:27:10.295181Z"
    }
   },
   "cell_type": "code",
   "source": [
    "# load bi-encoder\n",
    "path = download_file_from_s3(bi_encoder_path) if bi_encoder_path.startswith(\"s3://\") else bi_encoder_path\n",
    "model = torch.load(path)\n",
    "model.eval()"
   ],
   "id": "c0bdf6d115c8c7a9",
   "outputs": [
    {
     "name": "stderr",
     "output_type": "stream",
     "text": [
      "/tmp/ipykernel_3791000/3279248562.py:3: FutureWarning: You are using `torch.load` with `weights_only=False` (the current default value), which uses the default pickle module implicitly. It is possible to construct malicious pickle data which will execute arbitrary code during unpickling (See https://github.com/pytorch/pytorch/blob/main/SECURITY.md#untrusted-models for more details). In a future release, the default value for `weights_only` will be flipped to `True`. This limits the functions that could be executed during unpickling. Arbitrary objects will no longer be allowed to be loaded via this mode unless they are explicitly allowlisted by the user via `torch.serialization.add_safe_globals`. We recommend you start setting `weights_only=True` for any use case where you don't have full control of the loaded file. Please open an issue on GitHub for any issues related to this experimental feature.\n",
      "  model = torch.load(path)\n"
     ]
    },
    {
     "data": {
      "text/plain": [
       "BiEncoder(\n",
       "  (embedding): Embedding(2048, 256)\n",
       "  (positional_embedding): Embedding(10, 256)\n",
       "  (pooling): AdaptiveAvgPool1d(output_size=1)\n",
       ")"
      ]
     },
     "execution_count": 13,
     "metadata": {},
     "output_type": "execute_result"
    }
   ],
   "execution_count": 13
  },
  {
   "metadata": {},
   "cell_type": "markdown",
   "source": [
    "## Compute ROC-AUC for all buckets\n",
    "\n",
    "- Names in the bucket are positives\n",
    "- very high freq names are negatives"
   ],
   "id": "5a65fefd87a7230f"
  },
  {
   "metadata": {
    "ExecuteTime": {
     "end_time": "2024-12-12T17:27:15.952573Z",
     "start_time": "2024-12-12T17:27:15.894484Z"
    }
   },
   "cell_type": "code",
   "source": [
    "def plot_roc_auc(y_true, scores):\n",
    "    \"\"\"\n",
    "    Calculate and plot ROC curve, return AUC score\n",
    "    \n",
    "    Parameters:\n",
    "    -----------\n",
    "    y_true : array-like\n",
    "        True binary labels (0 or 1)\n",
    "    scores : array-like\n",
    "        Target scores (can be positive/negative numbers, probabilities, etc.)\n",
    "        Higher values should indicate higher likelihood of positive class\n",
    "        \n",
    "    Returns:\n",
    "    --------\n",
    "    float\n",
    "        Area Under the ROC Curve (AUC) score\n",
    "    \"\"\"\n",
    "    # Calculate ROC curve points\n",
    "    fpr, tpr, _ = roc_curve(y_true, scores)\n",
    "    roc_auc = auc(fpr, tpr)\n",
    "    \n",
    "    # Create ROC curve plot\n",
    "    plt.figure(figsize=(8, 6))\n",
    "    \n",
    "    # Set up grid with 0.05 intervals\n",
    "    plt.gca().set_xticks(np.arange(0, 1.05, 0.05))\n",
    "    plt.gca().set_yticks(np.arange(0, 1.05, 0.05))\n",
    "    plt.grid(True, alpha=1.0, which='both')\n",
    "    \n",
    "    plt.plot(fpr, tpr, color='darkorange', lw=2, \n",
    "             label=f'bi-encoder ROC curve (AUC = {roc_auc:.2f})')\n",
    "    \n",
    "    # Customize plot\n",
    "    plt.xlim([0.0, 1.0])\n",
    "    plt.ylim([0.0, 1.05])\n",
    "    plt.xlabel('False Positive Rate')\n",
    "    plt.ylabel('True Positive Rate')\n",
    "    plt.title('Receiver Operating Characteristic (ROC) Curve')\n",
    "    plt.legend(loc=\"lower right\")\n",
    "    plt.grid(True, alpha=1.0)\n",
    "    \n",
    "    # Show plot\n",
    "    plt.show()\n",
    "    \n",
    "    return roc_auc"
   ],
   "id": "86a63d55085d5d65",
   "outputs": [],
   "execution_count": 14
  },
  {
   "cell_type": "code",
   "id": "12",
   "metadata": {
    "ExecuteTime": {
     "end_time": "2024-12-12T19:10:53.164145Z",
     "start_time": "2024-12-12T17:27:19.864293Z"
    }
   },
   "source": [
    "y_true = []\n",
    "scores = []\n",
    "total_pos = 0\n",
    "total_neg = 0\n",
    "sample_rate = 1\n",
    "for bucket_name, names in tqdm(list(bucket_names.items())[::sample_rate]):\n",
    "    bucket_name_tokens = tokenize(bucket_name)\n",
    "    for name in names:\n",
    "        name_tokens = tokenize(name)\n",
    "        sim = model.predict(bucket_name_tokens, name_tokens)\n",
    "        y_true.append(1)\n",
    "        scores.append(sim)\n",
    "        total_pos += 1\n",
    "    for name in very_high_freq_names:\n",
    "        name_tokens = tokenize(name)\n",
    "        sim = model.predict(bucket_name_tokens, name_tokens)\n",
    "        y_true.append(0)\n",
    "        scores.append(sim)\n",
    "        total_neg += 1"
   ],
   "outputs": [
    {
     "name": "stderr",
     "output_type": "stream",
     "text": [
      "100%|██████████| 8878/8878 [1:43:33<00:00,  1.43it/s]\n"
     ]
    }
   ],
   "execution_count": 15
  },
  {
   "cell_type": "code",
   "id": "30",
   "metadata": {
    "ExecuteTime": {
     "end_time": "2024-12-12T19:11:14.134897Z",
     "start_time": "2024-12-12T19:10:53.166092Z"
    }
   },
   "source": "score = plot_roc_auc(y_true, scores)",
   "outputs": [
    {
     "data": {
      "text/plain": [
       "<Figure size 800x600 with 1 Axes>"
      ],
      "image/png": "[encoded data removed]"
     },
     "metadata": {},
     "output_type": "display_data"
    }
   ],
   "execution_count": 16
  },
  {
   "metadata": {
    "ExecuteTime": {
     "end_time": "2024-12-12T19:11:14.296519Z",
     "start_time": "2024-12-12T19:11:14.137923Z"
    }
   },
   "cell_type": "code",
   "source": "print(total_pos, total_neg, score)",
   "id": "be0f7a29ef263ce7",
   "outputs": [
    {
     "name": "stdout",
     "output_type": "stream",
     "text": [
      "96010 18679312 0.9855205231724369\n"
     ]
    }
   ],
   "execution_count": 17
  },
  {
   "metadata": {
    "ExecuteTime": {
     "end_time": "2024-12-12T19:11:14.347667Z",
     "start_time": "2024-12-12T19:11:14.299515Z"
    }
   },
   "cell_type": "code",
   "source": [
    "print(hard_negs)\n",
    "print(easy_negs)\n",
    "print(bi_encoder_vocab_size)\n",
    "print(learning_rate)"
   ],
   "id": "7ede58081e96a29b",
   "outputs": [
    {
     "name": "stdout",
     "output_type": "stream",
     "text": [
      "10\n",
      "30\n",
      "2048\n",
      "5e-05\n"
     ]
    }
   ],
   "execution_count": 18
  },
  {
   "metadata": {},
   "cell_type": "code",
   "source": "",
   "id": "4e27c56740ed17f8",
   "outputs": [],
   "execution_count": null
  }
 ],
 "metadata": {
  "kernelspec": {
   "display_name": "Python 3 (ipykernel)",
   "language": "python",
   "name": "python3"
  },
  "language_info": {
   "codemirror_mode": {
    "name": "ipython",
    "version": 3
   },
   "file_extension": ".py",
   "mimetype": "text/x-python",
   "name": "python",
   "nbconvert_exporter": "python",
   "pygments_lexer": "ipython3",
   "version": "3.8.12"
  }
 },
 "nbformat": 4,
 "nbformat_minor": 5
}
