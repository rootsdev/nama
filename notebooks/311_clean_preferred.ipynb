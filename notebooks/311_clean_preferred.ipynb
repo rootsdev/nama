{
 "cells": [
  {
   "cell_type": "code",
   "metadata": {
    "pycharm": {
     "name": "#%%\n"
    },
    "ExecuteTime": {
     "end_time": "2024-10-21T19:10:28.634214Z",
     "start_time": "2024-10-21T19:10:28.592822Z"
    }
   },
   "source": [
    "%load_ext autoreload\n",
    "%autoreload 2"
   ],
   "outputs": [],
   "execution_count": 1
  },
  {
   "cell_type": "markdown",
   "metadata": {
    "pycharm": {
     "name": "#%% md\n"
    }
   },
   "source": [
    "# Clean preferred names and split into separate given and surname datasets"
   ]
  },
  {
   "cell_type": "code",
   "metadata": {
    "pycharm": {
     "name": "#%%\n"
    },
    "ExecuteTime": {
     "end_time": "2024-10-21T19:12:21.347724Z",
     "start_time": "2024-10-21T19:12:21.310886Z"
    }
   },
   "source": [
    "from os.path import join\n",
    "\n",
    "import csv\n",
    "from mpire import WorkerPool\n",
    "import pandas as pd\n",
    "from pathlib import Path\n",
    "\n",
    "from nama.data.filesystem import glob, download_file_from_s3, save_file\n",
    "from nama.data.normalize import normalize"
   ],
   "outputs": [],
   "execution_count": 4
  },
  {
   "cell_type": "code",
   "metadata": {
    "pycharm": {
     "name": "#%%\n"
    },
    "ExecuteTime": {
     "end_time": "2024-10-21T19:12:22.778185Z",
     "start_time": "2024-10-21T19:12:22.741344Z"
    }
   },
   "source": [
    "in_path = \"s3://fs-nama-data/2024/familysearch-names/raw/tree-preferred/\"\n",
    "given_out_path = \"s3://fs-nama-data/2024/familysearch-names/interim/tree-preferred-given/\"\n",
    "surname_out_path = \"s3://fs-nama-data/2024/familysearch-names/interim/tree-preferred-surname/\""
   ],
   "outputs": [],
   "execution_count": 5
  },
  {
   "cell_type": "code",
   "metadata": {
    "pycharm": {
     "name": "#%%\n"
    },
    "ExecuteTime": {
     "end_time": "2024-10-21T19:12:52.331814Z",
     "start_time": "2024-10-21T19:12:52.302703Z"
    }
   },
   "source": [
    "def normalize_given_and_join(name):\n",
    "    return (\" \".join(normalize(name, is_surname=False, dont_return_empty=False))).strip()\n",
    "\n",
    "def normalize_surname_and_join(name):\n",
    "    return (\" \".join(normalize(name, is_surname=True, dont_return_empty=False))).strip()"
   ],
   "outputs": [],
   "execution_count": 6
  },
  {
   "cell_type": "code",
   "metadata": {
    "pycharm": {
     "name": "#%%\n"
    },
    "ExecuteTime": {
     "end_time": "2024-10-21T19:15:52.748522Z",
     "start_time": "2024-10-21T19:15:52.701444Z"
    }
   },
   "source": [
    "def process_file(shared, filename):\n",
    "    given_out_path, surname_out_path = shared\n",
    "    basename = Path(filename).stem\n",
    "\n",
    "    filename = download_file_from_s3(filename) if filename.startswith(\"s3://\") else filename\n",
    "    \n",
    "    df = pd.read_csv(\n",
    "        filename,\n",
    "        sep=\"|\",\n",
    "        compression=\"gzip\",\n",
    "        names=[\"name\"],\n",
    "        dtype={\"name\": str},\n",
    "        na_filter=False,\n",
    "        encoding=\"utf-8\",\n",
    "        encoding_errors=\"replace\",\n",
    "        on_bad_lines=\"warn\",\n",
    "        quoting=csv.QUOTE_NONE,\n",
    "    )\n",
    "\n",
    "    # create separate given and surname dataframes\n",
    "    given_df = df[[\"name\"]].copy()\n",
    "    surname_df = df[[\"name\"]].copy()\n",
    "    del df\n",
    "\n",
    "    # split names into given and surname\n",
    "    given_df[\"name\"] = given_df[\"name\"].str.replace(r\"\\^.*$\", \"\", regex=True)\n",
    "    surname_df[\"name\"] = surname_df[\"name\"].str.replace(r\"^.*\\^\", \"\", regex=True)\n",
    "\n",
    "    # filter out non-latin names\n",
    "    given_df = given_df[\n",
    "        given_df[\"name\"].str.endswith(\"~Latn\")\n",
    "    ]\n",
    "    surname_df = surname_df[\n",
    "        surname_df[\"name\"].str.endswith(\"~Latn\")\n",
    "    ]\n",
    "\n",
    "    # remove ~Latn suffix and lowercase\n",
    "    given_df[\"name\"] = given_df[\"name\"].str.replace(\n",
    "        \"~Latn$\", \"\", regex=True\n",
    "    ).str.lower()\n",
    "    surname_df[\"name\"] = surname_df[\"name\"].str.replace(\n",
    "        \"~Latn$\", \"\", regex=True\n",
    "    ).str.lower()\n",
    "\n",
    "    # normalize names and join the pieces back into a single space-separated string\n",
    "    given_df[\"name\"] = given_df[\"name\"].map(normalize_given_and_join)\n",
    "    surname_df[\"name\"] = surname_df[\"name\"].map(normalize_surname_and_join)\n",
    "\n",
    "    # remove empty names\n",
    "    given_df = given_df[given_df[\"name\"] != \"\"]\n",
    "    surname_df = surname_df[surname_df[\"name\"] != \"\"]\n",
    "    \n",
    "    # write files\n",
    "    save_file(join(given_out_path, basename) + \".parquet\", \n",
    "              lambda local_out_path : given_df.to_parquet(local_out_path, engine=\"pyarrow\", compression=\"snappy\"))\n",
    "    save_file(join(surname_out_path, basename) + \".parquet\",\n",
    "              lambda local_out_path : surname_df.to_parquet(local_out_path, engine=\"pyarrow\", compression=\"snappy\"))        "
   ],
   "outputs": [],
   "execution_count": 7
  },
  {
   "cell_type": "code",
   "metadata": {
    "pycharm": {
     "name": "#%%\n"
    },
    "ExecuteTime": {
     "end_time": "2024-10-22T01:36:36.187084Z",
     "start_time": "2024-10-21T19:18:16.642274Z"
    }
   },
   "source": [
    "# process files\n",
    "filenames = glob(join(in_path,\"*.gz\"))\n",
    "print(len(filenames))\n",
    "with WorkerPool(shared_objects=(given_out_path, surname_out_path)) as pool:\n",
    "    pool.map(process_file, filenames, progress_bar=True)"
   ],
   "outputs": [
    {
     "name": "stdout",
     "output_type": "stream",
     "text": [
      "12000\n"
     ]
    },
    {
     "name": "stderr",
     "output_type": "stream",
     "text": [
      "100%|██████████| 12000/12000 [6:18:14<00:00,  5.88s/it]  \n"
     ]
    }
   ],
   "execution_count": 12
  },
  {
   "metadata": {},
   "cell_type": "code",
   "outputs": [],
   "execution_count": null,
   "source": ""
  }
 ],
 "metadata": {
  "interpreter": {
   "hash": "7a8115de58066eb2ca8cfe29f0da77ee43c62745e34e8f6d96cac148b862780f"
  },
  "jupytext": {
   "encoding": "# -*- coding: utf-8 -*-",
   "main_language": "python"
  },
  "kernelspec": {
   "display_name": "nama",
   "language": "python",
   "name": "nama"
  },
  "language_info": {
   "codemirror_mode": {
    "name": "ipython",
    "version": 3
   },
   "file_extension": ".py",
   "mimetype": "text/x-python",
   "name": "python",
   "nbconvert_exporter": "python",
   "pygments_lexer": "ipython3",
   "version": "3.9.16"
  }
 },
 "nbformat": 4,
 "nbformat_minor": 2
}
