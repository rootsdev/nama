{
 "cells": [
  {
   "cell_type": "code",
   "execution_count": 1,
   "metadata": {
    "ExecuteTime": {
     "end_time": "2024-10-22T21:44:43.899981Z",
     "start_time": "2024-10-22T21:44:43.880436Z"
    },
    "pycharm": {
     "name": "#%%\n"
    }
   },
   "outputs": [],
   "source": [
    "%load_ext autoreload\n",
    "%autoreload 2"
   ]
  },
  {
   "cell_type": "markdown",
   "metadata": {
    "pycharm": {
     "name": "#%% md\n"
    }
   },
   "source": [
    "# Aggregate pairs and compute counts, probabilities, and similarities\n",
    "I don't think the probabilities calculated here are actually used because we re-calculate them after filtering."
   ]
  },
  {
   "cell_type": "code",
   "execution_count": 2,
   "metadata": {
    "ExecuteTime": {
     "end_time": "2024-10-22T21:44:44.317293Z",
     "start_time": "2024-10-22T21:44:43.901925Z"
    },
    "pycharm": {
     "name": "#%%\n"
    }
   },
   "outputs": [],
   "source": [
    "from os.path import join\n",
    "\n",
    "from mpire import WorkerPool\n",
    "import pandas as pd\n",
    "from pandarallel import pandarallel\n",
    "\n",
    "from nama.data.filesystem import glob, download_file_from_s3, save_file\n",
    "from nama.data.match import levenshtein_similarity"
   ]
  },
  {
   "cell_type": "code",
   "execution_count": 3,
   "metadata": {
    "ExecuteTime": {
     "end_time": "2024-10-22T21:45:21.929226Z",
     "start_time": "2024-10-22T21:45:21.910377Z"
    },
    "pycharm": {
     "name": "#%%\n"
    }
   },
   "outputs": [],
   "source": [
    "# DO FOR BOTH GIVEN AND SURNAME\n",
    "given_surname = \"given\"\n",
    "# given_surname = \"surname\"\n",
    "\n",
    "in_path = f\"s3://fs-nama-data/2024/familysearch-names/interim/tree-hr-{given_surname}-pairs/\"\n",
    "out_path = f\"s3://fs-nama-data/2024/familysearch-names/interim/tree-hr-{given_surname}-aggr-v2.parquet\""
   ]
  },
  {
   "cell_type": "code",
   "execution_count": 4,
   "metadata": {
    "ExecuteTime": {
     "end_time": "2024-10-22T21:48:38.044384Z",
     "start_time": "2024-10-22T21:45:24.628974Z"
    },
    "pycharm": {
     "name": "#%%\n"
    }
   },
   "outputs": [
    {
     "name": "stderr",
     "output_type": "stream",
     "text": [
      "Exception occurred, terminating ... :  23%|██▎       | 2704/12000 [02:47<08:21, 18.52it/s]"
     ]
    },
    {
     "name": "stdout",
     "output_type": "stream",
     "text": [
      "Error downloading file s3://fs-nama-data/2024/familysearch-names/interim/tree-hr-given-pairs/part-02781.parquet from S3: Error downloading file s3://fs-nama-data/2024/familysearch-names/interim/tree-hr-given-pairs/part-02701.parquet from S3: \n",
      "\n",
      "Error downloading file s3://fs-nama-data/2024/familysearch-names/interim/tree-hr-given-pairs/part-02645.parquet from S3: \n",
      "Error downloading file s3://fs-nama-data/2024/familysearch-names/interim/tree-hr-given-pairs/part-02801.parquet from S3: "
     ]
    },
    {
     "name": "stderr",
     "output_type": "stream",
     "text": [
      "\n"
     ]
    },
    {
     "name": "stdout",
     "output_type": "stream",
     "text": [
      "\n",
      "Error downloading file s3://fs-nama-data/2024/familysearch-names/interim/tree-hr-given-pairs/part-02722.parquet from S3: \n",
      "Error downloading file s3://fs-nama-data/2024/familysearch-names/interim/tree-hr-given-pairs/part-02734.parquet from S3: \n",
      "Error downloading file s3://fs-nama-data/2024/familysearch-names/interim/tree-hr-given-pairs/part-02747.parquet from S3: \n",
      "Error downloading file s3://fs-nama-data/2024/familysearch-names/interim/tree-hr-given-pairs/part-02691.parquet from S3: \n",
      "Error downloading file s3://fs-nama-data/2024/familysearch-names/interim/tree-hr-given-pairs/part-02680.parquet from S3: \n",
      "Error downloading file s3://fs-nama-data/2024/familysearch-names/interim/tree-hr-given-pairs/part-02669.parquet from S3: \n",
      "Error downloading file s3://fs-nama-data/2024/familysearch-names/interim/tree-hr-given-pairs/part-02791.parquet from S3: Error downloading file s3://fs-nama-data/2024/familysearch-names/interim/tree-hr-given-pairs/part-02635.parquet from S3: \n",
      "\n",
      "Error downloading file s3://fs-nama-data/2024/familysearch-names/interim/tree-hr-given-pairs/part-02770.parquet from S3: \n",
      "Error downloading file s3://fs-nama-data/2024/familysearch-names/interim/tree-hr-given-pairs/part-02758.parquet from S3: \n"
     ]
    },
    {
     "name": "stderr",
     "output_type": "stream",
     "text": [
      "Exception in thread Thread-27 (_terminate_worker):\n",
      "Traceback (most recent call last):\n",
      "  File \"/home/dallan/.local/share/mise/installs/python/3.12.7/lib/python3.12/threading.py\", line 1075, in _bootstrap_inner\n",
      "Exception in thread Thread-28 (_terminate_worker):\n",
      "Traceback (most recent call last):\n",
      "  File \"/home/dallan/.local/share/mise/installs/python/3.12.7/lib/python3.12/threading.py\", line 1075, in _bootstrap_inner\n",
      "Exception in thread Thread-29 (_terminate_worker):\n",
      "Traceback (most recent call last):\n",
      "  File \"/home/dallan/.local/share/mise/installs/python/3.12.7/lib/python3.12/threading.py\", line 1075, in _bootstrap_inner\n",
      "    self.run()\n",
      "  File \"/home/dallan/rootsdev/nama/.venv/lib/python3.12/site-packages/ipykernel/ipkernel.py\", line 766, in run_closure\n",
      "    self.run()\n",
      "  File \"/home/dallan/rootsdev/nama/.venv/lib/python3.12/site-packages/ipykernel/ipkernel.py\", line 766, in run_closure\n",
      "    _threading_Thread_run(self)\n",
      "  File \"/home/dallan/.local/share/mise/installs/python/3.12.7/lib/python3.12/threading.py\", line 1012, in run\n",
      "Exception in thread Thread-30 (_terminate_worker):\n",
      "Traceback (most recent call last):\n",
      "  File \"/home/dallan/.local/share/mise/installs/python/3.12.7/lib/python3.12/threading.py\", line 1075, in _bootstrap_inner\n",
      "    self.run()\n",
      "  File \"/home/dallan/rootsdev/nama/.venv/lib/python3.12/site-packages/ipykernel/ipkernel.py\", line 766, in run_closure\n",
      "Exception in thread Thread-31 (_terminate_worker):\n",
      "Traceback (most recent call last):\n",
      "  File \"/home/dallan/.local/share/mise/installs/python/3.12.7/lib/python3.12/threading.py\", line 1075, in _bootstrap_inner\n",
      "    self._target(*self._args, **self._kwargs)\n",
      "  File \"/home/dallan/rootsdev/nama/.venv/lib/python3.12/site-packages/mpire/pool.py\", line 1055, in _terminate_worker\n",
      "Exception in thread Thread-32 (_terminate_worker):\n",
      "Traceback (most recent call last):\n",
      "  File \"/home/dallan/.local/share/mise/installs/python/3.12.7/lib/python3.12/threading.py\", line 1075, in _bootstrap_inner\n",
      "    self.run()\n",
      "  File \"/home/dallan/rootsdev/nama/.venv/lib/python3.12/site-packages/ipykernel/ipkernel.py\", line 766, in run_closure\n",
      "Exception in thread Thread-33 (_terminate_worker):\n",
      "Traceback (most recent call last):\n",
      "  File \"/home/dallan/.local/share/mise/installs/python/3.12.7/lib/python3.12/threading.py\", line 1075, in _bootstrap_inner\n",
      "    self.run()\n",
      "  File \"/home/dallan/rootsdev/nama/.venv/lib/python3.12/site-packages/ipykernel/ipkernel.py\", line 766, in run_closure\n",
      "    _threading_Thread_run(self)\n",
      "  File \"/home/dallan/.local/share/mise/installs/python/3.12.7/lib/python3.12/threading.py\", line 1012, in run\n",
      "    _threading_Thread_run(self)\n",
      "  File \"/home/dallan/.local/share/mise/installs/python/3.12.7/lib/python3.12/threading.py\", line 1012, in run\n",
      "Exception in thread Thread-34 (_terminate_worker):\n",
      "Traceback (most recent call last):\n",
      "  File \"/home/dallan/.local/share/mise/installs/python/3.12.7/lib/python3.12/threading.py\", line 1075, in _bootstrap_inner\n",
      "    self._target(*self._args, **self._kwargs)\n",
      "  File \"/home/dallan/rootsdev/nama/.venv/lib/python3.12/site-packages/mpire/pool.py\", line 1055, in _terminate_worker\n",
      "    self.run()\n",
      "  File \"/home/dallan/rootsdev/nama/.venv/lib/python3.12/site-packages/ipykernel/ipkernel.py\", line 766, in run_closure\n",
      "    self.run()\n",
      "  File \"/home/dallan/rootsdev/nama/.venv/lib/python3.12/site-packages/ipykernel/ipkernel.py\", line 766, in run_closure\n",
      "    _threading_Thread_run(self)\n",
      "  File \"/home/dallan/.local/share/mise/installs/python/3.12.7/lib/python3.12/threading.py\", line 1012, in run\n",
      "    _threading_Thread_run(self)\n",
      "  File \"/home/dallan/.local/share/mise/installs/python/3.12.7/lib/python3.12/threading.py\", line 1012, in run\n",
      "    if self._workers[worker_id] is None or self._workers[worker_id].pid is None:\n",
      "                                           ^^^^^^^^^^^^^^^^^^^^^^^^^^^^\n",
      "  File \"/home/dallan/.local/share/mise/installs/python/3.12.7/lib/python3.12/multiprocessing/process.py\", line 239, in ident\n",
      "    self.run()\n",
      "  File \"/home/dallan/rootsdev/nama/.venv/lib/python3.12/site-packages/ipykernel/ipkernel.py\", line 766, in run_closure\n",
      "    self._target(*self._args, **self._kwargs)\n",
      "  File \"/home/dallan/rootsdev/nama/.venv/lib/python3.12/site-packages/mpire/pool.py\", line 1055, in _terminate_worker\n",
      "    _threading_Thread_run(self)\n",
      "  File \"/home/dallan/.local/share/mise/installs/python/3.12.7/lib/python3.12/threading.py\", line 1012, in run\n",
      "    self._check_closed()\n",
      "  File \"/home/dallan/.local/share/mise/installs/python/3.12.7/lib/python3.12/multiprocessing/process.py\", line 101, in _check_closed\n",
      "Exception in thread Thread-35 (_terminate_worker):\n",
      "Traceback (most recent call last):\n",
      "  File \"/home/dallan/.local/share/mise/installs/python/3.12.7/lib/python3.12/threading.py\", line 1075, in _bootstrap_inner\n",
      "    if self._workers[worker_id] is None or self._workers[worker_id].pid is None:\n",
      "                                           ^^^^^^^^^^^^^^^^^^^^^^^^^^^^\n",
      "  File \"/home/dallan/.local/share/mise/installs/python/3.12.7/lib/python3.12/multiprocessing/process.py\", line 239, in ident\n",
      "    self._target(*self._args, **self._kwargs)\n",
      "  File \"/home/dallan/rootsdev/nama/.venv/lib/python3.12/site-packages/mpire/pool.py\", line 1055, in _terminate_worker\n",
      "    if self._workers[worker_id] is None or self._workers[worker_id].pid is None:\n",
      "                                           ^^^^^^^^^^^^^^^^^^^^^^^^^^^^\n",
      "  File \"/home/dallan/.local/share/mise/installs/python/3.12.7/lib/python3.12/multiprocessing/process.py\", line 239, in ident\n",
      "    _threading_Thread_run(self)\n",
      "  File \"/home/dallan/.local/share/mise/installs/python/3.12.7/lib/python3.12/threading.py\", line 1012, in run\n",
      "    raise ValueError(\"process object is closed\")\n",
      "ValueError: process object is closed\n",
      "    self._check_closed()\n",
      "  File \"/home/dallan/.local/share/mise/installs/python/3.12.7/lib/python3.12/multiprocessing/process.py\", line 101, in _check_closed\n",
      "    _threading_Thread_run(self)\n",
      "  File \"/home/dallan/.local/share/mise/installs/python/3.12.7/lib/python3.12/threading.py\", line 1012, in run\n",
      "    self.run()\n",
      "  File \"/home/dallan/rootsdev/nama/.venv/lib/python3.12/site-packages/ipykernel/ipkernel.py\", line 766, in run_closure\n",
      "    self._check_closed()\n",
      "  File \"/home/dallan/.local/share/mise/installs/python/3.12.7/lib/python3.12/multiprocessing/process.py\", line 101, in _check_closed\n",
      "    self._target(*self._args, **self._kwargs)\n",
      "  File \"/home/dallan/rootsdev/nama/.venv/lib/python3.12/site-packages/mpire/pool.py\", line 1055, in _terminate_worker\n",
      "Exception in thread Thread-36 (_terminate_worker):\n",
      "Traceback (most recent call last):\n",
      "  File \"/home/dallan/.local/share/mise/installs/python/3.12.7/lib/python3.12/threading.py\", line 1075, in _bootstrap_inner\n",
      "    _threading_Thread_run(self)\n",
      "  File \"/home/dallan/.local/share/mise/installs/python/3.12.7/lib/python3.12/threading.py\", line 1012, in run\n",
      "Exception in thread Thread-37 (_terminate_worker):\n",
      "Traceback (most recent call last):\n",
      "  File \"/home/dallan/.local/share/mise/installs/python/3.12.7/lib/python3.12/threading.py\", line 1075, in _bootstrap_inner\n",
      "    raise ValueError(\"process object is closed\")\n",
      "ValueError: process object is closed\n",
      "    if self._workers[worker_id] is None or self._workers[worker_id].pid is None:\n",
      "                                           ^^^^^^^^^^^^^^^^^^^^^^^^^^^^\n",
      "  File \"/home/dallan/.local/share/mise/installs/python/3.12.7/lib/python3.12/multiprocessing/process.py\", line 239, in ident\n",
      "Exception in thread Thread-38 (_terminate_worker):\n",
      "Traceback (most recent call last):\n",
      "  File \"/home/dallan/.local/share/mise/installs/python/3.12.7/lib/python3.12/threading.py\", line 1075, in _bootstrap_inner\n",
      "    self.run()\n",
      "  File \"/home/dallan/rootsdev/nama/.venv/lib/python3.12/site-packages/ipykernel/ipkernel.py\", line 766, in run_closure\n",
      "    self._target(*self._args, **self._kwargs)\n",
      "  File \"/home/dallan/rootsdev/nama/.venv/lib/python3.12/site-packages/mpire/pool.py\", line 1055, in _terminate_worker\n",
      "    raise ValueError(\"process object is closed\")\n",
      "ValueError: process object is closed\n",
      "    self._check_closed()\n",
      "  File \"/home/dallan/.local/share/mise/installs/python/3.12.7/lib/python3.12/multiprocessing/process.py\", line 101, in _check_closed\n",
      "    self._target(*self._args, **self._kwargs)\n",
      "  File \"/home/dallan/rootsdev/nama/.venv/lib/python3.12/site-packages/mpire/pool.py\", line 1055, in _terminate_worker\n",
      "    self.run()\n",
      "  File \"/home/dallan/rootsdev/nama/.venv/lib/python3.12/site-packages/ipykernel/ipkernel.py\", line 766, in run_closure\n",
      "    self._target(*self._args, **self._kwargs)\n",
      "  File \"/home/dallan/rootsdev/nama/.venv/lib/python3.12/site-packages/mpire/pool.py\", line 1055, in _terminate_worker\n",
      "    raise ValueError(\"process object is closed\")\n",
      "ValueError: process object is closed\n",
      "    _threading_Thread_run(self)\n",
      "  File \"/home/dallan/.local/share/mise/installs/python/3.12.7/lib/python3.12/threading.py\", line 1012, in run\n",
      "    self._target(*self._args, **self._kwargs)\n",
      "  File \"/home/dallan/rootsdev/nama/.venv/lib/python3.12/site-packages/mpire/pool.py\", line 1055, in _terminate_worker\n",
      "    _threading_Thread_run(self)\n",
      "  File \"/home/dallan/.local/share/mise/installs/python/3.12.7/lib/python3.12/threading.py\", line 1012, in run\n",
      "Exception in thread Thread-39 (_terminate_worker):\n",
      "Traceback (most recent call last):\n",
      "  File \"/home/dallan/.local/share/mise/installs/python/3.12.7/lib/python3.12/threading.py\", line 1075, in _bootstrap_inner\n",
      "    self._target(*self._args, **self._kwargs)\n",
      "  File \"/home/dallan/rootsdev/nama/.venv/lib/python3.12/site-packages/mpire/pool.py\", line 1055, in _terminate_worker\n",
      "    self.run()\n",
      "  File \"/home/dallan/rootsdev/nama/.venv/lib/python3.12/site-packages/ipykernel/ipkernel.py\", line 766, in run_closure\n",
      "    if self._workers[worker_id] is None or self._workers[worker_id].pid is None:\n",
      "                                           ^^^^^^^^^^^^^^^^^^^^^^^^^^^^\n",
      "  File \"/home/dallan/.local/share/mise/installs/python/3.12.7/lib/python3.12/multiprocessing/process.py\", line 239, in ident\n",
      "    if self._workers[worker_id] is None or self._workers[worker_id].pid is None:\n",
      "                                           ^^^^^^^^^^^^^^^^^^^^^^^^^^^^\n",
      "  File \"/home/dallan/.local/share/mise/installs/python/3.12.7/lib/python3.12/multiprocessing/process.py\", line 239, in ident\n",
      "    self._check_closed()\n",
      "  File \"/home/dallan/.local/share/mise/installs/python/3.12.7/lib/python3.12/multiprocessing/process.py\", line 101, in _check_closed\n",
      "    if self._workers[worker_id] is None or self._workers[worker_id].pid is None:\n",
      "                                           ^^^^^^^^^^^^^^^^^^^^^^^^^^^^\n",
      "  File \"/home/dallan/.local/share/mise/installs/python/3.12.7/lib/python3.12/multiprocessing/process.py\", line 239, in ident\n",
      "    self._check_closed()\n",
      "  File \"/home/dallan/.local/share/mise/installs/python/3.12.7/lib/python3.12/multiprocessing/process.py\", line 101, in _check_closed\n",
      "    raise ValueError(\"process object is closed\")\n",
      "ValueError: process object is closed\n",
      "    if self._workers[worker_id] is None or self._workers[worker_id].pid is None:\n",
      "                                           ^^^^^^^^^^^^^^^^^^^^^^^^^^^^\n",
      "  File \"/home/dallan/.local/share/mise/installs/python/3.12.7/lib/python3.12/multiprocessing/process.py\", line 239, in ident\n",
      "Exception in thread Thread-40 (_terminate_worker):\n",
      "Traceback (most recent call last):\n",
      "  File \"/home/dallan/.local/share/mise/installs/python/3.12.7/lib/python3.12/threading.py\", line 1075, in _bootstrap_inner\n",
      "    self._check_closed()\n",
      "  File \"/home/dallan/.local/share/mise/installs/python/3.12.7/lib/python3.12/multiprocessing/process.py\", line 101, in _check_closed\n",
      "    raise ValueError(\"process object is closed\")\n",
      "ValueError: process object is closed\n",
      "    self._target(*self._args, **self._kwargs)\n",
      "  File \"/home/dallan/rootsdev/nama/.venv/lib/python3.12/site-packages/mpire/pool.py\", line 1055, in _terminate_worker\n",
      "    self.run()\n",
      "  File \"/home/dallan/rootsdev/nama/.venv/lib/python3.12/site-packages/ipykernel/ipkernel.py\", line 766, in run_closure\n",
      "    self.run()\n",
      "  File \"/home/dallan/rootsdev/nama/.venv/lib/python3.12/site-packages/ipykernel/ipkernel.py\", line 766, in run_closure\n",
      "    if self._workers[worker_id] is None or self._workers[worker_id].pid is None:\n",
      "                                           ^^^^^^^^^^^^^^^^^^^^^^^^^^^^\n",
      "  File \"/home/dallan/.local/share/mise/installs/python/3.12.7/lib/python3.12/multiprocessing/process.py\", line 239, in ident\n",
      "    _threading_Thread_run(self)\n",
      "  File \"/home/dallan/.local/share/mise/installs/python/3.12.7/lib/python3.12/threading.py\", line 1012, in run\n",
      "    if self._workers[worker_id] is None or self._workers[worker_id].pid is None:\n",
      "                                           ^^^^^^^^^^^^^^^^^^^^^^^^^^^^\n",
      "  File \"/home/dallan/.local/share/mise/installs/python/3.12.7/lib/python3.12/multiprocessing/process.py\", line 239, in ident\n",
      "    self._check_closed()\n",
      "  File \"/home/dallan/.local/share/mise/installs/python/3.12.7/lib/python3.12/multiprocessing/process.py\", line 101, in _check_closed\n",
      "    _threading_Thread_run(self)\n",
      "  File \"/home/dallan/.local/share/mise/installs/python/3.12.7/lib/python3.12/threading.py\", line 1012, in run\n",
      "    self._check_closed()\n",
      "  File \"/home/dallan/.local/share/mise/installs/python/3.12.7/lib/python3.12/multiprocessing/process.py\", line 101, in _check_closed\n",
      "    if self._workers[worker_id] is None or self._workers[worker_id].pid is None:\n",
      "                                           ^^^^^^^^^^^^^^^^^^^^^^^^^^^^\n",
      "  File \"/home/dallan/.local/share/mise/installs/python/3.12.7/lib/python3.12/multiprocessing/process.py\", line 239, in ident\n",
      "Exception in thread Thread-41 (_terminate_worker):\n",
      "Traceback (most recent call last):\n",
      "  File \"/home/dallan/.local/share/mise/installs/python/3.12.7/lib/python3.12/threading.py\", line 1075, in _bootstrap_inner\n",
      "    raise ValueError(\"process object is closed\")\n",
      "ValueError: process object is closed\n",
      "    _threading_Thread_run(self)\n",
      "  File \"/home/dallan/.local/share/mise/installs/python/3.12.7/lib/python3.12/threading.py\", line 1012, in run\n",
      "    self._target(*self._args, **self._kwargs)\n",
      "  File \"/home/dallan/rootsdev/nama/.venv/lib/python3.12/site-packages/mpire/pool.py\", line 1055, in _terminate_worker\n",
      "    raise ValueError(\"process object is closed\")\n",
      "ValueError: process object is closed\n",
      "    self._target(*self._args, **self._kwargs)\n",
      "  File \"/home/dallan/rootsdev/nama/.venv/lib/python3.12/site-packages/mpire/pool.py\", line 1055, in _terminate_worker\n",
      "    raise ValueError(\"process object is closed\")\n",
      "ValueError: process object is closed\n",
      "    self._target(*self._args, **self._kwargs)\n",
      "  File \"/home/dallan/rootsdev/nama/.venv/lib/python3.12/site-packages/mpire/pool.py\", line 1055, in _terminate_worker\n",
      "    self._check_closed()\n",
      "  File \"/home/dallan/.local/share/mise/installs/python/3.12.7/lib/python3.12/multiprocessing/process.py\", line 101, in _check_closed\n",
      "Exception in thread Thread-42 (_terminate_worker):\n",
      "Traceback (most recent call last):\n",
      "  File \"/home/dallan/.local/share/mise/installs/python/3.12.7/lib/python3.12/threading.py\", line 1075, in _bootstrap_inner\n",
      "    if self._workers[worker_id] is None or self._workers[worker_id].pid is None:\n",
      "                                           ^^^^^^^^^^^^^^^^^^^^^^^^^^^^\n",
      "  File \"/home/dallan/.local/share/mise/installs/python/3.12.7/lib/python3.12/multiprocessing/process.py\", line 239, in ident\n",
      "    self._check_closed()\n",
      "  File \"/home/dallan/.local/share/mise/installs/python/3.12.7/lib/python3.12/multiprocessing/process.py\", line 101, in _check_closed\n",
      "    self.run()\n",
      "  File \"/home/dallan/rootsdev/nama/.venv/lib/python3.12/site-packages/ipykernel/ipkernel.py\", line 766, in run_closure\n",
      "    self._check_closed()\n",
      "  File \"/home/dallan/.local/share/mise/installs/python/3.12.7/lib/python3.12/multiprocessing/process.py\", line 101, in _check_closed\n",
      "    raise ValueError(\"process object is closed\")\n",
      "ValueError: process object is closed\n",
      "    _threading_Thread_run(self)\n",
      "  File \"/home/dallan/.local/share/mise/installs/python/3.12.7/lib/python3.12/threading.py\", line 1012, in run\n",
      "    if self._workers[worker_id] is None or self._workers[worker_id].pid is None:\n",
      "                                           ^^^^^^^^^^^^^^^^^^^^^^^^^^^^\n",
      "  File \"/home/dallan/.local/share/mise/installs/python/3.12.7/lib/python3.12/multiprocessing/process.py\", line 239, in ident\n",
      "    if self._workers[worker_id] is None or self._workers[worker_id].pid is None:\n",
      "                                           ^^^^^^^^^^^^^^^^^^^^^^^^^^^^\n",
      "  File \"/home/dallan/.local/share/mise/installs/python/3.12.7/lib/python3.12/multiprocessing/process.py\", line 239, in ident\n",
      "    raise ValueError(\"process object is closed\")\n",
      "ValueError: process object is closed\n",
      "    self._check_closed()\n",
      "  File \"/home/dallan/.local/share/mise/installs/python/3.12.7/lib/python3.12/multiprocessing/process.py\", line 101, in _check_closed\n",
      "    self.run()\n",
      "  File \"/home/dallan/rootsdev/nama/.venv/lib/python3.12/site-packages/ipykernel/ipkernel.py\", line 766, in run_closure\n",
      "    raise ValueError(\"process object is closed\")\n",
      "ValueError: process object is closed\n",
      "    raise ValueError(\"process object is closed\")\n",
      "ValueError: process object is closed\n",
      "    _threading_Thread_run(self)\n",
      "  File \"/home/dallan/.local/share/mise/installs/python/3.12.7/lib/python3.12/threading.py\", line 1012, in run\n",
      "    self._check_closed()\n",
      "  File \"/home/dallan/.local/share/mise/installs/python/3.12.7/lib/python3.12/multiprocessing/process.py\", line 101, in _check_closed\n",
      "    raise ValueError(\"process object is closed\")\n",
      "ValueError: process object is closed\n",
      "    self._target(*self._args, **self._kwargs)\n",
      "  File \"/home/dallan/rootsdev/nama/.venv/lib/python3.12/site-packages/mpire/pool.py\", line 1055, in _terminate_worker\n",
      "    if self._workers[worker_id] is None or self._workers[worker_id].pid is None:\n",
      "                                           ^^^^^^^^^^^^^^^^^^^^^^^^^^^^\n",
      "  File \"/home/dallan/.local/share/mise/installs/python/3.12.7/lib/python3.12/multiprocessing/process.py\", line 239, in ident\n",
      "    self._check_closed()\n",
      "  File \"/home/dallan/.local/share/mise/installs/python/3.12.7/lib/python3.12/multiprocessing/process.py\", line 101, in _check_closed\n",
      "    self._target(*self._args, **self._kwargs)\n",
      "  File \"/home/dallan/rootsdev/nama/.venv/lib/python3.12/site-packages/mpire/pool.py\", line 1055, in _terminate_worker\n",
      "    if self._workers[worker_id] is None or self._workers[worker_id].pid is None:\n",
      "                                           ^^^^^^^^^^^^^^^^^^^^^^^^^^^^\n",
      "  File \"/home/dallan/.local/share/mise/installs/python/3.12.7/lib/python3.12/multiprocessing/process.py\", line 239, in ident\n",
      "    raise ValueError(\"process object is closed\")\n",
      "ValueError: process object is closed\n",
      "    self._check_closed()\n",
      "  File \"/home/dallan/.local/share/mise/installs/python/3.12.7/lib/python3.12/multiprocessing/process.py\", line 101, in _check_closed\n",
      "    raise ValueError(\"process object is closed\")\n",
      "ValueError: process object is closed\n"
     ]
    },
    {
     "ename": "KeyboardInterrupt",
     "evalue": "",
     "output_type": "error",
     "traceback": [
      "\u001b[0;31m---------------------------------------------------------------------------\u001b[0m",
      "\u001b[0;31mKeyboardInterrupt\u001b[0m                         Traceback (most recent call last)",
      "File \u001b[0;32m~/rootsdev/nama/.venv/lib/python3.12/site-packages/mpire/pool.py:762\u001b[0m, in \u001b[0;36mWorkerPool.imap_unordered\u001b[0;34m(self, func, iterable_of_args, iterable_len, max_tasks_active, chunk_size, n_splits, worker_lifespan, progress_bar, worker_init, worker_exit, task_timeout, worker_init_timeout, worker_exit_timeout, progress_bar_options, progress_bar_style)\u001b[0m\n\u001b[1;32m    761\u001b[0m \u001b[38;5;28;01mtry\u001b[39;00m:\n\u001b[0;32m--> 762\u001b[0m     \u001b[38;5;28;01myield\u001b[39;00m \u001b[43mimap_iterator\u001b[49m\u001b[38;5;241;43m.\u001b[39;49m\u001b[43mnext\u001b[49m\u001b[43m(\u001b[49m\u001b[43mblock\u001b[49m\u001b[38;5;241;43m=\u001b[39;49m\u001b[38;5;28;43;01mTrue\u001b[39;49;00m\u001b[43m,\u001b[49m\u001b[43m \u001b[49m\u001b[43mtimeout\u001b[49m\u001b[38;5;241;43m=\u001b[39;49m\u001b[38;5;241;43m0.01\u001b[39;49m\u001b[43m)\u001b[49m\n\u001b[1;32m    763\u001b[0m     n_active \u001b[38;5;241m-\u001b[39m\u001b[38;5;241m=\u001b[39m \u001b[38;5;241m1\u001b[39m\n",
      "File \u001b[0;32m~/rootsdev/nama/.venv/lib/python3.12/site-packages/mpire/async_result.py:161\u001b[0m, in \u001b[0;36mUnorderedAsyncResultIterator.next\u001b[0;34m(self, block, timeout)\u001b[0m\n\u001b[1;32m    160\u001b[0m \u001b[38;5;28;01mwhile\u001b[39;00m \u001b[38;5;129;01mnot\u001b[39;00m \u001b[38;5;28mself\u001b[39m\u001b[38;5;241m.\u001b[39m_items:\n\u001b[0;32m--> 161\u001b[0m     timed_out \u001b[38;5;241m=\u001b[39m \u001b[38;5;129;01mnot\u001b[39;00m \u001b[38;5;28;43mself\u001b[39;49m\u001b[38;5;241;43m.\u001b[39;49m\u001b[43m_condition\u001b[49m\u001b[38;5;241;43m.\u001b[39;49m\u001b[43mwait\u001b[49m\u001b[43m(\u001b[49m\u001b[43mtimeout\u001b[49m\u001b[38;5;241;43m=\u001b[39;49m\u001b[43mtimeout\u001b[49m\u001b[43m)\u001b[49m\n\u001b[1;32m    162\u001b[0m     \u001b[38;5;28;01mif\u001b[39;00m timed_out:\n",
      "File \u001b[0;32m~/.local/share/mise/installs/python/3.12.7/lib/python3.12/threading.py:359\u001b[0m, in \u001b[0;36mCondition.wait\u001b[0;34m(self, timeout)\u001b[0m\n\u001b[1;32m    358\u001b[0m \u001b[38;5;28;01mif\u001b[39;00m timeout \u001b[38;5;241m>\u001b[39m \u001b[38;5;241m0\u001b[39m:\n\u001b[0;32m--> 359\u001b[0m     gotit \u001b[38;5;241m=\u001b[39m \u001b[43mwaiter\u001b[49m\u001b[38;5;241;43m.\u001b[39;49m\u001b[43macquire\u001b[49m\u001b[43m(\u001b[49m\u001b[38;5;28;43;01mTrue\u001b[39;49;00m\u001b[43m,\u001b[49m\u001b[43m \u001b[49m\u001b[43mtimeout\u001b[49m\u001b[43m)\u001b[49m\n\u001b[1;32m    360\u001b[0m \u001b[38;5;28;01melse\u001b[39;00m:\n",
      "\u001b[0;31mKeyboardInterrupt\u001b[0m: ",
      "\nDuring handling of the above exception, another exception occurred:\n",
      "\u001b[0;31mKeyboardInterrupt\u001b[0m                         Traceback (most recent call last)",
      "Cell \u001b[0;32mIn[4], line 7\u001b[0m\n\u001b[1;32m      4\u001b[0m     \u001b[38;5;28;01mreturn\u001b[39;00m pd\u001b[38;5;241m.\u001b[39mread_parquet(filename)\n\u001b[1;32m      6\u001b[0m \u001b[38;5;28;01mwith\u001b[39;00m WorkerPool() \u001b[38;5;28;01mas\u001b[39;00m pool:\n\u001b[0;32m----> 7\u001b[0m     dfs \u001b[38;5;241m=\u001b[39m \u001b[43mpool\u001b[49m\u001b[38;5;241;43m.\u001b[39;49m\u001b[43mmap\u001b[49m\u001b[43m(\u001b[49m\u001b[43mread_file\u001b[49m\u001b[43m,\u001b[49m\u001b[43m \u001b[49m\u001b[43mglob\u001b[49m\u001b[43m(\u001b[49m\u001b[43mjoin\u001b[49m\u001b[43m(\u001b[49m\u001b[43min_path\u001b[49m\u001b[43m,\u001b[49m\u001b[43m \u001b[49m\u001b[38;5;124;43m\"\u001b[39;49m\u001b[38;5;124;43mpart-*\u001b[39;49m\u001b[38;5;124;43m\"\u001b[39;49m\u001b[43m)\u001b[49m\u001b[43m)\u001b[49m\u001b[43m,\u001b[49m\u001b[43m \u001b[49m\u001b[43mprogress_bar\u001b[49m\u001b[38;5;241;43m=\u001b[39;49m\u001b[38;5;28;43;01mTrue\u001b[39;49;00m\u001b[43m)\u001b[49m\n\u001b[1;32m      8\u001b[0m \u001b[38;5;28mprint\u001b[39m(\u001b[38;5;28mlen\u001b[39m(dfs))\n",
      "File \u001b[0;32m~/rootsdev/nama/.venv/lib/python3.12/site-packages/mpire/pool.py:467\u001b[0m, in \u001b[0;36mWorkerPool.map\u001b[0;34m(self, func, iterable_of_args, iterable_len, max_tasks_active, chunk_size, n_splits, worker_lifespan, progress_bar, concatenate_numpy_output, worker_init, worker_exit, task_timeout, worker_init_timeout, worker_exit_timeout, progress_bar_options, progress_bar_style)\u001b[0m\n\u001b[1;32m    465\u001b[0m \u001b[38;5;28;01mif\u001b[39;00m iterable_len \u001b[38;5;129;01mis\u001b[39;00m \u001b[38;5;28;01mNone\u001b[39;00m \u001b[38;5;129;01mand\u001b[39;00m \u001b[38;5;28mhasattr\u001b[39m(iterable_of_args, \u001b[38;5;124m'\u001b[39m\u001b[38;5;124m__len__\u001b[39m\u001b[38;5;124m'\u001b[39m):\n\u001b[1;32m    466\u001b[0m     iterable_len \u001b[38;5;241m=\u001b[39m \u001b[38;5;28mlen\u001b[39m(iterable_of_args)\n\u001b[0;32m--> 467\u001b[0m results \u001b[38;5;241m=\u001b[39m \u001b[38;5;28;43mself\u001b[39;49m\u001b[38;5;241;43m.\u001b[39;49m\u001b[43mmap_unordered\u001b[49m\u001b[43m(\u001b[49m\n\u001b[1;32m    468\u001b[0m \u001b[43m    \u001b[49m\u001b[43mfunc\u001b[49m\u001b[43m,\u001b[49m\u001b[43m \u001b[49m\u001b[43m(\u001b[49m\u001b[43m(\u001b[49m\u001b[43margs_idx\u001b[49m\u001b[43m,\u001b[49m\u001b[43m \u001b[49m\u001b[43margs\u001b[49m\u001b[43m)\u001b[49m\u001b[43m \u001b[49m\u001b[38;5;28;43;01mfor\u001b[39;49;00m\u001b[43m \u001b[49m\u001b[43margs_idx\u001b[49m\u001b[43m,\u001b[49m\u001b[43m \u001b[49m\u001b[43margs\u001b[49m\u001b[43m \u001b[49m\u001b[38;5;129;43;01min\u001b[39;49;00m\u001b[43m \u001b[49m\u001b[38;5;28;43menumerate\u001b[39;49m\u001b[43m(\u001b[49m\u001b[43miterable_of_args\u001b[49m\u001b[43m)\u001b[49m\u001b[43m)\u001b[49m\u001b[43m,\u001b[49m\u001b[43m \u001b[49m\u001b[43miterable_len\u001b[49m\u001b[43m,\u001b[49m\u001b[43m \u001b[49m\u001b[43mmax_tasks_active\u001b[49m\u001b[43m,\u001b[49m\n\u001b[1;32m    469\u001b[0m \u001b[43m    \u001b[49m\u001b[43mchunk_size\u001b[49m\u001b[43m,\u001b[49m\u001b[43m \u001b[49m\u001b[43mn_splits\u001b[49m\u001b[43m,\u001b[49m\u001b[43m \u001b[49m\u001b[43mworker_lifespan\u001b[49m\u001b[43m,\u001b[49m\u001b[43m \u001b[49m\u001b[43mprogress_bar\u001b[49m\u001b[43m,\u001b[49m\u001b[43m \u001b[49m\u001b[43mworker_init\u001b[49m\u001b[43m,\u001b[49m\u001b[43m \u001b[49m\u001b[43mworker_exit\u001b[49m\u001b[43m,\u001b[49m\u001b[43m \u001b[49m\u001b[43mtask_timeout\u001b[49m\u001b[43m,\u001b[49m\u001b[43m \u001b[49m\n\u001b[1;32m    470\u001b[0m \u001b[43m    \u001b[49m\u001b[43mworker_init_timeout\u001b[49m\u001b[43m,\u001b[49m\u001b[43m \u001b[49m\u001b[43mworker_exit_timeout\u001b[49m\u001b[43m,\u001b[49m\u001b[43m \u001b[49m\u001b[43mprogress_bar_options\u001b[49m\u001b[43m,\u001b[49m\u001b[43m \u001b[49m\u001b[43mprogress_bar_style\u001b[49m\n\u001b[1;32m    471\u001b[0m \u001b[43m\u001b[49m\u001b[43m)\u001b[49m\n\u001b[1;32m    473\u001b[0m \u001b[38;5;66;03m# Notify workers to forget about order\u001b[39;00m\n\u001b[1;32m    474\u001b[0m \u001b[38;5;28mself\u001b[39m\u001b[38;5;241m.\u001b[39m_worker_comms\u001b[38;5;241m.\u001b[39mclear_keep_order()\n",
      "File \u001b[0;32m~/rootsdev/nama/.venv/lib/python3.12/site-packages/mpire/pool.py:534\u001b[0m, in \u001b[0;36mWorkerPool.map_unordered\u001b[0;34m(self, func, iterable_of_args, iterable_len, max_tasks_active, chunk_size, n_splits, worker_lifespan, progress_bar, worker_init, worker_exit, task_timeout, worker_init_timeout, worker_exit_timeout, progress_bar_options, progress_bar_style)\u001b[0m\n\u001b[1;32m    492\u001b[0m \u001b[38;5;250m\u001b[39m\u001b[38;5;124;03m\"\"\"\u001b[39;00m\n\u001b[1;32m    493\u001b[0m \u001b[38;5;124;03mSame as ``multiprocessing.map()``, but unordered. Also allows a user to set the maximum number of tasks\u001b[39;00m\n\u001b[1;32m    494\u001b[0m \u001b[38;5;124;03mavailable in the queue.\u001b[39;00m\n\u001b[0;32m   (...)\u001b[0m\n\u001b[1;32m    531\u001b[0m \u001b[38;5;124;03m:return: List with unordered results\u001b[39;00m\n\u001b[1;32m    532\u001b[0m \u001b[38;5;124;03m\"\"\"\u001b[39;00m\n\u001b[1;32m    533\u001b[0m \u001b[38;5;66;03m# Simply call imap and cast it to a list. This make sure all elements are there before returning\u001b[39;00m\n\u001b[0;32m--> 534\u001b[0m \u001b[38;5;28;01mreturn\u001b[39;00m \u001b[38;5;28;43mlist\u001b[39;49m\u001b[43m(\u001b[49m\u001b[38;5;28;43mself\u001b[39;49m\u001b[38;5;241;43m.\u001b[39;49m\u001b[43mimap_unordered\u001b[49m\u001b[43m(\u001b[49m\u001b[43mfunc\u001b[49m\u001b[43m,\u001b[49m\u001b[43m \u001b[49m\u001b[43miterable_of_args\u001b[49m\u001b[43m,\u001b[49m\u001b[43m \u001b[49m\u001b[43miterable_len\u001b[49m\u001b[43m,\u001b[49m\u001b[43m \u001b[49m\u001b[43mmax_tasks_active\u001b[49m\u001b[43m,\u001b[49m\u001b[43m \u001b[49m\u001b[43mchunk_size\u001b[49m\u001b[43m,\u001b[49m\n\u001b[1;32m    535\u001b[0m \u001b[43m                                \u001b[49m\u001b[43mn_splits\u001b[49m\u001b[43m,\u001b[49m\u001b[43m \u001b[49m\u001b[43mworker_lifespan\u001b[49m\u001b[43m,\u001b[49m\u001b[43m \u001b[49m\u001b[43mprogress_bar\u001b[49m\u001b[43m,\u001b[49m\u001b[43m \u001b[49m\u001b[43mworker_init\u001b[49m\u001b[43m,\u001b[49m\u001b[43m \u001b[49m\u001b[43mworker_exit\u001b[49m\u001b[43m,\u001b[49m\u001b[43m \u001b[49m\n\u001b[1;32m    536\u001b[0m \u001b[43m                                \u001b[49m\u001b[43mtask_timeout\u001b[49m\u001b[43m,\u001b[49m\u001b[43m \u001b[49m\u001b[43mworker_init_timeout\u001b[49m\u001b[43m,\u001b[49m\u001b[43m \u001b[49m\u001b[43mworker_exit_timeout\u001b[49m\u001b[43m,\u001b[49m\u001b[43m \u001b[49m\u001b[43mprogress_bar_options\u001b[49m\u001b[43m,\u001b[49m\n\u001b[1;32m    537\u001b[0m \u001b[43m                                \u001b[49m\u001b[43mprogress_bar_style\u001b[49m\u001b[43m)\u001b[49m\u001b[43m)\u001b[49m\n",
      "File \u001b[0;32m~/rootsdev/nama/.venv/lib/python3.12/site-packages/mpire/pool.py:798\u001b[0m, in \u001b[0;36mWorkerPool.imap_unordered\u001b[0;34m(self, func, iterable_of_args, iterable_len, max_tasks_active, chunk_size, n_splits, worker_lifespan, progress_bar, worker_init, worker_exit, task_timeout, worker_init_timeout, worker_exit_timeout, progress_bar_options, progress_bar_style)\u001b[0m\n\u001b[1;32m    795\u001b[0m                 \u001b[38;5;28mself\u001b[39m\u001b[38;5;241m.\u001b[39m_worker_comms\u001b[38;5;241m.\u001b[39mwait_until_progress_bar_is_complete()\n\u001b[1;32m    797\u001b[0m         \u001b[38;5;28;01mexcept\u001b[39;00m \u001b[38;5;167;01mKeyboardInterrupt\u001b[39;00m:\n\u001b[0;32m--> 798\u001b[0m             \u001b[38;5;28;43mself\u001b[39;49m\u001b[38;5;241;43m.\u001b[39;49m\u001b[43m_handle_exception\u001b[49m\u001b[43m(\u001b[49m\u001b[43m)\u001b[49m\n\u001b[1;32m    800\u001b[0m \u001b[38;5;28;01mfinally\u001b[39;00m:\n\u001b[1;32m    801\u001b[0m     \u001b[38;5;28;01mif\u001b[39;00m tqdm_manager_owner:\n",
      "File \u001b[0;32m~/rootsdev/nama/.venv/lib/python3.12/site-packages/mpire/pool.py:920\u001b[0m, in \u001b[0;36mWorkerPool._handle_exception\u001b[0;34m(self)\u001b[0m\n\u001b[1;32m    918\u001b[0m         \u001b[38;5;28mself\u001b[39m\u001b[38;5;241m.\u001b[39m_progress_bar_handler\u001b[38;5;241m.\u001b[39mthread\u001b[38;5;241m.\u001b[39mjoin()\n\u001b[1;32m    919\u001b[0m         \u001b[38;5;28mself\u001b[39m\u001b[38;5;241m.\u001b[39m_progress_bar_handler \u001b[38;5;241m=\u001b[39m \u001b[38;5;28;01mNone\u001b[39;00m\n\u001b[0;32m--> 920\u001b[0m \u001b[38;5;28;43mself\u001b[39;49m\u001b[38;5;241;43m.\u001b[39;49m\u001b[43mterminate\u001b[49m\u001b[43m(\u001b[49m\u001b[43m)\u001b[49m\n\u001b[1;32m    922\u001b[0m \u001b[38;5;66;03m# Clear keep order event so we can safely reuse the WorkerPool and use (i)map_unordered after an (i)map call\u001b[39;00m\n\u001b[1;32m    923\u001b[0m \u001b[38;5;28mself\u001b[39m\u001b[38;5;241m.\u001b[39m_worker_comms\u001b[38;5;241m.\u001b[39mclear_keep_order()\n",
      "File \u001b[0;32m~/rootsdev/nama/.venv/lib/python3.12/site-packages/mpire/pool.py:1037\u001b[0m, in \u001b[0;36mWorkerPool.terminate\u001b[0;34m(self)\u001b[0m\n\u001b[1;32m   1034\u001b[0m \u001b[38;5;28mself\u001b[39m\u001b[38;5;241m.\u001b[39m_stop_handler_threads()\n\u001b[1;32m   1036\u001b[0m \u001b[38;5;66;03m# Drain and join the queues\u001b[39;00m\n\u001b[0;32m-> 1037\u001b[0m \u001b[38;5;28;43mself\u001b[39;49m\u001b[38;5;241;43m.\u001b[39;49m\u001b[43m_worker_comms\u001b[49m\u001b[38;5;241;43m.\u001b[39;49m\u001b[43mdrain_queues\u001b[49m\u001b[43m(\u001b[49m\u001b[43m)\u001b[49m\n\u001b[1;32m   1039\u001b[0m \u001b[38;5;66;03m# Reset workers and cache. Keep only the main process, init and exit results objects\u001b[39;00m\n\u001b[1;32m   1040\u001b[0m \u001b[38;5;28mself\u001b[39m\u001b[38;5;241m.\u001b[39m_workers \u001b[38;5;241m=\u001b[39m []\n",
      "File \u001b[0;32m~/rootsdev/nama/.venv/lib/python3.12/site-packages/mpire/comms.py:685\u001b[0m, in \u001b[0;36mWorkerComms.drain_queues\u001b[0;34m(self)\u001b[0m\n\u001b[1;32m    681\u001b[0m \u001b[38;5;28;01mdef\u001b[39;00m \u001b[38;5;21mdrain_queues\u001b[39m(\u001b[38;5;28mself\u001b[39m) \u001b[38;5;241m-\u001b[39m\u001b[38;5;241m>\u001b[39m \u001b[38;5;28;01mNone\u001b[39;00m:\n\u001b[1;32m    682\u001b[0m \u001b[38;5;250m    \u001b[39m\u001b[38;5;124;03m\"\"\"\u001b[39;00m\n\u001b[1;32m    683\u001b[0m \u001b[38;5;124;03m    Drain tasks and results queues\u001b[39;00m\n\u001b[1;32m    684\u001b[0m \u001b[38;5;124;03m    \"\"\"\u001b[39;00m\n\u001b[0;32m--> 685\u001b[0m     [\u001b[38;5;28;43mself\u001b[39;49m\u001b[38;5;241;43m.\u001b[39;49m\u001b[43mdrain_and_join_queue\u001b[49m\u001b[43m(\u001b[49m\u001b[43mq\u001b[49m\u001b[43m)\u001b[49m \u001b[38;5;28;01mfor\u001b[39;00m q \u001b[38;5;129;01min\u001b[39;00m \u001b[38;5;28mself\u001b[39m\u001b[38;5;241m.\u001b[39m_task_queues]\n\u001b[1;32m    686\u001b[0m     \u001b[38;5;28mself\u001b[39m\u001b[38;5;241m.\u001b[39mdrain_and_join_queue(\u001b[38;5;28mself\u001b[39m\u001b[38;5;241m.\u001b[39m_results_queue)\n",
      "File \u001b[0;32m~/rootsdev/nama/.venv/lib/python3.12/site-packages/mpire/comms.py:704\u001b[0m, in \u001b[0;36mWorkerComms.drain_and_join_queue\u001b[0;34m(self, q, join)\u001b[0m\n\u001b[1;32m    702\u001b[0m process \u001b[38;5;241m=\u001b[39m \u001b[38;5;28mself\u001b[39m\u001b[38;5;241m.\u001b[39mctx\u001b[38;5;241m.\u001b[39mProcess(target\u001b[38;5;241m=\u001b[39m\u001b[38;5;28mself\u001b[39m\u001b[38;5;241m.\u001b[39m_drain_and_join_queue, args\u001b[38;5;241m=\u001b[39m(q, join))\n\u001b[1;32m    703\u001b[0m process\u001b[38;5;241m.\u001b[39mstart()\n\u001b[0;32m--> 704\u001b[0m \u001b[43mprocess\u001b[49m\u001b[38;5;241;43m.\u001b[39;49m\u001b[43mjoin\u001b[49m\u001b[43m(\u001b[49m\u001b[43mtimeout\u001b[49m\u001b[38;5;241;43m=\u001b[39;49m\u001b[38;5;241;43m5\u001b[39;49m\u001b[43m)\u001b[49m\n\u001b[1;32m    705\u001b[0m \u001b[38;5;28;01mif\u001b[39;00m process\u001b[38;5;241m.\u001b[39mis_alive():\n\u001b[1;32m    706\u001b[0m     process\u001b[38;5;241m.\u001b[39mterminate()\n",
      "File \u001b[0;32m~/.local/share/mise/installs/python/3.12.7/lib/python3.12/multiprocessing/process.py:149\u001b[0m, in \u001b[0;36mBaseProcess.join\u001b[0;34m(self, timeout)\u001b[0m\n\u001b[1;32m    147\u001b[0m \u001b[38;5;28;01massert\u001b[39;00m \u001b[38;5;28mself\u001b[39m\u001b[38;5;241m.\u001b[39m_parent_pid \u001b[38;5;241m==\u001b[39m os\u001b[38;5;241m.\u001b[39mgetpid(), \u001b[38;5;124m'\u001b[39m\u001b[38;5;124mcan only join a child process\u001b[39m\u001b[38;5;124m'\u001b[39m\n\u001b[1;32m    148\u001b[0m \u001b[38;5;28;01massert\u001b[39;00m \u001b[38;5;28mself\u001b[39m\u001b[38;5;241m.\u001b[39m_popen \u001b[38;5;129;01mis\u001b[39;00m \u001b[38;5;129;01mnot\u001b[39;00m \u001b[38;5;28;01mNone\u001b[39;00m, \u001b[38;5;124m'\u001b[39m\u001b[38;5;124mcan only join a started process\u001b[39m\u001b[38;5;124m'\u001b[39m\n\u001b[0;32m--> 149\u001b[0m res \u001b[38;5;241m=\u001b[39m \u001b[38;5;28;43mself\u001b[39;49m\u001b[38;5;241;43m.\u001b[39;49m\u001b[43m_popen\u001b[49m\u001b[38;5;241;43m.\u001b[39;49m\u001b[43mwait\u001b[49m\u001b[43m(\u001b[49m\u001b[43mtimeout\u001b[49m\u001b[43m)\u001b[49m\n\u001b[1;32m    150\u001b[0m \u001b[38;5;28;01mif\u001b[39;00m res \u001b[38;5;129;01mis\u001b[39;00m \u001b[38;5;129;01mnot\u001b[39;00m \u001b[38;5;28;01mNone\u001b[39;00m:\n\u001b[1;32m    151\u001b[0m     _children\u001b[38;5;241m.\u001b[39mdiscard(\u001b[38;5;28mself\u001b[39m)\n",
      "File \u001b[0;32m~/.local/share/mise/installs/python/3.12.7/lib/python3.12/multiprocessing/popen_fork.py:40\u001b[0m, in \u001b[0;36mPopen.wait\u001b[0;34m(self, timeout)\u001b[0m\n\u001b[1;32m     38\u001b[0m \u001b[38;5;28;01mif\u001b[39;00m timeout \u001b[38;5;129;01mis\u001b[39;00m \u001b[38;5;129;01mnot\u001b[39;00m \u001b[38;5;28;01mNone\u001b[39;00m:\n\u001b[1;32m     39\u001b[0m     \u001b[38;5;28;01mfrom\u001b[39;00m \u001b[38;5;21;01mmultiprocessing\u001b[39;00m\u001b[38;5;21;01m.\u001b[39;00m\u001b[38;5;21;01mconnection\u001b[39;00m \u001b[38;5;28;01mimport\u001b[39;00m wait\n\u001b[0;32m---> 40\u001b[0m     \u001b[38;5;28;01mif\u001b[39;00m \u001b[38;5;129;01mnot\u001b[39;00m \u001b[43mwait\u001b[49m\u001b[43m(\u001b[49m\u001b[43m[\u001b[49m\u001b[38;5;28;43mself\u001b[39;49m\u001b[38;5;241;43m.\u001b[39;49m\u001b[43msentinel\u001b[49m\u001b[43m]\u001b[49m\u001b[43m,\u001b[49m\u001b[43m \u001b[49m\u001b[43mtimeout\u001b[49m\u001b[43m)\u001b[49m:\n\u001b[1;32m     41\u001b[0m         \u001b[38;5;28;01mreturn\u001b[39;00m \u001b[38;5;28;01mNone\u001b[39;00m\n\u001b[1;32m     42\u001b[0m \u001b[38;5;66;03m# This shouldn't block if wait() returned successfully.\u001b[39;00m\n",
      "File \u001b[0;32m~/.local/share/mise/installs/python/3.12.7/lib/python3.12/multiprocessing/connection.py:1136\u001b[0m, in \u001b[0;36mwait\u001b[0;34m(object_list, timeout)\u001b[0m\n\u001b[1;32m   1133\u001b[0m     deadline \u001b[38;5;241m=\u001b[39m time\u001b[38;5;241m.\u001b[39mmonotonic() \u001b[38;5;241m+\u001b[39m timeout\n\u001b[1;32m   1135\u001b[0m \u001b[38;5;28;01mwhile\u001b[39;00m \u001b[38;5;28;01mTrue\u001b[39;00m:\n\u001b[0;32m-> 1136\u001b[0m     ready \u001b[38;5;241m=\u001b[39m \u001b[43mselector\u001b[49m\u001b[38;5;241;43m.\u001b[39;49m\u001b[43mselect\u001b[49m\u001b[43m(\u001b[49m\u001b[43mtimeout\u001b[49m\u001b[43m)\u001b[49m\n\u001b[1;32m   1137\u001b[0m     \u001b[38;5;28;01mif\u001b[39;00m ready:\n\u001b[1;32m   1138\u001b[0m         \u001b[38;5;28;01mreturn\u001b[39;00m [key\u001b[38;5;241m.\u001b[39mfileobj \u001b[38;5;28;01mfor\u001b[39;00m (key, events) \u001b[38;5;129;01min\u001b[39;00m ready]\n",
      "File \u001b[0;32m~/.local/share/mise/installs/python/3.12.7/lib/python3.12/selectors.py:415\u001b[0m, in \u001b[0;36m_PollLikeSelector.select\u001b[0;34m(self, timeout)\u001b[0m\n\u001b[1;32m    413\u001b[0m ready \u001b[38;5;241m=\u001b[39m []\n\u001b[1;32m    414\u001b[0m \u001b[38;5;28;01mtry\u001b[39;00m:\n\u001b[0;32m--> 415\u001b[0m     fd_event_list \u001b[38;5;241m=\u001b[39m \u001b[38;5;28;43mself\u001b[39;49m\u001b[38;5;241;43m.\u001b[39;49m\u001b[43m_selector\u001b[49m\u001b[38;5;241;43m.\u001b[39;49m\u001b[43mpoll\u001b[49m\u001b[43m(\u001b[49m\u001b[43mtimeout\u001b[49m\u001b[43m)\u001b[49m\n\u001b[1;32m    416\u001b[0m \u001b[38;5;28;01mexcept\u001b[39;00m \u001b[38;5;167;01mInterruptedError\u001b[39;00m:\n\u001b[1;32m    417\u001b[0m     \u001b[38;5;28;01mreturn\u001b[39;00m ready\n",
      "\u001b[0;31mKeyboardInterrupt\u001b[0m: "
     ]
    }
   ],
   "source": [
    "# read input files into dataframe array\n",
    "def read_file(filename):\n",
    "    filename = download_file_from_s3(filename) if filename.startswith(\"s3://\") else filename\n",
    "    return pd.read_parquet(filename)\n",
    "\n",
    "with WorkerPool() as pool:\n",
    "    dfs = pool.map(read_file, glob(join(in_path, \"part-*\")), progress_bar=True)\n",
    "print(len(dfs))"
   ]
  },
  {
   "cell_type": "code",
   "execution_count": null,
   "metadata": {
    "pycharm": {
     "name": "#%%\n"
    }
   },
   "outputs": [],
   "source": [
    "df = pd.concat(dfs)\n",
    "del dfs\n",
    "print(df.shape)\n",
    "print(df)"
   ]
  },
  {
   "cell_type": "code",
   "execution_count": null,
   "metadata": {
    "pycharm": {
     "name": "#%%\n"
    }
   },
   "outputs": [],
   "source": [
    "# group by name and alt name and calculate frequency\n",
    "df[\"frequency\"] = 1\n",
    "grouped = df.groupby([\"name\", \"alt_name\"]).sum().reset_index()\n",
    "del df\n",
    "print(grouped.shape)"
   ]
  },
  {
   "cell_type": "markdown",
   "metadata": {
    "pycharm": {
     "name": "#%% md\n"
    }
   },
   "source": [
    "## Calculate ordered and unordered probabilities"
   ]
  },
  {
   "cell_type": "code",
   "execution_count": null,
   "metadata": {
    "pycharm": {
     "name": "#%%\n"
    }
   },
   "outputs": [],
   "source": [
    "# sum frequency by name\n",
    "sum_name_freq = (\n",
    "    grouped.groupby('name')['frequency']\n",
    "    .sum()\n",
    "    .reset_index()\n",
    "    .rename(columns={'frequency': 'sum_frequency'})\n",
    ")"
   ]
  },
  {
   "cell_type": "code",
   "execution_count": null,
   "metadata": {
    "pycharm": {
     "name": "#%%\n"
    }
   },
   "outputs": [],
   "source": [
    "# sum frequency by alt_name\n",
    "sum_alt_name_freq = (\n",
    "    grouped.groupby('alt_name')['frequency']\n",
    "    .sum()\n",
    "    .reset_index()\n",
    "    .rename(columns={'alt_name': 'name', 'frequency': 'sum_frequency'})\n",
    ")"
   ]
  },
  {
   "cell_type": "code",
   "execution_count": null,
   "metadata": {
    "pycharm": {
     "name": "#%%\n"
    }
   },
   "outputs": [],
   "source": [
    "# total frequency for name or alt_name\n",
    "total_name_freq = (\n",
    "    pd.concat([sum_name_freq, sum_alt_name_freq]).groupby(\"name\").sum().reset_index()\n",
    ")"
   ]
  },
  {
   "cell_type": "code",
   "execution_count": null,
   "metadata": {
    "pycharm": {
     "name": "#%%\n"
    }
   },
   "outputs": [],
   "source": [
    "# include reverse name-alt_name frequency\n",
    "grouped = (\n",
    "    pd.merge(\n",
    "        grouped,\n",
    "        grouped,\n",
    "        how=\"left\",\n",
    "        left_on=[\"name\", \"alt_name\"],\n",
    "        right_on=[\"alt_name\", \"name\"],\n",
    "        suffixes=(\"\", \"_ignore\"),\n",
    "    )\n",
    "    .drop(columns=[\"name_ignore\", \"alt_name_ignore\"])\n",
    "    .rename(columns={\"frequency_ignore\": \"reverse_frequency\"})\n",
    "    .reset_index(drop=True)\n",
    "    .fillna(0)\n",
    ")"
   ]
  },
  {
   "cell_type": "code",
   "execution_count": null,
   "metadata": {
    "pycharm": {
     "name": "#%%\n"
    }
   },
   "outputs": [],
   "source": [
    "# include sum frequency for name\n",
    "grouped = (\n",
    "    pd.merge(grouped, sum_name_freq, how=\"inner\", on=\"name\")\n",
    "    .rename(columns={\"sum_frequency\": \"sum_name_frequency\"})\n",
    "    .reset_index(drop=True)\n",
    ")"
   ]
  },
  {
   "cell_type": "code",
   "execution_count": null,
   "metadata": {
    "pycharm": {
     "name": "#%%\n"
    }
   },
   "outputs": [],
   "source": [
    "# include total name frequency\n",
    "grouped = (\n",
    "    pd.merge(grouped, total_name_freq, how=\"inner\", on=\"name\")\n",
    "    .rename(columns={\"sum_frequency\": \"total_name_frequency\"})\n",
    "    .reset_index(drop=True)\n",
    ")"
   ]
  },
  {
   "cell_type": "code",
   "execution_count": null,
   "metadata": {
    "pycharm": {
     "name": "#%%\n"
    }
   },
   "outputs": [],
   "source": [
    "# include total alt name frequency\n",
    "grouped = (\n",
    "    pd.merge(\n",
    "        grouped,\n",
    "        total_name_freq.rename(columns={\"name\": \"alt_name\"}),\n",
    "        how=\"inner\",\n",
    "        on=\"alt_name\",\n",
    "    )\n",
    "    .rename(columns={\"sum_frequency\": \"total_alt_name_frequency\"})\n",
    "    .reset_index(drop=True)\n",
    ")"
   ]
  },
  {
   "cell_type": "code",
   "execution_count": null,
   "metadata": {
    "pycharm": {
     "name": "#%%\n"
    }
   },
   "outputs": [],
   "source": [
    "# ordered probability = frequency / sum frequency for name\n",
    "grouped[\"ordered_prob\"] = grouped[\"frequency\"] / grouped[\"sum_name_frequency\"]"
   ]
  },
  {
   "cell_type": "code",
   "execution_count": null,
   "metadata": {
    "pycharm": {
     "name": "#%%\n"
    }
   },
   "outputs": [],
   "source": [
    "# unordered probability = frequency + reverse frequency / total number of times name and alt_name appear anywhere\n",
    "#   which is total name frequency + total alt name frequency, but then we've double-counted the times they appear together,\n",
    "#   so we need to subtract frequency + reverse frequency from the denominator\n",
    "grouped[\"unordered_prob\"] = (grouped[\"frequency\"] + grouped[\"reverse_frequency\"]) / (\n",
    "    grouped[\"total_name_frequency\"]\n",
    "    + grouped[\"total_alt_name_frequency\"]\n",
    "    - (grouped[\"frequency\"] + grouped[\"reverse_frequency\"])\n",
    ")"
   ]
  },
  {
   "cell_type": "code",
   "execution_count": null,
   "metadata": {
    "pycharm": {
     "name": "#%%\n"
    }
   },
   "outputs": [],
   "source": [
    "# calculate levenshtein similarity\n",
    "pandarallel.initialize(progress_bar=True)\n",
    "grouped[\"similarity\"] = grouped.parallel_apply(lambda row: levenshtein_similarity(row[\"name\"], row[\"alt_name\"]), axis=1)"
   ]
  },
  {
   "cell_type": "code",
   "execution_count": null,
   "metadata": {
    "pycharm": {
     "name": "#%%\n"
    }
   },
   "outputs": [],
   "source": [
    "# downgrade types to save space\n",
    "grouped = grouped.astype(\n",
    "    {\n",
    "        \"frequency\": \"int32\",\n",
    "        \"reverse_frequency\": \"int32\",\n",
    "        \"sum_name_frequency\": \"int32\",\n",
    "        \"total_name_frequency\": \"int32\",\n",
    "        \"total_alt_name_frequency\": \"int32\",\n",
    "        \"ordered_prob\": \"float32\",\n",
    "        \"unordered_prob\": \"float32\",\n",
    "        \"similarity\": \"float32\",\n",
    "    }\n",
    ")"
   ]
  },
  {
   "cell_type": "code",
   "execution_count": null,
   "metadata": {
    "pycharm": {
     "name": "#%%\n"
    }
   },
   "outputs": [],
   "source": [
    "# write to parquet\n",
    "save_file(out_path,\n",
    "          lambda local_out_path : grouped.to_parquet(local_out_path, index=False))"
   ]
  },
  {
   "cell_type": "code",
   "execution_count": null,
   "metadata": {
    "pycharm": {
     "name": "#%%\n"
    }
   },
   "outputs": [],
   "source": [
    "print(grouped.shape)"
   ]
  },
  {
   "cell_type": "code",
   "execution_count": null,
   "metadata": {
    "pycharm": {
     "name": "#%%\n"
    }
   },
   "outputs": [],
   "source": [
    "grouped.memory_usage(deep=True)"
   ]
  }
 ],
 "metadata": {
  "interpreter": {
   "hash": "0715013af127e2dc4bb03749d8253e928c185e319349e2573055324de1fe4a80"
  },
  "jupytext": {
   "main_language": "python"
  },
  "kernelspec": {
   "display_name": "Python (.venv)",
   "language": "python",
   "name": "venv"
  },
  "language_info": {
   "codemirror_mode": {
    "name": "ipython",
    "version": 3
   },
   "file_extension": ".py",
   "mimetype": "text/x-python",
   "name": "python",
   "nbconvert_exporter": "python",
   "pygments_lexer": "ipython3",
   "version": "3.12.7"
  }
 },
 "nbformat": 4,
 "nbformat_minor": 4
}
