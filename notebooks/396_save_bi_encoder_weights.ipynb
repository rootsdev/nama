{
 "cells": [
  {
   "cell_type": "code",
   "id": "139bee68",
   "metadata": {
    "ExecuteTime": {
     "end_time": "2024-12-17T19:15:24.201216Z",
     "start_time": "2024-12-17T19:15:24.180727Z"
    }
   },
   "source": [
    "%load_ext autoreload\n",
    "%autoreload 2"
   ],
   "outputs": [],
   "execution_count": 1
  },
  {
   "cell_type": "markdown",
   "id": "028823c5",
   "metadata": {},
   "source": [
    "# Save bi-encoder model weights\n",
    "\n",
    "Save the weights for each token and position so we can use them in the java fs-nama."
   ]
  },
  {
   "cell_type": "code",
   "id": "e0364890",
   "metadata": {
    "ExecuteTime": {
     "end_time": "2024-12-17T19:17:55.513396Z",
     "start_time": "2024-12-17T19:17:55.417842Z"
    }
   },
   "source": [
    "import json\n",
    "\n",
    "import torch\n",
    "\n",
    "from nama.data.filesystem import download_file_from_s3, save_file\n",
    "from nama.models.biencoder import BiEncoder\n",
    "from nama.models.tokenizer import get_tokenize_function_and_vocab"
   ],
   "outputs": [],
   "execution_count": 5
  },
  {
   "cell_type": "code",
   "id": "774de195",
   "metadata": {
    "ExecuteTime": {
     "end_time": "2024-12-17T19:15:27.003456Z",
     "start_time": "2024-12-17T19:15:26.979717Z"
    }
   },
   "source": [
    "# TODO run both given and surname\n",
    "given_surname = \"given\"\n",
    "# given_surname = \"surname\"\n",
    "\n",
    "max_tokens = 10\n",
    "bi_encoder_vocab_size = 2048\n",
    "num_epochs = 8\n",
    "embedding_dim = 256\n",
    "learning_rate = 0.00005 \n",
    "tokenizer_path=f\"s3://fs-nama-data/2024/nama-data/data/models/fs-{given_surname}-subword-tokenizer-{bi_encoder_vocab_size}.json\"\n",
    "bi_encoder_path = f\"s3://fs-nama-data/2024/nama-data/data/models/bi_encoder-ce-{given_surname}-{num_epochs}-{embedding_dim}-{num_epochs}-{bi_encoder_vocab_size}-{learning_rate}.pth\"\n",
    "\n",
    "weights_path=f\"s3://fs-nama-data/2024/nama-data/data/models/bi_encoder-{given_surname}-{num_epochs}-{embedding_dim}-{num_epochs}-{bi_encoder_vocab_size}-{learning_rate}-weights.json\""
   ],
   "outputs": [],
   "execution_count": 3
  },
  {
   "cell_type": "code",
   "id": "34474d97",
   "metadata": {
    "ExecuteTime": {
     "end_time": "2024-12-17T19:15:27.803508Z",
     "start_time": "2024-12-17T19:15:27.534537Z"
    }
   },
   "source": [
    "torch.cuda.empty_cache()\n",
    "print(torch.cuda.is_available())\n",
    "print(\"cuda total\", torch.cuda.get_device_properties(0).total_memory)\n",
    "print(\"cuda reserved\", torch.cuda.memory_reserved(0))\n",
    "print(\"cuda allocated\", torch.cuda.memory_allocated(0))"
   ],
   "outputs": [
    {
     "name": "stdout",
     "output_type": "stream",
     "text": [
      "True\n",
      "cuda total 8141471744\n",
      "cuda reserved 0\n",
      "cuda allocated 0\n"
     ]
    }
   ],
   "execution_count": 4
  },
  {
   "cell_type": "markdown",
   "id": "e7c030b7",
   "metadata": {},
   "source": [
    "## Load bi-encoder and vocabulary"
   ]
  },
  {
   "cell_type": "code",
   "id": "f906a8e5",
   "metadata": {
    "ExecuteTime": {
     "end_time": "2024-12-17T19:19:24.974109Z",
     "start_time": "2024-12-17T19:19:23.847316Z"
    }
   },
   "source": [
    "# load bi-encoder\n",
    "path = download_file_from_s3(bi_encoder_path) if bi_encoder_path.startswith(\"s3://\") else bi_encoder_path\n",
    "model = torch.load(path)\n",
    "model.eval()"
   ],
   "outputs": [
    {
     "name": "stderr",
     "output_type": "stream",
     "text": [
      "/tmp/ipykernel_296371/3279248562.py:3: FutureWarning: You are using `torch.load` with `weights_only=False` (the current default value), which uses the default pickle module implicitly. It is possible to construct malicious pickle data which will execute arbitrary code during unpickling (See https://github.com/pytorch/pytorch/blob/main/SECURITY.md#untrusted-models for more details). In a future release, the default value for `weights_only` will be flipped to `True`. This limits the functions that could be executed during unpickling. Arbitrary objects will no longer be allowed to be loaded via this mode unless they are explicitly allowlisted by the user via `torch.serialization.add_safe_globals`. We recommend you start setting `weights_only=True` for any use case where you don't have full control of the loaded file. Please open an issue on GitHub for any issues related to this experimental feature.\n",
      "  model = torch.load(path)\n"
     ]
    },
    {
     "data": {
      "text/plain": [
       "BiEncoder(\n",
       "  (embedding): Embedding(2048, 256)\n",
       "  (positional_embedding): Embedding(10, 256)\n",
       "  (pooling): AdaptiveAvgPool1d(output_size=1)\n",
       ")"
      ]
     },
     "execution_count": 6,
     "metadata": {},
     "output_type": "execute_result"
    }
   ],
   "execution_count": 6
  },
  {
   "cell_type": "code",
   "id": "b65957dd",
   "metadata": {
    "ExecuteTime": {
     "end_time": "2024-12-17T19:19:25.618308Z",
     "start_time": "2024-12-17T19:19:24.976021Z"
    }
   },
   "source": [
    "# load tokenize function\n",
    "path = download_file_from_s3(tokenizer_path) if tokenizer_path.startswith(\"s3://\") else tokenizer_path\n",
    "tokenize, tokenizer_vocab = get_tokenize_function_and_vocab(tokenizer_path=path, max_tokens=max_tokens)\n",
    "len(tokenizer_vocab)"
   ],
   "outputs": [
    {
     "data": {
      "text/plain": [
       "2048"
      ]
     },
     "execution_count": 7,
     "metadata": {},
     "output_type": "execute_result"
    }
   ],
   "execution_count": 7
  },
  {
   "cell_type": "code",
   "id": "5e97e8c4",
   "metadata": {
    "ExecuteTime": {
     "end_time": "2024-12-17T19:19:25.645313Z",
     "start_time": "2024-12-17T19:19:25.619877Z"
    }
   },
   "source": [
    "tokenid2token = {token_id: token for token, token_id in tokenizer_vocab.items()}"
   ],
   "outputs": [],
   "execution_count": 8
  },
  {
   "cell_type": "markdown",
   "id": "ae53f9a5",
   "metadata": {},
   "source": [
    "## Save weights"
   ]
  },
  {
   "cell_type": "code",
   "id": "15651b39",
   "metadata": {
    "ExecuteTime": {
     "end_time": "2024-12-17T19:19:48.732251Z",
     "start_time": "2024-12-17T19:19:48.677162Z"
    }
   },
   "source": [
    "embedding_weights = {tokenid2token[ix]: embedding for ix, embedding in enumerate(model.embedding.weight.tolist())}"
   ],
   "outputs": [],
   "execution_count": 9
  },
  {
   "cell_type": "code",
   "id": "01e0077e",
   "metadata": {
    "ExecuteTime": {
     "end_time": "2024-12-17T19:19:49.175744Z",
     "start_time": "2024-12-17T19:19:49.139405Z"
    }
   },
   "source": [
    "len(embedding_weights)"
   ],
   "outputs": [
    {
     "data": {
      "text/plain": [
       "2048"
      ]
     },
     "execution_count": 10,
     "metadata": {},
     "output_type": "execute_result"
    }
   ],
   "execution_count": 10
  },
  {
   "cell_type": "code",
   "id": "04b9473c",
   "metadata": {
    "ExecuteTime": {
     "end_time": "2024-12-17T19:19:49.575783Z",
     "start_time": "2024-12-17T19:19:49.540913Z"
    }
   },
   "source": [
    "len(embedding_weights['a'])"
   ],
   "outputs": [
    {
     "data": {
      "text/plain": [
       "256"
      ]
     },
     "execution_count": 11,
     "metadata": {},
     "output_type": "execute_result"
    }
   ],
   "execution_count": 11
  },
  {
   "cell_type": "code",
   "id": "7aa6b470",
   "metadata": {
    "ExecuteTime": {
     "end_time": "2024-12-17T19:19:50.090573Z",
     "start_time": "2024-12-17T19:19:50.057719Z"
    }
   },
   "source": [
    "positional_weights = model.positional_embedding.weight.tolist()"
   ],
   "outputs": [],
   "execution_count": 12
  },
  {
   "cell_type": "code",
   "id": "27644c58",
   "metadata": {
    "ExecuteTime": {
     "end_time": "2024-12-17T19:19:50.529284Z",
     "start_time": "2024-12-17T19:19:50.495923Z"
    }
   },
   "source": [
    "len(positional_weights)"
   ],
   "outputs": [
    {
     "data": {
      "text/plain": [
       "10"
      ]
     },
     "execution_count": 13,
     "metadata": {},
     "output_type": "execute_result"
    }
   ],
   "execution_count": 13
  },
  {
   "cell_type": "code",
   "id": "6a69751b",
   "metadata": {
    "ExecuteTime": {
     "end_time": "2024-12-17T19:19:51.022322Z",
     "start_time": "2024-12-17T19:19:50.987782Z"
    }
   },
   "source": [
    "weights = {\n",
    "    \"tokens\": embedding_weights,\n",
    "    \"positions\": positional_weights,\n",
    "}"
   ],
   "outputs": [],
   "execution_count": 14
  },
  {
   "cell_type": "code",
   "id": "6e001759",
   "metadata": {
    "ExecuteTime": {
     "end_time": "2024-12-17T19:19:51.438808Z",
     "start_time": "2024-12-17T19:19:51.400447Z"
    }
   },
   "source": [
    "weights_path"
   ],
   "outputs": [
    {
     "data": {
      "text/plain": [
       "'s3://fs-nama-data/2024/nama-data/data/models/bi_encoder-given-8-256-8-2048-5e-05-weights.json'"
      ]
     },
     "execution_count": 15,
     "metadata": {},
     "output_type": "execute_result"
    }
   ],
   "execution_count": 15
  },
  {
   "cell_type": "code",
   "id": "ecaa3a70",
   "metadata": {
    "ExecuteTime": {
     "end_time": "2024-12-17T19:28:08.715259Z",
     "start_time": "2024-12-17T19:28:06.247259Z"
    }
   },
   "source": [
    "save_file(weights_path,\n",
    "          lambda local_out_path : json.dump(weights, open(local_out_path, 'w')))"
   ],
   "outputs": [],
   "execution_count": 16
  },
  {
   "cell_type": "markdown",
   "id": "eb7c8ef9",
   "metadata": {},
   "source": [
    "## Test similarity"
   ]
  },
  {
   "cell_type": "code",
   "id": "aff52b7b",
   "metadata": {
    "ExecuteTime": {
     "end_time": "2024-12-17T19:28:10.547811Z",
     "start_time": "2024-12-17T19:28:10.499670Z"
    }
   },
   "source": [
    "name1 = \"richard\"\n",
    "name2 = \"rickert\"\n",
    "tokens1 = tokenize(name1)\n",
    "tokens2 = tokenize(name2)\n",
    "sim = model.predict(tokens1, tokens2)\n",
    "print(sim)"
   ],
   "outputs": [
    {
     "name": "stdout",
     "output_type": "stream",
     "text": [
      "0.4984965920448303\n"
     ]
    }
   ],
   "execution_count": 17
  },
  {
   "metadata": {},
   "cell_type": "code",
   "outputs": [],
   "execution_count": null,
   "source": "",
   "id": "7833141d0955e42a"
  }
 ],
 "metadata": {
  "kernelspec": {
   "display_name": "Python 3 (ipykernel)",
   "language": "python",
   "name": "python3"
  },
  "language_info": {
   "codemirror_mode": {
    "name": "ipython",
    "version": 3
   },
   "file_extension": ".py",
   "mimetype": "text/x-python",
   "name": "python",
   "nbconvert_exporter": "python",
   "pygments_lexer": "ipython3",
   "version": "3.9.16"
  }
 },
 "nbformat": 4,
 "nbformat_minor": 5
}
